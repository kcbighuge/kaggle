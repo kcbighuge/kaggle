{
 "cells": [
  {
   "cell_type": "markdown",
   "metadata": {},
   "source": [
    "# Santander Customer Satisfaction\n",
    "https://www.kaggle.com/c/santander-customer-satisfaction"
   ]
  },
  {
   "cell_type": "code",
   "execution_count": 1,
   "metadata": {
    "collapsed": true
   },
   "outputs": [],
   "source": [
    "import cPickle\n",
    "import numpy as np\n",
    "import pandas as pd\n",
    "import matplotlib.pyplot as plt\n",
    "from sklearn.preprocessing import LabelEncoder\n",
    "from sklearn import cross_validation\n",
    "from sklearn import metrics\n",
    "from sklearn import grid_search\n",
    "import time\n",
    "from IPython.display import display # Allows the use of display() for DataFrames\n",
    "%matplotlib inline"
   ]
  },
  {
   "cell_type": "markdown",
   "metadata": {},
   "source": [
    "1. Exploratory analysis\n",
    "-----------------------"
   ]
  },
  {
   "cell_type": "code",
   "execution_count": 2,
   "metadata": {
    "collapsed": false
   },
   "outputs": [
    {
     "data": {
      "text/html": [
       "<div>\n",
       "<table border=\"1\" class=\"dataframe\">\n",
       "  <thead>\n",
       "    <tr style=\"text-align: right;\">\n",
       "      <th></th>\n",
       "      <th>ID</th>\n",
       "      <th>var3</th>\n",
       "      <th>var15</th>\n",
       "      <th>imp_ent_var16_ult1</th>\n",
       "      <th>imp_op_var39_comer_ult1</th>\n",
       "      <th>imp_op_var39_comer_ult3</th>\n",
       "      <th>imp_op_var40_comer_ult1</th>\n",
       "      <th>imp_op_var40_comer_ult3</th>\n",
       "      <th>imp_op_var40_efect_ult1</th>\n",
       "      <th>imp_op_var40_efect_ult3</th>\n",
       "      <th>...</th>\n",
       "      <th>saldo_medio_var33_hace2</th>\n",
       "      <th>saldo_medio_var33_hace3</th>\n",
       "      <th>saldo_medio_var33_ult1</th>\n",
       "      <th>saldo_medio_var33_ult3</th>\n",
       "      <th>saldo_medio_var44_hace2</th>\n",
       "      <th>saldo_medio_var44_hace3</th>\n",
       "      <th>saldo_medio_var44_ult1</th>\n",
       "      <th>saldo_medio_var44_ult3</th>\n",
       "      <th>var38</th>\n",
       "      <th>TARGET</th>\n",
       "    </tr>\n",
       "  </thead>\n",
       "  <tbody>\n",
       "    <tr>\n",
       "      <th>0</th>\n",
       "      <td>1</td>\n",
       "      <td>2</td>\n",
       "      <td>23</td>\n",
       "      <td>0</td>\n",
       "      <td>0</td>\n",
       "      <td>0</td>\n",
       "      <td>0</td>\n",
       "      <td>0</td>\n",
       "      <td>0</td>\n",
       "      <td>0</td>\n",
       "      <td>...</td>\n",
       "      <td>0</td>\n",
       "      <td>0</td>\n",
       "      <td>0</td>\n",
       "      <td>0</td>\n",
       "      <td>0</td>\n",
       "      <td>0</td>\n",
       "      <td>0</td>\n",
       "      <td>0</td>\n",
       "      <td>39205.170000</td>\n",
       "      <td>0</td>\n",
       "    </tr>\n",
       "    <tr>\n",
       "      <th>1</th>\n",
       "      <td>3</td>\n",
       "      <td>2</td>\n",
       "      <td>34</td>\n",
       "      <td>0</td>\n",
       "      <td>0</td>\n",
       "      <td>0</td>\n",
       "      <td>0</td>\n",
       "      <td>0</td>\n",
       "      <td>0</td>\n",
       "      <td>0</td>\n",
       "      <td>...</td>\n",
       "      <td>0</td>\n",
       "      <td>0</td>\n",
       "      <td>0</td>\n",
       "      <td>0</td>\n",
       "      <td>0</td>\n",
       "      <td>0</td>\n",
       "      <td>0</td>\n",
       "      <td>0</td>\n",
       "      <td>49278.030000</td>\n",
       "      <td>0</td>\n",
       "    </tr>\n",
       "    <tr>\n",
       "      <th>2</th>\n",
       "      <td>4</td>\n",
       "      <td>2</td>\n",
       "      <td>23</td>\n",
       "      <td>0</td>\n",
       "      <td>0</td>\n",
       "      <td>0</td>\n",
       "      <td>0</td>\n",
       "      <td>0</td>\n",
       "      <td>0</td>\n",
       "      <td>0</td>\n",
       "      <td>...</td>\n",
       "      <td>0</td>\n",
       "      <td>0</td>\n",
       "      <td>0</td>\n",
       "      <td>0</td>\n",
       "      <td>0</td>\n",
       "      <td>0</td>\n",
       "      <td>0</td>\n",
       "      <td>0</td>\n",
       "      <td>67333.770000</td>\n",
       "      <td>0</td>\n",
       "    </tr>\n",
       "    <tr>\n",
       "      <th>3</th>\n",
       "      <td>8</td>\n",
       "      <td>2</td>\n",
       "      <td>37</td>\n",
       "      <td>0</td>\n",
       "      <td>195</td>\n",
       "      <td>195</td>\n",
       "      <td>0</td>\n",
       "      <td>0</td>\n",
       "      <td>0</td>\n",
       "      <td>0</td>\n",
       "      <td>...</td>\n",
       "      <td>0</td>\n",
       "      <td>0</td>\n",
       "      <td>0</td>\n",
       "      <td>0</td>\n",
       "      <td>0</td>\n",
       "      <td>0</td>\n",
       "      <td>0</td>\n",
       "      <td>0</td>\n",
       "      <td>64007.970000</td>\n",
       "      <td>0</td>\n",
       "    </tr>\n",
       "    <tr>\n",
       "      <th>4</th>\n",
       "      <td>10</td>\n",
       "      <td>2</td>\n",
       "      <td>39</td>\n",
       "      <td>0</td>\n",
       "      <td>0</td>\n",
       "      <td>0</td>\n",
       "      <td>0</td>\n",
       "      <td>0</td>\n",
       "      <td>0</td>\n",
       "      <td>0</td>\n",
       "      <td>...</td>\n",
       "      <td>0</td>\n",
       "      <td>0</td>\n",
       "      <td>0</td>\n",
       "      <td>0</td>\n",
       "      <td>0</td>\n",
       "      <td>0</td>\n",
       "      <td>0</td>\n",
       "      <td>0</td>\n",
       "      <td>117310.979016</td>\n",
       "      <td>0</td>\n",
       "    </tr>\n",
       "  </tbody>\n",
       "</table>\n",
       "<p>5 rows × 371 columns</p>\n",
       "</div>"
      ],
      "text/plain": [
       "   ID  var3  var15  imp_ent_var16_ult1  imp_op_var39_comer_ult1  \\\n",
       "0   1     2     23                   0                        0   \n",
       "1   3     2     34                   0                        0   \n",
       "2   4     2     23                   0                        0   \n",
       "3   8     2     37                   0                      195   \n",
       "4  10     2     39                   0                        0   \n",
       "\n",
       "   imp_op_var39_comer_ult3  imp_op_var40_comer_ult1  imp_op_var40_comer_ult3  \\\n",
       "0                        0                        0                        0   \n",
       "1                        0                        0                        0   \n",
       "2                        0                        0                        0   \n",
       "3                      195                        0                        0   \n",
       "4                        0                        0                        0   \n",
       "\n",
       "   imp_op_var40_efect_ult1  imp_op_var40_efect_ult3   ...    \\\n",
       "0                        0                        0   ...     \n",
       "1                        0                        0   ...     \n",
       "2                        0                        0   ...     \n",
       "3                        0                        0   ...     \n",
       "4                        0                        0   ...     \n",
       "\n",
       "   saldo_medio_var33_hace2  saldo_medio_var33_hace3  saldo_medio_var33_ult1  \\\n",
       "0                        0                        0                       0   \n",
       "1                        0                        0                       0   \n",
       "2                        0                        0                       0   \n",
       "3                        0                        0                       0   \n",
       "4                        0                        0                       0   \n",
       "\n",
       "   saldo_medio_var33_ult3  saldo_medio_var44_hace2  saldo_medio_var44_hace3  \\\n",
       "0                       0                        0                        0   \n",
       "1                       0                        0                        0   \n",
       "2                       0                        0                        0   \n",
       "3                       0                        0                        0   \n",
       "4                       0                        0                        0   \n",
       "\n",
       "   saldo_medio_var44_ult1  saldo_medio_var44_ult3          var38  TARGET  \n",
       "0                       0                       0   39205.170000       0  \n",
       "1                       0                       0   49278.030000       0  \n",
       "2                       0                       0   67333.770000       0  \n",
       "3                       0                       0   64007.970000       0  \n",
       "4                       0                       0  117310.979016       0  \n",
       "\n",
       "[5 rows x 371 columns]"
      ]
     },
     "execution_count": 2,
     "metadata": {},
     "output_type": "execute_result"
    }
   ],
   "source": [
    "train = pd.read_csv('../input/train.csv')\n",
    "test = pd.read_csv('../input/test.csv')\n",
    "train.head()"
   ]
  },
  {
   "cell_type": "code",
   "execution_count": 4,
   "metadata": {
    "collapsed": false
   },
   "outputs": [
    {
     "data": {
      "text/html": [
       "<div>\n",
       "<table border=\"1\" class=\"dataframe\">\n",
       "  <thead>\n",
       "    <tr style=\"text-align: right;\">\n",
       "      <th></th>\n",
       "      <th>ID</th>\n",
       "      <th>var3</th>\n",
       "      <th>var15</th>\n",
       "      <th>imp_ent_var16_ult1</th>\n",
       "      <th>imp_op_var39_comer_ult1</th>\n",
       "      <th>imp_op_var39_comer_ult3</th>\n",
       "      <th>imp_op_var40_comer_ult1</th>\n",
       "      <th>imp_op_var40_comer_ult3</th>\n",
       "      <th>imp_op_var40_efect_ult1</th>\n",
       "      <th>imp_op_var40_efect_ult3</th>\n",
       "      <th>...</th>\n",
       "      <th>saldo_medio_var29_ult3</th>\n",
       "      <th>saldo_medio_var33_hace2</th>\n",
       "      <th>saldo_medio_var33_hace3</th>\n",
       "      <th>saldo_medio_var33_ult1</th>\n",
       "      <th>saldo_medio_var33_ult3</th>\n",
       "      <th>saldo_medio_var44_hace2</th>\n",
       "      <th>saldo_medio_var44_hace3</th>\n",
       "      <th>saldo_medio_var44_ult1</th>\n",
       "      <th>saldo_medio_var44_ult3</th>\n",
       "      <th>var38</th>\n",
       "    </tr>\n",
       "  </thead>\n",
       "  <tbody>\n",
       "    <tr>\n",
       "      <th>75813</th>\n",
       "      <td>151831</td>\n",
       "      <td>2</td>\n",
       "      <td>23</td>\n",
       "      <td>0</td>\n",
       "      <td>0</td>\n",
       "      <td>0</td>\n",
       "      <td>0</td>\n",
       "      <td>0</td>\n",
       "      <td>0</td>\n",
       "      <td>0</td>\n",
       "      <td>...</td>\n",
       "      <td>0</td>\n",
       "      <td>0</td>\n",
       "      <td>0</td>\n",
       "      <td>0</td>\n",
       "      <td>0</td>\n",
       "      <td>0</td>\n",
       "      <td>0</td>\n",
       "      <td>0</td>\n",
       "      <td>0</td>\n",
       "      <td>40243.200000</td>\n",
       "    </tr>\n",
       "    <tr>\n",
       "      <th>75814</th>\n",
       "      <td>151832</td>\n",
       "      <td>2</td>\n",
       "      <td>26</td>\n",
       "      <td>0</td>\n",
       "      <td>0</td>\n",
       "      <td>0</td>\n",
       "      <td>0</td>\n",
       "      <td>0</td>\n",
       "      <td>0</td>\n",
       "      <td>0</td>\n",
       "      <td>...</td>\n",
       "      <td>0</td>\n",
       "      <td>0</td>\n",
       "      <td>0</td>\n",
       "      <td>0</td>\n",
       "      <td>0</td>\n",
       "      <td>0</td>\n",
       "      <td>0</td>\n",
       "      <td>0</td>\n",
       "      <td>0</td>\n",
       "      <td>146961.300000</td>\n",
       "    </tr>\n",
       "    <tr>\n",
       "      <th>75815</th>\n",
       "      <td>151833</td>\n",
       "      <td>2</td>\n",
       "      <td>24</td>\n",
       "      <td>0</td>\n",
       "      <td>0</td>\n",
       "      <td>0</td>\n",
       "      <td>0</td>\n",
       "      <td>0</td>\n",
       "      <td>0</td>\n",
       "      <td>0</td>\n",
       "      <td>...</td>\n",
       "      <td>0</td>\n",
       "      <td>0</td>\n",
       "      <td>0</td>\n",
       "      <td>0</td>\n",
       "      <td>0</td>\n",
       "      <td>0</td>\n",
       "      <td>0</td>\n",
       "      <td>0</td>\n",
       "      <td>0</td>\n",
       "      <td>167299.770000</td>\n",
       "    </tr>\n",
       "    <tr>\n",
       "      <th>75816</th>\n",
       "      <td>151834</td>\n",
       "      <td>2</td>\n",
       "      <td>40</td>\n",
       "      <td>0</td>\n",
       "      <td>0</td>\n",
       "      <td>0</td>\n",
       "      <td>0</td>\n",
       "      <td>0</td>\n",
       "      <td>0</td>\n",
       "      <td>0</td>\n",
       "      <td>...</td>\n",
       "      <td>0</td>\n",
       "      <td>0</td>\n",
       "      <td>0</td>\n",
       "      <td>0</td>\n",
       "      <td>0</td>\n",
       "      <td>0</td>\n",
       "      <td>0</td>\n",
       "      <td>0</td>\n",
       "      <td>0</td>\n",
       "      <td>117310.979016</td>\n",
       "    </tr>\n",
       "    <tr>\n",
       "      <th>75817</th>\n",
       "      <td>151837</td>\n",
       "      <td>2</td>\n",
       "      <td>23</td>\n",
       "      <td>0</td>\n",
       "      <td>0</td>\n",
       "      <td>0</td>\n",
       "      <td>0</td>\n",
       "      <td>0</td>\n",
       "      <td>0</td>\n",
       "      <td>0</td>\n",
       "      <td>...</td>\n",
       "      <td>0</td>\n",
       "      <td>0</td>\n",
       "      <td>0</td>\n",
       "      <td>0</td>\n",
       "      <td>0</td>\n",
       "      <td>0</td>\n",
       "      <td>0</td>\n",
       "      <td>0</td>\n",
       "      <td>0</td>\n",
       "      <td>117310.979016</td>\n",
       "    </tr>\n",
       "  </tbody>\n",
       "</table>\n",
       "<p>5 rows × 370 columns</p>\n",
       "</div>"
      ],
      "text/plain": [
       "           ID  var3  var15  imp_ent_var16_ult1  imp_op_var39_comer_ult1  \\\n",
       "75813  151831     2     23                   0                        0   \n",
       "75814  151832     2     26                   0                        0   \n",
       "75815  151833     2     24                   0                        0   \n",
       "75816  151834     2     40                   0                        0   \n",
       "75817  151837     2     23                   0                        0   \n",
       "\n",
       "       imp_op_var39_comer_ult3  imp_op_var40_comer_ult1  \\\n",
       "75813                        0                        0   \n",
       "75814                        0                        0   \n",
       "75815                        0                        0   \n",
       "75816                        0                        0   \n",
       "75817                        0                        0   \n",
       "\n",
       "       imp_op_var40_comer_ult3  imp_op_var40_efect_ult1  \\\n",
       "75813                        0                        0   \n",
       "75814                        0                        0   \n",
       "75815                        0                        0   \n",
       "75816                        0                        0   \n",
       "75817                        0                        0   \n",
       "\n",
       "       imp_op_var40_efect_ult3      ...        saldo_medio_var29_ult3  \\\n",
       "75813                        0      ...                             0   \n",
       "75814                        0      ...                             0   \n",
       "75815                        0      ...                             0   \n",
       "75816                        0      ...                             0   \n",
       "75817                        0      ...                             0   \n",
       "\n",
       "       saldo_medio_var33_hace2  saldo_medio_var33_hace3  \\\n",
       "75813                        0                        0   \n",
       "75814                        0                        0   \n",
       "75815                        0                        0   \n",
       "75816                        0                        0   \n",
       "75817                        0                        0   \n",
       "\n",
       "       saldo_medio_var33_ult1  saldo_medio_var33_ult3  \\\n",
       "75813                       0                       0   \n",
       "75814                       0                       0   \n",
       "75815                       0                       0   \n",
       "75816                       0                       0   \n",
       "75817                       0                       0   \n",
       "\n",
       "       saldo_medio_var44_hace2  saldo_medio_var44_hace3  \\\n",
       "75813                        0                        0   \n",
       "75814                        0                        0   \n",
       "75815                        0                        0   \n",
       "75816                        0                        0   \n",
       "75817                        0                        0   \n",
       "\n",
       "       saldo_medio_var44_ult1  saldo_medio_var44_ult3          var38  \n",
       "75813                       0                       0   40243.200000  \n",
       "75814                       0                       0  146961.300000  \n",
       "75815                       0                       0  167299.770000  \n",
       "75816                       0                       0  117310.979016  \n",
       "75817                       0                       0  117310.979016  \n",
       "\n",
       "[5 rows x 370 columns]"
      ]
     },
     "execution_count": 4,
     "metadata": {},
     "output_type": "execute_result"
    }
   ],
   "source": [
    "test.tail()"
   ]
  },
  {
   "cell_type": "code",
   "execution_count": 5,
   "metadata": {
    "collapsed": false
   },
   "outputs": [
    {
     "data": {
      "text/html": [
       "<div>\n",
       "<table border=\"1\" class=\"dataframe\">\n",
       "  <thead>\n",
       "    <tr style=\"text-align: right;\">\n",
       "      <th></th>\n",
       "      <th>ID</th>\n",
       "      <th>var3</th>\n",
       "      <th>var15</th>\n",
       "      <th>imp_ent_var16_ult1</th>\n",
       "      <th>imp_op_var39_comer_ult1</th>\n",
       "      <th>imp_op_var39_comer_ult3</th>\n",
       "      <th>imp_op_var40_comer_ult1</th>\n",
       "      <th>imp_op_var40_comer_ult3</th>\n",
       "      <th>imp_op_var40_efect_ult1</th>\n",
       "      <th>imp_op_var40_efect_ult3</th>\n",
       "      <th>...</th>\n",
       "      <th>saldo_medio_var33_hace2</th>\n",
       "      <th>saldo_medio_var33_hace3</th>\n",
       "      <th>saldo_medio_var33_ult1</th>\n",
       "      <th>saldo_medio_var33_ult3</th>\n",
       "      <th>saldo_medio_var44_hace2</th>\n",
       "      <th>saldo_medio_var44_hace3</th>\n",
       "      <th>saldo_medio_var44_ult1</th>\n",
       "      <th>saldo_medio_var44_ult3</th>\n",
       "      <th>var38</th>\n",
       "      <th>TARGET</th>\n",
       "    </tr>\n",
       "  </thead>\n",
       "  <tbody>\n",
       "    <tr>\n",
       "      <th>count</th>\n",
       "      <td>76020.000000</td>\n",
       "      <td>76020.000000</td>\n",
       "      <td>76020.000000</td>\n",
       "      <td>76020.000000</td>\n",
       "      <td>76020.000000</td>\n",
       "      <td>76020.000000</td>\n",
       "      <td>76020.000000</td>\n",
       "      <td>76020.000000</td>\n",
       "      <td>76020.000000</td>\n",
       "      <td>76020.000000</td>\n",
       "      <td>...</td>\n",
       "      <td>76020.000000</td>\n",
       "      <td>76020.000000</td>\n",
       "      <td>76020.000000</td>\n",
       "      <td>76020.000000</td>\n",
       "      <td>76020.000000</td>\n",
       "      <td>76020.000000</td>\n",
       "      <td>76020.000000</td>\n",
       "      <td>76020.000000</td>\n",
       "      <td>76020.000000</td>\n",
       "      <td>76020.000000</td>\n",
       "    </tr>\n",
       "    <tr>\n",
       "      <th>mean</th>\n",
       "      <td>75964.050723</td>\n",
       "      <td>-1523.199277</td>\n",
       "      <td>33.212865</td>\n",
       "      <td>86.208265</td>\n",
       "      <td>72.363067</td>\n",
       "      <td>119.529632</td>\n",
       "      <td>3.559130</td>\n",
       "      <td>6.472698</td>\n",
       "      <td>0.412946</td>\n",
       "      <td>0.567352</td>\n",
       "      <td>...</td>\n",
       "      <td>7.935824</td>\n",
       "      <td>1.365146</td>\n",
       "      <td>12.215580</td>\n",
       "      <td>8.784074</td>\n",
       "      <td>31.505324</td>\n",
       "      <td>1.858575</td>\n",
       "      <td>76.026165</td>\n",
       "      <td>56.614351</td>\n",
       "      <td>117235.809430</td>\n",
       "      <td>0.039569</td>\n",
       "    </tr>\n",
       "    <tr>\n",
       "      <th>std</th>\n",
       "      <td>43781.947379</td>\n",
       "      <td>39033.462364</td>\n",
       "      <td>12.956486</td>\n",
       "      <td>1614.757313</td>\n",
       "      <td>339.315831</td>\n",
       "      <td>546.266294</td>\n",
       "      <td>93.155749</td>\n",
       "      <td>153.737066</td>\n",
       "      <td>30.604864</td>\n",
       "      <td>36.513513</td>\n",
       "      <td>...</td>\n",
       "      <td>455.887218</td>\n",
       "      <td>113.959637</td>\n",
       "      <td>783.207399</td>\n",
       "      <td>538.439211</td>\n",
       "      <td>2013.125393</td>\n",
       "      <td>147.786584</td>\n",
       "      <td>4040.337842</td>\n",
       "      <td>2852.579397</td>\n",
       "      <td>182664.598503</td>\n",
       "      <td>0.194945</td>\n",
       "    </tr>\n",
       "    <tr>\n",
       "      <th>min</th>\n",
       "      <td>1.000000</td>\n",
       "      <td>-999999.000000</td>\n",
       "      <td>5.000000</td>\n",
       "      <td>0.000000</td>\n",
       "      <td>0.000000</td>\n",
       "      <td>0.000000</td>\n",
       "      <td>0.000000</td>\n",
       "      <td>0.000000</td>\n",
       "      <td>0.000000</td>\n",
       "      <td>0.000000</td>\n",
       "      <td>...</td>\n",
       "      <td>0.000000</td>\n",
       "      <td>0.000000</td>\n",
       "      <td>0.000000</td>\n",
       "      <td>0.000000</td>\n",
       "      <td>0.000000</td>\n",
       "      <td>0.000000</td>\n",
       "      <td>0.000000</td>\n",
       "      <td>0.000000</td>\n",
       "      <td>5163.750000</td>\n",
       "      <td>0.000000</td>\n",
       "    </tr>\n",
       "    <tr>\n",
       "      <th>25%</th>\n",
       "      <td>38104.750000</td>\n",
       "      <td>2.000000</td>\n",
       "      <td>23.000000</td>\n",
       "      <td>0.000000</td>\n",
       "      <td>0.000000</td>\n",
       "      <td>0.000000</td>\n",
       "      <td>0.000000</td>\n",
       "      <td>0.000000</td>\n",
       "      <td>0.000000</td>\n",
       "      <td>0.000000</td>\n",
       "      <td>...</td>\n",
       "      <td>0.000000</td>\n",
       "      <td>0.000000</td>\n",
       "      <td>0.000000</td>\n",
       "      <td>0.000000</td>\n",
       "      <td>0.000000</td>\n",
       "      <td>0.000000</td>\n",
       "      <td>0.000000</td>\n",
       "      <td>0.000000</td>\n",
       "      <td>67870.612500</td>\n",
       "      <td>0.000000</td>\n",
       "    </tr>\n",
       "    <tr>\n",
       "      <th>50%</th>\n",
       "      <td>76043.000000</td>\n",
       "      <td>2.000000</td>\n",
       "      <td>28.000000</td>\n",
       "      <td>0.000000</td>\n",
       "      <td>0.000000</td>\n",
       "      <td>0.000000</td>\n",
       "      <td>0.000000</td>\n",
       "      <td>0.000000</td>\n",
       "      <td>0.000000</td>\n",
       "      <td>0.000000</td>\n",
       "      <td>...</td>\n",
       "      <td>0.000000</td>\n",
       "      <td>0.000000</td>\n",
       "      <td>0.000000</td>\n",
       "      <td>0.000000</td>\n",
       "      <td>0.000000</td>\n",
       "      <td>0.000000</td>\n",
       "      <td>0.000000</td>\n",
       "      <td>0.000000</td>\n",
       "      <td>106409.160000</td>\n",
       "      <td>0.000000</td>\n",
       "    </tr>\n",
       "    <tr>\n",
       "      <th>75%</th>\n",
       "      <td>113748.750000</td>\n",
       "      <td>2.000000</td>\n",
       "      <td>40.000000</td>\n",
       "      <td>0.000000</td>\n",
       "      <td>0.000000</td>\n",
       "      <td>0.000000</td>\n",
       "      <td>0.000000</td>\n",
       "      <td>0.000000</td>\n",
       "      <td>0.000000</td>\n",
       "      <td>0.000000</td>\n",
       "      <td>...</td>\n",
       "      <td>0.000000</td>\n",
       "      <td>0.000000</td>\n",
       "      <td>0.000000</td>\n",
       "      <td>0.000000</td>\n",
       "      <td>0.000000</td>\n",
       "      <td>0.000000</td>\n",
       "      <td>0.000000</td>\n",
       "      <td>0.000000</td>\n",
       "      <td>118756.252500</td>\n",
       "      <td>0.000000</td>\n",
       "    </tr>\n",
       "    <tr>\n",
       "      <th>max</th>\n",
       "      <td>151838.000000</td>\n",
       "      <td>238.000000</td>\n",
       "      <td>105.000000</td>\n",
       "      <td>210000.000000</td>\n",
       "      <td>12888.030000</td>\n",
       "      <td>21024.810000</td>\n",
       "      <td>8237.820000</td>\n",
       "      <td>11073.570000</td>\n",
       "      <td>6600.000000</td>\n",
       "      <td>6600.000000</td>\n",
       "      <td>...</td>\n",
       "      <td>50003.880000</td>\n",
       "      <td>20385.720000</td>\n",
       "      <td>138831.630000</td>\n",
       "      <td>91778.730000</td>\n",
       "      <td>438329.220000</td>\n",
       "      <td>24650.010000</td>\n",
       "      <td>681462.900000</td>\n",
       "      <td>397884.300000</td>\n",
       "      <td>22034738.760000</td>\n",
       "      <td>1.000000</td>\n",
       "    </tr>\n",
       "  </tbody>\n",
       "</table>\n",
       "<p>8 rows × 371 columns</p>\n",
       "</div>"
      ],
      "text/plain": [
       "                  ID           var3         var15  imp_ent_var16_ult1  \\\n",
       "count   76020.000000   76020.000000  76020.000000        76020.000000   \n",
       "mean    75964.050723   -1523.199277     33.212865           86.208265   \n",
       "std     43781.947379   39033.462364     12.956486         1614.757313   \n",
       "min         1.000000 -999999.000000      5.000000            0.000000   \n",
       "25%     38104.750000       2.000000     23.000000            0.000000   \n",
       "50%     76043.000000       2.000000     28.000000            0.000000   \n",
       "75%    113748.750000       2.000000     40.000000            0.000000   \n",
       "max    151838.000000     238.000000    105.000000       210000.000000   \n",
       "\n",
       "       imp_op_var39_comer_ult1  imp_op_var39_comer_ult3  \\\n",
       "count             76020.000000             76020.000000   \n",
       "mean                 72.363067               119.529632   \n",
       "std                 339.315831               546.266294   \n",
       "min                   0.000000                 0.000000   \n",
       "25%                   0.000000                 0.000000   \n",
       "50%                   0.000000                 0.000000   \n",
       "75%                   0.000000                 0.000000   \n",
       "max               12888.030000             21024.810000   \n",
       "\n",
       "       imp_op_var40_comer_ult1  imp_op_var40_comer_ult3  \\\n",
       "count             76020.000000             76020.000000   \n",
       "mean                  3.559130                 6.472698   \n",
       "std                  93.155749               153.737066   \n",
       "min                   0.000000                 0.000000   \n",
       "25%                   0.000000                 0.000000   \n",
       "50%                   0.000000                 0.000000   \n",
       "75%                   0.000000                 0.000000   \n",
       "max                8237.820000             11073.570000   \n",
       "\n",
       "       imp_op_var40_efect_ult1  imp_op_var40_efect_ult3      ...       \\\n",
       "count             76020.000000             76020.000000      ...        \n",
       "mean                  0.412946                 0.567352      ...        \n",
       "std                  30.604864                36.513513      ...        \n",
       "min                   0.000000                 0.000000      ...        \n",
       "25%                   0.000000                 0.000000      ...        \n",
       "50%                   0.000000                 0.000000      ...        \n",
       "75%                   0.000000                 0.000000      ...        \n",
       "max                6600.000000              6600.000000      ...        \n",
       "\n",
       "       saldo_medio_var33_hace2  saldo_medio_var33_hace3  \\\n",
       "count             76020.000000             76020.000000   \n",
       "mean                  7.935824                 1.365146   \n",
       "std                 455.887218               113.959637   \n",
       "min                   0.000000                 0.000000   \n",
       "25%                   0.000000                 0.000000   \n",
       "50%                   0.000000                 0.000000   \n",
       "75%                   0.000000                 0.000000   \n",
       "max               50003.880000             20385.720000   \n",
       "\n",
       "       saldo_medio_var33_ult1  saldo_medio_var33_ult3  \\\n",
       "count            76020.000000            76020.000000   \n",
       "mean                12.215580                8.784074   \n",
       "std                783.207399              538.439211   \n",
       "min                  0.000000                0.000000   \n",
       "25%                  0.000000                0.000000   \n",
       "50%                  0.000000                0.000000   \n",
       "75%                  0.000000                0.000000   \n",
       "max             138831.630000            91778.730000   \n",
       "\n",
       "       saldo_medio_var44_hace2  saldo_medio_var44_hace3  \\\n",
       "count             76020.000000             76020.000000   \n",
       "mean                 31.505324                 1.858575   \n",
       "std                2013.125393               147.786584   \n",
       "min                   0.000000                 0.000000   \n",
       "25%                   0.000000                 0.000000   \n",
       "50%                   0.000000                 0.000000   \n",
       "75%                   0.000000                 0.000000   \n",
       "max              438329.220000             24650.010000   \n",
       "\n",
       "       saldo_medio_var44_ult1  saldo_medio_var44_ult3            var38  \\\n",
       "count            76020.000000            76020.000000     76020.000000   \n",
       "mean                76.026165               56.614351    117235.809430   \n",
       "std               4040.337842             2852.579397    182664.598503   \n",
       "min                  0.000000                0.000000      5163.750000   \n",
       "25%                  0.000000                0.000000     67870.612500   \n",
       "50%                  0.000000                0.000000    106409.160000   \n",
       "75%                  0.000000                0.000000    118756.252500   \n",
       "max             681462.900000           397884.300000  22034738.760000   \n",
       "\n",
       "             TARGET  \n",
       "count  76020.000000  \n",
       "mean       0.039569  \n",
       "std        0.194945  \n",
       "min        0.000000  \n",
       "25%        0.000000  \n",
       "50%        0.000000  \n",
       "75%        0.000000  \n",
       "max        1.000000  \n",
       "\n",
       "[8 rows x 371 columns]"
      ]
     },
     "execution_count": 5,
     "metadata": {},
     "output_type": "execute_result"
    }
   ],
   "source": [
    "train.describe()"
   ]
  },
  {
   "cell_type": "code",
   "execution_count": 3,
   "metadata": {
    "collapsed": false
   },
   "outputs": [
    {
     "name": "stdout",
     "output_type": "stream",
     "text": [
      "[u'seaborn-darkgrid', u'seaborn-notebook', u'classic', u'seaborn-ticks', u'grayscale', u'bmh', u'seaborn-talk', u'dark_background', u'ggplot', u'fivethirtyeight', u'seaborn-colorblind', u'seaborn-deep', u'seaborn-whitegrid', u'seaborn-bright', u'seaborn-poster', u'seaborn-muted', u'seaborn-paper', u'seaborn-white', u'seaborn-pastel', u'seaborn-dark', u'seaborn-dark-palette']\n"
     ]
    }
   ],
   "source": [
    "print plt.style.available\n",
    "plt.style.use('ggplot')"
   ]
  },
  {
   "cell_type": "code",
   "execution_count": 4,
   "metadata": {
    "collapsed": false
   },
   "outputs": [
    {
     "data": {
      "text/plain": [
       "3008"
      ]
     },
     "execution_count": 4,
     "metadata": {},
     "output_type": "execute_result"
    }
   ],
   "source": [
    "(train['TARGET']==1).sum()"
   ]
  },
  {
   "cell_type": "code",
   "execution_count": 19,
   "metadata": {
    "collapsed": false
   },
   "outputs": [
    {
     "data": {
      "image/png": "[encoded data removed]",
      "text/plain": [
       "<matplotlib.figure.Figure at 0x1187f1050>"
      ]
     },
     "metadata": {},
     "output_type": "display_data"
    }
   ],
   "source": [
    "# var15 is AGE\n",
    "_ = train['var15'].hist(bins=25)"
   ]
  },
  {
   "cell_type": "code",
   "execution_count": 6,
   "metadata": {
    "collapsed": false
   },
   "outputs": [
    {
     "name": "stdout",
     "output_type": "stream",
     "text": [
      "1212\n",
      "0\n"
     ]
    }
   ],
   "source": [
    "# under 23 do not complain\n",
    "print len(train['TARGET'][train.var15<23])\n",
    "print sum(train['TARGET'][train.var15<23])"
   ]
  },
  {
   "cell_type": "markdown",
   "metadata": {},
   "source": [
    "## Combine train and test sets"
   ]
  },
  {
   "cell_type": "code",
   "execution_count": 4,
   "metadata": {
    "collapsed": true
   },
   "outputs": [],
   "source": [
    "## use for spltting up combined train+test data, recording predictions\n",
    "labels = train['TARGET'].values\n",
    "df_train = train.drop(['TARGET'], axis=1)\n",
    "df_test = test.copy()\n",
    "id_test = test['ID']\n",
    "piv_train = train.shape[0]"
   ]
  },
  {
   "cell_type": "code",
   "execution_count": 5,
   "metadata": {
    "collapsed": false
   },
   "outputs": [],
   "source": [
    "# Creating a DataFrame with train+test data\n",
    "df_all = pd.concat((df_train, df_test), axis=0, ignore_index=True)\n",
    "\n",
    "# Removing id\n",
    "# we can also remove id later\n",
    "df_all = df_all.drop(['ID'], axis=1)\n",
    "#(df_all.isnull().sum() / df_all.shape[0])"
   ]
  },
  {
   "cell_type": "code",
   "execution_count": 7,
   "metadata": {
    "collapsed": false
   },
   "outputs": [
    {
     "data": {
      "text/plain": [
       "['ind_var2_0',\n",
       " 'ind_var2',\n",
       " 'ind_var27_0',\n",
       " 'ind_var28_0',\n",
       " 'ind_var28',\n",
       " 'ind_var27',\n",
       " 'ind_var41',\n",
       " 'ind_var46_0',\n",
       " 'ind_var46',\n",
       " 'num_var27_0',\n",
       " 'num_var28_0',\n",
       " 'num_var28',\n",
       " 'num_var27',\n",
       " 'num_var41',\n",
       " 'num_var46_0',\n",
       " 'num_var46',\n",
       " 'saldo_var28',\n",
       " 'saldo_var27',\n",
       " 'saldo_var41',\n",
       " 'saldo_var46',\n",
       " 'imp_amort_var18_hace3',\n",
       " 'imp_amort_var34_hace3',\n",
       " 'imp_reemb_var13_hace3',\n",
       " 'imp_reemb_var33_hace3',\n",
       " 'imp_trasp_var17_out_hace3',\n",
       " 'imp_trasp_var33_out_hace3',\n",
       " 'num_var2_0_ult1',\n",
       " 'num_var2_ult1',\n",
       " 'num_reemb_var13_hace3',\n",
       " 'num_reemb_var33_hace3',\n",
       " 'num_trasp_var17_out_hace3',\n",
       " 'num_trasp_var33_out_hace3',\n",
       " 'saldo_var2_ult1',\n",
       " 'saldo_medio_var13_medio_hace3']"
      ]
     },
     "metadata": {},
     "output_type": "display_data"
    },
    {
     "name": "stdout",
     "output_type": "stream",
     "text": [
      "(151838, 336)\n"
     ]
    }
   ],
   "source": [
    "# remove features that are constant for all rows\n",
    "constants = []\n",
    "for f in df_all.columns:\n",
    "    #print len(np.unique(df_all[f])), '/', len(df_all[f])\n",
    "    if len(np.unique(df_all[f])) == 1:\n",
    "        constants.append(f)\n",
    "display(constants)\n",
    "df_all = df_all.drop(constants, axis=1)\n",
    "print df_all.shape"
   ]
  },
  {
   "cell_type": "code",
   "execution_count": 8,
   "metadata": {
    "collapsed": false
   },
   "outputs": [
    {
     "name": "stdout",
     "output_type": "stream",
     "text": [
      "23 ind_var6_0\n",
      "24 ind_var6\n",
      "34 ind_var13_medio_0\n",
      "41 ind_var18_0\n",
      "49 ind_var26_0\n",
      "52 ind_var25_0\n",
      "61 ind_var32_0\n",
      "65 ind_var34_0\n",
      "68 ind_var37_0\n",
      "72 ind_var40\n",
      "82 num_var6_0\n",
      "83 num_var6\n",
      "100 num_var18_0\n",
      "132 num_var34_0\n",
      "140 num_var40\n",
      "180 delta_imp_reemb_var13_1y3\n",
      "182 delta_imp_reemb_var33_1y3\n",
      "184 delta_imp_trasp_var17_out_1y3\n",
      "186 delta_imp_trasp_var33_out_1y3\n"
     ]
    },
    {
     "data": {
      "text/plain": [
       "[23,\n",
       " 24,\n",
       " 34,\n",
       " 41,\n",
       " 49,\n",
       " 52,\n",
       " 61,\n",
       " 65,\n",
       " 68,\n",
       " 72,\n",
       " 82,\n",
       " 83,\n",
       " 100,\n",
       " 132,\n",
       " 140,\n",
       " 180,\n",
       " 182,\n",
       " 184,\n",
       " 186]"
      ]
     },
     "metadata": {},
     "output_type": "display_data"
    },
    {
     "name": "stdout",
     "output_type": "stream",
     "text": [
      "(151838, 336)\n"
     ]
    }
   ],
   "source": [
    "# remove duplicate columns\n",
    "df_all['var15'].equals(df_all['var38'])\n",
    "dupes = []\n",
    "\n",
    "for i in range(len(df_all.columns) - 1):\n",
    "    if len(np.unique(df_all.iloc[:, i])) == 2:\n",
    "        for j in range(i+1, len(df_all.columns) - 1):\n",
    "            if len(np.unique(df_all.iloc[:, j])) == 2:\n",
    "                if df_all.iloc[:, i].equals(df_all.iloc[:, j]):\n",
    "                    dupes.append(i)\n",
    "                    print i, df_all.columns[i]\n",
    "                    break\n",
    "        \n",
    "display(dupes)"
   ]
  },
  {
   "cell_type": "code",
   "execution_count": 9,
   "metadata": {
    "collapsed": false
   },
   "outputs": [
    {
     "data": {
      "text/html": [
       "<div>\n",
       "<table border=\"1\" class=\"dataframe\">\n",
       "  <thead>\n",
       "    <tr style=\"text-align: right;\">\n",
       "      <th></th>\n",
       "      <th>var3</th>\n",
       "      <th>var15</th>\n",
       "      <th>imp_ent_var16_ult1</th>\n",
       "      <th>imp_op_var39_comer_ult1</th>\n",
       "      <th>imp_op_var39_comer_ult3</th>\n",
       "      <th>imp_op_var40_comer_ult1</th>\n",
       "      <th>imp_op_var40_comer_ult3</th>\n",
       "      <th>imp_op_var40_efect_ult1</th>\n",
       "      <th>imp_op_var40_efect_ult3</th>\n",
       "      <th>imp_op_var40_ult1</th>\n",
       "      <th>...</th>\n",
       "      <th>saldo_medio_var33_hace2</th>\n",
       "      <th>saldo_medio_var33_hace3</th>\n",
       "      <th>saldo_medio_var33_ult1</th>\n",
       "      <th>saldo_medio_var33_ult3</th>\n",
       "      <th>saldo_medio_var44_hace2</th>\n",
       "      <th>saldo_medio_var44_hace3</th>\n",
       "      <th>saldo_medio_var44_ult1</th>\n",
       "      <th>saldo_medio_var44_ult3</th>\n",
       "      <th>var38</th>\n",
       "      <th>n0</th>\n",
       "    </tr>\n",
       "  </thead>\n",
       "  <tbody>\n",
       "    <tr>\n",
       "      <th>0</th>\n",
       "      <td>2</td>\n",
       "      <td>23</td>\n",
       "      <td>0</td>\n",
       "      <td>0</td>\n",
       "      <td>0</td>\n",
       "      <td>0</td>\n",
       "      <td>0</td>\n",
       "      <td>0</td>\n",
       "      <td>0</td>\n",
       "      <td>0</td>\n",
       "      <td>...</td>\n",
       "      <td>0</td>\n",
       "      <td>0</td>\n",
       "      <td>0</td>\n",
       "      <td>0</td>\n",
       "      <td>0</td>\n",
       "      <td>0</td>\n",
       "      <td>0</td>\n",
       "      <td>0</td>\n",
       "      <td>39205.170000</td>\n",
       "      <td>355</td>\n",
       "    </tr>\n",
       "    <tr>\n",
       "      <th>1</th>\n",
       "      <td>2</td>\n",
       "      <td>34</td>\n",
       "      <td>0</td>\n",
       "      <td>0</td>\n",
       "      <td>0</td>\n",
       "      <td>0</td>\n",
       "      <td>0</td>\n",
       "      <td>0</td>\n",
       "      <td>0</td>\n",
       "      <td>0</td>\n",
       "      <td>...</td>\n",
       "      <td>0</td>\n",
       "      <td>0</td>\n",
       "      <td>0</td>\n",
       "      <td>0</td>\n",
       "      <td>0</td>\n",
       "      <td>0</td>\n",
       "      <td>0</td>\n",
       "      <td>0</td>\n",
       "      <td>49278.030000</td>\n",
       "      <td>329</td>\n",
       "    </tr>\n",
       "    <tr>\n",
       "      <th>2</th>\n",
       "      <td>2</td>\n",
       "      <td>23</td>\n",
       "      <td>0</td>\n",
       "      <td>0</td>\n",
       "      <td>0</td>\n",
       "      <td>0</td>\n",
       "      <td>0</td>\n",
       "      <td>0</td>\n",
       "      <td>0</td>\n",
       "      <td>0</td>\n",
       "      <td>...</td>\n",
       "      <td>0</td>\n",
       "      <td>0</td>\n",
       "      <td>0</td>\n",
       "      <td>0</td>\n",
       "      <td>0</td>\n",
       "      <td>0</td>\n",
       "      <td>0</td>\n",
       "      <td>0</td>\n",
       "      <td>67333.770000</td>\n",
       "      <td>340</td>\n",
       "    </tr>\n",
       "    <tr>\n",
       "      <th>3</th>\n",
       "      <td>2</td>\n",
       "      <td>37</td>\n",
       "      <td>0</td>\n",
       "      <td>195</td>\n",
       "      <td>195</td>\n",
       "      <td>0</td>\n",
       "      <td>0</td>\n",
       "      <td>0</td>\n",
       "      <td>0</td>\n",
       "      <td>0</td>\n",
       "      <td>...</td>\n",
       "      <td>0</td>\n",
       "      <td>0</td>\n",
       "      <td>0</td>\n",
       "      <td>0</td>\n",
       "      <td>0</td>\n",
       "      <td>0</td>\n",
       "      <td>0</td>\n",
       "      <td>0</td>\n",
       "      <td>64007.970000</td>\n",
       "      <td>309</td>\n",
       "    </tr>\n",
       "    <tr>\n",
       "      <th>4</th>\n",
       "      <td>2</td>\n",
       "      <td>39</td>\n",
       "      <td>0</td>\n",
       "      <td>0</td>\n",
       "      <td>0</td>\n",
       "      <td>0</td>\n",
       "      <td>0</td>\n",
       "      <td>0</td>\n",
       "      <td>0</td>\n",
       "      <td>0</td>\n",
       "      <td>...</td>\n",
       "      <td>0</td>\n",
       "      <td>0</td>\n",
       "      <td>0</td>\n",
       "      <td>0</td>\n",
       "      <td>0</td>\n",
       "      <td>0</td>\n",
       "      <td>0</td>\n",
       "      <td>0</td>\n",
       "      <td>117310.979016</td>\n",
       "      <td>319</td>\n",
       "    </tr>\n",
       "  </tbody>\n",
       "</table>\n",
       "<p>5 rows × 317 columns</p>\n",
       "</div>"
      ],
      "text/plain": [
       "   var3  var15  imp_ent_var16_ult1  imp_op_var39_comer_ult1  \\\n",
       "0     2     23                   0                        0   \n",
       "1     2     34                   0                        0   \n",
       "2     2     23                   0                        0   \n",
       "3     2     37                   0                      195   \n",
       "4     2     39                   0                        0   \n",
       "\n",
       "   imp_op_var39_comer_ult3  imp_op_var40_comer_ult1  imp_op_var40_comer_ult3  \\\n",
       "0                        0                        0                        0   \n",
       "1                        0                        0                        0   \n",
       "2                        0                        0                        0   \n",
       "3                      195                        0                        0   \n",
       "4                        0                        0                        0   \n",
       "\n",
       "   imp_op_var40_efect_ult1  imp_op_var40_efect_ult3  imp_op_var40_ult1 ...   \\\n",
       "0                        0                        0                  0 ...    \n",
       "1                        0                        0                  0 ...    \n",
       "2                        0                        0                  0 ...    \n",
       "3                        0                        0                  0 ...    \n",
       "4                        0                        0                  0 ...    \n",
       "\n",
       "   saldo_medio_var33_hace2  saldo_medio_var33_hace3  saldo_medio_var33_ult1  \\\n",
       "0                        0                        0                       0   \n",
       "1                        0                        0                       0   \n",
       "2                        0                        0                       0   \n",
       "3                        0                        0                       0   \n",
       "4                        0                        0                       0   \n",
       "\n",
       "   saldo_medio_var33_ult3  saldo_medio_var44_hace2  saldo_medio_var44_hace3  \\\n",
       "0                       0                        0                        0   \n",
       "1                       0                        0                        0   \n",
       "2                       0                        0                        0   \n",
       "3                       0                        0                        0   \n",
       "4                       0                        0                        0   \n",
       "\n",
       "   saldo_medio_var44_ult1  saldo_medio_var44_ult3          var38   n0  \n",
       "0                       0                       0   39205.170000  355  \n",
       "1                       0                       0   49278.030000  329  \n",
       "2                       0                       0   67333.770000  340  \n",
       "3                       0                       0   64007.970000  309  \n",
       "4                       0                       0  117310.979016  319  \n",
       "\n",
       "[5 rows x 317 columns]"
      ]
     },
     "metadata": {},
     "output_type": "display_data"
    },
    {
     "name": "stdout",
     "output_type": "stream",
     "text": [
      "(151838, 317)\n"
     ]
    }
   ],
   "source": [
    "# drop the list of dupe columns from df\n",
    "df_all = df_all.drop(df_all.columns[dupes], axis=1)\n",
    "# df_all.drop(df_all.columns[dupes], axis = 1, inplace = True)\n",
    "\n",
    "display(df_all.head())\n",
    "print df_all.shape"
   ]
  },
  {
   "cell_type": "code",
   "execution_count": 10,
   "metadata": {
    "collapsed": false
   },
   "outputs": [
    {
     "name": "stdout",
     "output_type": "stream",
     "text": [
      "Setting min-max lims on test data...\n",
      "23.2556190491\n"
     ]
    },
    {
     "name": "stderr",
     "output_type": "stream",
     "text": [
      "/Users/jjl/anaconda/envs/dato-env/lib/python2.7/site-packages/ipykernel/__main__.py:8: SettingWithCopyWarning: \n",
      "A value is trying to be set on a copy of a slice from a DataFrame\n",
      "\n",
      "See the caveats in the documentation: http://pandas.pydata.org/pandas-docs/stable/indexing.html#indexing-view-versus-copy\n",
      "/Users/jjl/anaconda/envs/dato-env/lib/python2.7/site-packages/ipykernel/__main__.py:11: SettingWithCopyWarning: \n",
      "A value is trying to be set on a copy of a slice from a DataFrame\n",
      "\n",
      "See the caveats in the documentation: http://pandas.pydata.org/pandas-docs/stable/indexing.html#indexing-view-versus-copy\n"
     ]
    },
    {
     "data": {
      "text/plain": [
       "' TODO: sanity check that min-max values set properyly\\nif sum(df_train.max() < df_all.iloc[:,:-1].max()) == 0:\\n    if sum(df_train.min() > df_all.min()) == 0:\\n        print \"min-max limits are set\"\\nelse:\\n    print \"min-max limits not set properly\"\\n'"
      ]
     },
     "execution_count": 10,
     "metadata": {},
     "output_type": "execute_result"
    }
   ],
   "source": [
    "# kaggle script: https://www.kaggle.com/zfturbo/santander-customer-satisfaction/to-the-top-v3/output \n",
    "# limit vars in test based on min and max vals of train\n",
    "print('Setting min-max lims on test data...')\n",
    "\n",
    "st = time.time()\n",
    "for f in df_all.columns[:-1]:\n",
    "    lim_min = np.min(df_train[f])\n",
    "    df_all.loc[:, f][df_all[f] < lim_min] = lim_min\n",
    "\n",
    "    lim_max = np.max(df_train[f])\n",
    "    df_all.loc[:, f][df_all[f] > lim_max] = lim_max\n",
    "    #print f, ': min=', lim_min, ', max=', lim_max\n",
    "\n",
    "print time.time() - st\n",
    "\n",
    "''' TODO: sanity check that min-max values set properyly\n",
    "if sum(df_train.max() < df_all.iloc[:,:-1].max()) == 0:\n",
    "    if sum(df_train.min() > df_all.min()) == 0:\n",
    "        print \"min-max limits are set\"\n",
    "else:\n",
    "    print \"min-max limits not set properly\"\n",
    "'''"
   ]
  },
  {
   "cell_type": "code",
   "execution_count": 11,
   "metadata": {
    "collapsed": false
   },
   "outputs": [
    {
     "name": "stdout",
     "output_type": "stream",
     "text": [
      "210000.0\n",
      "210000.0\n"
     ]
    }
   ],
   "source": [
    "f = 'imp_ent_var16_ult1'\n",
    "print df_train[f].max()\n",
    "print df_all[f].max()"
   ]
  },
  {
   "cell_type": "code",
   "execution_count": 12,
   "metadata": {
    "collapsed": true
   },
   "outputs": [],
   "source": [
    "# log transform 'var38'\n",
    "df_all['var38'] = np.log(df_all['var38'])"
   ]
  },
  {
   "cell_type": "markdown",
   "metadata": {},
   "source": [
    "** Blending(?) model predictions into training/test data**"
   ]
  },
  {
   "cell_type": "code",
   "execution_count": 398,
   "metadata": {
    "collapsed": false
   },
   "outputs": [
    {
     "data": {
      "text/html": [
       "<div>\n",
       "<table border=\"1\" class=\"dataframe\">\n",
       "  <thead>\n",
       "    <tr style=\"text-align: right;\">\n",
       "      <th></th>\n",
       "      <th>var3</th>\n",
       "      <th>var15</th>\n",
       "      <th>imp_ent_var16_ult1</th>\n",
       "      <th>imp_op_var39_comer_ult1</th>\n",
       "      <th>imp_op_var39_comer_ult3</th>\n",
       "      <th>imp_op_var40_comer_ult1</th>\n",
       "      <th>imp_op_var40_comer_ult3</th>\n",
       "      <th>imp_op_var40_efect_ult1</th>\n",
       "      <th>imp_op_var40_efect_ult3</th>\n",
       "      <th>imp_op_var40_ult1</th>\n",
       "      <th>...</th>\n",
       "      <th>saldo_medio_var33_ult3</th>\n",
       "      <th>saldo_medio_var44_hace2</th>\n",
       "      <th>saldo_medio_var44_hace3</th>\n",
       "      <th>saldo_medio_var44_ult1</th>\n",
       "      <th>saldo_medio_var44_ult3</th>\n",
       "      <th>var38</th>\n",
       "      <th>n0</th>\n",
       "      <th>xgb14</th>\n",
       "      <th>rf1</th>\n",
       "      <th>ext1</th>\n",
       "    </tr>\n",
       "  </thead>\n",
       "  <tbody>\n",
       "    <tr>\n",
       "      <th>0</th>\n",
       "      <td>2</td>\n",
       "      <td>23</td>\n",
       "      <td>0</td>\n",
       "      <td>0</td>\n",
       "      <td>0</td>\n",
       "      <td>0</td>\n",
       "      <td>0</td>\n",
       "      <td>0</td>\n",
       "      <td>0</td>\n",
       "      <td>0</td>\n",
       "      <td>...</td>\n",
       "      <td>0</td>\n",
       "      <td>0</td>\n",
       "      <td>0</td>\n",
       "      <td>0</td>\n",
       "      <td>0</td>\n",
       "      <td>10.576564</td>\n",
       "      <td>355</td>\n",
       "      <td>0.001240</td>\n",
       "      <td>0.572703</td>\n",
       "      <td>0.072732</td>\n",
       "    </tr>\n",
       "    <tr>\n",
       "      <th>1</th>\n",
       "      <td>2</td>\n",
       "      <td>34</td>\n",
       "      <td>0</td>\n",
       "      <td>0</td>\n",
       "      <td>0</td>\n",
       "      <td>0</td>\n",
       "      <td>0</td>\n",
       "      <td>0</td>\n",
       "      <td>0</td>\n",
       "      <td>0</td>\n",
       "      <td>...</td>\n",
       "      <td>0</td>\n",
       "      <td>0</td>\n",
       "      <td>0</td>\n",
       "      <td>0</td>\n",
       "      <td>0</td>\n",
       "      <td>10.805234</td>\n",
       "      <td>329</td>\n",
       "      <td>0.000728</td>\n",
       "      <td>0.092240</td>\n",
       "      <td>0.000161</td>\n",
       "    </tr>\n",
       "    <tr>\n",
       "      <th>2</th>\n",
       "      <td>2</td>\n",
       "      <td>23</td>\n",
       "      <td>0</td>\n",
       "      <td>0</td>\n",
       "      <td>0</td>\n",
       "      <td>0</td>\n",
       "      <td>0</td>\n",
       "      <td>0</td>\n",
       "      <td>0</td>\n",
       "      <td>0</td>\n",
       "      <td>...</td>\n",
       "      <td>0</td>\n",
       "      <td>0</td>\n",
       "      <td>0</td>\n",
       "      <td>0</td>\n",
       "      <td>0</td>\n",
       "      <td>11.117417</td>\n",
       "      <td>340</td>\n",
       "      <td>0.000150</td>\n",
       "      <td>0.207475</td>\n",
       "      <td>0.008359</td>\n",
       "    </tr>\n",
       "    <tr>\n",
       "      <th>3</th>\n",
       "      <td>2</td>\n",
       "      <td>37</td>\n",
       "      <td>0</td>\n",
       "      <td>195</td>\n",
       "      <td>195</td>\n",
       "      <td>0</td>\n",
       "      <td>0</td>\n",
       "      <td>0</td>\n",
       "      <td>0</td>\n",
       "      <td>0</td>\n",
       "      <td>...</td>\n",
       "      <td>0</td>\n",
       "      <td>0</td>\n",
       "      <td>0</td>\n",
       "      <td>0</td>\n",
       "      <td>0</td>\n",
       "      <td>11.066763</td>\n",
       "      <td>309</td>\n",
       "      <td>0.001024</td>\n",
       "      <td>0.356045</td>\n",
       "      <td>0.019116</td>\n",
       "    </tr>\n",
       "    <tr>\n",
       "      <th>4</th>\n",
       "      <td>2</td>\n",
       "      <td>39</td>\n",
       "      <td>0</td>\n",
       "      <td>0</td>\n",
       "      <td>0</td>\n",
       "      <td>0</td>\n",
       "      <td>0</td>\n",
       "      <td>0</td>\n",
       "      <td>0</td>\n",
       "      <td>0</td>\n",
       "      <td>...</td>\n",
       "      <td>0</td>\n",
       "      <td>0</td>\n",
       "      <td>0</td>\n",
       "      <td>0</td>\n",
       "      <td>0</td>\n",
       "      <td>11.672584</td>\n",
       "      <td>319</td>\n",
       "      <td>0.000480</td>\n",
       "      <td>0.139692</td>\n",
       "      <td>0.000816</td>\n",
       "    </tr>\n",
       "  </tbody>\n",
       "</table>\n",
       "<p>5 rows × 320 columns</p>\n",
       "</div>"
      ],
      "text/plain": [
       "   var3  var15  imp_ent_var16_ult1  imp_op_var39_comer_ult1  \\\n",
       "0     2     23                   0                        0   \n",
       "1     2     34                   0                        0   \n",
       "2     2     23                   0                        0   \n",
       "3     2     37                   0                      195   \n",
       "4     2     39                   0                        0   \n",
       "\n",
       "   imp_op_var39_comer_ult3  imp_op_var40_comer_ult1  imp_op_var40_comer_ult3  \\\n",
       "0                        0                        0                        0   \n",
       "1                        0                        0                        0   \n",
       "2                        0                        0                        0   \n",
       "3                      195                        0                        0   \n",
       "4                        0                        0                        0   \n",
       "\n",
       "   imp_op_var40_efect_ult1  imp_op_var40_efect_ult3  imp_op_var40_ult1  \\\n",
       "0                        0                        0                  0   \n",
       "1                        0                        0                  0   \n",
       "2                        0                        0                  0   \n",
       "3                        0                        0                  0   \n",
       "4                        0                        0                  0   \n",
       "\n",
       "     ...     saldo_medio_var33_ult3  saldo_medio_var44_hace2  \\\n",
       "0    ...                          0                        0   \n",
       "1    ...                          0                        0   \n",
       "2    ...                          0                        0   \n",
       "3    ...                          0                        0   \n",
       "4    ...                          0                        0   \n",
       "\n",
       "   saldo_medio_var44_hace3  saldo_medio_var44_ult1  saldo_medio_var44_ult3  \\\n",
       "0                        0                       0                       0   \n",
       "1                        0                       0                       0   \n",
       "2                        0                       0                       0   \n",
       "3                        0                       0                       0   \n",
       "4                        0                       0                       0   \n",
       "\n",
       "       var38   n0     xgb14       rf1      ext1  \n",
       "0  10.576564  355  0.001240  0.572703  0.072732  \n",
       "1  10.805234  329  0.000728  0.092240  0.000161  \n",
       "2  11.117417  340  0.000150  0.207475  0.008359  \n",
       "3  11.066763  309  0.001024  0.356045  0.019116  \n",
       "4  11.672584  319  0.000480  0.139692  0.000816  \n",
       "\n",
       "[5 rows x 320 columns]"
      ]
     },
     "execution_count": 398,
     "metadata": {},
     "output_type": "execute_result"
    }
   ],
   "source": [
    "# add model predictions (xgb, rf, ext, svm) to df_all\n",
    "df_all['ext1'] = est.predict_proba(vals)[:,1]\n",
    "df_all.head()"
   ]
  },
  {
   "cell_type": "code",
   "execution_count": 24,
   "metadata": {
    "collapsed": false
   },
   "outputs": [
    {
     "name": "stdout",
     "output_type": "stream",
     "text": [
      "XGBClassifier(base_score=0.5, colsample_bylevel=1, colsample_bytree=0.71,\n",
      "       gamma=0, learning_rate=0.025, max_delta_step=0, max_depth=5,\n",
      "       min_child_weight=3, missing=nan, n_estimators=512, nthread=-1,\n",
      "       objective='binary:logistic', reg_alpha=0, reg_lambda=1,\n",
      "       scale_pos_weight=0.0411987070619, seed=2014, silent=True,\n",
      "       subsample=0.68)\n",
      "Start of xgb12\n",
      "Done with xgb12 4.96074295044\n",
      "XGBClassifier(base_score=0.5, colsample_bylevel=1, colsample_bytree=0.71,\n",
      "       gamma=0, learning_rate=0.03, max_delta_step=0, max_depth=6,\n",
      "       min_child_weight=3, missing=nan, n_estimators=512, nthread=-1,\n",
      "       objective='binary:logistic', reg_alpha=0, reg_lambda=1,\n",
      "       scale_pos_weight=0.0411987070619, seed=2015, silent=True,\n",
      "       subsample=0.85)\n",
      "Start of xgb13\n",
      "Done with xgb13 5.07222700119\n",
      "XGBClassifier(base_score=0.5, colsample_bylevel=1, colsample_bytree=0.51,\n",
      "       gamma=0, learning_rate=0.025, max_delta_step=0, max_depth=8,\n",
      "       min_child_weight=3, missing=nan, n_estimators=512, nthread=-1,\n",
      "       objective='binary:logistic', reg_alpha=0, reg_lambda=1,\n",
      "       scale_pos_weight=0.0411987070619, seed=2014, silent=True,\n",
      "       subsample=0.99)\n",
      "Start of xgb14\n",
      "Done with xgb14 5.79138898849\n",
      "RandomForestClassifier(bootstrap=True, class_weight='balanced',\n",
      "            criterion='gini', max_depth=8, max_features='auto',\n",
      "            max_leaf_nodes=None, min_samples_leaf=1, min_samples_split=2,\n",
      "            min_weight_fraction_leaf=0.0, n_estimators=128, n_jobs=1,\n",
      "            oob_score=False, random_state=256, verbose=0, warm_start=False)\n",
      "Start of rf1\n",
      "Done with rf1 2.90213704109\n",
      "ExtraTreesClassifier(bootstrap=False, class_weight=None, criterion='entropy',\n",
      "           max_depth=30, max_features=30, max_leaf_nodes=None,\n",
      "           min_samples_leaf=2, min_samples_split=2,\n",
      "           min_weight_fraction_leaf=0.0, n_estimators=128, n_jobs=-1,\n",
      "           oob_score=False, random_state=512, verbose=0, warm_start=False)\n",
      "Start of ext1\n",
      "Done with ext1 2.38177800179\n",
      "LogisticRegression(C=1.0, class_weight=None, dual=False, fit_intercept=True,\n",
      "          intercept_scaling=1, max_iter=100, multi_class='ovr', n_jobs=1,\n",
      "          penalty='l2', random_state=128, solver='liblinear', tol=0.0001,\n",
      "          verbose=0, warm_start=False)\n",
      "Start of log1\n",
      "Done with log1 0.087641954422\n",
      "(151838, 323)\n"
     ]
    },
    {
     "data": {
      "text/html": [
       "<div>\n",
       "<table border=\"1\" class=\"dataframe\">\n",
       "  <thead>\n",
       "    <tr style=\"text-align: right;\">\n",
       "      <th></th>\n",
       "      <th>var3</th>\n",
       "      <th>var15</th>\n",
       "      <th>imp_ent_var16_ult1</th>\n",
       "      <th>imp_op_var39_comer_ult1</th>\n",
       "      <th>imp_op_var39_comer_ult3</th>\n",
       "      <th>imp_op_var40_comer_ult1</th>\n",
       "      <th>imp_op_var40_comer_ult3</th>\n",
       "      <th>imp_op_var40_efect_ult1</th>\n",
       "      <th>imp_op_var40_efect_ult3</th>\n",
       "      <th>imp_op_var40_ult1</th>\n",
       "      <th>...</th>\n",
       "      <th>saldo_medio_var44_ult1</th>\n",
       "      <th>saldo_medio_var44_ult3</th>\n",
       "      <th>var38</th>\n",
       "      <th>n0</th>\n",
       "      <th>log1</th>\n",
       "      <th>xgb12</th>\n",
       "      <th>xgb13</th>\n",
       "      <th>xgb14</th>\n",
       "      <th>rf1</th>\n",
       "      <th>ext1</th>\n",
       "    </tr>\n",
       "  </thead>\n",
       "  <tbody>\n",
       "    <tr>\n",
       "      <th>0</th>\n",
       "      <td>2</td>\n",
       "      <td>23</td>\n",
       "      <td>0</td>\n",
       "      <td>0</td>\n",
       "      <td>0</td>\n",
       "      <td>0</td>\n",
       "      <td>0</td>\n",
       "      <td>0</td>\n",
       "      <td>0</td>\n",
       "      <td>0</td>\n",
       "      <td>...</td>\n",
       "      <td>0</td>\n",
       "      <td>0</td>\n",
       "      <td>10.576564</td>\n",
       "      <td>355</td>\n",
       "      <td>0.499853</td>\n",
       "      <td>0.001038</td>\n",
       "      <td>0.001128</td>\n",
       "      <td>0.001240</td>\n",
       "      <td>0.572703</td>\n",
       "      <td>0.072732</td>\n",
       "    </tr>\n",
       "    <tr>\n",
       "      <th>1</th>\n",
       "      <td>2</td>\n",
       "      <td>34</td>\n",
       "      <td>0</td>\n",
       "      <td>0</td>\n",
       "      <td>0</td>\n",
       "      <td>0</td>\n",
       "      <td>0</td>\n",
       "      <td>0</td>\n",
       "      <td>0</td>\n",
       "      <td>0</td>\n",
       "      <td>...</td>\n",
       "      <td>0</td>\n",
       "      <td>0</td>\n",
       "      <td>10.805234</td>\n",
       "      <td>329</td>\n",
       "      <td>0.496962</td>\n",
       "      <td>0.000891</td>\n",
       "      <td>0.000843</td>\n",
       "      <td>0.000728</td>\n",
       "      <td>0.092240</td>\n",
       "      <td>0.000161</td>\n",
       "    </tr>\n",
       "    <tr>\n",
       "      <th>2</th>\n",
       "      <td>2</td>\n",
       "      <td>23</td>\n",
       "      <td>0</td>\n",
       "      <td>0</td>\n",
       "      <td>0</td>\n",
       "      <td>0</td>\n",
       "      <td>0</td>\n",
       "      <td>0</td>\n",
       "      <td>0</td>\n",
       "      <td>0</td>\n",
       "      <td>...</td>\n",
       "      <td>0</td>\n",
       "      <td>0</td>\n",
       "      <td>11.117417</td>\n",
       "      <td>340</td>\n",
       "      <td>0.499834</td>\n",
       "      <td>0.000177</td>\n",
       "      <td>0.000142</td>\n",
       "      <td>0.000150</td>\n",
       "      <td>0.207475</td>\n",
       "      <td>0.008359</td>\n",
       "    </tr>\n",
       "    <tr>\n",
       "      <th>3</th>\n",
       "      <td>2</td>\n",
       "      <td>37</td>\n",
       "      <td>0</td>\n",
       "      <td>195</td>\n",
       "      <td>195</td>\n",
       "      <td>0</td>\n",
       "      <td>0</td>\n",
       "      <td>0</td>\n",
       "      <td>0</td>\n",
       "      <td>0</td>\n",
       "      <td>...</td>\n",
       "      <td>0</td>\n",
       "      <td>0</td>\n",
       "      <td>11.066763</td>\n",
       "      <td>309</td>\n",
       "      <td>0.498995</td>\n",
       "      <td>0.001187</td>\n",
       "      <td>0.000936</td>\n",
       "      <td>0.001024</td>\n",
       "      <td>0.356045</td>\n",
       "      <td>0.019116</td>\n",
       "    </tr>\n",
       "    <tr>\n",
       "      <th>4</th>\n",
       "      <td>2</td>\n",
       "      <td>39</td>\n",
       "      <td>0</td>\n",
       "      <td>0</td>\n",
       "      <td>0</td>\n",
       "      <td>0</td>\n",
       "      <td>0</td>\n",
       "      <td>0</td>\n",
       "      <td>0</td>\n",
       "      <td>0</td>\n",
       "      <td>...</td>\n",
       "      <td>0</td>\n",
       "      <td>0</td>\n",
       "      <td>11.672584</td>\n",
       "      <td>319</td>\n",
       "      <td>0.004083</td>\n",
       "      <td>0.000615</td>\n",
       "      <td>0.000479</td>\n",
       "      <td>0.000480</td>\n",
       "      <td>0.139692</td>\n",
       "      <td>0.000816</td>\n",
       "    </tr>\n",
       "  </tbody>\n",
       "</table>\n",
       "<p>5 rows × 323 columns</p>\n",
       "</div>"
      ],
      "text/plain": [
       "   var3  var15  imp_ent_var16_ult1  imp_op_var39_comer_ult1  \\\n",
       "0     2     23                   0                        0   \n",
       "1     2     34                   0                        0   \n",
       "2     2     23                   0                        0   \n",
       "3     2     37                   0                      195   \n",
       "4     2     39                   0                        0   \n",
       "\n",
       "   imp_op_var39_comer_ult3  imp_op_var40_comer_ult1  imp_op_var40_comer_ult3  \\\n",
       "0                        0                        0                        0   \n",
       "1                        0                        0                        0   \n",
       "2                        0                        0                        0   \n",
       "3                      195                        0                        0   \n",
       "4                        0                        0                        0   \n",
       "\n",
       "   imp_op_var40_efect_ult1  imp_op_var40_efect_ult3  imp_op_var40_ult1  \\\n",
       "0                        0                        0                  0   \n",
       "1                        0                        0                  0   \n",
       "2                        0                        0                  0   \n",
       "3                        0                        0                  0   \n",
       "4                        0                        0                  0   \n",
       "\n",
       "     ...     saldo_medio_var44_ult1  saldo_medio_var44_ult3      var38   n0  \\\n",
       "0    ...                          0                       0  10.576564  355   \n",
       "1    ...                          0                       0  10.805234  329   \n",
       "2    ...                          0                       0  11.117417  340   \n",
       "3    ...                          0                       0  11.066763  309   \n",
       "4    ...                          0                       0  11.672584  319   \n",
       "\n",
       "       log1     xgb12     xgb13     xgb14       rf1      ext1  \n",
       "0  0.499853  0.001038  0.001128  0.001240  0.572703  0.072732  \n",
       "1  0.496962  0.000891  0.000843  0.000728  0.092240  0.000161  \n",
       "2  0.499834  0.000177  0.000142  0.000150  0.207475  0.008359  \n",
       "3  0.498995  0.001187  0.000936  0.001024  0.356045  0.019116  \n",
       "4  0.004083  0.000615  0.000479  0.000480  0.139692  0.000816  \n",
       "\n",
       "[5 rows x 323 columns]"
      ]
     },
     "execution_count": 24,
     "metadata": {},
     "output_type": "execute_result"
    }
   ],
   "source": [
    "# TODO: add cols for predictions from 3 xgb, 1 rf, 1 ext, 1 log\n",
    "my_preds = ['xgb12', 'xgb13', 'xgb14', 'rf1', 'ext1', 'log1']\n",
    "\n",
    "# load the models again\n",
    "for model in my_preds:\n",
    "    openthis = 'models/my_' + model + '_n317.pkl'\n",
    "    with open(openthis, 'rb') as f:\n",
    "        est = cPickle.load(f)\n",
    "        print est\n",
    "        # predict the full dataset\n",
    "        st = time.time()\n",
    "        print \"Start of\", model\n",
    "        df_all[model] = est.predict_proba(vals)[:,1]\n",
    "        print \"Done with\", model, time.time() - st\n",
    "\n",
    "print df_all.shape\n",
    "df_all.head()"
   ]
  },
  {
   "cell_type": "code",
   "execution_count": 52,
   "metadata": {
    "collapsed": false
   },
   "outputs": [
    {
     "data": {
      "text/html": [
       "<div>\n",
       "<table border=\"1\" class=\"dataframe\">\n",
       "  <thead>\n",
       "    <tr style=\"text-align: right;\">\n",
       "      <th></th>\n",
       "      <th>var3</th>\n",
       "      <th>var15</th>\n",
       "      <th>imp_ent_var16_ult1</th>\n",
       "      <th>imp_op_var39_comer_ult1</th>\n",
       "      <th>imp_op_var39_comer_ult3</th>\n",
       "      <th>imp_op_var40_comer_ult1</th>\n",
       "      <th>imp_op_var40_comer_ult3</th>\n",
       "      <th>imp_op_var40_efect_ult1</th>\n",
       "      <th>imp_op_var40_efect_ult3</th>\n",
       "      <th>imp_op_var40_ult1</th>\n",
       "      <th>...</th>\n",
       "      <th>saldo_medio_var29_ult3</th>\n",
       "      <th>saldo_medio_var33_hace2</th>\n",
       "      <th>saldo_medio_var33_hace3</th>\n",
       "      <th>saldo_medio_var33_ult1</th>\n",
       "      <th>saldo_medio_var33_ult3</th>\n",
       "      <th>saldo_medio_var44_hace2</th>\n",
       "      <th>saldo_medio_var44_hace3</th>\n",
       "      <th>saldo_medio_var44_ult1</th>\n",
       "      <th>saldo_medio_var44_ult3</th>\n",
       "      <th>var38</th>\n",
       "    </tr>\n",
       "  </thead>\n",
       "  <tbody>\n",
       "    <tr>\n",
       "      <th>0</th>\n",
       "      <td>2</td>\n",
       "      <td>23</td>\n",
       "      <td>0</td>\n",
       "      <td>0</td>\n",
       "      <td>0</td>\n",
       "      <td>0</td>\n",
       "      <td>0</td>\n",
       "      <td>0</td>\n",
       "      <td>0</td>\n",
       "      <td>0</td>\n",
       "      <td>...</td>\n",
       "      <td>0</td>\n",
       "      <td>0</td>\n",
       "      <td>0</td>\n",
       "      <td>0</td>\n",
       "      <td>0</td>\n",
       "      <td>0</td>\n",
       "      <td>0</td>\n",
       "      <td>0</td>\n",
       "      <td>0</td>\n",
       "      <td>10.576564</td>\n",
       "    </tr>\n",
       "    <tr>\n",
       "      <th>1</th>\n",
       "      <td>2</td>\n",
       "      <td>34</td>\n",
       "      <td>0</td>\n",
       "      <td>0</td>\n",
       "      <td>0</td>\n",
       "      <td>0</td>\n",
       "      <td>0</td>\n",
       "      <td>0</td>\n",
       "      <td>0</td>\n",
       "      <td>0</td>\n",
       "      <td>...</td>\n",
       "      <td>0</td>\n",
       "      <td>0</td>\n",
       "      <td>0</td>\n",
       "      <td>0</td>\n",
       "      <td>0</td>\n",
       "      <td>0</td>\n",
       "      <td>0</td>\n",
       "      <td>0</td>\n",
       "      <td>0</td>\n",
       "      <td>10.805234</td>\n",
       "    </tr>\n",
       "    <tr>\n",
       "      <th>2</th>\n",
       "      <td>2</td>\n",
       "      <td>23</td>\n",
       "      <td>0</td>\n",
       "      <td>0</td>\n",
       "      <td>0</td>\n",
       "      <td>0</td>\n",
       "      <td>0</td>\n",
       "      <td>0</td>\n",
       "      <td>0</td>\n",
       "      <td>0</td>\n",
       "      <td>...</td>\n",
       "      <td>0</td>\n",
       "      <td>0</td>\n",
       "      <td>0</td>\n",
       "      <td>0</td>\n",
       "      <td>0</td>\n",
       "      <td>0</td>\n",
       "      <td>0</td>\n",
       "      <td>0</td>\n",
       "      <td>0</td>\n",
       "      <td>11.117417</td>\n",
       "    </tr>\n",
       "    <tr>\n",
       "      <th>3</th>\n",
       "      <td>2</td>\n",
       "      <td>37</td>\n",
       "      <td>0</td>\n",
       "      <td>195</td>\n",
       "      <td>195</td>\n",
       "      <td>0</td>\n",
       "      <td>0</td>\n",
       "      <td>0</td>\n",
       "      <td>0</td>\n",
       "      <td>0</td>\n",
       "      <td>...</td>\n",
       "      <td>0</td>\n",
       "      <td>0</td>\n",
       "      <td>0</td>\n",
       "      <td>0</td>\n",
       "      <td>0</td>\n",
       "      <td>0</td>\n",
       "      <td>0</td>\n",
       "      <td>0</td>\n",
       "      <td>0</td>\n",
       "      <td>11.066763</td>\n",
       "    </tr>\n",
       "    <tr>\n",
       "      <th>4</th>\n",
       "      <td>2</td>\n",
       "      <td>39</td>\n",
       "      <td>0</td>\n",
       "      <td>0</td>\n",
       "      <td>0</td>\n",
       "      <td>0</td>\n",
       "      <td>0</td>\n",
       "      <td>0</td>\n",
       "      <td>0</td>\n",
       "      <td>0</td>\n",
       "      <td>...</td>\n",
       "      <td>0</td>\n",
       "      <td>0</td>\n",
       "      <td>0</td>\n",
       "      <td>0</td>\n",
       "      <td>0</td>\n",
       "      <td>0</td>\n",
       "      <td>0</td>\n",
       "      <td>0</td>\n",
       "      <td>0</td>\n",
       "      <td>11.672584</td>\n",
       "    </tr>\n",
       "  </tbody>\n",
       "</table>\n",
       "<p>5 rows × 316 columns</p>\n",
       "</div>"
      ],
      "text/plain": [
       "   var3  var15  imp_ent_var16_ult1  imp_op_var39_comer_ult1  \\\n",
       "0     2     23                   0                        0   \n",
       "1     2     34                   0                        0   \n",
       "2     2     23                   0                        0   \n",
       "3     2     37                   0                      195   \n",
       "4     2     39                   0                        0   \n",
       "\n",
       "   imp_op_var39_comer_ult3  imp_op_var40_comer_ult1  imp_op_var40_comer_ult3  \\\n",
       "0                        0                        0                        0   \n",
       "1                        0                        0                        0   \n",
       "2                        0                        0                        0   \n",
       "3                      195                        0                        0   \n",
       "4                        0                        0                        0   \n",
       "\n",
       "   imp_op_var40_efect_ult1  imp_op_var40_efect_ult3  imp_op_var40_ult1  \\\n",
       "0                        0                        0                  0   \n",
       "1                        0                        0                  0   \n",
       "2                        0                        0                  0   \n",
       "3                        0                        0                  0   \n",
       "4                        0                        0                  0   \n",
       "\n",
       "     ...      saldo_medio_var29_ult3  saldo_medio_var33_hace2  \\\n",
       "0    ...                           0                        0   \n",
       "1    ...                           0                        0   \n",
       "2    ...                           0                        0   \n",
       "3    ...                           0                        0   \n",
       "4    ...                           0                        0   \n",
       "\n",
       "   saldo_medio_var33_hace3  saldo_medio_var33_ult1  saldo_medio_var33_ult3  \\\n",
       "0                        0                       0                       0   \n",
       "1                        0                       0                       0   \n",
       "2                        0                       0                       0   \n",
       "3                        0                       0                       0   \n",
       "4                        0                       0                       0   \n",
       "\n",
       "   saldo_medio_var44_hace2  saldo_medio_var44_hace3  saldo_medio_var44_ult1  \\\n",
       "0                        0                        0                       0   \n",
       "1                        0                        0                       0   \n",
       "2                        0                        0                       0   \n",
       "3                        0                        0                       0   \n",
       "4                        0                        0                       0   \n",
       "\n",
       "   saldo_medio_var44_ult3      var38  \n",
       "0                       0  10.576564  \n",
       "1                       0  10.805234  \n",
       "2                       0  11.117417  \n",
       "3                       0  11.066763  \n",
       "4                       0  11.672584  \n",
       "\n",
       "[5 rows x 316 columns]"
      ]
     },
     "execution_count": 52,
     "metadata": {},
     "output_type": "execute_result"
    }
   ],
   "source": [
    "# remove col(s)\n",
    "df_all.drop(['n0', 'xgb12', 'xgb13', 'xgb14', 'rf1', 'ext1'], axis = 1, inplace = True)\n",
    "df_all.head()"
   ]
  },
  {
   "cell_type": "code",
   "execution_count": 53,
   "metadata": {
    "collapsed": true
   },
   "outputs": [],
   "source": [
    "# count number of zeros\n",
    "df_all['n0'] = (df_all==0).sum(axis=1)\n",
    "print df_all.shape"
   ]
  },
  {
   "cell_type": "code",
   "execution_count": 55,
   "metadata": {
    "collapsed": true
   },
   "outputs": [],
   "source": [
    "#Filling nan\n",
    "df_all = df_all.fillna(-997)\n",
    "df_all_copy = df_all.copy()"
   ]
  },
  {
   "cell_type": "markdown",
   "metadata": {},
   "source": [
    "### var38"
   ]
  },
  {
   "cell_type": "code",
   "execution_count": 14,
   "metadata": {
    "collapsed": false
   },
   "outputs": [
    {
     "data": {
      "image/png": "[encoded data removed]",
      "text/plain": [
       "<matplotlib.figure.Figure at 0x103cd7c90>"
      ]
     },
     "metadata": {},
     "output_type": "display_data"
    }
   ],
   "source": [
    "# look at most important feature\n",
    "plt.hist(np.log(df_all['var38']), bins=50)\n",
    "plt.gcf().set_size_inches(9,4)\n",
    "plt.show()"
   ]
  },
  {
   "cell_type": "markdown",
   "metadata": {},
   "source": [
    "---\n",
    "2. Feature engineering\n",
    "----------------------"
   ]
  },
  {
   "cell_type": "code",
   "execution_count": 123,
   "metadata": {
    "collapsed": false
   },
   "outputs": [
    {
     "data": {
      "image/png": "[encoded data removed]",
      "text/plain": [
       "<matplotlib.figure.Figure at 0x118aba5d0>"
      ]
     },
     "metadata": {},
     "output_type": "display_data"
    }
   ],
   "source": [
    "# look at distribution of number of zeros per row\n",
    "plt.hist(df_all['n0'], bins=100)\n",
    "plt.gcf().set_size_inches(9,4)\n",
    "plt.show()"
   ]
  },
  {
   "cell_type": "markdown",
   "metadata": {},
   "source": [
    "### TODO: PCA reduced sessions"
   ]
  },
  {
   "cell_type": "code",
   "execution_count": 478,
   "metadata": {
    "collapsed": false
   },
   "outputs": [
    {
     "name": "stdout",
     "output_type": "stream",
     "text": [
      "0.844458652792\n"
     ]
    },
    {
     "data": {
      "text/plain": [
       "array([ 0.62662397,  0.14847085,  0.06936383])"
      ]
     },
     "execution_count": 478,
     "metadata": {},
     "output_type": "execute_result"
    }
   ],
   "source": [
    "# TODO: Apply PCA with the same number of dimensions as variables in the dataset\n",
    "from sklearn.decomposition import PCA\n",
    "pca = PCA(n_components=3, copy=True, whiten=False)\n",
    "\n",
    "# fit the data\n",
    "pca.fit(df_all)\n",
    "\n",
    "# Print the components and the amount of variance in the data contained in each dimension\n",
    "print sum(pca.explained_variance_ratio_)\n",
    "pca.explained_variance_ratio_"
   ]
  },
  {
   "cell_type": "code",
   "execution_count": 479,
   "metadata": {
    "collapsed": false
   },
   "outputs": [
    {
     "data": {
      "text/plain": [
       "array([[ 69713134.35410738,  15506616.87953989,   7222578.09718822],\n",
       "       [ 69713135.75172846,  15506616.86019383,   7222578.07762365],\n",
       "       [ 69713134.33267833,  15506616.83488744,   7222578.05676919],\n",
       "       [ 69713134.33409454,  15506616.83951956,   7222578.06029954],\n",
       "       [ 69713131.96602239,  15506614.72698293,   7222574.84303513]])"
      ]
     },
     "execution_count": 479,
     "metadata": {},
     "output_type": "execute_result"
    }
   ],
   "source": [
    "# reduce the data with pca\n",
    "df_pca = pca.transform(df_all)\n",
    "df_pca[:5]"
   ]
  },
  {
   "cell_type": "code",
   "execution_count": 480,
   "metadata": {
    "collapsed": false
   },
   "outputs": [
    {
     "data": {
      "text/html": [
       "<div>\n",
       "<table border=\"1\" class=\"dataframe\">\n",
       "  <thead>\n",
       "    <tr style=\"text-align: right;\">\n",
       "      <th></th>\n",
       "      <th>var3</th>\n",
       "      <th>var15</th>\n",
       "      <th>imp_ent_var16_ult1</th>\n",
       "      <th>imp_op_var39_comer_ult1</th>\n",
       "      <th>imp_op_var39_comer_ult3</th>\n",
       "      <th>imp_op_var40_comer_ult1</th>\n",
       "      <th>imp_op_var40_comer_ult3</th>\n",
       "      <th>imp_op_var40_efect_ult1</th>\n",
       "      <th>imp_op_var40_efect_ult3</th>\n",
       "      <th>imp_op_var40_ult1</th>\n",
       "      <th>...</th>\n",
       "      <th>saldo_medio_var33_ult3</th>\n",
       "      <th>saldo_medio_var44_hace2</th>\n",
       "      <th>saldo_medio_var44_hace3</th>\n",
       "      <th>saldo_medio_var44_ult1</th>\n",
       "      <th>saldo_medio_var44_ult3</th>\n",
       "      <th>var38</th>\n",
       "      <th>n0</th>\n",
       "      <th>pca1</th>\n",
       "      <th>pca2</th>\n",
       "      <th>pca3</th>\n",
       "    </tr>\n",
       "  </thead>\n",
       "  <tbody>\n",
       "    <tr>\n",
       "      <th>0</th>\n",
       "      <td>2</td>\n",
       "      <td>23</td>\n",
       "      <td>0</td>\n",
       "      <td>0</td>\n",
       "      <td>0</td>\n",
       "      <td>0</td>\n",
       "      <td>0</td>\n",
       "      <td>0</td>\n",
       "      <td>0</td>\n",
       "      <td>0</td>\n",
       "      <td>...</td>\n",
       "      <td>0</td>\n",
       "      <td>0</td>\n",
       "      <td>0</td>\n",
       "      <td>0</td>\n",
       "      <td>0</td>\n",
       "      <td>39205.170000</td>\n",
       "      <td>356</td>\n",
       "      <td>69713134.354107</td>\n",
       "      <td>15506616.879540</td>\n",
       "      <td>7222578.097188</td>\n",
       "    </tr>\n",
       "    <tr>\n",
       "      <th>1</th>\n",
       "      <td>2</td>\n",
       "      <td>34</td>\n",
       "      <td>0</td>\n",
       "      <td>0</td>\n",
       "      <td>0</td>\n",
       "      <td>0</td>\n",
       "      <td>0</td>\n",
       "      <td>0</td>\n",
       "      <td>0</td>\n",
       "      <td>0</td>\n",
       "      <td>...</td>\n",
       "      <td>0</td>\n",
       "      <td>0</td>\n",
       "      <td>0</td>\n",
       "      <td>0</td>\n",
       "      <td>0</td>\n",
       "      <td>49278.030000</td>\n",
       "      <td>330</td>\n",
       "      <td>69713135.751728</td>\n",
       "      <td>15506616.860194</td>\n",
       "      <td>7222578.077624</td>\n",
       "    </tr>\n",
       "    <tr>\n",
       "      <th>2</th>\n",
       "      <td>2</td>\n",
       "      <td>23</td>\n",
       "      <td>0</td>\n",
       "      <td>0</td>\n",
       "      <td>0</td>\n",
       "      <td>0</td>\n",
       "      <td>0</td>\n",
       "      <td>0</td>\n",
       "      <td>0</td>\n",
       "      <td>0</td>\n",
       "      <td>...</td>\n",
       "      <td>0</td>\n",
       "      <td>0</td>\n",
       "      <td>0</td>\n",
       "      <td>0</td>\n",
       "      <td>0</td>\n",
       "      <td>67333.770000</td>\n",
       "      <td>341</td>\n",
       "      <td>69713134.332678</td>\n",
       "      <td>15506616.834887</td>\n",
       "      <td>7222578.056769</td>\n",
       "    </tr>\n",
       "    <tr>\n",
       "      <th>3</th>\n",
       "      <td>2</td>\n",
       "      <td>37</td>\n",
       "      <td>0</td>\n",
       "      <td>195</td>\n",
       "      <td>195</td>\n",
       "      <td>0</td>\n",
       "      <td>0</td>\n",
       "      <td>0</td>\n",
       "      <td>0</td>\n",
       "      <td>0</td>\n",
       "      <td>...</td>\n",
       "      <td>0</td>\n",
       "      <td>0</td>\n",
       "      <td>0</td>\n",
       "      <td>0</td>\n",
       "      <td>0</td>\n",
       "      <td>64007.970000</td>\n",
       "      <td>310</td>\n",
       "      <td>69713134.334095</td>\n",
       "      <td>15506616.839520</td>\n",
       "      <td>7222578.060300</td>\n",
       "    </tr>\n",
       "    <tr>\n",
       "      <th>4</th>\n",
       "      <td>2</td>\n",
       "      <td>39</td>\n",
       "      <td>0</td>\n",
       "      <td>0</td>\n",
       "      <td>0</td>\n",
       "      <td>0</td>\n",
       "      <td>0</td>\n",
       "      <td>0</td>\n",
       "      <td>0</td>\n",
       "      <td>0</td>\n",
       "      <td>...</td>\n",
       "      <td>0</td>\n",
       "      <td>0</td>\n",
       "      <td>0</td>\n",
       "      <td>0</td>\n",
       "      <td>0</td>\n",
       "      <td>117310.979016</td>\n",
       "      <td>320</td>\n",
       "      <td>69713131.966022</td>\n",
       "      <td>15506614.726983</td>\n",
       "      <td>7222574.843035</td>\n",
       "    </tr>\n",
       "  </tbody>\n",
       "</table>\n",
       "<p>5 rows × 373 columns</p>\n",
       "</div>"
      ],
      "text/plain": [
       "   var3  var15  imp_ent_var16_ult1  imp_op_var39_comer_ult1  \\\n",
       "0     2     23                   0                        0   \n",
       "1     2     34                   0                        0   \n",
       "2     2     23                   0                        0   \n",
       "3     2     37                   0                      195   \n",
       "4     2     39                   0                        0   \n",
       "\n",
       "   imp_op_var39_comer_ult3  imp_op_var40_comer_ult1  imp_op_var40_comer_ult3  \\\n",
       "0                        0                        0                        0   \n",
       "1                        0                        0                        0   \n",
       "2                        0                        0                        0   \n",
       "3                      195                        0                        0   \n",
       "4                        0                        0                        0   \n",
       "\n",
       "   imp_op_var40_efect_ult1  imp_op_var40_efect_ult3  imp_op_var40_ult1  \\\n",
       "0                        0                        0                  0   \n",
       "1                        0                        0                  0   \n",
       "2                        0                        0                  0   \n",
       "3                        0                        0                  0   \n",
       "4                        0                        0                  0   \n",
       "\n",
       "        ...        saldo_medio_var33_ult3  saldo_medio_var44_hace2  \\\n",
       "0       ...                             0                        0   \n",
       "1       ...                             0                        0   \n",
       "2       ...                             0                        0   \n",
       "3       ...                             0                        0   \n",
       "4       ...                             0                        0   \n",
       "\n",
       "   saldo_medio_var44_hace3  saldo_medio_var44_ult1  saldo_medio_var44_ult3  \\\n",
       "0                        0                       0                       0   \n",
       "1                        0                       0                       0   \n",
       "2                        0                       0                       0   \n",
       "3                        0                       0                       0   \n",
       "4                        0                       0                       0   \n",
       "\n",
       "           var38   n0             pca1             pca2            pca3  \n",
       "0   39205.170000  356  69713134.354107  15506616.879540  7222578.097188  \n",
       "1   49278.030000  330  69713135.751728  15506616.860194  7222578.077624  \n",
       "2   67333.770000  341  69713134.332678  15506616.834887  7222578.056769  \n",
       "3   64007.970000  310  69713134.334095  15506616.839520  7222578.060300  \n",
       "4  117310.979016  320  69713131.966022  15506614.726983  7222574.843035  \n",
       "\n",
       "[5 rows x 373 columns]"
      ]
     },
     "execution_count": 480,
     "metadata": {},
     "output_type": "execute_result"
    }
   ],
   "source": [
    "df_all['pca1'] = df_pca[:,0]\n",
    "df_all['pca2'] = df_pca[:,1]\n",
    "df_all['pca3'] = df_pca[:,2]\n",
    "#df_all['pca4'] = df_pca[:,3]\n",
    "#df_all['pca5'] = df_pca[:,4]\n",
    "df_all.head()"
   ]
  },
  {
   "cell_type": "markdown",
   "metadata": {},
   "source": [
    "## Train and test sets"
   ]
  },
  {
   "cell_type": "code",
   "execution_count": 443,
   "metadata": {
    "collapsed": false
   },
   "outputs": [
    {
     "name": "stdout",
     "output_type": "stream",
     "text": [
      "53\n"
     ]
    }
   ],
   "source": [
    "# look at important features: engineered 'n0', 'pca1', 'pca2', 'pca3', 'pca4', 'pca5'\n",
    "features = ['var3', 'var15', 'imp_ent_var16_ult1', 'imp_op_var39_comer_ult3', \n",
    "'imp_op_var41_comer_ult1', 'imp_op_var41_comer_ult3', 'imp_op_var41_efect_ult1', \n",
    "'imp_op_var41_efect_ult3', 'imp_op_var41_ult1', 'imp_op_var39_ult1', 'ind_var8_0', \n",
    "'ind_var30_0', 'ind_var30', 'num_op_var41_hace2', 'num_op_var41_ult3', \n",
    "'num_var37_med_ult2', 'saldo_var5', 'saldo_var8', 'saldo_var26', 'saldo_var30', \n",
    "'saldo_var37', 'saldo_var42', 'imp_var43_emit_ult1', 'imp_trans_var37_ult1', \n",
    "'num_var22_hace2', 'num_var22_hace3', 'num_var22_ult1', 'num_var22_ult3',\n",
    "'num_med_var45_ult3', 'num_meses_var5_ult3', 'num_meses_var39_vig_ult3',\n",
    "'num_op_var39_comer_ult1', 'num_op_var41_efect_ult3', 'num_op_var39_efect_ult1',\n",
    "'num_var43_recib_ult1', 'num_var45_hace2', 'num_var45_hace3', 'num_var45_ult1',\n",
    "'num_var45_ult3', 'saldo_medio_var5_hace2', 'saldo_medio_var5_hace3', \n",
    "'saldo_medio_var5_ult1', 'saldo_medio_var5_ult3', 'saldo_medio_var8_hace2',\n",
    "'saldo_medio_var8_ult1', 'saldo_medio_var8_ult3', 'saldo_medio_var12_ult3',\n",
    "'saldo_medio_var13_corto_hace2', 'var38', 'n0', 'pca1', 'pca2', 'pca3']\n",
    "print len(features)\n",
    "df_sel = df_all[features]"
   ]
  },
  {
   "cell_type": "code",
   "execution_count": 56,
   "metadata": {
    "collapsed": false
   },
   "outputs": [
    {
     "name": "stdout",
     "output_type": "stream",
     "text": [
      "(151838, 317)\n",
      "(76020, 317)\n",
      "(75818, 317)\n"
     ]
    }
   ],
   "source": [
    "#Splitting train and test\n",
    "vals = df_all.values\n",
    "X = vals[:piv_train]\n",
    "X_test_submit = vals[piv_train:]\n",
    "y = labels\n",
    "print vals.shape\n",
    "print X.shape\n",
    "print X_test_submit.shape"
   ]
  },
  {
   "cell_type": "markdown",
   "metadata": {},
   "source": [
    "### Train/Test with normalized features"
   ]
  },
  {
   "cell_type": "code",
   "execution_count": 536,
   "metadata": {
    "collapsed": false
   },
   "outputs": [],
   "source": [
    "# normalize data\n",
    "from sklearn.preprocessing import normalize\n",
    "df_norm = normalize(df_all, axis=0)"
   ]
  },
  {
   "cell_type": "code",
   "execution_count": 537,
   "metadata": {
    "collapsed": false
   },
   "outputs": [],
   "source": [
    "#Splitting train and test\n",
    "vals = df_norm\n",
    "X = vals[:piv_train]\n",
    "X_test_submit = vals[piv_train:]\n",
    "y = labels"
   ]
  },
  {
   "cell_type": "code",
   "execution_count": 538,
   "metadata": {
    "collapsed": false
   },
   "outputs": [
    {
     "name": "stdout",
     "output_type": "stream",
     "text": [
      "(76020,)\n",
      "(76020, 373)\n",
      "(75818, 373)\n"
     ]
    }
   ],
   "source": [
    "print y.shape\n",
    "print X.shape\n",
    "print X_test_submit.shape"
   ]
  },
  {
   "cell_type": "markdown",
   "metadata": {},
   "source": [
    "---\n",
    "\n",
    "Split train data further into train/validation/test sets\n",
    "---------------"
   ]
  },
  {
   "cell_type": "markdown",
   "metadata": {},
   "source": [
    "** convert labels to vector**"
   ]
  },
  {
   "cell_type": "code",
   "execution_count": 27,
   "metadata": {
    "collapsed": false
   },
   "outputs": [
    {
     "name": "stdout",
     "output_type": "stream",
     "text": [
      "(76020,)\n"
     ]
    }
   ],
   "source": [
    "y_copy = y.copy()\n",
    "print y_copy.shape"
   ]
  },
  {
   "cell_type": "code",
   "execution_count": 232,
   "metadata": {
    "collapsed": true
   },
   "outputs": [],
   "source": [
    "# reformat labels as vector\n",
    "def reformat(labels, num_labels=12):\n",
    "  labels = (np.arange(num_labels) == labels[:,None]).astype(np.float32)  # convert label to vector\n",
    "  return labels"
   ]
  },
  {
   "cell_type": "code",
   "execution_count": 233,
   "metadata": {
    "collapsed": false
   },
   "outputs": [
    {
     "name": "stdout",
     "output_type": "stream",
     "text": [
      "(213451, 12)\n"
     ]
    }
   ],
   "source": [
    "## variable for new label vectors\n",
    "y_vec = reformat(y_copy)\n",
    "print y_vec.shape"
   ]
  },
  {
   "cell_type": "code",
   "execution_count": 237,
   "metadata": {
    "collapsed": true
   },
   "outputs": [],
   "source": [
    "## keep copy of X_test_submit\n",
    "X_test_copy = X_test_submit.copy()\n",
    "#X_test_submit = X_test_copy.copy()"
   ]
  },
  {
   "cell_type": "code",
   "execution_count": 329,
   "metadata": {
    "collapsed": true
   },
   "outputs": [],
   "source": [
    "## convert test submission dtype\n",
    "X_test_submit = X_test_norm.astype('float32')"
   ]
  },
  {
   "cell_type": "code",
   "execution_count": 330,
   "metadata": {
    "collapsed": false
   },
   "outputs": [],
   "source": [
    "## split normalized data into train and test\n",
    "X_tv, X_test, y_tv, y_test = cross_validation.train_test_split(X_norm.astype('float32'), \\\n",
    "                                                               y_vec.astype('float32'), test_size=.05, random_state=205)\n",
    "\n",
    "X_train, X_valid, y_train, y_valid = cross_validation.train_test_split(X_tv, y_tv, \n",
    "                                                                       test_size=.1, \n",
    "                                                                       random_state=111)"
   ]
  },
  {
   "cell_type": "code",
   "execution_count": 61,
   "metadata": {
    "collapsed": false
   },
   "outputs": [
    {
     "name": "stdout",
     "output_type": "stream",
     "text": [
      "(72219, 317)\n",
      "(3801, 317)\n"
     ]
    }
   ],
   "source": [
    "## split into train and validation\n",
    "## use X,y for full training data\n",
    "X_train, X_valid, y_train, y_valid = cross_validation.train_test_split(X, y, test_size=.05, \n",
    "                                                                       stratify=y, \n",
    "                                                                       random_state=512)\n",
    "print X_train.shape\n",
    "print X_valid.shape"
   ]
  },
  {
   "cell_type": "markdown",
   "metadata": {},
   "source": [
    "## Grid search\n",
    "http://scikit-learn.org/stable/modules/generated/sklearn.grid_search.GridSearchCV.html  \n",
    "http://scikit-learn.org/stable/modules/generated/sklearn.metrics.make_scorer.html"
   ]
  },
  {
   "cell_type": "code",
   "execution_count": 17,
   "metadata": {
    "collapsed": true
   },
   "outputs": [],
   "source": [
    "from sklearn import metrics\n",
    "from sklearn import grid_search\n",
    "\n",
    "## Make scorer\n",
    "auc_scorer = metrics.make_scorer(metrics.roc_auc_score, greater_is_better=True)\n",
    "f1_scorer = metrics.make_scorer(metrics.f1_score, greater_is_better=True, average='binary')"
   ]
  },
  {
   "cell_type": "markdown",
   "metadata": {},
   "source": [
    "### i. Random forest\n",
    "http://scikit-learn.org/stable/modules/generated/sklearn.ensemble.RandomForestClassifier.html"
   ]
  },
  {
   "cell_type": "code",
   "execution_count": 378,
   "metadata": {
    "collapsed": false
   },
   "outputs": [],
   "source": [
    "## create cv search objec\n",
    "from sklearn.ensemble import RandomForestClassifier\n",
    "'''\n",
    "rf = RandomForestClassifier(n_estimators=100, criterion='gini', max_depth=None, \\\n",
    "                            min_samples_split=2, min_samples_leaf=1, min_weight_fraction_leaf=0.0, \\\n",
    "                            max_features='auto', max_leaf_nodes=None, bootstrap=True, oob_score=False, \\\n",
    "                            n_jobs=1, random_state=None, verbose=0, warm_start=False, class_weight=None)\n",
    "'''\n",
    "#clf = RandomForestClassifier(n_estimators=100)\n",
    "est = RandomForestClassifier(n_estimators=128, class_weight='balanced', random_state=256)\n",
    "parameters = {'max_depth': [6, 8]\n",
    "             }\n",
    "#reg = grid_search.GridSearchCV(est, parameters, scoring=auc_scorer, cv=3)"
   ]
  },
  {
   "cell_type": "markdown",
   "metadata": {},
   "source": [
    "### i-a. Extra Trees\n",
    "http://scikit-learn.org/stable/modules/generated/sklearn.ensemble.ExtraTreesClassifier.html"
   ]
  },
  {
   "cell_type": "code",
   "execution_count": 394,
   "metadata": {
    "collapsed": false
   },
   "outputs": [
    {
     "name": "stdout",
     "output_type": "stream",
     "text": [
      "ExtraTreesClassifier(bootstrap=False, class_weight=None, criterion='entropy',\n",
      "           max_depth=30, max_features=30, max_leaf_nodes=None,\n",
      "           min_samples_leaf=2, min_samples_split=2,\n",
      "           min_weight_fraction_leaf=0.0, n_estimators=128, n_jobs=-1,\n",
      "           oob_score=False, random_state=512, verbose=0, warm_start=False)\n"
     ]
    }
   ],
   "source": [
    "# TODO: extremely randomized forests\n",
    "from sklearn.ensemble import ExtraTreesClassifier\n",
    "est = ExtraTreesClassifier(n_estimators=128,max_features= 30,criterion= 'entropy', \n",
    "                           min_samples_split= 2,max_depth= 30, min_samples_leaf= 2, \n",
    "                           n_jobs = -1, random_state=512)    \n",
    "parameters = {'max_depth': [30, None]}\n",
    "\n",
    "# train the estimator directly on data\n",
    "est.fit(X_train, y_train)\n",
    "print est"
   ]
  },
  {
   "cell_type": "markdown",
   "metadata": {},
   "source": [
    "### ii. SVM\n",
    "http://scikit-learn.org/stable/modules/svm.html"
   ]
  },
  {
   "cell_type": "code",
   "execution_count": null,
   "metadata": {
    "collapsed": false
   },
   "outputs": [],
   "source": [
    "from sklearn import svm\n",
    "# Setup a Classifier\n",
    "est = svm.SVC(C=1.0, kernel='rbf', degree=3, gamma='auto', coef0=0.0, \n",
    "              shrinking=True, probability=False, tol=0.001, cache_size=200, \n",
    "              class_weight='balanced', verbose=False, max_iter=-1, \n",
    "              decision_function_shape=None, random_state=128)\n",
    "# tune parameter with at least 3 settings\n",
    "parameters = {'C': (1.0, 0.1),\n",
    "             }\n",
    "\n",
    "# train the estimator directly on data\n",
    "est.fit(X_train, y_train)\n",
    "print est"
   ]
  },
  {
   "cell_type": "markdown",
   "metadata": {},
   "source": [
    "### iia. Logistic regression\n"
   ]
  },
  {
   "cell_type": "code",
   "execution_count": 18,
   "metadata": {
    "collapsed": false
   },
   "outputs": [
    {
     "name": "stdout",
     "output_type": "stream",
     "text": [
      "LogisticRegression(C=1.0, class_weight=None, dual=False, fit_intercept=True,\n",
      "          intercept_scaling=1, max_iter=100, multi_class='ovr', n_jobs=1,\n",
      "          penalty='l2', random_state=128, solver='liblinear', tol=0.0001,\n",
      "          verbose=0, warm_start=False)\n"
     ]
    }
   ],
   "source": [
    "from sklearn.linear_model import LogisticRegression\n",
    "est = LogisticRegression(random_state=128)\n",
    "parameters = {'C': (1.0, 0.1, .01),\n",
    "             }\n",
    "\n",
    "# train the estimator directly on data\n",
    "est.fit(X_train, y_train)\n",
    "print est"
   ]
  },
  {
   "cell_type": "markdown",
   "metadata": {},
   "source": [
    "### iii. XGBoost\n",
    "https://github.com/dmlc/xgboost/blob/master/python-package/xgboost/sklearn.py"
   ]
  },
  {
   "cell_type": "code",
   "execution_count": 65,
   "metadata": {
    "collapsed": false
   },
   "outputs": [],
   "source": [
    "#Classifier\n",
    "# try using... objective: multi:softprob, rank:pairwise\n",
    "import xgboost as xgb\n",
    "from xgboost.sklearn import XGBClassifier\n",
    "\n",
    "ratio = float(np.sum(y == 1)) / np.sum(y==0)\n",
    "est = XGBClassifier(max_depth=6, learning_rate=0.03, n_estimators=512,\n",
    "                    objective='binary:logistic', subsample=0.88, colsample_bytree=0.74, \n",
    "                    scale_pos_weight=ratio, seed=2011)                  \n",
    "\n",
    "param = {\n",
    "    'objective':'multi:softprob',                    \n",
    "    'max_depth':6, \n",
    "    'learning_rate':0.25,\n",
    "    'min_child_weight': 3,\n",
    "    'n_estimators':43,                 \n",
    "    'subsample':0.6, \n",
    "    'colsample_bytree':0.6,\n",
    "    'num_class' :12\n",
    "    }"
   ]
  },
  {
   "cell_type": "code",
   "execution_count": 58,
   "metadata": {
    "collapsed": false
   },
   "outputs": [
    {
     "name": "stdout",
     "output_type": "stream",
     "text": [
      "XGBClassifier(base_score=0.5, colsample_bylevel=1, colsample_bytree=0.701,\n",
      "       gamma=0, learning_rate=0.0202048, max_delta_step=0, max_depth=5,\n",
      "       min_child_weight=1, missing=None, n_estimators=560, nthread=-1,\n",
      "       objective='binary:logistic', reg_alpha=0, reg_lambda=1,\n",
      "       scale_pos_weight=0.0411987070619, seed=1974, silent=True,\n",
      "       subsample=0.6815)\n",
      "0.854644517595\n"
     ]
    }
   ],
   "source": [
    "# fit on all training data without validation\n",
    "est.fit(X,y)\n",
    "print est\n",
    "ypred = est.predict_proba(X)\n",
    "print metrics.roc_auc_score(y, ypred[:,1])\n",
    "del(ypred)"
   ]
  },
  {
   "cell_type": "code",
   "execution_count": 66,
   "metadata": {
    "collapsed": true
   },
   "outputs": [],
   "source": [
    "# set the validation set for xgb training\n",
    "eval_set = [(X_train,y_train), (X_valid,y_valid)]"
   ]
  },
  {
   "cell_type": "code",
   "execution_count": 67,
   "metadata": {
    "collapsed": false
   },
   "outputs": [
    {
     "name": "stderr",
     "output_type": "stream",
     "text": [
      "Will train until validation_1 error hasn't decreased in 64 rounds.\n",
      "[0]\tvalidation_0-auc:0.500000\tvalidation_1-auc:0.500000\n",
      "[1]\tvalidation_0-auc:0.500000\tvalidation_1-auc:0.500000\n",
      "[2]\tvalidation_0-auc:0.500000\tvalidation_1-auc:0.500000\n",
      "[3]\tvalidation_0-auc:0.500000\tvalidation_1-auc:0.500000\n",
      "[4]\tvalidation_0-auc:0.500000\tvalidation_1-auc:0.500000\n",
      "[5]\tvalidation_0-auc:0.500000\tvalidation_1-auc:0.500000\n",
      "[6]\tvalidation_0-auc:0.500000\tvalidation_1-auc:0.500000\n",
      "[7]\tvalidation_0-auc:0.500000\tvalidation_1-auc:0.500000\n",
      "[8]\tvalidation_0-auc:0.500000\tvalidation_1-auc:0.500000\n",
      "[9]\tvalidation_0-auc:0.500000\tvalidation_1-auc:0.500000\n",
      "[10]\tvalidation_0-auc:0.500000\tvalidation_1-auc:0.500000\n",
      "[11]\tvalidation_0-auc:0.500000\tvalidation_1-auc:0.500000\n",
      "[12]\tvalidation_0-auc:0.500000\tvalidation_1-auc:0.500000\n",
      "[13]\tvalidation_0-auc:0.500000\tvalidation_1-auc:0.500000\n",
      "[14]\tvalidation_0-auc:0.500000\tvalidation_1-auc:0.500000\n",
      "[15]\tvalidation_0-auc:0.500000\tvalidation_1-auc:0.500000\n",
      "[16]\tvalidation_0-auc:0.500000\tvalidation_1-auc:0.500000\n",
      "[17]\tvalidation_0-auc:0.500000\tvalidation_1-auc:0.500000\n",
      "[18]\tvalidation_0-auc:0.500000\tvalidation_1-auc:0.500000\n",
      "[19]\tvalidation_0-auc:0.500000\tvalidation_1-auc:0.500000\n",
      "[20]\tvalidation_0-auc:0.500000\tvalidation_1-auc:0.500000\n",
      "[21]\tvalidation_0-auc:0.500000\tvalidation_1-auc:0.500000\n",
      "[22]\tvalidation_0-auc:0.500000\tvalidation_1-auc:0.500000\n",
      "[23]\tvalidation_0-auc:0.500000\tvalidation_1-auc:0.500000\n",
      "[24]\tvalidation_0-auc:0.500000\tvalidation_1-auc:0.500000\n",
      "[25]\tvalidation_0-auc:0.500000\tvalidation_1-auc:0.500000\n",
      "[26]\tvalidation_0-auc:0.500000\tvalidation_1-auc:0.500000\n",
      "[27]\tvalidation_0-auc:0.500000\tvalidation_1-auc:0.500000\n",
      "[28]\tvalidation_0-auc:0.500000\tvalidation_1-auc:0.500000\n",
      "[29]\tvalidation_0-auc:0.500000\tvalidation_1-auc:0.500000\n",
      "[30]\tvalidation_0-auc:0.500000\tvalidation_1-auc:0.500000\n",
      "[31]\tvalidation_0-auc:0.500000\tvalidation_1-auc:0.500000\n",
      "[32]\tvalidation_0-auc:0.500000\tvalidation_1-auc:0.500000\n",
      "[33]\tvalidation_0-auc:0.500000\tvalidation_1-auc:0.500000\n",
      "[34]\tvalidation_0-auc:0.500000\tvalidation_1-auc:0.500000\n",
      "[35]\tvalidation_0-auc:0.500000\tvalidation_1-auc:0.500000\n",
      "[36]\tvalidation_0-auc:0.500000\tvalidation_1-auc:0.500000\n",
      "[37]\tvalidation_0-auc:0.500000\tvalidation_1-auc:0.500000\n",
      "[38]\tvalidation_0-auc:0.500000\tvalidation_1-auc:0.500000\n",
      "[39]\tvalidation_0-auc:0.500000\tvalidation_1-auc:0.500000\n",
      "[40]\tvalidation_0-auc:0.500000\tvalidation_1-auc:0.500000\n",
      "[41]\tvalidation_0-auc:0.500000\tvalidation_1-auc:0.500000\n",
      "[42]\tvalidation_0-auc:0.500000\tvalidation_1-auc:0.500000\n",
      "[43]\tvalidation_0-auc:0.500000\tvalidation_1-auc:0.500000\n",
      "[44]\tvalidation_0-auc:0.500000\tvalidation_1-auc:0.500000\n",
      "[45]\tvalidation_0-auc:0.500000\tvalidation_1-auc:0.500000\n",
      "[46]\tvalidation_0-auc:0.500000\tvalidation_1-auc:0.500000\n",
      "[47]\tvalidation_0-auc:0.500000\tvalidation_1-auc:0.500000\n",
      "[48]\tvalidation_0-auc:0.500000\tvalidation_1-auc:0.500000\n",
      "[49]\tvalidation_0-auc:0.500000\tvalidation_1-auc:0.500000\n",
      "[50]\tvalidation_0-auc:0.500000\tvalidation_1-auc:0.500000\n",
      "[51]\tvalidation_0-auc:0.500000\tvalidation_1-auc:0.500000\n",
      "[52]\tvalidation_0-auc:0.717275\tvalidation_1-auc:0.677060\n",
      "[53]\tvalidation_0-auc:0.717275\tvalidation_1-auc:0.677060\n",
      "[54]\tvalidation_0-auc:0.717275\tvalidation_1-auc:0.677060\n",
      "[55]\tvalidation_0-auc:0.717275\tvalidation_1-auc:0.677060\n",
      "[56]\tvalidation_0-auc:0.717275\tvalidation_1-auc:0.677060\n",
      "[57]\tvalidation_0-auc:0.717275\tvalidation_1-auc:0.677060\n",
      "[58]\tvalidation_0-auc:0.719994\tvalidation_1-auc:0.680614\n",
      "[59]\tvalidation_0-auc:0.719994\tvalidation_1-auc:0.680614\n",
      "[60]\tvalidation_0-auc:0.719994\tvalidation_1-auc:0.680614\n",
      "[61]\tvalidation_0-auc:0.719994\tvalidation_1-auc:0.680614\n",
      "[62]\tvalidation_0-auc:0.719996\tvalidation_1-auc:0.680614\n",
      "[63]\tvalidation_0-auc:0.719996\tvalidation_1-auc:0.680614\n",
      "[64]\tvalidation_0-auc:0.719897\tvalidation_1-auc:0.680557\n",
      "[65]\tvalidation_0-auc:0.719897\tvalidation_1-auc:0.680557\n",
      "[66]\tvalidation_0-auc:0.719898\tvalidation_1-auc:0.680557\n",
      "[67]\tvalidation_0-auc:0.719898\tvalidation_1-auc:0.680557\n",
      "[68]\tvalidation_0-auc:0.719878\tvalidation_1-auc:0.680299\n",
      "[69]\tvalidation_0-auc:0.719878\tvalidation_1-auc:0.680299\n",
      "[70]\tvalidation_0-auc:0.715931\tvalidation_1-auc:0.678442\n",
      "[71]\tvalidation_0-auc:0.716483\tvalidation_1-auc:0.678917\n",
      "[72]\tvalidation_0-auc:0.716212\tvalidation_1-auc:0.678917\n",
      "[73]\tvalidation_0-auc:0.716212\tvalidation_1-auc:0.678917\n",
      "[74]\tvalidation_0-auc:0.716212\tvalidation_1-auc:0.678917\n",
      "[75]\tvalidation_0-auc:0.717599\tvalidation_1-auc:0.678970\n",
      "[76]\tvalidation_0-auc:0.717599\tvalidation_1-auc:0.678970\n",
      "[77]\tvalidation_0-auc:0.717599\tvalidation_1-auc:0.678970\n",
      "[78]\tvalidation_0-auc:0.717599\tvalidation_1-auc:0.678970\n",
      "[79]\tvalidation_0-auc:0.719935\tvalidation_1-auc:0.682420\n",
      "[80]\tvalidation_0-auc:0.715670\tvalidation_1-auc:0.679062\n",
      "[81]\tvalidation_0-auc:0.716436\tvalidation_1-auc:0.680475\n",
      "[82]\tvalidation_0-auc:0.716921\tvalidation_1-auc:0.681035\n",
      "[83]\tvalidation_0-auc:0.716414\tvalidation_1-auc:0.680727\n",
      "[84]\tvalidation_0-auc:0.716414\tvalidation_1-auc:0.680727\n",
      "[85]\tvalidation_0-auc:0.716341\tvalidation_1-auc:0.680719\n",
      "[86]\tvalidation_0-auc:0.716631\tvalidation_1-auc:0.681322\n",
      "[87]\tvalidation_0-auc:0.715169\tvalidation_1-auc:0.679733\n",
      "[88]\tvalidation_0-auc:0.715517\tvalidation_1-auc:0.679730\n",
      "[89]\tvalidation_0-auc:0.715574\tvalidation_1-auc:0.679909\n",
      "[90]\tvalidation_0-auc:0.716973\tvalidation_1-auc:0.680705\n",
      "[91]\tvalidation_0-auc:0.716993\tvalidation_1-auc:0.680782\n",
      "[92]\tvalidation_0-auc:0.717520\tvalidation_1-auc:0.680705\n",
      "[93]\tvalidation_0-auc:0.717580\tvalidation_1-auc:0.680661\n",
      "[94]\tvalidation_0-auc:0.718457\tvalidation_1-auc:0.681500\n",
      "[95]\tvalidation_0-auc:0.718573\tvalidation_1-auc:0.681687\n",
      "[96]\tvalidation_0-auc:0.718755\tvalidation_1-auc:0.681702\n",
      "[97]\tvalidation_0-auc:0.721892\tvalidation_1-auc:0.683542\n",
      "[98]\tvalidation_0-auc:0.723008\tvalidation_1-auc:0.684202\n",
      "[99]\tvalidation_0-auc:0.723148\tvalidation_1-auc:0.684260\n",
      "[100]\tvalidation_0-auc:0.723230\tvalidation_1-auc:0.684378\n",
      "[101]\tvalidation_0-auc:0.723336\tvalidation_1-auc:0.684327\n",
      "[102]\tvalidation_0-auc:0.723465\tvalidation_1-auc:0.684429\n",
      "[103]\tvalidation_0-auc:0.723887\tvalidation_1-auc:0.684821\n",
      "[104]\tvalidation_0-auc:0.723915\tvalidation_1-auc:0.684820\n",
      "[105]\tvalidation_0-auc:0.724328\tvalidation_1-auc:0.684716\n",
      "[106]\tvalidation_0-auc:0.724357\tvalidation_1-auc:0.684723\n",
      "[107]\tvalidation_0-auc:0.724903\tvalidation_1-auc:0.685351\n",
      "[108]\tvalidation_0-auc:0.725291\tvalidation_1-auc:0.685331\n",
      "[109]\tvalidation_0-auc:0.729715\tvalidation_1-auc:0.691324\n",
      "[110]\tvalidation_0-auc:0.731104\tvalidation_1-auc:0.693123\n",
      "[111]\tvalidation_0-auc:0.731199\tvalidation_1-auc:0.693184\n",
      "[112]\tvalidation_0-auc:0.770775\tvalidation_1-auc:0.743615\n",
      "[113]\tvalidation_0-auc:0.771207\tvalidation_1-auc:0.743926\n",
      "[114]\tvalidation_0-auc:0.772143\tvalidation_1-auc:0.745293\n",
      "[115]\tvalidation_0-auc:0.772732\tvalidation_1-auc:0.745345\n",
      "[116]\tvalidation_0-auc:0.773005\tvalidation_1-auc:0.745574\n",
      "[117]\tvalidation_0-auc:0.773342\tvalidation_1-auc:0.746103\n",
      "[118]\tvalidation_0-auc:0.773764\tvalidation_1-auc:0.746790\n",
      "[119]\tvalidation_0-auc:0.774180\tvalidation_1-auc:0.747145\n",
      "[120]\tvalidation_0-auc:0.774431\tvalidation_1-auc:0.747412\n",
      "[121]\tvalidation_0-auc:0.774518\tvalidation_1-auc:0.747651\n",
      "[122]\tvalidation_0-auc:0.774616\tvalidation_1-auc:0.747550\n",
      "[123]\tvalidation_0-auc:0.774680\tvalidation_1-auc:0.748003\n",
      "[124]\tvalidation_0-auc:0.789031\tvalidation_1-auc:0.765257\n",
      "[125]\tvalidation_0-auc:0.790020\tvalidation_1-auc:0.765871\n",
      "[126]\tvalidation_0-auc:0.790774\tvalidation_1-auc:0.768426\n",
      "[127]\tvalidation_0-auc:0.791484\tvalidation_1-auc:0.769304\n",
      "[128]\tvalidation_0-auc:0.791757\tvalidation_1-auc:0.769265\n",
      "[129]\tvalidation_0-auc:0.792793\tvalidation_1-auc:0.770607\n",
      "[130]\tvalidation_0-auc:0.793564\tvalidation_1-auc:0.772415\n",
      "[131]\tvalidation_0-auc:0.795164\tvalidation_1-auc:0.775819\n",
      "[132]\tvalidation_0-auc:0.795393\tvalidation_1-auc:0.775811\n",
      "[133]\tvalidation_0-auc:0.795394\tvalidation_1-auc:0.775488\n",
      "[134]\tvalidation_0-auc:0.796561\tvalidation_1-auc:0.777480\n",
      "[135]\tvalidation_0-auc:0.797196\tvalidation_1-auc:0.777683\n",
      "[136]\tvalidation_0-auc:0.797324\tvalidation_1-auc:0.777636\n",
      "[137]\tvalidation_0-auc:0.797482\tvalidation_1-auc:0.777484\n",
      "[138]\tvalidation_0-auc:0.798134\tvalidation_1-auc:0.778431\n",
      "[139]\tvalidation_0-auc:0.798047\tvalidation_1-auc:0.778003\n",
      "[140]\tvalidation_0-auc:0.798571\tvalidation_1-auc:0.778382\n",
      "[141]\tvalidation_0-auc:0.801295\tvalidation_1-auc:0.780999\n",
      "[142]\tvalidation_0-auc:0.801378\tvalidation_1-auc:0.781070\n",
      "[143]\tvalidation_0-auc:0.802135\tvalidation_1-auc:0.781544\n",
      "[144]\tvalidation_0-auc:0.803233\tvalidation_1-auc:0.782982\n",
      "[145]\tvalidation_0-auc:0.803637\tvalidation_1-auc:0.782747\n",
      "[146]\tvalidation_0-auc:0.804236\tvalidation_1-auc:0.783300\n",
      "[147]\tvalidation_0-auc:0.804711\tvalidation_1-auc:0.783666\n",
      "[148]\tvalidation_0-auc:0.806113\tvalidation_1-auc:0.786745\n",
      "[149]\tvalidation_0-auc:0.807044\tvalidation_1-auc:0.788211\n",
      "[150]\tvalidation_0-auc:0.809369\tvalidation_1-auc:0.790120\n",
      "[151]\tvalidation_0-auc:0.810661\tvalidation_1-auc:0.792077\n",
      "[152]\tvalidation_0-auc:0.811258\tvalidation_1-auc:0.792060\n",
      "[153]\tvalidation_0-auc:0.813307\tvalidation_1-auc:0.795895\n",
      "[154]\tvalidation_0-auc:0.814589\tvalidation_1-auc:0.798080\n",
      "[155]\tvalidation_0-auc:0.814257\tvalidation_1-auc:0.796988\n",
      "[156]\tvalidation_0-auc:0.815853\tvalidation_1-auc:0.798802\n",
      "[157]\tvalidation_0-auc:0.817992\tvalidation_1-auc:0.800709\n",
      "[158]\tvalidation_0-auc:0.817710\tvalidation_1-auc:0.800103\n",
      "[159]\tvalidation_0-auc:0.818824\tvalidation_1-auc:0.801502\n",
      "[160]\tvalidation_0-auc:0.819436\tvalidation_1-auc:0.803736\n",
      "[161]\tvalidation_0-auc:0.819560\tvalidation_1-auc:0.803394\n",
      "[162]\tvalidation_0-auc:0.819797\tvalidation_1-auc:0.801251\n",
      "[163]\tvalidation_0-auc:0.820348\tvalidation_1-auc:0.801640\n",
      "[164]\tvalidation_0-auc:0.821342\tvalidation_1-auc:0.803118\n",
      "[165]\tvalidation_0-auc:0.822120\tvalidation_1-auc:0.804481\n",
      "[166]\tvalidation_0-auc:0.823385\tvalidation_1-auc:0.805583\n",
      "[167]\tvalidation_0-auc:0.823260\tvalidation_1-auc:0.805049\n",
      "[168]\tvalidation_0-auc:0.823148\tvalidation_1-auc:0.804381\n",
      "[169]\tvalidation_0-auc:0.823563\tvalidation_1-auc:0.805336\n",
      "[170]\tvalidation_0-auc:0.824480\tvalidation_1-auc:0.806295\n",
      "[171]\tvalidation_0-auc:0.825379\tvalidation_1-auc:0.807427\n",
      "[172]\tvalidation_0-auc:0.826089\tvalidation_1-auc:0.809039\n",
      "[173]\tvalidation_0-auc:0.826542\tvalidation_1-auc:0.808391\n",
      "[174]\tvalidation_0-auc:0.828383\tvalidation_1-auc:0.814400\n",
      "[175]\tvalidation_0-auc:0.828988\tvalidation_1-auc:0.815500\n",
      "[176]\tvalidation_0-auc:0.829644\tvalidation_1-auc:0.816861\n",
      "[177]\tvalidation_0-auc:0.830039\tvalidation_1-auc:0.817154\n",
      "[178]\tvalidation_0-auc:0.831104\tvalidation_1-auc:0.818442\n",
      "[179]\tvalidation_0-auc:0.831024\tvalidation_1-auc:0.817446\n",
      "[180]\tvalidation_0-auc:0.831711\tvalidation_1-auc:0.818470\n",
      "[181]\tvalidation_0-auc:0.832317\tvalidation_1-auc:0.818873\n",
      "[182]\tvalidation_0-auc:0.832822\tvalidation_1-auc:0.819365\n",
      "[183]\tvalidation_0-auc:0.833651\tvalidation_1-auc:0.819677\n",
      "[184]\tvalidation_0-auc:0.833972\tvalidation_1-auc:0.819966\n",
      "[185]\tvalidation_0-auc:0.834768\tvalidation_1-auc:0.820562\n",
      "[186]\tvalidation_0-auc:0.835224\tvalidation_1-auc:0.821033\n",
      "[187]\tvalidation_0-auc:0.835979\tvalidation_1-auc:0.822369\n",
      "[188]\tvalidation_0-auc:0.836443\tvalidation_1-auc:0.822480\n",
      "[189]\tvalidation_0-auc:0.836900\tvalidation_1-auc:0.822645\n",
      "[190]\tvalidation_0-auc:0.837426\tvalidation_1-auc:0.821974\n",
      "[191]\tvalidation_0-auc:0.837834\tvalidation_1-auc:0.822713\n",
      "[192]\tvalidation_0-auc:0.838215\tvalidation_1-auc:0.823047\n",
      "[193]\tvalidation_0-auc:0.838683\tvalidation_1-auc:0.823249\n",
      "[194]\tvalidation_0-auc:0.838797\tvalidation_1-auc:0.822723\n",
      "[195]\tvalidation_0-auc:0.839162\tvalidation_1-auc:0.823145\n",
      "[196]\tvalidation_0-auc:0.839382\tvalidation_1-auc:0.823308\n",
      "[197]\tvalidation_0-auc:0.839743\tvalidation_1-auc:0.823313\n",
      "[198]\tvalidation_0-auc:0.840696\tvalidation_1-auc:0.823162\n",
      "[199]\tvalidation_0-auc:0.840992\tvalidation_1-auc:0.823363\n",
      "[200]\tvalidation_0-auc:0.841075\tvalidation_1-auc:0.823720\n",
      "[201]\tvalidation_0-auc:0.841339\tvalidation_1-auc:0.823990\n",
      "[202]\tvalidation_0-auc:0.841642\tvalidation_1-auc:0.824092\n",
      "[203]\tvalidation_0-auc:0.841638\tvalidation_1-auc:0.824263\n",
      "[204]\tvalidation_0-auc:0.841827\tvalidation_1-auc:0.824135\n",
      "[205]\tvalidation_0-auc:0.842188\tvalidation_1-auc:0.824643\n",
      "[206]\tvalidation_0-auc:0.842348\tvalidation_1-auc:0.824079\n",
      "[207]\tvalidation_0-auc:0.842550\tvalidation_1-auc:0.824601\n",
      "[208]\tvalidation_0-auc:0.842878\tvalidation_1-auc:0.825192\n",
      "[209]\tvalidation_0-auc:0.843170\tvalidation_1-auc:0.826026\n",
      "[210]\tvalidation_0-auc:0.843213\tvalidation_1-auc:0.826360\n",
      "[211]\tvalidation_0-auc:0.843496\tvalidation_1-auc:0.827010\n",
      "[212]\tvalidation_0-auc:0.843737\tvalidation_1-auc:0.827436\n",
      "[213]\tvalidation_0-auc:0.843985\tvalidation_1-auc:0.827794\n",
      "[214]\tvalidation_0-auc:0.844078\tvalidation_1-auc:0.827411\n",
      "[215]\tvalidation_0-auc:0.844349\tvalidation_1-auc:0.827833\n",
      "[216]\tvalidation_0-auc:0.844625\tvalidation_1-auc:0.828762\n",
      "[217]\tvalidation_0-auc:0.844884\tvalidation_1-auc:0.829512\n",
      "[218]\tvalidation_0-auc:0.845098\tvalidation_1-auc:0.829565\n",
      "[219]\tvalidation_0-auc:0.845141\tvalidation_1-auc:0.829533\n",
      "[220]\tvalidation_0-auc:0.845338\tvalidation_1-auc:0.829816\n",
      "[221]\tvalidation_0-auc:0.845388\tvalidation_1-auc:0.829554\n",
      "[222]\tvalidation_0-auc:0.845636\tvalidation_1-auc:0.829635\n",
      "[223]\tvalidation_0-auc:0.845858\tvalidation_1-auc:0.829780\n",
      "[224]\tvalidation_0-auc:0.846201\tvalidation_1-auc:0.830208\n",
      "[225]\tvalidation_0-auc:0.846411\tvalidation_1-auc:0.830668\n",
      "[226]\tvalidation_0-auc:0.846489\tvalidation_1-auc:0.830427\n",
      "[227]\tvalidation_0-auc:0.846652\tvalidation_1-auc:0.830538\n",
      "[228]\tvalidation_0-auc:0.846916\tvalidation_1-auc:0.830905\n",
      "[229]\tvalidation_0-auc:0.847292\tvalidation_1-auc:0.830893\n",
      "[230]\tvalidation_0-auc:0.847384\tvalidation_1-auc:0.831074\n",
      "[231]\tvalidation_0-auc:0.847544\tvalidation_1-auc:0.831335\n",
      "[232]\tvalidation_0-auc:0.847767\tvalidation_1-auc:0.831746\n",
      "[233]\tvalidation_0-auc:0.847887\tvalidation_1-auc:0.831946\n",
      "[234]\tvalidation_0-auc:0.847982\tvalidation_1-auc:0.832069\n",
      "[235]\tvalidation_0-auc:0.848110\tvalidation_1-auc:0.832104\n",
      "[236]\tvalidation_0-auc:0.848283\tvalidation_1-auc:0.832532\n",
      "[237]\tvalidation_0-auc:0.848456\tvalidation_1-auc:0.833522\n",
      "[238]\tvalidation_0-auc:0.848576\tvalidation_1-auc:0.834066\n",
      "[239]\tvalidation_0-auc:0.848706\tvalidation_1-auc:0.834189\n",
      "[240]\tvalidation_0-auc:0.848887\tvalidation_1-auc:0.834344\n",
      "[241]\tvalidation_0-auc:0.849106\tvalidation_1-auc:0.834379\n",
      "[242]\tvalidation_0-auc:0.849236\tvalidation_1-auc:0.834286\n",
      "[243]\tvalidation_0-auc:0.849364\tvalidation_1-auc:0.834482\n",
      "[244]\tvalidation_0-auc:0.849392\tvalidation_1-auc:0.834681\n",
      "[245]\tvalidation_0-auc:0.849485\tvalidation_1-auc:0.834125\n",
      "[246]\tvalidation_0-auc:0.849602\tvalidation_1-auc:0.834392\n",
      "[247]\tvalidation_0-auc:0.849758\tvalidation_1-auc:0.834163\n",
      "[248]\tvalidation_0-auc:0.849928\tvalidation_1-auc:0.834260\n",
      "[249]\tvalidation_0-auc:0.850063\tvalidation_1-auc:0.834592\n",
      "[250]\tvalidation_0-auc:0.850195\tvalidation_1-auc:0.834848\n",
      "[251]\tvalidation_0-auc:0.850462\tvalidation_1-auc:0.835145\n",
      "[252]\tvalidation_0-auc:0.850581\tvalidation_1-auc:0.835411\n",
      "[253]\tvalidation_0-auc:0.850717\tvalidation_1-auc:0.835499\n",
      "[254]\tvalidation_0-auc:0.850806\tvalidation_1-auc:0.835214\n",
      "[255]\tvalidation_0-auc:0.850851\tvalidation_1-auc:0.835296\n",
      "[256]\tvalidation_0-auc:0.851078\tvalidation_1-auc:0.835652\n",
      "[257]\tvalidation_0-auc:0.851245\tvalidation_1-auc:0.835643\n",
      "[258]\tvalidation_0-auc:0.851435\tvalidation_1-auc:0.835634\n",
      "[259]\tvalidation_0-auc:0.851570\tvalidation_1-auc:0.835707\n",
      "[260]\tvalidation_0-auc:0.851699\tvalidation_1-auc:0.836003\n",
      "[261]\tvalidation_0-auc:0.851806\tvalidation_1-auc:0.836165\n",
      "[262]\tvalidation_0-auc:0.851883\tvalidation_1-auc:0.836401\n",
      "[263]\tvalidation_0-auc:0.851974\tvalidation_1-auc:0.836652\n",
      "[264]\tvalidation_0-auc:0.852009\tvalidation_1-auc:0.836597\n",
      "[265]\tvalidation_0-auc:0.852145\tvalidation_1-auc:0.836716\n",
      "[266]\tvalidation_0-auc:0.852222\tvalidation_1-auc:0.836840\n",
      "[267]\tvalidation_0-auc:0.852333\tvalidation_1-auc:0.836753\n",
      "[268]\tvalidation_0-auc:0.852450\tvalidation_1-auc:0.837005\n",
      "[269]\tvalidation_0-auc:0.852600\tvalidation_1-auc:0.836711\n",
      "[270]\tvalidation_0-auc:0.852627\tvalidation_1-auc:0.836481\n",
      "[271]\tvalidation_0-auc:0.852749\tvalidation_1-auc:0.836603\n",
      "[272]\tvalidation_0-auc:0.852850\tvalidation_1-auc:0.836531\n",
      "[273]\tvalidation_0-auc:0.852914\tvalidation_1-auc:0.836532\n",
      "[274]\tvalidation_0-auc:0.852997\tvalidation_1-auc:0.836649\n",
      "[275]\tvalidation_0-auc:0.853046\tvalidation_1-auc:0.836958\n",
      "[276]\tvalidation_0-auc:0.853168\tvalidation_1-auc:0.837042\n",
      "[277]\tvalidation_0-auc:0.853237\tvalidation_1-auc:0.837166\n",
      "[278]\tvalidation_0-auc:0.853304\tvalidation_1-auc:0.837159\n",
      "[279]\tvalidation_0-auc:0.853388\tvalidation_1-auc:0.837031\n",
      "[280]\tvalidation_0-auc:0.853460\tvalidation_1-auc:0.837162\n",
      "[281]\tvalidation_0-auc:0.853538\tvalidation_1-auc:0.837201\n",
      "[282]\tvalidation_0-auc:0.853652\tvalidation_1-auc:0.837184\n",
      "[283]\tvalidation_0-auc:0.853728\tvalidation_1-auc:0.837134\n",
      "[284]\tvalidation_0-auc:0.853796\tvalidation_1-auc:0.837293\n",
      "[285]\tvalidation_0-auc:0.853850\tvalidation_1-auc:0.837448\n",
      "[286]\tvalidation_0-auc:0.853943\tvalidation_1-auc:0.837711\n",
      "[287]\tvalidation_0-auc:0.853998\tvalidation_1-auc:0.837752\n",
      "[288]\tvalidation_0-auc:0.854037\tvalidation_1-auc:0.837825\n",
      "[289]\tvalidation_0-auc:0.854130\tvalidation_1-auc:0.837809\n",
      "[290]\tvalidation_0-auc:0.854184\tvalidation_1-auc:0.837743\n",
      "[291]\tvalidation_0-auc:0.854261\tvalidation_1-auc:0.837902\n",
      "[292]\tvalidation_0-auc:0.854318\tvalidation_1-auc:0.837911\n",
      "[293]\tvalidation_0-auc:0.854401\tvalidation_1-auc:0.837885\n",
      "[294]\tvalidation_0-auc:0.854477\tvalidation_1-auc:0.837896\n",
      "[295]\tvalidation_0-auc:0.854564\tvalidation_1-auc:0.837845\n",
      "[296]\tvalidation_0-auc:0.854629\tvalidation_1-auc:0.837924\n",
      "[297]\tvalidation_0-auc:0.854704\tvalidation_1-auc:0.837923\n",
      "[298]\tvalidation_0-auc:0.854783\tvalidation_1-auc:0.838079\n",
      "[299]\tvalidation_0-auc:0.854860\tvalidation_1-auc:0.838152\n",
      "[300]\tvalidation_0-auc:0.854885\tvalidation_1-auc:0.838245\n",
      "[301]\tvalidation_0-auc:0.855015\tvalidation_1-auc:0.838116\n",
      "[302]\tvalidation_0-auc:0.855081\tvalidation_1-auc:0.838125\n",
      "[303]\tvalidation_0-auc:0.855141\tvalidation_1-auc:0.838006\n",
      "[304]\tvalidation_0-auc:0.855215\tvalidation_1-auc:0.838024\n",
      "[305]\tvalidation_0-auc:0.855288\tvalidation_1-auc:0.837962\n",
      "[306]\tvalidation_0-auc:0.855330\tvalidation_1-auc:0.837918\n",
      "[307]\tvalidation_0-auc:0.855349\tvalidation_1-auc:0.837975\n",
      "[308]\tvalidation_0-auc:0.855399\tvalidation_1-auc:0.838032\n",
      "[309]\tvalidation_0-auc:0.855423\tvalidation_1-auc:0.838107\n",
      "[310]\tvalidation_0-auc:0.855495\tvalidation_1-auc:0.838301\n",
      "[311]\tvalidation_0-auc:0.855552\tvalidation_1-auc:0.838394\n",
      "[312]\tvalidation_0-auc:0.855711\tvalidation_1-auc:0.838306\n",
      "[313]\tvalidation_0-auc:0.855762\tvalidation_1-auc:0.838248\n",
      "[314]\tvalidation_0-auc:0.855851\tvalidation_1-auc:0.838213\n",
      "[315]\tvalidation_0-auc:0.855895\tvalidation_1-auc:0.838197\n",
      "[316]\tvalidation_0-auc:0.855974\tvalidation_1-auc:0.838051\n",
      "[317]\tvalidation_0-auc:0.856005\tvalidation_1-auc:0.838038\n",
      "[318]\tvalidation_0-auc:0.856059\tvalidation_1-auc:0.838076\n",
      "[319]\tvalidation_0-auc:0.856152\tvalidation_1-auc:0.838158\n",
      "[320]\tvalidation_0-auc:0.856217\tvalidation_1-auc:0.838182\n",
      "[321]\tvalidation_0-auc:0.856291\tvalidation_1-auc:0.838158\n",
      "[322]\tvalidation_0-auc:0.856328\tvalidation_1-auc:0.838206\n",
      "[323]\tvalidation_0-auc:0.856359\tvalidation_1-auc:0.838190\n",
      "[324]\tvalidation_0-auc:0.856391\tvalidation_1-auc:0.838288\n",
      "[325]\tvalidation_0-auc:0.856447\tvalidation_1-auc:0.838153\n",
      "[326]\tvalidation_0-auc:0.856473\tvalidation_1-auc:0.838133\n",
      "[327]\tvalidation_0-auc:0.856505\tvalidation_1-auc:0.838131\n",
      "[328]\tvalidation_0-auc:0.856526\tvalidation_1-auc:0.838235\n",
      "[329]\tvalidation_0-auc:0.856613\tvalidation_1-auc:0.838292\n",
      "[330]\tvalidation_0-auc:0.856690\tvalidation_1-auc:0.838279\n",
      "[331]\tvalidation_0-auc:0.856783\tvalidation_1-auc:0.838292\n",
      "[332]\tvalidation_0-auc:0.856890\tvalidation_1-auc:0.838255\n",
      "[333]\tvalidation_0-auc:0.856935\tvalidation_1-auc:0.838299\n",
      "[334]\tvalidation_0-auc:0.857012\tvalidation_1-auc:0.838409\n",
      "[335]\tvalidation_0-auc:0.857057\tvalidation_1-auc:0.838432\n",
      "[336]\tvalidation_0-auc:0.857170\tvalidation_1-auc:0.838394\n",
      "[337]\tvalidation_0-auc:0.857214\tvalidation_1-auc:0.838567\n",
      "[338]\tvalidation_0-auc:0.857252\tvalidation_1-auc:0.838584\n",
      "[339]\tvalidation_0-auc:0.857284\tvalidation_1-auc:0.838562\n",
      "[340]\tvalidation_0-auc:0.857333\tvalidation_1-auc:0.838575\n",
      "[341]\tvalidation_0-auc:0.857390\tvalidation_1-auc:0.838452\n",
      "[342]\tvalidation_0-auc:0.857435\tvalidation_1-auc:0.838500\n",
      "[343]\tvalidation_0-auc:0.857530\tvalidation_1-auc:0.838389\n",
      "[344]\tvalidation_0-auc:0.857593\tvalidation_1-auc:0.838448\n",
      "[345]\tvalidation_0-auc:0.857647\tvalidation_1-auc:0.838403\n",
      "[346]\tvalidation_0-auc:0.857730\tvalidation_1-auc:0.838350\n",
      "[347]\tvalidation_0-auc:0.857783\tvalidation_1-auc:0.838445\n",
      "[348]\tvalidation_0-auc:0.857904\tvalidation_1-auc:0.838458\n",
      "[349]\tvalidation_0-auc:0.857955\tvalidation_1-auc:0.838438\n",
      "[350]\tvalidation_0-auc:0.857984\tvalidation_1-auc:0.838493\n",
      "[351]\tvalidation_0-auc:0.858036\tvalidation_1-auc:0.838588\n",
      "[352]\tvalidation_0-auc:0.858139\tvalidation_1-auc:0.838650\n",
      "[353]\tvalidation_0-auc:0.858189\tvalidation_1-auc:0.838693\n",
      "[354]\tvalidation_0-auc:0.858253\tvalidation_1-auc:0.838659\n",
      "[355]\tvalidation_0-auc:0.858297\tvalidation_1-auc:0.838809\n",
      "[356]\tvalidation_0-auc:0.858353\tvalidation_1-auc:0.838901\n",
      "[357]\tvalidation_0-auc:0.858412\tvalidation_1-auc:0.838926\n",
      "[358]\tvalidation_0-auc:0.858442\tvalidation_1-auc:0.838917\n",
      "[359]\tvalidation_0-auc:0.858466\tvalidation_1-auc:0.838946\n",
      "[360]\tvalidation_0-auc:0.858545\tvalidation_1-auc:0.838999\n",
      "[361]\tvalidation_0-auc:0.858620\tvalidation_1-auc:0.838957\n",
      "[362]\tvalidation_0-auc:0.858685\tvalidation_1-auc:0.838859\n",
      "[363]\tvalidation_0-auc:0.858870\tvalidation_1-auc:0.838694\n",
      "[364]\tvalidation_0-auc:0.858949\tvalidation_1-auc:0.838649\n",
      "[365]\tvalidation_0-auc:0.859026\tvalidation_1-auc:0.838545\n",
      "[366]\tvalidation_0-auc:0.859057\tvalidation_1-auc:0.838508\n",
      "[367]\tvalidation_0-auc:0.859112\tvalidation_1-auc:0.838494\n",
      "[368]\tvalidation_0-auc:0.859213\tvalidation_1-auc:0.838461\n",
      "[369]\tvalidation_0-auc:0.859260\tvalidation_1-auc:0.838472\n",
      "[370]\tvalidation_0-auc:0.859327\tvalidation_1-auc:0.838523\n",
      "[371]\tvalidation_0-auc:0.859415\tvalidation_1-auc:0.838638\n",
      "[372]\tvalidation_0-auc:0.859511\tvalidation_1-auc:0.838777\n",
      "[373]\tvalidation_0-auc:0.859552\tvalidation_1-auc:0.838859\n",
      "[374]\tvalidation_0-auc:0.859562\tvalidation_1-auc:0.838844\n",
      "[375]\tvalidation_0-auc:0.859579\tvalidation_1-auc:0.838872\n",
      "[376]\tvalidation_0-auc:0.859652\tvalidation_1-auc:0.838850\n",
      "[377]\tvalidation_0-auc:0.859747\tvalidation_1-auc:0.838857\n",
      "[378]\tvalidation_0-auc:0.859757\tvalidation_1-auc:0.838809\n",
      "[379]\tvalidation_0-auc:0.859800\tvalidation_1-auc:0.838784\n",
      "[380]\tvalidation_0-auc:0.859853\tvalidation_1-auc:0.838746\n",
      "[381]\tvalidation_0-auc:0.859957\tvalidation_1-auc:0.838873\n",
      "[382]\tvalidation_0-auc:0.859962\tvalidation_1-auc:0.838851\n",
      "[383]\tvalidation_0-auc:0.860007\tvalidation_1-auc:0.839052\n",
      "[384]\tvalidation_0-auc:0.860077\tvalidation_1-auc:0.838976\n",
      "[385]\tvalidation_0-auc:0.860119\tvalidation_1-auc:0.838996\n",
      "[386]\tvalidation_0-auc:0.860212\tvalidation_1-auc:0.839030\n",
      "[387]\tvalidation_0-auc:0.860273\tvalidation_1-auc:0.839116\n",
      "[388]\tvalidation_0-auc:0.860352\tvalidation_1-auc:0.839213\n",
      "[389]\tvalidation_0-auc:0.860411\tvalidation_1-auc:0.839226\n",
      "[390]\tvalidation_0-auc:0.860463\tvalidation_1-auc:0.839242\n",
      "[391]\tvalidation_0-auc:0.860496\tvalidation_1-auc:0.839220\n",
      "[392]\tvalidation_0-auc:0.860574\tvalidation_1-auc:0.839229\n",
      "[393]\tvalidation_0-auc:0.860634\tvalidation_1-auc:0.839334\n",
      "[394]\tvalidation_0-auc:0.860723\tvalidation_1-auc:0.839361\n",
      "[395]\tvalidation_0-auc:0.860775\tvalidation_1-auc:0.839361\n",
      "[396]\tvalidation_0-auc:0.860843\tvalidation_1-auc:0.839401\n",
      "[397]\tvalidation_0-auc:0.860898\tvalidation_1-auc:0.839348\n",
      "[398]\tvalidation_0-auc:0.860943\tvalidation_1-auc:0.839454\n",
      "[399]\tvalidation_0-auc:0.861037\tvalidation_1-auc:0.839359\n",
      "[400]\tvalidation_0-auc:0.861092\tvalidation_1-auc:0.839308\n",
      "[401]\tvalidation_0-auc:0.861117\tvalidation_1-auc:0.839386\n",
      "[402]\tvalidation_0-auc:0.861164\tvalidation_1-auc:0.839460\n",
      "[403]\tvalidation_0-auc:0.861185\tvalidation_1-auc:0.839560\n",
      "[404]\tvalidation_0-auc:0.861242\tvalidation_1-auc:0.839611\n",
      "[405]\tvalidation_0-auc:0.861299\tvalidation_1-auc:0.839596\n",
      "[406]\tvalidation_0-auc:0.861357\tvalidation_1-auc:0.839633\n",
      "[407]\tvalidation_0-auc:0.861406\tvalidation_1-auc:0.839638\n",
      "[408]\tvalidation_0-auc:0.861458\tvalidation_1-auc:0.839721\n",
      "[409]\tvalidation_0-auc:0.861548\tvalidation_1-auc:0.839711\n",
      "[410]\tvalidation_0-auc:0.861592\tvalidation_1-auc:0.839744\n",
      "[411]\tvalidation_0-auc:0.861647\tvalidation_1-auc:0.839854\n",
      "[412]\tvalidation_0-auc:0.861696\tvalidation_1-auc:0.839894\n",
      "[413]\tvalidation_0-auc:0.861759\tvalidation_1-auc:0.839962\n",
      "[414]\tvalidation_0-auc:0.861819\tvalidation_1-auc:0.839987\n",
      "[415]\tvalidation_0-auc:0.861829\tvalidation_1-auc:0.839960\n",
      "[416]\tvalidation_0-auc:0.861862\tvalidation_1-auc:0.839931\n",
      "[417]\tvalidation_0-auc:0.861919\tvalidation_1-auc:0.839874\n",
      "[418]\tvalidation_0-auc:0.861986\tvalidation_1-auc:0.839763\n",
      "[419]\tvalidation_0-auc:0.862017\tvalidation_1-auc:0.839797\n",
      "[420]\tvalidation_0-auc:0.862037\tvalidation_1-auc:0.839797\n",
      "[421]\tvalidation_0-auc:0.862097\tvalidation_1-auc:0.839858\n",
      "[422]\tvalidation_0-auc:0.862183\tvalidation_1-auc:0.839929\n",
      "[423]\tvalidation_0-auc:0.862222\tvalidation_1-auc:0.839852\n",
      "[424]\tvalidation_0-auc:0.862266\tvalidation_1-auc:0.839887\n",
      "[425]\tvalidation_0-auc:0.862330\tvalidation_1-auc:0.839880\n",
      "[426]\tvalidation_0-auc:0.862373\tvalidation_1-auc:0.839892\n",
      "[427]\tvalidation_0-auc:0.862392\tvalidation_1-auc:0.839925\n",
      "[428]\tvalidation_0-auc:0.862441\tvalidation_1-auc:0.839995\n",
      "[429]\tvalidation_0-auc:0.862517\tvalidation_1-auc:0.839947\n",
      "[430]\tvalidation_0-auc:0.862527\tvalidation_1-auc:0.839963\n",
      "[431]\tvalidation_0-auc:0.862593\tvalidation_1-auc:0.839865\n",
      "[432]\tvalidation_0-auc:0.862639\tvalidation_1-auc:0.839790\n",
      "[433]\tvalidation_0-auc:0.862719\tvalidation_1-auc:0.839909\n",
      "[434]\tvalidation_0-auc:0.862740\tvalidation_1-auc:0.839993\n",
      "[435]\tvalidation_0-auc:0.862832\tvalidation_1-auc:0.840015\n",
      "[436]\tvalidation_0-auc:0.862867\tvalidation_1-auc:0.839976\n",
      "[437]\tvalidation_0-auc:0.862947\tvalidation_1-auc:0.839934\n",
      "[438]\tvalidation_0-auc:0.863003\tvalidation_1-auc:0.839962\n",
      "[439]\tvalidation_0-auc:0.863043\tvalidation_1-auc:0.839847\n",
      "[440]\tvalidation_0-auc:0.863083\tvalidation_1-auc:0.839805\n",
      "[441]\tvalidation_0-auc:0.863124\tvalidation_1-auc:0.839876\n",
      "[442]\tvalidation_0-auc:0.863186\tvalidation_1-auc:0.839942\n",
      "[443]\tvalidation_0-auc:0.863247\tvalidation_1-auc:0.839938\n",
      "[444]\tvalidation_0-auc:0.863283\tvalidation_1-auc:0.839976\n",
      "[445]\tvalidation_0-auc:0.863396\tvalidation_1-auc:0.839909\n",
      "[446]\tvalidation_0-auc:0.863449\tvalidation_1-auc:0.840042\n",
      "[447]\tvalidation_0-auc:0.863490\tvalidation_1-auc:0.839978\n",
      "[448]\tvalidation_0-auc:0.863550\tvalidation_1-auc:0.840000\n",
      "[449]\tvalidation_0-auc:0.863551\tvalidation_1-auc:0.840020\n",
      "[450]\tvalidation_0-auc:0.863596\tvalidation_1-auc:0.840230\n",
      "[451]\tvalidation_0-auc:0.863625\tvalidation_1-auc:0.840332\n",
      "[452]\tvalidation_0-auc:0.863674\tvalidation_1-auc:0.840296\n",
      "[453]\tvalidation_0-auc:0.863691\tvalidation_1-auc:0.840254\n",
      "[454]\tvalidation_0-auc:0.863735\tvalidation_1-auc:0.840278\n",
      "[455]\tvalidation_0-auc:0.863790\tvalidation_1-auc:0.840263\n",
      "[456]\tvalidation_0-auc:0.863798\tvalidation_1-auc:0.840307\n",
      "[457]\tvalidation_0-auc:0.863830\tvalidation_1-auc:0.840334\n",
      "[458]\tvalidation_0-auc:0.863880\tvalidation_1-auc:0.840321\n",
      "[459]\tvalidation_0-auc:0.863932\tvalidation_1-auc:0.840175\n",
      "[460]\tvalidation_0-auc:0.864030\tvalidation_1-auc:0.840201\n",
      "[461]\tvalidation_0-auc:0.864052\tvalidation_1-auc:0.840301\n",
      "[462]\tvalidation_0-auc:0.864089\tvalidation_1-auc:0.840298\n",
      "[463]\tvalidation_0-auc:0.864105\tvalidation_1-auc:0.840263\n",
      "[464]\tvalidation_0-auc:0.864170\tvalidation_1-auc:0.840269\n",
      "[465]\tvalidation_0-auc:0.864223\tvalidation_1-auc:0.840240\n",
      "[466]\tvalidation_0-auc:0.864283\tvalidation_1-auc:0.840383\n",
      "[467]\tvalidation_0-auc:0.864323\tvalidation_1-auc:0.840425\n",
      "[468]\tvalidation_0-auc:0.864357\tvalidation_1-auc:0.840372\n",
      "[469]\tvalidation_0-auc:0.864375\tvalidation_1-auc:0.840335\n",
      "[470]\tvalidation_0-auc:0.864461\tvalidation_1-auc:0.840247\n",
      "[471]\tvalidation_0-auc:0.864481\tvalidation_1-auc:0.840346\n",
      "[472]\tvalidation_0-auc:0.864556\tvalidation_1-auc:0.840265\n",
      "[473]\tvalidation_0-auc:0.864586\tvalidation_1-auc:0.840195\n",
      "[474]\tvalidation_0-auc:0.864644\tvalidation_1-auc:0.840212\n",
      "[475]\tvalidation_0-auc:0.864679\tvalidation_1-auc:0.840285\n",
      "[476]\tvalidation_0-auc:0.864777\tvalidation_1-auc:0.840369\n",
      "[477]\tvalidation_0-auc:0.864803\tvalidation_1-auc:0.840343\n",
      "[478]\tvalidation_0-auc:0.864811\tvalidation_1-auc:0.840351\n",
      "[479]\tvalidation_0-auc:0.864849\tvalidation_1-auc:0.840268\n",
      "[480]\tvalidation_0-auc:0.864903\tvalidation_1-auc:0.840289\n",
      "[481]\tvalidation_0-auc:0.864931\tvalidation_1-auc:0.840309\n",
      "[482]\tvalidation_0-auc:0.864968\tvalidation_1-auc:0.840287\n",
      "[483]\tvalidation_0-auc:0.865000\tvalidation_1-auc:0.840259\n",
      "[484]\tvalidation_0-auc:0.865009\tvalidation_1-auc:0.840343\n",
      "[485]\tvalidation_0-auc:0.865051\tvalidation_1-auc:0.840362\n",
      "[486]\tvalidation_0-auc:0.865078\tvalidation_1-auc:0.840332\n",
      "[487]\tvalidation_0-auc:0.865092\tvalidation_1-auc:0.840325\n",
      "[488]\tvalidation_0-auc:0.865131\tvalidation_1-auc:0.840265\n",
      "[489]\tvalidation_0-auc:0.865186\tvalidation_1-auc:0.840325\n",
      "[490]\tvalidation_0-auc:0.865253\tvalidation_1-auc:0.840256\n",
      "[491]\tvalidation_0-auc:0.865286\tvalidation_1-auc:0.840270\n",
      "[492]\tvalidation_0-auc:0.865310\tvalidation_1-auc:0.840256\n",
      "[493]\tvalidation_0-auc:0.865317\tvalidation_1-auc:0.840249\n",
      "[494]\tvalidation_0-auc:0.865368\tvalidation_1-auc:0.840316\n",
      "[495]\tvalidation_0-auc:0.865442\tvalidation_1-auc:0.840415\n",
      "[496]\tvalidation_0-auc:0.865521\tvalidation_1-auc:0.840393\n",
      "[497]\tvalidation_0-auc:0.865614\tvalidation_1-auc:0.840455\n",
      "[498]\tvalidation_0-auc:0.865678\tvalidation_1-auc:0.840570\n",
      "[499]\tvalidation_0-auc:0.865712\tvalidation_1-auc:0.840473\n",
      "[500]\tvalidation_0-auc:0.865741\tvalidation_1-auc:0.840422\n",
      "[501]\tvalidation_0-auc:0.865795\tvalidation_1-auc:0.840473\n",
      "[502]\tvalidation_0-auc:0.865844\tvalidation_1-auc:0.840451\n",
      "[503]\tvalidation_0-auc:0.865909\tvalidation_1-auc:0.840612\n",
      "[504]\tvalidation_0-auc:0.865944\tvalidation_1-auc:0.840608\n",
      "[505]\tvalidation_0-auc:0.865967\tvalidation_1-auc:0.840604\n",
      "[506]\tvalidation_0-auc:0.865980\tvalidation_1-auc:0.840553\n",
      "[507]\tvalidation_0-auc:0.866011\tvalidation_1-auc:0.840612\n",
      "[508]\tvalidation_0-auc:0.866052\tvalidation_1-auc:0.840630\n",
      "[509]\tvalidation_0-auc:0.866076\tvalidation_1-auc:0.840568\n",
      "[510]\tvalidation_0-auc:0.866113\tvalidation_1-auc:0.840601\n",
      "[511]\tvalidation_0-auc:0.866134\tvalidation_1-auc:0.840626\n"
     ]
    },
    {
     "data": {
      "text/plain": [
       "XGBClassifier(base_score=0.5, colsample_bylevel=1, colsample_bytree=0.74,\n",
       "       gamma=0, learning_rate=0.03, max_delta_step=0, max_depth=6,\n",
       "       min_child_weight=1, missing=None, n_estimators=512, nthread=-1,\n",
       "       objective='binary:logistic', reg_alpha=0, reg_lambda=1,\n",
       "       scale_pos_weight=0.0411987070619, seed=2011, silent=True,\n",
       "       subsample=0.88)"
      ]
     },
     "execution_count": 67,
     "metadata": {},
     "output_type": "execute_result"
    }
   ],
   "source": [
    "# try using... eval_metric: mlogloss, merror, ndcg@n-, logloss, auc\n",
    "est.fit(X_train, y_train, eval_set=eval_set, early_stopping_rounds=64, eval_metric='auc')"
   ]
  },
  {
   "cell_type": "markdown",
   "metadata": {},
   "source": [
    "**Save model for later**"
   ]
  },
  {
   "cell_type": "code",
   "execution_count": 68,
   "metadata": {
    "collapsed": false
   },
   "outputs": [
    {
     "name": "stdout",
     "output_type": "stream",
     "text": [
      "(76020, 317)\n"
     ]
    }
   ],
   "source": [
    "#! mkdir models\n",
    "print X.shape"
   ]
  },
  {
   "cell_type": "code",
   "execution_count": 69,
   "metadata": {
    "collapsed": false
   },
   "outputs": [],
   "source": [
    "# save the classifier\n",
    "with open('models/xgb16_n317.pkl', 'wb') as f:\n",
    "    cPickle.dump(est, f)    "
   ]
  },
  {
   "cell_type": "code",
   "execution_count": 483,
   "metadata": {
    "collapsed": false
   },
   "outputs": [
    {
     "name": "stdout",
     "output_type": "stream",
     "text": [
      "XGBClassifier(base_score=0.5, colsample_bylevel=1, colsample_bytree=0.5,\n",
      "       gamma=0, learning_rate=0.1, max_delta_step=0, max_depth=8,\n",
      "       min_child_weight=3, missing=nan, n_estimators=256, nthread=-1,\n",
      "       objective='binary:logistic', reg_alpha=0, reg_lambda=1,\n",
      "       scale_pos_weight=0.0411987070619, seed=415, silent=True,\n",
      "       subsample=1.0)\n"
     ]
    }
   ],
   "source": [
    "# load it again\n",
    "with open('models/my_xgb_2.pkl', 'rb') as f:\n",
    "    clf_loaded = cPickle.load(f)\n",
    "print clf_loaded"
   ]
  },
  {
   "cell_type": "code",
   "execution_count": 437,
   "metadata": {
    "collapsed": true
   },
   "outputs": [],
   "source": [
    "# assign loaded model to \"est\"\n",
    "est = clf_loaded\n",
    "del(clf_loaded)"
   ]
  },
  {
   "cell_type": "markdown",
   "metadata": {},
   "source": [
    "3. Fit with grid search\n",
    "------------------------"
   ]
  },
  {
   "cell_type": "code",
   "execution_count": 379,
   "metadata": {
    "collapsed": false
   },
   "outputs": [
    {
     "data": {
      "text/plain": [
       "GridSearchCV(cv=3, error_score='raise',\n",
       "       estimator=RandomForestClassifier(bootstrap=True, class_weight='balanced',\n",
       "            criterion='gini', max_depth=None, max_features='auto',\n",
       "            max_leaf_nodes=None, min_samples_leaf=1, min_samples_split=2,\n",
       "            min_weight_fraction_leaf=0.0, n_estimators=128, n_jobs=1,\n",
       "            oob_score=False, random_state=256, verbose=0, warm_start=False),\n",
       "       fit_params={}, iid=True, n_jobs=1, param_grid={'max_depth': [6, 8]},\n",
       "       pre_dispatch='2*n_jobs', refit=True,\n",
       "       scoring=make_scorer(roc_auc_score), verbose=0)"
      ]
     },
     "execution_count": 379,
     "metadata": {},
     "output_type": "execute_result"
    }
   ],
   "source": [
    "# fit the data with model \"est\"\n",
    "reg = grid_search.GridSearchCV(est, parameters, scoring=auc_scorer, cv=3)\n",
    "reg.fit(X_train, y_train)"
   ]
  },
  {
   "cell_type": "code",
   "execution_count": 380,
   "metadata": {
    "collapsed": false
   },
   "outputs": [
    {
     "data": {
      "text/plain": [
       "RandomForestClassifier(bootstrap=True, class_weight='balanced',\n",
       "            criterion='gini', max_depth=8, max_features='auto',\n",
       "            max_leaf_nodes=None, min_samples_leaf=1, min_samples_split=2,\n",
       "            min_weight_fraction_leaf=0.0, n_estimators=128, n_jobs=1,\n",
       "            oob_score=False, random_state=256, verbose=0, warm_start=False)"
      ]
     },
     "execution_count": 380,
     "metadata": {},
     "output_type": "execute_result"
    }
   ],
   "source": [
    "# get the best predictor\n",
    "est = reg.best_estimator_\n",
    "est"
   ]
  },
  {
   "cell_type": "code",
   "execution_count": 20,
   "metadata": {
    "collapsed": false
   },
   "outputs": [
    {
     "name": "stdout",
     "output_type": "stream",
     "text": [
      "0.682565038795\n"
     ]
    }
   ],
   "source": [
    "# predict the held out data X_valid, y_valid\n",
    "ypred = est.predict_proba(X_valid)\n",
    "print metrics.roc_auc_score(y_valid, ypred[:,1])"
   ]
  },
  {
   "cell_type": "code",
   "execution_count": 21,
   "metadata": {
    "collapsed": false
   },
   "outputs": [
    {
     "name": "stdout",
     "output_type": "stream",
     "text": [
      "0.674666139587\n"
     ]
    }
   ],
   "source": [
    "# training performance\n",
    "ypred = est.predict_proba(X_train)\n",
    "print metrics.roc_auc_score(y_train, ypred[:,1])"
   ]
  },
  {
   "cell_type": "markdown",
   "metadata": {},
   "source": [
    "## Look at prediction performance"
   ]
  },
  {
   "cell_type": "code",
   "execution_count": 542,
   "metadata": {
    "collapsed": false
   },
   "outputs": [],
   "source": [
    "## predict classes\n",
    "ypred = est.predict(X)"
   ]
  },
  {
   "cell_type": "code",
   "execution_count": 543,
   "metadata": {
    "collapsed": false
   },
   "outputs": [
    {
     "name": "stdout",
     "output_type": "stream",
     "text": [
      "             precision    recall  f1-score   support\n",
      "\n",
      "          0       0.96      1.00      0.98     73012\n",
      "          1       0.00      0.00      0.00      3008\n",
      "\n",
      "avg / total       0.92      0.96      0.94     76020\n",
      "\n"
     ]
    }
   ],
   "source": [
    "# view the results, my_xgb_2\n",
    "print metrics.classification_report(y, ypred)"
   ]
  },
  {
   "cell_type": "code",
   "execution_count": 48,
   "metadata": {
    "collapsed": false
   },
   "outputs": [
    {
     "name": "stdout",
     "output_type": "stream",
     "text": [
      "             precision    recall  f1-score   support\n",
      "\n",
      "          0       1.00      0.93      0.96     73012\n",
      "          1       0.35      0.90      0.50      3008\n",
      "\n",
      "avg / total       0.97      0.93      0.94     76020\n",
      "\n"
     ]
    }
   ],
   "source": [
    "# view the results, my_rf_1\n",
    "print metrics.classification_report(y, ypred)"
   ]
  },
  {
   "cell_type": "code",
   "execution_count": 70,
   "metadata": {
    "collapsed": false
   },
   "outputs": [
    {
     "name": "stdout",
     "output_type": "stream",
     "text": [
      "0.865045610398\n"
     ]
    }
   ],
   "source": [
    "## xgb, predict probabilities\n",
    "ypred = est.predict_proba(X)\n",
    "print metrics.roc_auc_score(y, ypred[:,1])"
   ]
  },
  {
   "cell_type": "code",
   "execution_count": 121,
   "metadata": {
    "collapsed": false
   },
   "outputs": [
    {
     "name": "stdout",
     "output_type": "stream",
     "text": [
      "0.96753999461\n"
     ]
    }
   ],
   "source": [
    "## rf, predict probabilities\n",
    "ypred = est.predict_proba(X)\n",
    "print metrics.roc_auc_score(y, ypred[:,1])"
   ]
  },
  {
   "cell_type": "code",
   "execution_count": 519,
   "metadata": {
    "collapsed": false
   },
   "outputs": [
    {
     "name": "stdout",
     "output_type": "stream",
     "text": [
      "0.904821346586\n"
     ]
    }
   ],
   "source": [
    "## ext, predict probabilities\n",
    "ypred = est.predict_proba(X)\n",
    "print metrics.roc_auc_score(y, ypred[:,1])"
   ]
  },
  {
   "cell_type": "markdown",
   "metadata": {},
   "source": [
    "---\n",
    "## Generate submission"
   ]
  },
  {
   "cell_type": "code",
   "execution_count": 37,
   "metadata": {
    "collapsed": false
   },
   "outputs": [],
   "source": [
    "# remember features that predict 0\n",
    "var15 = test['var15']\n",
    "saldo_medio_var5_hace2 = test['saldo_medio_var5_hace2']\n",
    "saldo_var33 = test['saldo_var33']\n",
    "var38 = test['var38']\n",
    "var21 = test['var21']\n",
    "num_var30 = test['num_var30']\n",
    "num_var13_0 = test['num_var13_0']\n",
    "num_var33_0 = test['num_var33_0']\n",
    "imp_ent_var16_ult1 = test['imp_ent_var16_ult1']\n",
    "imp_op_var39_comer_ult3 = test['imp_op_var39_comer_ult3']\n",
    "saldo_medio_var5_ult3 = test['saldo_medio_var5_ult3']"
   ]
  },
  {
   "cell_type": "code",
   "execution_count": 76,
   "metadata": {
    "collapsed": false
   },
   "outputs": [
    {
     "name": "stdout",
     "output_type": "stream",
     "text": [
      "(75818, 317)\n",
      "(75818, 2)\n",
      "[[  9.98171747e-01   1.82823534e-03]\n",
      " [  9.97855842e-01   2.14415696e-03]\n",
      " [  9.99903500e-01   9.65100771e-05]\n",
      " [  9.99513268e-01   4.86734702e-04]\n",
      " [  9.99911070e-01   8.89382427e-05]\n",
      " [  9.87551153e-01   1.24488734e-02]\n",
      " [  9.97354805e-01   2.64519290e-03]]\n"
     ]
    }
   ],
   "source": [
    "## predict test, class probabilities\n",
    "ypred_submit = est.predict_proba(X_test_submit)\n",
    "print X_test_submit.shape\n",
    "print ypred_submit.shape\n",
    "print ypred_submit[:7]"
   ]
  },
  {
   "cell_type": "code",
   "execution_count": 72,
   "metadata": {
    "collapsed": false
   },
   "outputs": [
    {
     "data": {
      "text/plain": [
       "array([[  9.98171747e-01,   1.82823534e-03],\n",
       "       [  9.97855842e-01,   2.14415696e-03],\n",
       "       [  9.99903500e-01,   9.65100771e-05],\n",
       "       [  9.99513268e-01,   4.86734702e-04],\n",
       "       [  9.99911070e-01,   8.89382427e-05],\n",
       "       [  9.87551153e-01,   1.24488734e-02],\n",
       "       [  9.97354805e-01,   0.00000000e+00]], dtype=float32)"
      ]
     },
     "execution_count": 72,
     "metadata": {},
     "output_type": "execute_result"
    }
   ],
   "source": [
    "# Under 23 year olds are always happy\n",
    "ypred_submit[list(var15.index[var15 < 23]), 1] = 0\n",
    "ypred_submit[list(saldo_var33.index[saldo_var33 > 0]), 1] = 0\n",
    "ypred_submit[list(var38.index[var38 > 3988596]), 1] = 0\n",
    "\n",
    "#ypred_submit[list(saldo_medio_var5_hace2.index[saldo_medio_var5_hace2 > 160000]), 1] = 0\n",
    "ypred_submit[list(var21.index[var21 > 7500]), 1] = 0\n",
    "ypred_submit[list(num_var30.index[num_var30 > 9]), 1] = 0\n",
    "ypred_submit[list(num_var13_0.index[num_var13_0 > 6]), 1] = 0\n",
    "ypred_submit[list(num_var33_0.index[num_var33_0 > 0]), 1] = 0\n",
    "ypred_submit[list(imp_ent_var16_ult1.index[imp_ent_var16_ult1 > 51003]), 1] = 0\n",
    "ypred_submit[list(imp_op_var39_comer_ult3.index[imp_op_var39_comer_ult3 > 13184]), 1] = 0\n",
    "ypred_submit[list(saldo_medio_var5_ult3.index[saldo_medio_var5_ult3 > 108251]), 1] = 0\n",
    "\n",
    "ypred_submit[:7]"
   ]
  },
  {
   "cell_type": "code",
   "execution_count": 77,
   "metadata": {
    "collapsed": false
   },
   "outputs": [],
   "source": [
    "# Generate submission: stack ids and targets together into dataframe\n",
    "'''\n",
    "# old version -- \n",
    "sub = pd.DataFrame(np.column_stack(id_test, ypred_submit[:,1])), columns=['ID', 'TARGET'])\n",
    "'''\n",
    "\n",
    "sub = pd.concat([id_test, pd.Series(ypred_submit[:,1], name='TARGET')], axis=1)\n",
    "\n",
    "# write dataframe to csv\n",
    "sub.to_csv('../submit/xgb16_20160502.csv',index=False, float_format='%.16f')\n",
    "del(ypred_submit)"
   ]
  },
  {
   "cell_type": "code",
   "execution_count": 40,
   "metadata": {
    "collapsed": false
   },
   "outputs": [
    {
     "name": "stdout",
     "output_type": "stream",
     "text": [
      "(75818, 323)\n",
      "ID          int64\n",
      "TARGET    float32\n",
      "dtype: object\n"
     ]
    }
   ],
   "source": [
    "print X_test_submit.shape\n",
    "print sub.dtypes"
   ]
  },
  {
   "cell_type": "markdown",
   "metadata": {},
   "source": [
    "### change pred for age (var15) < 23 to 0"
   ]
  },
  {
   "cell_type": "code",
   "execution_count": 36,
   "metadata": {
    "collapsed": false
   },
   "outputs": [
    {
     "name": "stdout",
     "output_type": "stream",
     "text": [
      "saldo_medio_var5_hace2 (1, 371)\n",
      "saldo_var33 (0, 371)\n",
      "var38 (0, 371)\n",
      "var21 (0, 371)\n",
      "num_var30 (0, 371)\n",
      "num_var13_0 (0, 371)\n",
      "num_var33_0 (0, 371)\n",
      "imp_ent_var16_ult1 (0, 371)\n",
      "imp_op_var39_comer_ult3 (0, 371)\n",
      "saldo_medio_var5_ult3 (0, 371)\n"
     ]
    }
   ],
   "source": [
    "# remember features that predict 0\n",
    "zero_feats = [('saldo_medio_var5_hace2', 160000), \n",
    "              ('saldo_var33', 0),\n",
    "              ('var38', 3988596),\n",
    "              ('var21', 7500),\n",
    "              ('num_var30', 9),\n",
    "              ('num_var13_0', 6),\n",
    "              ('num_var33_0', 0),\n",
    "              ('imp_ent_var16_ult1', 51003),\n",
    "              ('imp_op_var39_comer_ult3', 13184),\n",
    "              ('saldo_medio_var5_ult3', 108251),\n",
    "             ]\n",
    "for x,y in zero_feats:\n",
    "    print x, train[(train[x] > y) & (train.TARGET==1)].shape"
   ]
  },
  {
   "cell_type": "code",
   "execution_count": 158,
   "metadata": {
    "collapsed": false
   },
   "outputs": [
    {
     "name": "stdout",
     "output_type": "stream",
     "text": [
      "[[  9.97911513e-01   2.08847295e-03]\n",
      " [  9.97689486e-01   2.31048861e-03]\n",
      " [  9.99849737e-01   1.50279680e-04]\n",
      " [  9.99436140e-01   5.63843292e-04]\n",
      " [  9.99880195e-01   1.19815690e-04]]\n"
     ]
    }
   ],
   "source": [
    "# Under 23 year olds are always happy\n",
    "ypred_submit[list(var15.index[var15 < 23]), 1] = 0\n",
    "ypred_submit[list(saldo_var33.index[saldo_var33 > 0]), 1] = 0\n",
    "ypred_submit[list(var38.index[var38 > 3988596]), 1] = 0\n",
    "\n",
    "''' addl features that are always zero\n",
    "ypred_submit[list(saldo_medio_var5_hace2.index[saldo_medio_var5_hace2 > 160000]), 1] = 0\n",
    "ypred_submit[list(var21.index[var21 > 7500]), 1] = 0\n",
    "ypred_submit[list(num_var30.index[num_var30 > 9]), 1] = 0\n",
    "ypred_submit[list(num_var13_0.index[num_var13_0 > 6]), 1] = 0\n",
    "ypred_submit[list(num_var33_0.index[num_var33_0 > 0]), 1] = 0\n",
    "ypred_submit[list(imp_ent_var16_ult1.index[imp_ent_var16_ult1 > 51003]), 1] = 0\n",
    "ypred_submit[list(imp_op_var39_comer_ult3.index[imp_op_var39_comer_ult3 > 13184]), 1] = 0\n",
    "ypred_submit[list(saldo_medio_var5_ult3.index[saldo_medio_var5_ult3 > 108251]), 1] = 0\n",
    "'''\n",
    "\n",
    "print ypred_submit[:5]\n",
    "\n",
    "# write dataframe to csv\n",
    "sub = pd.concat([id_test, pd.Series(ypred_submit[:,1], name='TARGET')], axis=1)\n",
    "sub.to_csv('../submit/xgb_var15_20160429.csv',index=False, float_format='%.16f')"
   ]
  },
  {
   "cell_type": "markdown",
   "metadata": {},
   "source": [
    "#### Geometric mean of all submissions with zeros"
   ]
  },
  {
   "cell_type": "code",
   "execution_count": 100,
   "metadata": {
    "collapsed": false
   },
   "outputs": [
    {
     "name": "stdout",
     "output_type": "stream",
     "text": [
      "parsing: ./santander/submit/rf1_zeros_20160502.csv\n",
      "parsing: ./santander/submit/xgb10_zeros_20160429.csv\n",
      "parsing: ./santander/submit/xgb11_zeros_20160501.csv\n",
      "parsing: ./santander/submit/xgb12_zeros_20160501.csv\n",
      "parsing: ./santander/submit/xgb13_zeros_20160501.csv\n",
      "parsing: ./santander/submit/xgb14_zeros_20160501.csv\n",
      "parsing: ./santander/submit/xgb15_zeros_20160502.csv\n",
      "parsing: ./santander/submit/xgb16_zeros_20160502.csv\n",
      "parsing: ./santander/submit/xgb7_zeros_20160429.csv\n",
      "parsing: ./santander/submit/xgb8_zeros_20160430.csv\n",
      "parsing: ./santander/submit/xgb9_zeros_20160430.csv\n",
      "<type 'collections.defaultdict'>\n",
      "wrote to ./santander/submit/kaggle_geomean.csv\n"
     ]
    }
   ],
   "source": [
    "%%bash\n",
    "cd ~/Documents/kaggle\n",
    "\n",
    "python kaggle_geomean.py  \"./santander/submit/*zeros*.csv\" \"./santander/submit/kaggle_geomean.csv\""
   ]
  },
  {
   "cell_type": "markdown",
   "metadata": {},
   "source": [
    "### TODO: Voting Classifier\n",
    "\n",
    "http://scikit-learn.org/stable/modules/generated/sklearn.ensemble.VotingClassifier.html"
   ]
  },
  {
   "cell_type": "code",
   "execution_count": 131,
   "metadata": {
    "collapsed": false
   },
   "outputs": [
    {
     "data": {
      "text/plain": [
       "array([[  9.33448022e-01,   6.65520288e-02],\n",
       "       [  9.62528953e-01,   3.74710348e-02],\n",
       "       [  9.99925745e-01,   7.42562042e-05],\n",
       "       [  9.99568772e-01,   4.31227818e-04],\n",
       "       [  9.98117258e-01,   1.88275319e-03],\n",
       "       [  8.86325098e-01,   1.13674911e-01],\n",
       "       [  9.61121901e-01,   3.88780951e-02],\n",
       "       [  8.96974891e-01,   1.03025138e-01],\n",
       "       [  9.71420058e-01,   2.85799215e-02],\n",
       "       [  9.89302377e-01,   1.06976180e-02]])"
      ]
     },
     "execution_count": 131,
     "metadata": {},
     "output_type": "execute_result"
    }
   ],
   "source": [
    "## predict using a second model and average the results\n",
    "ypred_2 = est_2.predict_proba(X_test_submit)\n",
    "ypred_avg = (.2 * ypred_submit) + (.8 * ypred_2)\n",
    "ypred_avg[:10]"
   ]
  },
  {
   "cell_type": "markdown",
   "metadata": {},
   "source": [
    "---\n",
    "iv. Tensorflow\n",
    "----------\n",
    "\n",
    "> **1-2 hidden layers **<br>\n",
    "> steps 5001, L2 reg .001, hidden 1024, rate (.5, 1000, .8), Test accuracy: **58.78**%<br>\n",
    "> steps 9001, L2 reg .001, hidden 1024x500, keep .9, rate (.05 adagrad), Test accuracy: **58.78**%<br>\n",
    "> steps 9001, L2 reg .001, hidden 1024x300, keep 1., rate (.01 adagrad), Test accuracy: **58.17**%<br>\n",
    "\n",
    "> **1-2 hidden layers, init low w, b**<br>\n",
    "> steps 5001, L2 reg .0002, hidden 1024x500, keep 1., rate (.1 adagrad), Test accuracy: **58.78**%<br>\n",
    "\n",
    "> **3 hidden layers **<br>\n",
    "> steps 9001, L2 reg .001, hidden 1024x300x50, rate (.01 adagrad), Test accuracy: **58.17**%<br>\n",
    "\n",
    "> **PCA 40 dims **<br>\n",
    "> steps 9001, L2 reg .001, hidden 1024x300x50, rate (.01 adagrad), Test accuracy: **58.17**%<br>\n",
    "\n",
    "> **107 features (del 'first_browser') **<br>\n",
    "> steps 5001, L2 reg .0002, hidden 1024x300x50, rate (.1 adagrad), Test accuracy: **58.04**%<br>"
   ]
  },
  {
   "cell_type": "code",
   "execution_count": 244,
   "metadata": {
    "collapsed": true
   },
   "outputs": [],
   "source": [
    "import tensorflow as tf"
   ]
  },
  {
   "cell_type": "code",
   "execution_count": 245,
   "metadata": {
    "collapsed": true
   },
   "outputs": [],
   "source": [
    "def accuracy(predictions, labels):\n",
    "  return (100.0 * np.sum(np.argmax(predictions, 1) == np.argmax(labels, 1))\n",
    "          / predictions.shape[0])"
   ]
  },
  {
   "cell_type": "code",
   "execution_count": 260,
   "metadata": {
    "collapsed": true
   },
   "outputs": [],
   "source": [
    "def weight_variable(shape, stddev=0.1):\n",
    "  initial = tf.truncated_normal(shape, stddev=stddev)\n",
    "  return tf.Variable(initial)\n",
    "\n",
    "def bias_variable(shape, constant=0.):\n",
    "  initial = tf.constant(constant, shape=shape)\n",
    "  return tf.Variable(initial)"
   ]
  },
  {
   "cell_type": "markdown",
   "metadata": {},
   "source": [
    "** Build graph**"
   ]
  },
  {
   "cell_type": "code",
   "execution_count": 248,
   "metadata": {
    "collapsed": false
   },
   "outputs": [
    {
     "name": "stdout",
     "output_type": "stream",
     "text": [
      "(192639, 316)\n",
      "float32\n",
      "(10139, 316)\n",
      "(10673, 316)\n",
      "[[ 0.  0.  0.  0.  0.  0.  0.  1.  0.  0.  0.  0.]\n",
      " [ 0.  0.  0.  0.  0.  0.  0.  1.  0.  0.  0.  0.]\n",
      " [ 0.  0.  0.  0.  0.  0.  1.  0.  0.  0.  0.  0.]]\n",
      "(192639, 12)\n",
      "(10139, 12)\n",
      "(10673, 12)\n",
      "(62096, 316)\n"
     ]
    }
   ],
   "source": [
    "print X_train.shape\n",
    "print X_train.dtype\n",
    "print X_valid.shape\n",
    "print X_test.shape\n",
    "print y_train[:3]\n",
    "print y_train.shape\n",
    "print y_valid.shape\n",
    "print y_test.shape\n",
    "\n",
    "print X_test_submit.shape"
   ]
  },
  {
   "cell_type": "code",
   "execution_count": 331,
   "metadata": {
    "collapsed": false
   },
   "outputs": [],
   "source": [
    "reg_L2 = 0.0002\n",
    "batch_size = 128\n",
    "num_hidden_1 = 1024\n",
    "#num_hidden_2 = 300\n",
    "#num_hidden_3 = 50\n",
    "num_features = X_train.shape[1]\n",
    "num_labels = 12\n",
    "\n",
    "graph = tf.Graph()\n",
    "with graph.as_default():\n",
    "\n",
    "  # Input data. For the training data, we use a placeholder that will be fed\n",
    "  # at run time with a training minibatch.\n",
    "  tf_train_dataset = tf.placeholder(tf.float32,\n",
    "                                    shape=(batch_size, num_features))\n",
    "  tf_train_labels = tf.placeholder(tf.float32, shape=(batch_size, num_labels))\n",
    "  tf_valid_dataset = tf.constant(X_valid)\n",
    "  tf_test_dataset = tf.constant(X_test)\n",
    "  tf_test_submit = tf.constant(X_test_submit)\n",
    "  \n",
    "  # Variables.\n",
    "  w = weight_variable(shape=[num_features, num_hidden_1])\n",
    "  b = bias_variable(shape=[num_hidden_1])\n",
    "\n",
    "  #w2 = weight_variable(shape=[num_hidden_1, num_hidden_2])\n",
    "  #b2 = bias_variable(shape=[num_hidden_2])\n",
    "\n",
    "  #w3 = weight_variable(shape=[num_hidden_2, num_hidden_3])\n",
    "  #b3 = bias_variable(shape=[num_hidden_3])\n",
    "\n",
    "  w4 = weight_variable(shape=[num_hidden_1, num_labels])\n",
    "  b4 = bias_variable(shape=[num_labels])\n",
    "  \n",
    "  # Training computation.\n",
    "  def model(data):\n",
    "    h = tf.nn.relu(tf.matmul(data, w) + b)\n",
    "    ##Dropout\n",
    "    keep_prob = tf.constant(1.)\n",
    "    #h2 = tf.tanh(tf.matmul(h, w2) + b2)\n",
    "    #h2_drop = tf.nn.dropout(h2, keep_prob)\n",
    "    #h3 = tf.tanh(tf.matmul(h2, w3) + b3)\n",
    "    #h3_drop = tf.tanh(tf.matmul(h2_drop, w3) + b3)\n",
    "    #h3_drop = tf.nn.dropout(h3_drop, keep_prob)\n",
    "    h4 = tf.matmul(h, w4) + b4\n",
    "    return h4\n",
    "  \n",
    "  logits = model(tf_train_dataset)\n",
    "  loss = tf.reduce_mean(\n",
    "    tf.nn.softmax_cross_entropy_with_logits(logits, tf_train_labels))\n",
    "  \n",
    "  # L2 regularization for the fully connected parameters.\n",
    "  #regularizers = tf.nn.l2_loss(w) + tf.nn.l2_loss(w4)\n",
    "  # Add the regularization term to the loss.\n",
    "  #loss += reg_L2 * 0.5 * regularizers\n",
    "  \n",
    "  # Optimizer.\n",
    "  ## with learning rate decay\n",
    "  ##global_step = tf.Variable(0, trainable=False) # count the number of steps taken.\n",
    "  ##learning_rate = tf.train.exponential_decay(1., global_step, 500, 0.6, staircase=False)\n",
    "  ##optimizer = tf.train.GradientDescentOptimizer(learning_rate).minimize(loss, global_step=global_step)\n",
    "  optimizer = tf.train.AdagradOptimizer(.01).minimize(loss)\n",
    "  \n",
    "  # Predictions for the training, validation, test, and test submission data.\n",
    "  def predict(data):\n",
    "    h = tf.nn.relu(tf.matmul(data, w) + b)\n",
    "    #h2 = tf.tanh(tf.matmul(h, w2) + b2)\n",
    "    #h3 = tf.tanh(tf.matmul(h2, w3) + b3)\n",
    "    h4 = tf.matmul(h, w4) + b4\n",
    "    return h4\n",
    "  train_prediction = tf.nn.softmax(predict(tf_train_dataset))\n",
    "  valid_prediction = tf.nn.softmax(predict(tf_valid_dataset))\n",
    "  test_prediction = tf.nn.softmax(predict(tf_test_dataset))\n",
    "\n",
    "  submit_prediction = tf.nn.softmax(predict(tf_test_submit))"
   ]
  },
  {
   "cell_type": "markdown",
   "metadata": {},
   "source": [
    "** Run it**"
   ]
  },
  {
   "cell_type": "code",
   "execution_count": 332,
   "metadata": {
    "collapsed": true
   },
   "outputs": [
    {
     "name": "stdout",
     "output_type": "stream",
     "text": [
      "Initialized\n",
      "============\n",
      "Minibatch loss at step 0 : 3.26455\n",
      "Minibatch accuracy: 2.34%\n",
      "Validation accuracy: 58.53%\n",
      "--------------------\n",
      "Test accuracy: 58.78%\n",
      "====================\n",
      "Minibatch loss at step 300 : 1.16833\n",
      "Minibatch accuracy: 58.59%\n",
      "Validation accuracy: 58.53%\n",
      "--------------------\n",
      "Minibatch loss at step 600 : 1.36942\n",
      "Minibatch accuracy: 64.06%\n",
      "Validation accuracy: 58.53%\n",
      "--------------------\n",
      "Minibatch loss at step 900 : 1.13909\n",
      "Minibatch accuracy: 57.81%\n",
      "Validation accuracy: 58.53%\n",
      "--------------------\n",
      "Test accuracy: 58.78%\n",
      "====================\n",
      "Minibatch loss at step 1200 : 1.11844\n",
      "Minibatch accuracy: 61.72%\n",
      "Validation accuracy: 58.53%\n",
      "--------------------\n",
      "Minibatch loss at step 1500 : 1.03941\n",
      "Minibatch accuracy: 64.06%\n",
      "Validation accuracy: 58.53%\n",
      "--------------------\n"
     ]
    },
    {
     "ename": "KeyboardInterrupt",
     "evalue": "",
     "output_type": "error",
     "traceback": [
      "\u001b[0;31m---------------------------------------------------------------------------\u001b[0m",
      "\u001b[0;31mKeyboardInterrupt\u001b[0m                         Traceback (most recent call last)",
      "\u001b[0;32m<ipython-input-332-bc05c01609cb>\u001b[0m in \u001b[0;36m<module>\u001b[0;34m()\u001b[0m\n\u001b[1;32m     25\u001b[0m   \u001b[0mtf\u001b[0m\u001b[0;34m.\u001b[0m\u001b[0minitialize_all_variables\u001b[0m\u001b[0;34m(\u001b[0m\u001b[0;34m)\u001b[0m\u001b[0;34m.\u001b[0m\u001b[0mrun\u001b[0m\u001b[0;34m(\u001b[0m\u001b[0;34m)\u001b[0m\u001b[0;34m\u001b[0m\u001b[0m\n\u001b[1;32m     26\u001b[0m   \u001b[0;32mprint\u001b[0m \u001b[0;34m\"Initialized\\n\"\u001b[0m\u001b[0;34m,\u001b[0m \u001b[0;34m\"=\"\u001b[0m\u001b[0;34m*\u001b[0m\u001b[0;36m12\u001b[0m\u001b[0;34m\u001b[0m\u001b[0m\n\u001b[0;32m---> 27\u001b[0;31m   \u001b[0mstep_eval\u001b[0m\u001b[0;34m(\u001b[0m\u001b[0;34m)\u001b[0m\u001b[0;34m\u001b[0m\u001b[0m\n\u001b[0m\u001b[1;32m     28\u001b[0m   \u001b[0;32mprint\u001b[0m \u001b[0;34m\"Test accuracy: %.2f%%\"\u001b[0m \u001b[0;34m%\u001b[0m \u001b[0maccuracy\u001b[0m\u001b[0;34m(\u001b[0m\u001b[0mtest_prediction\u001b[0m\u001b[0;34m.\u001b[0m\u001b[0meval\u001b[0m\u001b[0;34m(\u001b[0m\u001b[0;34m)\u001b[0m\u001b[0;34m,\u001b[0m \u001b[0my_test\u001b[0m\u001b[0;34m)\u001b[0m\u001b[0;34m\u001b[0m\u001b[0m\n\u001b[1;32m     29\u001b[0m   \u001b[0mypred_submit\u001b[0m \u001b[0;34m=\u001b[0m \u001b[0msubmit_prediction\u001b[0m\u001b[0;34m.\u001b[0m\u001b[0meval\u001b[0m\u001b[0;34m(\u001b[0m\u001b[0;34m)\u001b[0m\u001b[0;34m\u001b[0m\u001b[0m\n",
      "\u001b[0;32m<ipython-input-332-bc05c01609cb>\u001b[0m in \u001b[0;36mstep_eval\u001b[0;34m()\u001b[0m\n\u001b[1;32m      7\u001b[0m     \u001b[0mbatch_labels\u001b[0m \u001b[0;34m=\u001b[0m \u001b[0my_train\u001b[0m\u001b[0;34m[\u001b[0m\u001b[0moffset\u001b[0m\u001b[0;34m:\u001b[0m\u001b[0;34m(\u001b[0m\u001b[0moffset\u001b[0m \u001b[0;34m+\u001b[0m \u001b[0mbatch_size\u001b[0m\u001b[0;34m)\u001b[0m\u001b[0;34m,\u001b[0m \u001b[0;34m:\u001b[0m\u001b[0;34m]\u001b[0m\u001b[0;34m\u001b[0m\u001b[0m\n\u001b[1;32m      8\u001b[0m     \u001b[0mfeed_dict\u001b[0m \u001b[0;34m=\u001b[0m \u001b[0;34m{\u001b[0m\u001b[0mtf_train_dataset\u001b[0m \u001b[0;34m:\u001b[0m \u001b[0mbatch_data\u001b[0m\u001b[0;34m,\u001b[0m \u001b[0mtf_train_labels\u001b[0m \u001b[0;34m:\u001b[0m \u001b[0mbatch_labels\u001b[0m\u001b[0;34m}\u001b[0m\u001b[0;34m\u001b[0m\u001b[0m\n\u001b[0;32m----> 9\u001b[0;31m     \u001b[0m_\u001b[0m\u001b[0;34m,\u001b[0m \u001b[0ml\u001b[0m\u001b[0;34m,\u001b[0m \u001b[0mpredictions\u001b[0m \u001b[0;34m=\u001b[0m \u001b[0msession\u001b[0m\u001b[0;34m.\u001b[0m\u001b[0mrun\u001b[0m\u001b[0;34m(\u001b[0m\u001b[0;34m[\u001b[0m\u001b[0moptimizer\u001b[0m\u001b[0;34m,\u001b[0m \u001b[0mloss\u001b[0m\u001b[0;34m,\u001b[0m \u001b[0mtrain_prediction\u001b[0m\u001b[0;34m]\u001b[0m\u001b[0;34m,\u001b[0m \u001b[0mfeed_dict\u001b[0m\u001b[0;34m=\u001b[0m\u001b[0mfeed_dict\u001b[0m\u001b[0;34m)\u001b[0m\u001b[0;34m\u001b[0m\u001b[0m\n\u001b[0m\u001b[1;32m     10\u001b[0m     \u001b[0;32mif\u001b[0m \u001b[0;34m(\u001b[0m\u001b[0mstep\u001b[0m \u001b[0;34m%\u001b[0m \u001b[0;36m300\u001b[0m \u001b[0;34m==\u001b[0m \u001b[0;36m0\u001b[0m\u001b[0;34m)\u001b[0m\u001b[0;34m:\u001b[0m\u001b[0;34m\u001b[0m\u001b[0m\n\u001b[1;32m     11\u001b[0m       \u001b[0;31m#print global_step.eval(), learning_rate.eval()\u001b[0m\u001b[0;34m\u001b[0m\u001b[0;34m\u001b[0m\u001b[0m\n",
      "\u001b[0;32m/Users/jjl/anaconda/lib/python2.7/site-packages/tensorflow/python/client/session.pyc\u001b[0m in \u001b[0;36mrun\u001b[0;34m(self, fetches, feed_dict)\u001b[0m\n\u001b[1;32m    343\u001b[0m \u001b[0;34m\u001b[0m\u001b[0m\n\u001b[1;32m    344\u001b[0m     \u001b[0;31m# Run request and get response.\u001b[0m\u001b[0;34m\u001b[0m\u001b[0;34m\u001b[0m\u001b[0m\n\u001b[0;32m--> 345\u001b[0;31m     \u001b[0mresults\u001b[0m \u001b[0;34m=\u001b[0m \u001b[0mself\u001b[0m\u001b[0;34m.\u001b[0m\u001b[0m_do_run\u001b[0m\u001b[0;34m(\u001b[0m\u001b[0mtarget_list\u001b[0m\u001b[0;34m,\u001b[0m \u001b[0munique_fetch_targets\u001b[0m\u001b[0;34m,\u001b[0m \u001b[0mfeed_dict_string\u001b[0m\u001b[0;34m)\u001b[0m\u001b[0;34m\u001b[0m\u001b[0m\n\u001b[0m\u001b[1;32m    346\u001b[0m \u001b[0;34m\u001b[0m\u001b[0m\n\u001b[1;32m    347\u001b[0m     \u001b[0;31m# User may have fetched the same tensor multiple times, but we\u001b[0m\u001b[0;34m\u001b[0m\u001b[0;34m\u001b[0m\u001b[0m\n",
      "\u001b[0;32m/Users/jjl/anaconda/lib/python2.7/site-packages/tensorflow/python/client/session.pyc\u001b[0m in \u001b[0;36m_do_run\u001b[0;34m(self, target_list, fetch_list, feed_dict)\u001b[0m\n\u001b[1;32m    402\u001b[0m \u001b[0;34m\u001b[0m\u001b[0m\n\u001b[1;32m    403\u001b[0m       return tf_session.TF_Run(self._session, feed_dict, fetch_list,\n\u001b[0;32m--> 404\u001b[0;31m                                target_list)\n\u001b[0m\u001b[1;32m    405\u001b[0m \u001b[0;34m\u001b[0m\u001b[0m\n\u001b[1;32m    406\u001b[0m     \u001b[0;32mexcept\u001b[0m \u001b[0mtf_session\u001b[0m\u001b[0;34m.\u001b[0m\u001b[0mStatusNotOK\u001b[0m \u001b[0;32mas\u001b[0m \u001b[0me\u001b[0m\u001b[0;34m:\u001b[0m\u001b[0;34m\u001b[0m\u001b[0m\n",
      "\u001b[0;31mKeyboardInterrupt\u001b[0m: "
     ]
    }
   ],
   "source": [
    "num_steps = 3001\n",
    "    \n",
    "def step_eval():\n",
    "  for step in xrange(num_steps):\n",
    "    offset = (step * batch_size) % (y_train.shape[0] - batch_size)\n",
    "    batch_data = X_train[offset:(offset + batch_size), :]\n",
    "    batch_labels = y_train[offset:(offset + batch_size), :]\n",
    "    feed_dict = {tf_train_dataset : batch_data, tf_train_labels : batch_labels}\n",
    "    _, l, predictions = session.run([optimizer, loss, train_prediction], feed_dict=feed_dict)\n",
    "    if (step % 300 == 0):\n",
    "      #print global_step.eval(), learning_rate.eval()\n",
    "      print \"Minibatch loss at step\", step, \":\", l\n",
    "      print \"Minibatch accuracy: %.2f%%\" % accuracy(predictions, batch_labels)\n",
    "      accuracy_valid = accuracy(valid_prediction.eval(), y_valid)\n",
    "      print \"Validation accuracy: %.2f%%\" % accuracy_valid\n",
    "      print \"-\" * 20\n",
    "      if accuracy_valid > 92.:\n",
    "        print \"Halted!\"\n",
    "        return\n",
    "    if (step % 1000 == 0):\n",
    "      print \"Test accuracy: %.2f%%\" % accuracy(test_prediction.eval(), y_test)\n",
    "      print \"=\" * 20\n",
    "\n",
    "with tf.Session(graph=graph) as session:\n",
    "  tf.initialize_all_variables().run()\n",
    "  print \"Initialized\\n\", \"=\"*12\n",
    "  step_eval()\n",
    "  print \"Test accuracy: %.2f%%\" % accuracy(test_prediction.eval(), y_test)\n",
    "  ypred_submit = submit_prediction.eval()"
   ]
  },
  {
   "cell_type": "code",
   "execution_count": 144,
   "metadata": {
    "collapsed": false
   },
   "outputs": [
    {
     "name": "stdout",
     "output_type": "stream",
     "text": [
      "[[ 0.00275282  0.00670136  0.00510201  0.00973255  0.02230456  0.01001685\n",
      "   0.01413022  0.57495332  0.00390214  0.00101802  0.30211538  0.04727076]\n",
      " [ 0.00274651  0.00668118  0.00512046  0.00975334  0.02227283  0.01004198\n",
      "   0.01409889  0.57516688  0.00390226  0.00101752  0.30192763  0.04727058]\n",
      " [ 0.00273304  0.00665983  0.00510894  0.00972562  0.02229475  0.01000752\n",
      "   0.01408009  0.57545155  0.00389516  0.00101317  0.30179265  0.04723767]\n",
      " [ 0.00274596  0.00669436  0.00510876  0.00974156  0.02229444  0.01002662\n",
      "   0.01412156  0.57517922  0.0039057   0.00101715  0.30187249  0.04729211]\n",
      " [ 0.00274236  0.00668534  0.00511654  0.00977065  0.0222552   0.01004988\n",
      "   0.01410146  0.57546836  0.00390035  0.00101695  0.30169925  0.0471937 ]]\n",
      "[[ 9  0  8  2  1  3  5  6  4 11 10  7]\n",
      " [ 9  0  8  2  1  3  5  6  4 11 10  7]\n",
      " [ 9  0  8  2  1  3  5  6  4 11 10  7]\n",
      " [ 9  0  8  2  1  3  5  6  4 11 10  7]\n",
      " [ 9  0  8  2  1  3  5  6  4 11 10  7]]\n",
      "['NDF', 'US', 'other', 'FR', 'IT', 'GB', 'ES', 'CA', 'DE', 'NL', 'AU', 'PT']\n",
      "['NDF', 'US', 'other', 'FR', 'IT', 'GB', 'ES', 'CA', 'DE', 'NL', 'AU', 'PT']\n",
      "['NDF', 'US', 'other', 'FR', 'IT', 'GB', 'ES', 'CA', 'DE', 'NL', 'AU', 'PT']\n",
      "['NDF', 'US', 'other', 'FR', 'IT', 'GB', 'ES', 'CA', 'DE', 'NL', 'AU', 'PT']\n",
      "['NDF', 'US', 'other', 'FR', 'IT', 'GB', 'ES', 'CA', 'DE', 'NL', 'AU', 'PT']\n"
     ]
    }
   ],
   "source": [
    "check = ypred_submit[2000:2004]\n",
    "print check\n",
    "print np.argsort(check)\n",
    "for i in xrange(len(check)):\n",
    "    print le.inverse_transform(np.argsort(check[i])[::-1]).tolist()"
   ]
  },
  {
   "cell_type": "markdown",
   "metadata": {},
   "source": [
    "---\n",
    "# Scratchpad"
   ]
  },
  {
   "cell_type": "code",
   "execution_count": 291,
   "metadata": {
    "collapsed": false
   },
   "outputs": [
    {
     "data": {
      "text/html": [
       "<div>\n",
       "<table border=\"1\" class=\"dataframe\">\n",
       "  <thead>\n",
       "    <tr style=\"text-align: right;\">\n",
       "      <th></th>\n",
       "      <th>ID</th>\n",
       "      <th>var3</th>\n",
       "      <th>var15</th>\n",
       "      <th>imp_ent_var16_ult1</th>\n",
       "      <th>imp_op_var39_comer_ult1</th>\n",
       "      <th>imp_op_var39_comer_ult3</th>\n",
       "      <th>imp_op_var40_comer_ult1</th>\n",
       "      <th>imp_op_var40_comer_ult3</th>\n",
       "      <th>imp_op_var40_efect_ult1</th>\n",
       "      <th>imp_op_var40_efect_ult3</th>\n",
       "      <th>...</th>\n",
       "      <th>saldo_medio_var33_hace2</th>\n",
       "      <th>saldo_medio_var33_hace3</th>\n",
       "      <th>saldo_medio_var33_ult1</th>\n",
       "      <th>saldo_medio_var33_ult3</th>\n",
       "      <th>saldo_medio_var44_hace2</th>\n",
       "      <th>saldo_medio_var44_hace3</th>\n",
       "      <th>saldo_medio_var44_ult1</th>\n",
       "      <th>saldo_medio_var44_ult3</th>\n",
       "      <th>var38</th>\n",
       "      <th>TARGET</th>\n",
       "    </tr>\n",
       "  </thead>\n",
       "  <tbody>\n",
       "  </tbody>\n",
       "</table>\n",
       "<p>0 rows × 371 columns</p>\n",
       "</div>"
      ],
      "text/plain": [
       "Empty DataFrame\n",
       "Columns: [ID, var3, var15, imp_ent_var16_ult1, imp_op_var39_comer_ult1, imp_op_var39_comer_ult3, imp_op_var40_comer_ult1, imp_op_var40_comer_ult3, imp_op_var40_efect_ult1, imp_op_var40_efect_ult3, imp_op_var40_ult1, imp_op_var41_comer_ult1, imp_op_var41_comer_ult3, imp_op_var41_efect_ult1, imp_op_var41_efect_ult3, imp_op_var41_ult1, imp_op_var39_efect_ult1, imp_op_var39_efect_ult3, imp_op_var39_ult1, imp_sal_var16_ult1, ind_var1_0, ind_var1, ind_var2_0, ind_var2, ind_var5_0, ind_var5, ind_var6_0, ind_var6, ind_var8_0, ind_var8, ind_var12_0, ind_var12, ind_var13_0, ind_var13_corto_0, ind_var13_corto, ind_var13_largo_0, ind_var13_largo, ind_var13_medio_0, ind_var13_medio, ind_var13, ind_var14_0, ind_var14, ind_var17_0, ind_var17, ind_var18_0, ind_var18, ind_var19, ind_var20_0, ind_var20, ind_var24_0, ind_var24, ind_var25_cte, ind_var26_0, ind_var26_cte, ind_var26, ind_var25_0, ind_var25, ind_var27_0, ind_var28_0, ind_var28, ind_var27, ind_var29_0, ind_var29, ind_var30_0, ind_var30, ind_var31_0, ind_var31, ind_var32_cte, ind_var32_0, ind_var32, ind_var33_0, ind_var33, ind_var34_0, ind_var34, ind_var37_cte, ind_var37_0, ind_var37, ind_var39_0, ind_var40_0, ind_var40, ind_var41_0, ind_var41, ind_var39, ind_var44_0, ind_var44, ind_var46_0, ind_var46, num_var1_0, num_var1, num_var4, num_var5_0, num_var5, num_var6_0, num_var6, num_var8_0, num_var8, num_var12_0, num_var12, num_var13_0, num_var13_corto_0, ...]\n",
       "Index: []\n",
       "\n",
       "[0 rows x 371 columns]"
      ]
     },
     "execution_count": 291,
     "metadata": {},
     "output_type": "execute_result"
    }
   ],
   "source": [
    "train[(train.saldo_var33 <0) & train.TARGET==1]"
   ]
  },
  {
   "cell_type": "code",
   "execution_count": null,
   "metadata": {
    "collapsed": true
   },
   "outputs": [],
   "source": []
  }
 ],
 "metadata": {
  "kernelspec": {
   "display_name": "Python 2",
   "language": "python",
   "name": "python2"
  },
  "language_info": {
   "codemirror_mode": {
    "name": "ipython",
    "version": 2
   },
   "file_extension": ".py",
   "mimetype": "text/x-python",
   "name": "python",
   "nbconvert_exporter": "python",
   "pygments_lexer": "ipython2",
   "version": "2.7.11"
  }
 },
 "nbformat": 4,
 "nbformat_minor": 0
}
