{
 "cells": [
  {
   "cell_type": "markdown",
   "metadata": {},
   "source": [
    "# Santander Customer Satisfaction\n",
    "https://www.kaggle.com/c/santander-customer-satisfaction"
   ]
  },
  {
   "cell_type": "code",
   "execution_count": 55,
   "metadata": {
    "collapsed": false
   },
   "outputs": [],
   "source": [
    "import cPickle\n",
    "import numpy as np\n",
    "import pandas as pd\n",
    "import matplotlib.pyplot as plt\n",
    "from sklearn.preprocessing import LabelEncoder\n",
    "from sklearn import cross_validation\n",
    "from sklearn import metrics\n",
    "from sklearn import grid_search\n",
    "from IPython.display import display # Allows the use of display() for DataFrames\n",
    "%matplotlib inline"
   ]
  },
  {
   "cell_type": "markdown",
   "metadata": {},
   "source": [
    "1. Exploratory analysis\n",
    "-----------------------"
   ]
  },
  {
   "cell_type": "code",
   "execution_count": 2,
   "metadata": {
    "collapsed": false
   },
   "outputs": [
    {
     "data": {
      "text/html": [
       "<div>\n",
       "<table border=\"1\" class=\"dataframe\">\n",
       "  <thead>\n",
       "    <tr style=\"text-align: right;\">\n",
       "      <th></th>\n",
       "      <th>ID</th>\n",
       "      <th>var3</th>\n",
       "      <th>var15</th>\n",
       "      <th>imp_ent_var16_ult1</th>\n",
       "      <th>imp_op_var39_comer_ult1</th>\n",
       "      <th>imp_op_var39_comer_ult3</th>\n",
       "      <th>imp_op_var40_comer_ult1</th>\n",
       "      <th>imp_op_var40_comer_ult3</th>\n",
       "      <th>imp_op_var40_efect_ult1</th>\n",
       "      <th>imp_op_var40_efect_ult3</th>\n",
       "      <th>...</th>\n",
       "      <th>saldo_medio_var33_hace2</th>\n",
       "      <th>saldo_medio_var33_hace3</th>\n",
       "      <th>saldo_medio_var33_ult1</th>\n",
       "      <th>saldo_medio_var33_ult3</th>\n",
       "      <th>saldo_medio_var44_hace2</th>\n",
       "      <th>saldo_medio_var44_hace3</th>\n",
       "      <th>saldo_medio_var44_ult1</th>\n",
       "      <th>saldo_medio_var44_ult3</th>\n",
       "      <th>var38</th>\n",
       "      <th>TARGET</th>\n",
       "    </tr>\n",
       "  </thead>\n",
       "  <tbody>\n",
       "    <tr>\n",
       "      <th>0</th>\n",
       "      <td>1</td>\n",
       "      <td>2</td>\n",
       "      <td>23</td>\n",
       "      <td>0</td>\n",
       "      <td>0</td>\n",
       "      <td>0</td>\n",
       "      <td>0</td>\n",
       "      <td>0</td>\n",
       "      <td>0</td>\n",
       "      <td>0</td>\n",
       "      <td>...</td>\n",
       "      <td>0</td>\n",
       "      <td>0</td>\n",
       "      <td>0</td>\n",
       "      <td>0</td>\n",
       "      <td>0</td>\n",
       "      <td>0</td>\n",
       "      <td>0</td>\n",
       "      <td>0</td>\n",
       "      <td>39205.170000</td>\n",
       "      <td>0</td>\n",
       "    </tr>\n",
       "    <tr>\n",
       "      <th>1</th>\n",
       "      <td>3</td>\n",
       "      <td>2</td>\n",
       "      <td>34</td>\n",
       "      <td>0</td>\n",
       "      <td>0</td>\n",
       "      <td>0</td>\n",
       "      <td>0</td>\n",
       "      <td>0</td>\n",
       "      <td>0</td>\n",
       "      <td>0</td>\n",
       "      <td>...</td>\n",
       "      <td>0</td>\n",
       "      <td>0</td>\n",
       "      <td>0</td>\n",
       "      <td>0</td>\n",
       "      <td>0</td>\n",
       "      <td>0</td>\n",
       "      <td>0</td>\n",
       "      <td>0</td>\n",
       "      <td>49278.030000</td>\n",
       "      <td>0</td>\n",
       "    </tr>\n",
       "    <tr>\n",
       "      <th>2</th>\n",
       "      <td>4</td>\n",
       "      <td>2</td>\n",
       "      <td>23</td>\n",
       "      <td>0</td>\n",
       "      <td>0</td>\n",
       "      <td>0</td>\n",
       "      <td>0</td>\n",
       "      <td>0</td>\n",
       "      <td>0</td>\n",
       "      <td>0</td>\n",
       "      <td>...</td>\n",
       "      <td>0</td>\n",
       "      <td>0</td>\n",
       "      <td>0</td>\n",
       "      <td>0</td>\n",
       "      <td>0</td>\n",
       "      <td>0</td>\n",
       "      <td>0</td>\n",
       "      <td>0</td>\n",
       "      <td>67333.770000</td>\n",
       "      <td>0</td>\n",
       "    </tr>\n",
       "    <tr>\n",
       "      <th>3</th>\n",
       "      <td>8</td>\n",
       "      <td>2</td>\n",
       "      <td>37</td>\n",
       "      <td>0</td>\n",
       "      <td>195</td>\n",
       "      <td>195</td>\n",
       "      <td>0</td>\n",
       "      <td>0</td>\n",
       "      <td>0</td>\n",
       "      <td>0</td>\n",
       "      <td>...</td>\n",
       "      <td>0</td>\n",
       "      <td>0</td>\n",
       "      <td>0</td>\n",
       "      <td>0</td>\n",
       "      <td>0</td>\n",
       "      <td>0</td>\n",
       "      <td>0</td>\n",
       "      <td>0</td>\n",
       "      <td>64007.970000</td>\n",
       "      <td>0</td>\n",
       "    </tr>\n",
       "    <tr>\n",
       "      <th>4</th>\n",
       "      <td>10</td>\n",
       "      <td>2</td>\n",
       "      <td>39</td>\n",
       "      <td>0</td>\n",
       "      <td>0</td>\n",
       "      <td>0</td>\n",
       "      <td>0</td>\n",
       "      <td>0</td>\n",
       "      <td>0</td>\n",
       "      <td>0</td>\n",
       "      <td>...</td>\n",
       "      <td>0</td>\n",
       "      <td>0</td>\n",
       "      <td>0</td>\n",
       "      <td>0</td>\n",
       "      <td>0</td>\n",
       "      <td>0</td>\n",
       "      <td>0</td>\n",
       "      <td>0</td>\n",
       "      <td>117310.979016</td>\n",
       "      <td>0</td>\n",
       "    </tr>\n",
       "  </tbody>\n",
       "</table>\n",
       "<p>5 rows × 371 columns</p>\n",
       "</div>"
      ],
      "text/plain": [
       "   ID  var3  var15  imp_ent_var16_ult1  imp_op_var39_comer_ult1  \\\n",
       "0   1     2     23                   0                        0   \n",
       "1   3     2     34                   0                        0   \n",
       "2   4     2     23                   0                        0   \n",
       "3   8     2     37                   0                      195   \n",
       "4  10     2     39                   0                        0   \n",
       "\n",
       "   imp_op_var39_comer_ult3  imp_op_var40_comer_ult1  imp_op_var40_comer_ult3  \\\n",
       "0                        0                        0                        0   \n",
       "1                        0                        0                        0   \n",
       "2                        0                        0                        0   \n",
       "3                      195                        0                        0   \n",
       "4                        0                        0                        0   \n",
       "\n",
       "   imp_op_var40_efect_ult1  imp_op_var40_efect_ult3   ...    \\\n",
       "0                        0                        0   ...     \n",
       "1                        0                        0   ...     \n",
       "2                        0                        0   ...     \n",
       "3                        0                        0   ...     \n",
       "4                        0                        0   ...     \n",
       "\n",
       "   saldo_medio_var33_hace2  saldo_medio_var33_hace3  saldo_medio_var33_ult1  \\\n",
       "0                        0                        0                       0   \n",
       "1                        0                        0                       0   \n",
       "2                        0                        0                       0   \n",
       "3                        0                        0                       0   \n",
       "4                        0                        0                       0   \n",
       "\n",
       "   saldo_medio_var33_ult3  saldo_medio_var44_hace2  saldo_medio_var44_hace3  \\\n",
       "0                       0                        0                        0   \n",
       "1                       0                        0                        0   \n",
       "2                       0                        0                        0   \n",
       "3                       0                        0                        0   \n",
       "4                       0                        0                        0   \n",
       "\n",
       "   saldo_medio_var44_ult1  saldo_medio_var44_ult3          var38  TARGET  \n",
       "0                       0                       0   39205.170000       0  \n",
       "1                       0                       0   49278.030000       0  \n",
       "2                       0                       0   67333.770000       0  \n",
       "3                       0                       0   64007.970000       0  \n",
       "4                       0                       0  117310.979016       0  \n",
       "\n",
       "[5 rows x 371 columns]"
      ]
     },
     "execution_count": 2,
     "metadata": {},
     "output_type": "execute_result"
    }
   ],
   "source": [
    "train = pd.read_csv('../input/train.csv')\n",
    "test = pd.read_csv('../input/test.csv')\n",
    "train.head()"
   ]
  },
  {
   "cell_type": "code",
   "execution_count": 4,
   "metadata": {
    "collapsed": false
   },
   "outputs": [
    {
     "data": {
      "text/html": [
       "<div>\n",
       "<table border=\"1\" class=\"dataframe\">\n",
       "  <thead>\n",
       "    <tr style=\"text-align: right;\">\n",
       "      <th></th>\n",
       "      <th>ID</th>\n",
       "      <th>var3</th>\n",
       "      <th>var15</th>\n",
       "      <th>imp_ent_var16_ult1</th>\n",
       "      <th>imp_op_var39_comer_ult1</th>\n",
       "      <th>imp_op_var39_comer_ult3</th>\n",
       "      <th>imp_op_var40_comer_ult1</th>\n",
       "      <th>imp_op_var40_comer_ult3</th>\n",
       "      <th>imp_op_var40_efect_ult1</th>\n",
       "      <th>imp_op_var40_efect_ult3</th>\n",
       "      <th>...</th>\n",
       "      <th>saldo_medio_var29_ult3</th>\n",
       "      <th>saldo_medio_var33_hace2</th>\n",
       "      <th>saldo_medio_var33_hace3</th>\n",
       "      <th>saldo_medio_var33_ult1</th>\n",
       "      <th>saldo_medio_var33_ult3</th>\n",
       "      <th>saldo_medio_var44_hace2</th>\n",
       "      <th>saldo_medio_var44_hace3</th>\n",
       "      <th>saldo_medio_var44_ult1</th>\n",
       "      <th>saldo_medio_var44_ult3</th>\n",
       "      <th>var38</th>\n",
       "    </tr>\n",
       "  </thead>\n",
       "  <tbody>\n",
       "    <tr>\n",
       "      <th>75813</th>\n",
       "      <td>151831</td>\n",
       "      <td>2</td>\n",
       "      <td>23</td>\n",
       "      <td>0</td>\n",
       "      <td>0</td>\n",
       "      <td>0</td>\n",
       "      <td>0</td>\n",
       "      <td>0</td>\n",
       "      <td>0</td>\n",
       "      <td>0</td>\n",
       "      <td>...</td>\n",
       "      <td>0</td>\n",
       "      <td>0</td>\n",
       "      <td>0</td>\n",
       "      <td>0</td>\n",
       "      <td>0</td>\n",
       "      <td>0</td>\n",
       "      <td>0</td>\n",
       "      <td>0</td>\n",
       "      <td>0</td>\n",
       "      <td>40243.200000</td>\n",
       "    </tr>\n",
       "    <tr>\n",
       "      <th>75814</th>\n",
       "      <td>151832</td>\n",
       "      <td>2</td>\n",
       "      <td>26</td>\n",
       "      <td>0</td>\n",
       "      <td>0</td>\n",
       "      <td>0</td>\n",
       "      <td>0</td>\n",
       "      <td>0</td>\n",
       "      <td>0</td>\n",
       "      <td>0</td>\n",
       "      <td>...</td>\n",
       "      <td>0</td>\n",
       "      <td>0</td>\n",
       "      <td>0</td>\n",
       "      <td>0</td>\n",
       "      <td>0</td>\n",
       "      <td>0</td>\n",
       "      <td>0</td>\n",
       "      <td>0</td>\n",
       "      <td>0</td>\n",
       "      <td>146961.300000</td>\n",
       "    </tr>\n",
       "    <tr>\n",
       "      <th>75815</th>\n",
       "      <td>151833</td>\n",
       "      <td>2</td>\n",
       "      <td>24</td>\n",
       "      <td>0</td>\n",
       "      <td>0</td>\n",
       "      <td>0</td>\n",
       "      <td>0</td>\n",
       "      <td>0</td>\n",
       "      <td>0</td>\n",
       "      <td>0</td>\n",
       "      <td>...</td>\n",
       "      <td>0</td>\n",
       "      <td>0</td>\n",
       "      <td>0</td>\n",
       "      <td>0</td>\n",
       "      <td>0</td>\n",
       "      <td>0</td>\n",
       "      <td>0</td>\n",
       "      <td>0</td>\n",
       "      <td>0</td>\n",
       "      <td>167299.770000</td>\n",
       "    </tr>\n",
       "    <tr>\n",
       "      <th>75816</th>\n",
       "      <td>151834</td>\n",
       "      <td>2</td>\n",
       "      <td>40</td>\n",
       "      <td>0</td>\n",
       "      <td>0</td>\n",
       "      <td>0</td>\n",
       "      <td>0</td>\n",
       "      <td>0</td>\n",
       "      <td>0</td>\n",
       "      <td>0</td>\n",
       "      <td>...</td>\n",
       "      <td>0</td>\n",
       "      <td>0</td>\n",
       "      <td>0</td>\n",
       "      <td>0</td>\n",
       "      <td>0</td>\n",
       "      <td>0</td>\n",
       "      <td>0</td>\n",
       "      <td>0</td>\n",
       "      <td>0</td>\n",
       "      <td>117310.979016</td>\n",
       "    </tr>\n",
       "    <tr>\n",
       "      <th>75817</th>\n",
       "      <td>151837</td>\n",
       "      <td>2</td>\n",
       "      <td>23</td>\n",
       "      <td>0</td>\n",
       "      <td>0</td>\n",
       "      <td>0</td>\n",
       "      <td>0</td>\n",
       "      <td>0</td>\n",
       "      <td>0</td>\n",
       "      <td>0</td>\n",
       "      <td>...</td>\n",
       "      <td>0</td>\n",
       "      <td>0</td>\n",
       "      <td>0</td>\n",
       "      <td>0</td>\n",
       "      <td>0</td>\n",
       "      <td>0</td>\n",
       "      <td>0</td>\n",
       "      <td>0</td>\n",
       "      <td>0</td>\n",
       "      <td>117310.979016</td>\n",
       "    </tr>\n",
       "  </tbody>\n",
       "</table>\n",
       "<p>5 rows × 370 columns</p>\n",
       "</div>"
      ],
      "text/plain": [
       "           ID  var3  var15  imp_ent_var16_ult1  imp_op_var39_comer_ult1  \\\n",
       "75813  151831     2     23                   0                        0   \n",
       "75814  151832     2     26                   0                        0   \n",
       "75815  151833     2     24                   0                        0   \n",
       "75816  151834     2     40                   0                        0   \n",
       "75817  151837     2     23                   0                        0   \n",
       "\n",
       "       imp_op_var39_comer_ult3  imp_op_var40_comer_ult1  \\\n",
       "75813                        0                        0   \n",
       "75814                        0                        0   \n",
       "75815                        0                        0   \n",
       "75816                        0                        0   \n",
       "75817                        0                        0   \n",
       "\n",
       "       imp_op_var40_comer_ult3  imp_op_var40_efect_ult1  \\\n",
       "75813                        0                        0   \n",
       "75814                        0                        0   \n",
       "75815                        0                        0   \n",
       "75816                        0                        0   \n",
       "75817                        0                        0   \n",
       "\n",
       "       imp_op_var40_efect_ult3      ...        saldo_medio_var29_ult3  \\\n",
       "75813                        0      ...                             0   \n",
       "75814                        0      ...                             0   \n",
       "75815                        0      ...                             0   \n",
       "75816                        0      ...                             0   \n",
       "75817                        0      ...                             0   \n",
       "\n",
       "       saldo_medio_var33_hace2  saldo_medio_var33_hace3  \\\n",
       "75813                        0                        0   \n",
       "75814                        0                        0   \n",
       "75815                        0                        0   \n",
       "75816                        0                        0   \n",
       "75817                        0                        0   \n",
       "\n",
       "       saldo_medio_var33_ult1  saldo_medio_var33_ult3  \\\n",
       "75813                       0                       0   \n",
       "75814                       0                       0   \n",
       "75815                       0                       0   \n",
       "75816                       0                       0   \n",
       "75817                       0                       0   \n",
       "\n",
       "       saldo_medio_var44_hace2  saldo_medio_var44_hace3  \\\n",
       "75813                        0                        0   \n",
       "75814                        0                        0   \n",
       "75815                        0                        0   \n",
       "75816                        0                        0   \n",
       "75817                        0                        0   \n",
       "\n",
       "       saldo_medio_var44_ult1  saldo_medio_var44_ult3          var38  \n",
       "75813                       0                       0   40243.200000  \n",
       "75814                       0                       0  146961.300000  \n",
       "75815                       0                       0  167299.770000  \n",
       "75816                       0                       0  117310.979016  \n",
       "75817                       0                       0  117310.979016  \n",
       "\n",
       "[5 rows x 370 columns]"
      ]
     },
     "execution_count": 4,
     "metadata": {},
     "output_type": "execute_result"
    }
   ],
   "source": [
    "test.tail()"
   ]
  },
  {
   "cell_type": "code",
   "execution_count": 5,
   "metadata": {
    "collapsed": false
   },
   "outputs": [
    {
     "data": {
      "text/html": [
       "<div>\n",
       "<table border=\"1\" class=\"dataframe\">\n",
       "  <thead>\n",
       "    <tr style=\"text-align: right;\">\n",
       "      <th></th>\n",
       "      <th>ID</th>\n",
       "      <th>var3</th>\n",
       "      <th>var15</th>\n",
       "      <th>imp_ent_var16_ult1</th>\n",
       "      <th>imp_op_var39_comer_ult1</th>\n",
       "      <th>imp_op_var39_comer_ult3</th>\n",
       "      <th>imp_op_var40_comer_ult1</th>\n",
       "      <th>imp_op_var40_comer_ult3</th>\n",
       "      <th>imp_op_var40_efect_ult1</th>\n",
       "      <th>imp_op_var40_efect_ult3</th>\n",
       "      <th>...</th>\n",
       "      <th>saldo_medio_var33_hace2</th>\n",
       "      <th>saldo_medio_var33_hace3</th>\n",
       "      <th>saldo_medio_var33_ult1</th>\n",
       "      <th>saldo_medio_var33_ult3</th>\n",
       "      <th>saldo_medio_var44_hace2</th>\n",
       "      <th>saldo_medio_var44_hace3</th>\n",
       "      <th>saldo_medio_var44_ult1</th>\n",
       "      <th>saldo_medio_var44_ult3</th>\n",
       "      <th>var38</th>\n",
       "      <th>TARGET</th>\n",
       "    </tr>\n",
       "  </thead>\n",
       "  <tbody>\n",
       "    <tr>\n",
       "      <th>count</th>\n",
       "      <td>76020.000000</td>\n",
       "      <td>76020.000000</td>\n",
       "      <td>76020.000000</td>\n",
       "      <td>76020.000000</td>\n",
       "      <td>76020.000000</td>\n",
       "      <td>76020.000000</td>\n",
       "      <td>76020.000000</td>\n",
       "      <td>76020.000000</td>\n",
       "      <td>76020.000000</td>\n",
       "      <td>76020.000000</td>\n",
       "      <td>...</td>\n",
       "      <td>76020.000000</td>\n",
       "      <td>76020.000000</td>\n",
       "      <td>76020.000000</td>\n",
       "      <td>76020.000000</td>\n",
       "      <td>76020.000000</td>\n",
       "      <td>76020.000000</td>\n",
       "      <td>76020.000000</td>\n",
       "      <td>76020.000000</td>\n",
       "      <td>76020.000000</td>\n",
       "      <td>76020.000000</td>\n",
       "    </tr>\n",
       "    <tr>\n",
       "      <th>mean</th>\n",
       "      <td>75964.050723</td>\n",
       "      <td>-1523.199277</td>\n",
       "      <td>33.212865</td>\n",
       "      <td>86.208265</td>\n",
       "      <td>72.363067</td>\n",
       "      <td>119.529632</td>\n",
       "      <td>3.559130</td>\n",
       "      <td>6.472698</td>\n",
       "      <td>0.412946</td>\n",
       "      <td>0.567352</td>\n",
       "      <td>...</td>\n",
       "      <td>7.935824</td>\n",
       "      <td>1.365146</td>\n",
       "      <td>12.215580</td>\n",
       "      <td>8.784074</td>\n",
       "      <td>31.505324</td>\n",
       "      <td>1.858575</td>\n",
       "      <td>76.026165</td>\n",
       "      <td>56.614351</td>\n",
       "      <td>117235.809430</td>\n",
       "      <td>0.039569</td>\n",
       "    </tr>\n",
       "    <tr>\n",
       "      <th>std</th>\n",
       "      <td>43781.947379</td>\n",
       "      <td>39033.462364</td>\n",
       "      <td>12.956486</td>\n",
       "      <td>1614.757313</td>\n",
       "      <td>339.315831</td>\n",
       "      <td>546.266294</td>\n",
       "      <td>93.155749</td>\n",
       "      <td>153.737066</td>\n",
       "      <td>30.604864</td>\n",
       "      <td>36.513513</td>\n",
       "      <td>...</td>\n",
       "      <td>455.887218</td>\n",
       "      <td>113.959637</td>\n",
       "      <td>783.207399</td>\n",
       "      <td>538.439211</td>\n",
       "      <td>2013.125393</td>\n",
       "      <td>147.786584</td>\n",
       "      <td>4040.337842</td>\n",
       "      <td>2852.579397</td>\n",
       "      <td>182664.598503</td>\n",
       "      <td>0.194945</td>\n",
       "    </tr>\n",
       "    <tr>\n",
       "      <th>min</th>\n",
       "      <td>1.000000</td>\n",
       "      <td>-999999.000000</td>\n",
       "      <td>5.000000</td>\n",
       "      <td>0.000000</td>\n",
       "      <td>0.000000</td>\n",
       "      <td>0.000000</td>\n",
       "      <td>0.000000</td>\n",
       "      <td>0.000000</td>\n",
       "      <td>0.000000</td>\n",
       "      <td>0.000000</td>\n",
       "      <td>...</td>\n",
       "      <td>0.000000</td>\n",
       "      <td>0.000000</td>\n",
       "      <td>0.000000</td>\n",
       "      <td>0.000000</td>\n",
       "      <td>0.000000</td>\n",
       "      <td>0.000000</td>\n",
       "      <td>0.000000</td>\n",
       "      <td>0.000000</td>\n",
       "      <td>5163.750000</td>\n",
       "      <td>0.000000</td>\n",
       "    </tr>\n",
       "    <tr>\n",
       "      <th>25%</th>\n",
       "      <td>38104.750000</td>\n",
       "      <td>2.000000</td>\n",
       "      <td>23.000000</td>\n",
       "      <td>0.000000</td>\n",
       "      <td>0.000000</td>\n",
       "      <td>0.000000</td>\n",
       "      <td>0.000000</td>\n",
       "      <td>0.000000</td>\n",
       "      <td>0.000000</td>\n",
       "      <td>0.000000</td>\n",
       "      <td>...</td>\n",
       "      <td>0.000000</td>\n",
       "      <td>0.000000</td>\n",
       "      <td>0.000000</td>\n",
       "      <td>0.000000</td>\n",
       "      <td>0.000000</td>\n",
       "      <td>0.000000</td>\n",
       "      <td>0.000000</td>\n",
       "      <td>0.000000</td>\n",
       "      <td>67870.612500</td>\n",
       "      <td>0.000000</td>\n",
       "    </tr>\n",
       "    <tr>\n",
       "      <th>50%</th>\n",
       "      <td>76043.000000</td>\n",
       "      <td>2.000000</td>\n",
       "      <td>28.000000</td>\n",
       "      <td>0.000000</td>\n",
       "      <td>0.000000</td>\n",
       "      <td>0.000000</td>\n",
       "      <td>0.000000</td>\n",
       "      <td>0.000000</td>\n",
       "      <td>0.000000</td>\n",
       "      <td>0.000000</td>\n",
       "      <td>...</td>\n",
       "      <td>0.000000</td>\n",
       "      <td>0.000000</td>\n",
       "      <td>0.000000</td>\n",
       "      <td>0.000000</td>\n",
       "      <td>0.000000</td>\n",
       "      <td>0.000000</td>\n",
       "      <td>0.000000</td>\n",
       "      <td>0.000000</td>\n",
       "      <td>106409.160000</td>\n",
       "      <td>0.000000</td>\n",
       "    </tr>\n",
       "    <tr>\n",
       "      <th>75%</th>\n",
       "      <td>113748.750000</td>\n",
       "      <td>2.000000</td>\n",
       "      <td>40.000000</td>\n",
       "      <td>0.000000</td>\n",
       "      <td>0.000000</td>\n",
       "      <td>0.000000</td>\n",
       "      <td>0.000000</td>\n",
       "      <td>0.000000</td>\n",
       "      <td>0.000000</td>\n",
       "      <td>0.000000</td>\n",
       "      <td>...</td>\n",
       "      <td>0.000000</td>\n",
       "      <td>0.000000</td>\n",
       "      <td>0.000000</td>\n",
       "      <td>0.000000</td>\n",
       "      <td>0.000000</td>\n",
       "      <td>0.000000</td>\n",
       "      <td>0.000000</td>\n",
       "      <td>0.000000</td>\n",
       "      <td>118756.252500</td>\n",
       "      <td>0.000000</td>\n",
       "    </tr>\n",
       "    <tr>\n",
       "      <th>max</th>\n",
       "      <td>151838.000000</td>\n",
       "      <td>238.000000</td>\n",
       "      <td>105.000000</td>\n",
       "      <td>210000.000000</td>\n",
       "      <td>12888.030000</td>\n",
       "      <td>21024.810000</td>\n",
       "      <td>8237.820000</td>\n",
       "      <td>11073.570000</td>\n",
       "      <td>6600.000000</td>\n",
       "      <td>6600.000000</td>\n",
       "      <td>...</td>\n",
       "      <td>50003.880000</td>\n",
       "      <td>20385.720000</td>\n",
       "      <td>138831.630000</td>\n",
       "      <td>91778.730000</td>\n",
       "      <td>438329.220000</td>\n",
       "      <td>24650.010000</td>\n",
       "      <td>681462.900000</td>\n",
       "      <td>397884.300000</td>\n",
       "      <td>22034738.760000</td>\n",
       "      <td>1.000000</td>\n",
       "    </tr>\n",
       "  </tbody>\n",
       "</table>\n",
       "<p>8 rows × 371 columns</p>\n",
       "</div>"
      ],
      "text/plain": [
       "                  ID           var3         var15  imp_ent_var16_ult1  \\\n",
       "count   76020.000000   76020.000000  76020.000000        76020.000000   \n",
       "mean    75964.050723   -1523.199277     33.212865           86.208265   \n",
       "std     43781.947379   39033.462364     12.956486         1614.757313   \n",
       "min         1.000000 -999999.000000      5.000000            0.000000   \n",
       "25%     38104.750000       2.000000     23.000000            0.000000   \n",
       "50%     76043.000000       2.000000     28.000000            0.000000   \n",
       "75%    113748.750000       2.000000     40.000000            0.000000   \n",
       "max    151838.000000     238.000000    105.000000       210000.000000   \n",
       "\n",
       "       imp_op_var39_comer_ult1  imp_op_var39_comer_ult3  \\\n",
       "count             76020.000000             76020.000000   \n",
       "mean                 72.363067               119.529632   \n",
       "std                 339.315831               546.266294   \n",
       "min                   0.000000                 0.000000   \n",
       "25%                   0.000000                 0.000000   \n",
       "50%                   0.000000                 0.000000   \n",
       "75%                   0.000000                 0.000000   \n",
       "max               12888.030000             21024.810000   \n",
       "\n",
       "       imp_op_var40_comer_ult1  imp_op_var40_comer_ult3  \\\n",
       "count             76020.000000             76020.000000   \n",
       "mean                  3.559130                 6.472698   \n",
       "std                  93.155749               153.737066   \n",
       "min                   0.000000                 0.000000   \n",
       "25%                   0.000000                 0.000000   \n",
       "50%                   0.000000                 0.000000   \n",
       "75%                   0.000000                 0.000000   \n",
       "max                8237.820000             11073.570000   \n",
       "\n",
       "       imp_op_var40_efect_ult1  imp_op_var40_efect_ult3      ...       \\\n",
       "count             76020.000000             76020.000000      ...        \n",
       "mean                  0.412946                 0.567352      ...        \n",
       "std                  30.604864                36.513513      ...        \n",
       "min                   0.000000                 0.000000      ...        \n",
       "25%                   0.000000                 0.000000      ...        \n",
       "50%                   0.000000                 0.000000      ...        \n",
       "75%                   0.000000                 0.000000      ...        \n",
       "max                6600.000000              6600.000000      ...        \n",
       "\n",
       "       saldo_medio_var33_hace2  saldo_medio_var33_hace3  \\\n",
       "count             76020.000000             76020.000000   \n",
       "mean                  7.935824                 1.365146   \n",
       "std                 455.887218               113.959637   \n",
       "min                   0.000000                 0.000000   \n",
       "25%                   0.000000                 0.000000   \n",
       "50%                   0.000000                 0.000000   \n",
       "75%                   0.000000                 0.000000   \n",
       "max               50003.880000             20385.720000   \n",
       "\n",
       "       saldo_medio_var33_ult1  saldo_medio_var33_ult3  \\\n",
       "count            76020.000000            76020.000000   \n",
       "mean                12.215580                8.784074   \n",
       "std                783.207399              538.439211   \n",
       "min                  0.000000                0.000000   \n",
       "25%                  0.000000                0.000000   \n",
       "50%                  0.000000                0.000000   \n",
       "75%                  0.000000                0.000000   \n",
       "max             138831.630000            91778.730000   \n",
       "\n",
       "       saldo_medio_var44_hace2  saldo_medio_var44_hace3  \\\n",
       "count             76020.000000             76020.000000   \n",
       "mean                 31.505324                 1.858575   \n",
       "std                2013.125393               147.786584   \n",
       "min                   0.000000                 0.000000   \n",
       "25%                   0.000000                 0.000000   \n",
       "50%                   0.000000                 0.000000   \n",
       "75%                   0.000000                 0.000000   \n",
       "max              438329.220000             24650.010000   \n",
       "\n",
       "       saldo_medio_var44_ult1  saldo_medio_var44_ult3            var38  \\\n",
       "count            76020.000000            76020.000000     76020.000000   \n",
       "mean                76.026165               56.614351    117235.809430   \n",
       "std               4040.337842             2852.579397    182664.598503   \n",
       "min                  0.000000                0.000000      5163.750000   \n",
       "25%                  0.000000                0.000000     67870.612500   \n",
       "50%                  0.000000                0.000000    106409.160000   \n",
       "75%                  0.000000                0.000000    118756.252500   \n",
       "max             681462.900000           397884.300000  22034738.760000   \n",
       "\n",
       "             TARGET  \n",
       "count  76020.000000  \n",
       "mean       0.039569  \n",
       "std        0.194945  \n",
       "min        0.000000  \n",
       "25%        0.000000  \n",
       "50%        0.000000  \n",
       "75%        0.000000  \n",
       "max        1.000000  \n",
       "\n",
       "[8 rows x 371 columns]"
      ]
     },
     "execution_count": 5,
     "metadata": {},
     "output_type": "execute_result"
    }
   ],
   "source": [
    "train.describe()"
   ]
  },
  {
   "cell_type": "code",
   "execution_count": 18,
   "metadata": {
    "collapsed": false
   },
   "outputs": [
    {
     "name": "stdout",
     "output_type": "stream",
     "text": [
      "[u'seaborn-darkgrid', u'seaborn-notebook', u'classic', u'seaborn-ticks', u'grayscale', u'bmh', u'seaborn-talk', u'dark_background', u'ggplot', u'fivethirtyeight', u'seaborn-colorblind', u'seaborn-deep', u'seaborn-whitegrid', u'seaborn-bright', u'seaborn-poster', u'seaborn-muted', u'seaborn-paper', u'seaborn-white', u'seaborn-pastel', u'seaborn-dark', u'seaborn-dark-palette']\n"
     ]
    }
   ],
   "source": [
    "print plt.style.available\n",
    "plt.style.use('ggplot')"
   ]
  },
  {
   "cell_type": "code",
   "execution_count": 4,
   "metadata": {
    "collapsed": false
   },
   "outputs": [
    {
     "data": {
      "text/plain": [
       "3008"
      ]
     },
     "execution_count": 4,
     "metadata": {},
     "output_type": "execute_result"
    }
   ],
   "source": [
    "(train['TARGET']==1).sum()"
   ]
  },
  {
   "cell_type": "code",
   "execution_count": 19,
   "metadata": {
    "collapsed": false
   },
   "outputs": [
    {
     "data": {
      "image/png": "[encoded data removed]",
      "text/plain": [
       "<matplotlib.figure.Figure at 0x1187f1050>"
      ]
     },
     "metadata": {},
     "output_type": "display_data"
    }
   ],
   "source": [
    "# var15 is AGE\n",
    "_ = train['var15'].hist(bins=25)"
   ]
  },
  {
   "cell_type": "code",
   "execution_count": 6,
   "metadata": {
    "collapsed": false
   },
   "outputs": [
    {
     "name": "stdout",
     "output_type": "stream",
     "text": [
      "1212\n",
      "0\n"
     ]
    }
   ],
   "source": [
    "# under 23 do not complain\n",
    "print len(train['TARGET'][train.var15<23])\n",
    "print sum(train['TARGET'][train.var15<23])"
   ]
  },
  {
   "cell_type": "markdown",
   "metadata": {},
   "source": [
    "## Combine train and test sets"
   ]
  },
  {
   "cell_type": "code",
   "execution_count": 4,
   "metadata": {
    "collapsed": true
   },
   "outputs": [],
   "source": [
    "## use for spltting up combined train+test data, recording predictions\n",
    "labels = train['TARGET'].values\n",
    "df_train = train.drop(['TARGET'], axis=1)\n",
    "df_test = test.copy()\n",
    "id_test = test['ID']\n",
    "piv_train = train.shape[0]"
   ]
  },
  {
   "cell_type": "code",
   "execution_count": 108,
   "metadata": {
    "collapsed": false
   },
   "outputs": [],
   "source": [
    "#Creating a DataFrame with train+test data\n",
    "df_all = pd.concat((df_train, df_test), axis=0, ignore_index=True)\n",
    "\n",
    "# Removing id\n",
    "# we can also remove id later\n",
    "df_all = df_all.drop(['ID'], axis=1)\n",
    "#(df_all.isnull().sum() / df_all.shape[0])"
   ]
  },
  {
   "cell_type": "code",
   "execution_count": 118,
   "metadata": {
    "collapsed": false
   },
   "outputs": [
    {
     "data": {
      "text/plain": [
       "['ind_var2_0',\n",
       " 'ind_var2',\n",
       " 'ind_var27_0',\n",
       " 'ind_var28_0',\n",
       " 'ind_var28',\n",
       " 'ind_var27',\n",
       " 'ind_var41',\n",
       " 'ind_var46_0',\n",
       " 'ind_var46',\n",
       " 'num_var27_0',\n",
       " 'num_var28_0',\n",
       " 'num_var28',\n",
       " 'num_var27',\n",
       " 'num_var41',\n",
       " 'num_var46_0',\n",
       " 'num_var46',\n",
       " 'saldo_var28',\n",
       " 'saldo_var27',\n",
       " 'saldo_var41',\n",
       " 'saldo_var46',\n",
       " 'imp_amort_var18_hace3',\n",
       " 'imp_amort_var34_hace3',\n",
       " 'imp_reemb_var13_hace3',\n",
       " 'imp_reemb_var33_hace3',\n",
       " 'imp_trasp_var17_out_hace3',\n",
       " 'imp_trasp_var33_out_hace3',\n",
       " 'num_var2_0_ult1',\n",
       " 'num_var2_ult1',\n",
       " 'num_reemb_var13_hace3',\n",
       " 'num_reemb_var33_hace3',\n",
       " 'num_trasp_var17_out_hace3',\n",
       " 'num_trasp_var33_out_hace3',\n",
       " 'saldo_var2_ult1',\n",
       " 'saldo_medio_var13_medio_hace3']"
      ]
     },
     "metadata": {},
     "output_type": "display_data"
    },
    {
     "name": "stdout",
     "output_type": "stream",
     "text": [
      "(151838, 335)\n"
     ]
    }
   ],
   "source": [
    "# remove features that are constant for all rows\n",
    "constants = []\n",
    "for f in df_all.columns:\n",
    "    #print len(np.unique(df_all[f])), '/', len(df_all[f])\n",
    "    if len(np.unique(df_all[f])) == 1:\n",
    "        constants.append(f)\n",
    "display(constants)\n",
    "df_all = df_all.drop(constants, axis=1)\n",
    "print df_all.shape"
   ]
  },
  {
   "cell_type": "code",
   "execution_count": 104,
   "metadata": {
    "collapsed": false
   },
   "outputs": [
    {
     "name": "stdout",
     "output_type": "stream",
     "text": [
      "23 ind_var6_0\n",
      "24 ind_var6\n",
      "47 ind_var26_0\n",
      "66 ind_var40\n",
      "76 num_var6_0\n",
      "77 num_var6\n",
      "128 num_var40\n",
      "168 delta_imp_reemb_var13_1y3\n",
      "170 delta_imp_reemb_var33_1y3\n",
      "172 delta_imp_trasp_var17_out_1y3\n",
      "174 delta_imp_trasp_var33_out_1y3\n"
     ]
    },
    {
     "data": {
      "text/plain": [
       "[23, 24, 47, 66, 76, 77, 128, 168, 170, 172, 174]"
      ]
     },
     "metadata": {},
     "output_type": "display_data"
    },
    {
     "data": {
      "text/html": [
       "<div>\n",
       "<table border=\"1\" class=\"dataframe\">\n",
       "  <thead>\n",
       "    <tr style=\"text-align: right;\">\n",
       "      <th></th>\n",
       "      <th>var3</th>\n",
       "      <th>var15</th>\n",
       "      <th>imp_ent_var16_ult1</th>\n",
       "      <th>imp_op_var39_comer_ult1</th>\n",
       "      <th>imp_op_var39_comer_ult3</th>\n",
       "      <th>imp_op_var40_comer_ult1</th>\n",
       "      <th>imp_op_var40_comer_ult3</th>\n",
       "      <th>imp_op_var40_efect_ult1</th>\n",
       "      <th>imp_op_var40_efect_ult3</th>\n",
       "      <th>imp_op_var40_ult1</th>\n",
       "      <th>...</th>\n",
       "      <th>saldo_medio_var33_hace2</th>\n",
       "      <th>saldo_medio_var33_hace3</th>\n",
       "      <th>saldo_medio_var33_ult1</th>\n",
       "      <th>saldo_medio_var33_ult3</th>\n",
       "      <th>saldo_medio_var44_hace2</th>\n",
       "      <th>saldo_medio_var44_hace3</th>\n",
       "      <th>saldo_medio_var44_ult1</th>\n",
       "      <th>saldo_medio_var44_ult3</th>\n",
       "      <th>var38</th>\n",
       "      <th>n0</th>\n",
       "    </tr>\n",
       "  </thead>\n",
       "  <tbody>\n",
       "    <tr>\n",
       "      <th>0</th>\n",
       "      <td>2</td>\n",
       "      <td>23</td>\n",
       "      <td>0</td>\n",
       "      <td>0</td>\n",
       "      <td>0</td>\n",
       "      <td>0</td>\n",
       "      <td>0</td>\n",
       "      <td>0</td>\n",
       "      <td>0</td>\n",
       "      <td>0</td>\n",
       "      <td>...</td>\n",
       "      <td>0</td>\n",
       "      <td>0</td>\n",
       "      <td>0</td>\n",
       "      <td>0</td>\n",
       "      <td>0</td>\n",
       "      <td>0</td>\n",
       "      <td>0</td>\n",
       "      <td>0</td>\n",
       "      <td>10.576564</td>\n",
       "      <td>321</td>\n",
       "    </tr>\n",
       "    <tr>\n",
       "      <th>1</th>\n",
       "      <td>2</td>\n",
       "      <td>34</td>\n",
       "      <td>0</td>\n",
       "      <td>0</td>\n",
       "      <td>0</td>\n",
       "      <td>0</td>\n",
       "      <td>0</td>\n",
       "      <td>0</td>\n",
       "      <td>0</td>\n",
       "      <td>0</td>\n",
       "      <td>...</td>\n",
       "      <td>0</td>\n",
       "      <td>0</td>\n",
       "      <td>0</td>\n",
       "      <td>0</td>\n",
       "      <td>0</td>\n",
       "      <td>0</td>\n",
       "      <td>0</td>\n",
       "      <td>0</td>\n",
       "      <td>10.805234</td>\n",
       "      <td>295</td>\n",
       "    </tr>\n",
       "    <tr>\n",
       "      <th>2</th>\n",
       "      <td>2</td>\n",
       "      <td>23</td>\n",
       "      <td>0</td>\n",
       "      <td>0</td>\n",
       "      <td>0</td>\n",
       "      <td>0</td>\n",
       "      <td>0</td>\n",
       "      <td>0</td>\n",
       "      <td>0</td>\n",
       "      <td>0</td>\n",
       "      <td>...</td>\n",
       "      <td>0</td>\n",
       "      <td>0</td>\n",
       "      <td>0</td>\n",
       "      <td>0</td>\n",
       "      <td>0</td>\n",
       "      <td>0</td>\n",
       "      <td>0</td>\n",
       "      <td>0</td>\n",
       "      <td>11.117417</td>\n",
       "      <td>306</td>\n",
       "    </tr>\n",
       "    <tr>\n",
       "      <th>3</th>\n",
       "      <td>2</td>\n",
       "      <td>37</td>\n",
       "      <td>0</td>\n",
       "      <td>195</td>\n",
       "      <td>195</td>\n",
       "      <td>0</td>\n",
       "      <td>0</td>\n",
       "      <td>0</td>\n",
       "      <td>0</td>\n",
       "      <td>0</td>\n",
       "      <td>...</td>\n",
       "      <td>0</td>\n",
       "      <td>0</td>\n",
       "      <td>0</td>\n",
       "      <td>0</td>\n",
       "      <td>0</td>\n",
       "      <td>0</td>\n",
       "      <td>0</td>\n",
       "      <td>0</td>\n",
       "      <td>11.066763</td>\n",
       "      <td>275</td>\n",
       "    </tr>\n",
       "    <tr>\n",
       "      <th>4</th>\n",
       "      <td>2</td>\n",
       "      <td>39</td>\n",
       "      <td>0</td>\n",
       "      <td>0</td>\n",
       "      <td>0</td>\n",
       "      <td>0</td>\n",
       "      <td>0</td>\n",
       "      <td>0</td>\n",
       "      <td>0</td>\n",
       "      <td>0</td>\n",
       "      <td>...</td>\n",
       "      <td>0</td>\n",
       "      <td>0</td>\n",
       "      <td>0</td>\n",
       "      <td>0</td>\n",
       "      <td>0</td>\n",
       "      <td>0</td>\n",
       "      <td>0</td>\n",
       "      <td>0</td>\n",
       "      <td>11.672584</td>\n",
       "      <td>285</td>\n",
       "    </tr>\n",
       "  </tbody>\n",
       "</table>\n",
       "<p>5 rows × 324 columns</p>\n",
       "</div>"
      ],
      "text/plain": [
       "   var3  var15  imp_ent_var16_ult1  imp_op_var39_comer_ult1  \\\n",
       "0     2     23                   0                        0   \n",
       "1     2     34                   0                        0   \n",
       "2     2     23                   0                        0   \n",
       "3     2     37                   0                      195   \n",
       "4     2     39                   0                        0   \n",
       "\n",
       "   imp_op_var39_comer_ult3  imp_op_var40_comer_ult1  imp_op_var40_comer_ult3  \\\n",
       "0                        0                        0                        0   \n",
       "1                        0                        0                        0   \n",
       "2                        0                        0                        0   \n",
       "3                      195                        0                        0   \n",
       "4                        0                        0                        0   \n",
       "\n",
       "   imp_op_var40_efect_ult1  imp_op_var40_efect_ult3  imp_op_var40_ult1 ...   \\\n",
       "0                        0                        0                  0 ...    \n",
       "1                        0                        0                  0 ...    \n",
       "2                        0                        0                  0 ...    \n",
       "3                        0                        0                  0 ...    \n",
       "4                        0                        0                  0 ...    \n",
       "\n",
       "   saldo_medio_var33_hace2  saldo_medio_var33_hace3  saldo_medio_var33_ult1  \\\n",
       "0                        0                        0                       0   \n",
       "1                        0                        0                       0   \n",
       "2                        0                        0                       0   \n",
       "3                        0                        0                       0   \n",
       "4                        0                        0                       0   \n",
       "\n",
       "   saldo_medio_var33_ult3  saldo_medio_var44_hace2  saldo_medio_var44_hace3  \\\n",
       "0                       0                        0                        0   \n",
       "1                       0                        0                        0   \n",
       "2                       0                        0                        0   \n",
       "3                       0                        0                        0   \n",
       "4                       0                        0                        0   \n",
       "\n",
       "   saldo_medio_var44_ult1  saldo_medio_var44_ult3      var38   n0  \n",
       "0                       0                       0  10.576564  321  \n",
       "1                       0                       0  10.805234  295  \n",
       "2                       0                       0  11.117417  306  \n",
       "3                       0                       0  11.066763  275  \n",
       "4                       0                       0  11.672584  285  \n",
       "\n",
       "[5 rows x 324 columns]"
      ]
     },
     "metadata": {},
     "output_type": "display_data"
    }
   ],
   "source": [
    "# TODO: remove duplicate columns\n",
    "df_all['var15'].equals(df_all['var38'])\n",
    "dupes = []\n",
    "\n",
    "for i in range(len(df_all.columns) - 1):\n",
    "    if len(np.unique(df_all.iloc[:, i])) == 2:\n",
    "        for j in range(i+1, len(df_all.columns) - 1):\n",
    "            if len(np.unique(df_all.iloc[:, j])) == 2:\n",
    "                if df_all.iloc[:, i].equals(df_all.iloc[:, j]):\n",
    "                    dupes.append(i)\n",
    "                    print i, df_all.columns[i]\n",
    "                    break\n",
    "        \n",
    "display(dupes)"
   ]
  },
  {
   "cell_type": "code",
   "execution_count": 119,
   "metadata": {
    "collapsed": false
   },
   "outputs": [
    {
     "data": {
      "text/html": [
       "<div>\n",
       "<table border=\"1\" class=\"dataframe\">\n",
       "  <thead>\n",
       "    <tr style=\"text-align: right;\">\n",
       "      <th></th>\n",
       "      <th>var3</th>\n",
       "      <th>var15</th>\n",
       "      <th>imp_ent_var16_ult1</th>\n",
       "      <th>imp_op_var39_comer_ult1</th>\n",
       "      <th>imp_op_var39_comer_ult3</th>\n",
       "      <th>imp_op_var40_comer_ult1</th>\n",
       "      <th>imp_op_var40_comer_ult3</th>\n",
       "      <th>imp_op_var40_efect_ult1</th>\n",
       "      <th>imp_op_var40_efect_ult3</th>\n",
       "      <th>imp_op_var40_ult1</th>\n",
       "      <th>...</th>\n",
       "      <th>saldo_medio_var29_ult3</th>\n",
       "      <th>saldo_medio_var33_hace2</th>\n",
       "      <th>saldo_medio_var33_hace3</th>\n",
       "      <th>saldo_medio_var33_ult1</th>\n",
       "      <th>saldo_medio_var33_ult3</th>\n",
       "      <th>saldo_medio_var44_hace2</th>\n",
       "      <th>saldo_medio_var44_hace3</th>\n",
       "      <th>saldo_medio_var44_ult1</th>\n",
       "      <th>saldo_medio_var44_ult3</th>\n",
       "      <th>var38</th>\n",
       "    </tr>\n",
       "  </thead>\n",
       "  <tbody>\n",
       "    <tr>\n",
       "      <th>0</th>\n",
       "      <td>2</td>\n",
       "      <td>23</td>\n",
       "      <td>0</td>\n",
       "      <td>0</td>\n",
       "      <td>0</td>\n",
       "      <td>0</td>\n",
       "      <td>0</td>\n",
       "      <td>0</td>\n",
       "      <td>0</td>\n",
       "      <td>0</td>\n",
       "      <td>...</td>\n",
       "      <td>0</td>\n",
       "      <td>0</td>\n",
       "      <td>0</td>\n",
       "      <td>0</td>\n",
       "      <td>0</td>\n",
       "      <td>0</td>\n",
       "      <td>0</td>\n",
       "      <td>0</td>\n",
       "      <td>0</td>\n",
       "      <td>39205.170000</td>\n",
       "    </tr>\n",
       "    <tr>\n",
       "      <th>1</th>\n",
       "      <td>2</td>\n",
       "      <td>34</td>\n",
       "      <td>0</td>\n",
       "      <td>0</td>\n",
       "      <td>0</td>\n",
       "      <td>0</td>\n",
       "      <td>0</td>\n",
       "      <td>0</td>\n",
       "      <td>0</td>\n",
       "      <td>0</td>\n",
       "      <td>...</td>\n",
       "      <td>0</td>\n",
       "      <td>0</td>\n",
       "      <td>0</td>\n",
       "      <td>0</td>\n",
       "      <td>0</td>\n",
       "      <td>0</td>\n",
       "      <td>0</td>\n",
       "      <td>0</td>\n",
       "      <td>0</td>\n",
       "      <td>49278.030000</td>\n",
       "    </tr>\n",
       "    <tr>\n",
       "      <th>2</th>\n",
       "      <td>2</td>\n",
       "      <td>23</td>\n",
       "      <td>0</td>\n",
       "      <td>0</td>\n",
       "      <td>0</td>\n",
       "      <td>0</td>\n",
       "      <td>0</td>\n",
       "      <td>0</td>\n",
       "      <td>0</td>\n",
       "      <td>0</td>\n",
       "      <td>...</td>\n",
       "      <td>0</td>\n",
       "      <td>0</td>\n",
       "      <td>0</td>\n",
       "      <td>0</td>\n",
       "      <td>0</td>\n",
       "      <td>0</td>\n",
       "      <td>0</td>\n",
       "      <td>0</td>\n",
       "      <td>0</td>\n",
       "      <td>67333.770000</td>\n",
       "    </tr>\n",
       "    <tr>\n",
       "      <th>3</th>\n",
       "      <td>2</td>\n",
       "      <td>37</td>\n",
       "      <td>0</td>\n",
       "      <td>195</td>\n",
       "      <td>195</td>\n",
       "      <td>0</td>\n",
       "      <td>0</td>\n",
       "      <td>0</td>\n",
       "      <td>0</td>\n",
       "      <td>0</td>\n",
       "      <td>...</td>\n",
       "      <td>0</td>\n",
       "      <td>0</td>\n",
       "      <td>0</td>\n",
       "      <td>0</td>\n",
       "      <td>0</td>\n",
       "      <td>0</td>\n",
       "      <td>0</td>\n",
       "      <td>0</td>\n",
       "      <td>0</td>\n",
       "      <td>64007.970000</td>\n",
       "    </tr>\n",
       "    <tr>\n",
       "      <th>4</th>\n",
       "      <td>2</td>\n",
       "      <td>39</td>\n",
       "      <td>0</td>\n",
       "      <td>0</td>\n",
       "      <td>0</td>\n",
       "      <td>0</td>\n",
       "      <td>0</td>\n",
       "      <td>0</td>\n",
       "      <td>0</td>\n",
       "      <td>0</td>\n",
       "      <td>...</td>\n",
       "      <td>0</td>\n",
       "      <td>0</td>\n",
       "      <td>0</td>\n",
       "      <td>0</td>\n",
       "      <td>0</td>\n",
       "      <td>0</td>\n",
       "      <td>0</td>\n",
       "      <td>0</td>\n",
       "      <td>0</td>\n",
       "      <td>117310.979016</td>\n",
       "    </tr>\n",
       "  </tbody>\n",
       "</table>\n",
       "<p>5 rows × 324 columns</p>\n",
       "</div>"
      ],
      "text/plain": [
       "   var3  var15  imp_ent_var16_ult1  imp_op_var39_comer_ult1  \\\n",
       "0     2     23                   0                        0   \n",
       "1     2     34                   0                        0   \n",
       "2     2     23                   0                        0   \n",
       "3     2     37                   0                      195   \n",
       "4     2     39                   0                        0   \n",
       "\n",
       "   imp_op_var39_comer_ult3  imp_op_var40_comer_ult1  imp_op_var40_comer_ult3  \\\n",
       "0                        0                        0                        0   \n",
       "1                        0                        0                        0   \n",
       "2                        0                        0                        0   \n",
       "3                      195                        0                        0   \n",
       "4                        0                        0                        0   \n",
       "\n",
       "   imp_op_var40_efect_ult1  imp_op_var40_efect_ult3  imp_op_var40_ult1  \\\n",
       "0                        0                        0                  0   \n",
       "1                        0                        0                  0   \n",
       "2                        0                        0                  0   \n",
       "3                        0                        0                  0   \n",
       "4                        0                        0                  0   \n",
       "\n",
       "       ...        saldo_medio_var29_ult3  saldo_medio_var33_hace2  \\\n",
       "0      ...                             0                        0   \n",
       "1      ...                             0                        0   \n",
       "2      ...                             0                        0   \n",
       "3      ...                             0                        0   \n",
       "4      ...                             0                        0   \n",
       "\n",
       "   saldo_medio_var33_hace3  saldo_medio_var33_ult1  saldo_medio_var33_ult3  \\\n",
       "0                        0                       0                       0   \n",
       "1                        0                       0                       0   \n",
       "2                        0                       0                       0   \n",
       "3                        0                       0                       0   \n",
       "4                        0                       0                       0   \n",
       "\n",
       "   saldo_medio_var44_hace2  saldo_medio_var44_hace3  saldo_medio_var44_ult1  \\\n",
       "0                        0                        0                       0   \n",
       "1                        0                        0                       0   \n",
       "2                        0                        0                       0   \n",
       "3                        0                        0                       0   \n",
       "4                        0                        0                       0   \n",
       "\n",
       "   saldo_medio_var44_ult3          var38  \n",
       "0                       0   39205.170000  \n",
       "1                       0   49278.030000  \n",
       "2                       0   67333.770000  \n",
       "3                       0   64007.970000  \n",
       "4                       0  117310.979016  \n",
       "\n",
       "[5 rows x 324 columns]"
      ]
     },
     "metadata": {},
     "output_type": "display_data"
    },
    {
     "name": "stdout",
     "output_type": "stream",
     "text": [
      "(151838, 324)\n"
     ]
    }
   ],
   "source": [
    "# drop the list of dupe columns from df\n",
    "df_all = df_all.drop(df_all.columns[dupes], axis=1)\n",
    "display(df_all.head())\n",
    "print df_all.shape"
   ]
  },
  {
   "cell_type": "code",
   "execution_count": 120,
   "metadata": {
    "collapsed": true
   },
   "outputs": [],
   "source": [
    "# count number of zeros\n",
    "df_all['n0'] = (df_all==0).sum(axis=1)"
   ]
  },
  {
   "cell_type": "code",
   "execution_count": 122,
   "metadata": {
    "collapsed": true
   },
   "outputs": [],
   "source": [
    "# log transform 'var38'\n",
    "df_all['var38'] = np.log(df_all['var38'])"
   ]
  },
  {
   "cell_type": "code",
   "execution_count": 159,
   "metadata": {
    "collapsed": true
   },
   "outputs": [],
   "source": [
    "#Filling nan\n",
    "df_all = df_all.fillna(-997)\n",
    "df_all_copy = df_all.copy()"
   ]
  },
  {
   "cell_type": "markdown",
   "metadata": {},
   "source": [
    "### var38"
   ]
  },
  {
   "cell_type": "code",
   "execution_count": 20,
   "metadata": {
    "collapsed": false
   },
   "outputs": [
    {
     "data": {
      "image/png": "[encoded data removed]",
      "text/plain": [
       "<matplotlib.figure.Figure at 0x1187f1550>"
      ]
     },
     "metadata": {},
     "output_type": "display_data"
    }
   ],
   "source": [
    "# look at most important feature\n",
    "plt.hist(np.log(df_all['var38']), bins=50)\n",
    "plt.gcf().set_size_inches(9,4)\n",
    "plt.show()"
   ]
  },
  {
   "cell_type": "markdown",
   "metadata": {},
   "source": [
    "---\n",
    "2. Feature engineering\n",
    "----------------------"
   ]
  },
  {
   "cell_type": "code",
   "execution_count": 123,
   "metadata": {
    "collapsed": false
   },
   "outputs": [
    {
     "data": {
      "image/png": "[encoded data removed]",
      "text/plain": [
       "<matplotlib.figure.Figure at 0x118aba5d0>"
      ]
     },
     "metadata": {},
     "output_type": "display_data"
    }
   ],
   "source": [
    "# look at distribution of number of zeros per row\n",
    "plt.hist(df_all['n0'], bins=100)\n",
    "plt.gcf().set_size_inches(9,4)\n",
    "plt.show()"
   ]
  },
  {
   "cell_type": "markdown",
   "metadata": {},
   "source": [
    "### TODO: PCA reduced sessions"
   ]
  },
  {
   "cell_type": "code",
   "execution_count": 478,
   "metadata": {
    "collapsed": false
   },
   "outputs": [
    {
     "name": "stdout",
     "output_type": "stream",
     "text": [
      "0.844458652792\n"
     ]
    },
    {
     "data": {
      "text/plain": [
       "array([ 0.62662397,  0.14847085,  0.06936383])"
      ]
     },
     "execution_count": 478,
     "metadata": {},
     "output_type": "execute_result"
    }
   ],
   "source": [
    "# TODO: Apply PCA with the same number of dimensions as variables in the dataset\n",
    "from sklearn.decomposition import PCA\n",
    "pca = PCA(n_components=3, copy=True, whiten=False)\n",
    "\n",
    "# fit the data\n",
    "pca.fit(df_all)\n",
    "\n",
    "# Print the components and the amount of variance in the data contained in each dimension\n",
    "print sum(pca.explained_variance_ratio_)\n",
    "pca.explained_variance_ratio_"
   ]
  },
  {
   "cell_type": "code",
   "execution_count": 479,
   "metadata": {
    "collapsed": false
   },
   "outputs": [
    {
     "data": {
      "text/plain": [
       "array([[ 69713134.35410738,  15506616.87953989,   7222578.09718822],\n",
       "       [ 69713135.75172846,  15506616.86019383,   7222578.07762365],\n",
       "       [ 69713134.33267833,  15506616.83488744,   7222578.05676919],\n",
       "       [ 69713134.33409454,  15506616.83951956,   7222578.06029954],\n",
       "       [ 69713131.96602239,  15506614.72698293,   7222574.84303513]])"
      ]
     },
     "execution_count": 479,
     "metadata": {},
     "output_type": "execute_result"
    }
   ],
   "source": [
    "# reduce the data with pca\n",
    "df_pca = pca.transform(df_all)\n",
    "df_pca[:5]"
   ]
  },
  {
   "cell_type": "code",
   "execution_count": 480,
   "metadata": {
    "collapsed": false
   },
   "outputs": [
    {
     "data": {
      "text/html": [
       "<div>\n",
       "<table border=\"1\" class=\"dataframe\">\n",
       "  <thead>\n",
       "    <tr style=\"text-align: right;\">\n",
       "      <th></th>\n",
       "      <th>var3</th>\n",
       "      <th>var15</th>\n",
       "      <th>imp_ent_var16_ult1</th>\n",
       "      <th>imp_op_var39_comer_ult1</th>\n",
       "      <th>imp_op_var39_comer_ult3</th>\n",
       "      <th>imp_op_var40_comer_ult1</th>\n",
       "      <th>imp_op_var40_comer_ult3</th>\n",
       "      <th>imp_op_var40_efect_ult1</th>\n",
       "      <th>imp_op_var40_efect_ult3</th>\n",
       "      <th>imp_op_var40_ult1</th>\n",
       "      <th>...</th>\n",
       "      <th>saldo_medio_var33_ult3</th>\n",
       "      <th>saldo_medio_var44_hace2</th>\n",
       "      <th>saldo_medio_var44_hace3</th>\n",
       "      <th>saldo_medio_var44_ult1</th>\n",
       "      <th>saldo_medio_var44_ult3</th>\n",
       "      <th>var38</th>\n",
       "      <th>n0</th>\n",
       "      <th>pca1</th>\n",
       "      <th>pca2</th>\n",
       "      <th>pca3</th>\n",
       "    </tr>\n",
       "  </thead>\n",
       "  <tbody>\n",
       "    <tr>\n",
       "      <th>0</th>\n",
       "      <td>2</td>\n",
       "      <td>23</td>\n",
       "      <td>0</td>\n",
       "      <td>0</td>\n",
       "      <td>0</td>\n",
       "      <td>0</td>\n",
       "      <td>0</td>\n",
       "      <td>0</td>\n",
       "      <td>0</td>\n",
       "      <td>0</td>\n",
       "      <td>...</td>\n",
       "      <td>0</td>\n",
       "      <td>0</td>\n",
       "      <td>0</td>\n",
       "      <td>0</td>\n",
       "      <td>0</td>\n",
       "      <td>39205.170000</td>\n",
       "      <td>356</td>\n",
       "      <td>69713134.354107</td>\n",
       "      <td>15506616.879540</td>\n",
       "      <td>7222578.097188</td>\n",
       "    </tr>\n",
       "    <tr>\n",
       "      <th>1</th>\n",
       "      <td>2</td>\n",
       "      <td>34</td>\n",
       "      <td>0</td>\n",
       "      <td>0</td>\n",
       "      <td>0</td>\n",
       "      <td>0</td>\n",
       "      <td>0</td>\n",
       "      <td>0</td>\n",
       "      <td>0</td>\n",
       "      <td>0</td>\n",
       "      <td>...</td>\n",
       "      <td>0</td>\n",
       "      <td>0</td>\n",
       "      <td>0</td>\n",
       "      <td>0</td>\n",
       "      <td>0</td>\n",
       "      <td>49278.030000</td>\n",
       "      <td>330</td>\n",
       "      <td>69713135.751728</td>\n",
       "      <td>15506616.860194</td>\n",
       "      <td>7222578.077624</td>\n",
       "    </tr>\n",
       "    <tr>\n",
       "      <th>2</th>\n",
       "      <td>2</td>\n",
       "      <td>23</td>\n",
       "      <td>0</td>\n",
       "      <td>0</td>\n",
       "      <td>0</td>\n",
       "      <td>0</td>\n",
       "      <td>0</td>\n",
       "      <td>0</td>\n",
       "      <td>0</td>\n",
       "      <td>0</td>\n",
       "      <td>...</td>\n",
       "      <td>0</td>\n",
       "      <td>0</td>\n",
       "      <td>0</td>\n",
       "      <td>0</td>\n",
       "      <td>0</td>\n",
       "      <td>67333.770000</td>\n",
       "      <td>341</td>\n",
       "      <td>69713134.332678</td>\n",
       "      <td>15506616.834887</td>\n",
       "      <td>7222578.056769</td>\n",
       "    </tr>\n",
       "    <tr>\n",
       "      <th>3</th>\n",
       "      <td>2</td>\n",
       "      <td>37</td>\n",
       "      <td>0</td>\n",
       "      <td>195</td>\n",
       "      <td>195</td>\n",
       "      <td>0</td>\n",
       "      <td>0</td>\n",
       "      <td>0</td>\n",
       "      <td>0</td>\n",
       "      <td>0</td>\n",
       "      <td>...</td>\n",
       "      <td>0</td>\n",
       "      <td>0</td>\n",
       "      <td>0</td>\n",
       "      <td>0</td>\n",
       "      <td>0</td>\n",
       "      <td>64007.970000</td>\n",
       "      <td>310</td>\n",
       "      <td>69713134.334095</td>\n",
       "      <td>15506616.839520</td>\n",
       "      <td>7222578.060300</td>\n",
       "    </tr>\n",
       "    <tr>\n",
       "      <th>4</th>\n",
       "      <td>2</td>\n",
       "      <td>39</td>\n",
       "      <td>0</td>\n",
       "      <td>0</td>\n",
       "      <td>0</td>\n",
       "      <td>0</td>\n",
       "      <td>0</td>\n",
       "      <td>0</td>\n",
       "      <td>0</td>\n",
       "      <td>0</td>\n",
       "      <td>...</td>\n",
       "      <td>0</td>\n",
       "      <td>0</td>\n",
       "      <td>0</td>\n",
       "      <td>0</td>\n",
       "      <td>0</td>\n",
       "      <td>117310.979016</td>\n",
       "      <td>320</td>\n",
       "      <td>69713131.966022</td>\n",
       "      <td>15506614.726983</td>\n",
       "      <td>7222574.843035</td>\n",
       "    </tr>\n",
       "  </tbody>\n",
       "</table>\n",
       "<p>5 rows × 373 columns</p>\n",
       "</div>"
      ],
      "text/plain": [
       "   var3  var15  imp_ent_var16_ult1  imp_op_var39_comer_ult1  \\\n",
       "0     2     23                   0                        0   \n",
       "1     2     34                   0                        0   \n",
       "2     2     23                   0                        0   \n",
       "3     2     37                   0                      195   \n",
       "4     2     39                   0                        0   \n",
       "\n",
       "   imp_op_var39_comer_ult3  imp_op_var40_comer_ult1  imp_op_var40_comer_ult3  \\\n",
       "0                        0                        0                        0   \n",
       "1                        0                        0                        0   \n",
       "2                        0                        0                        0   \n",
       "3                      195                        0                        0   \n",
       "4                        0                        0                        0   \n",
       "\n",
       "   imp_op_var40_efect_ult1  imp_op_var40_efect_ult3  imp_op_var40_ult1  \\\n",
       "0                        0                        0                  0   \n",
       "1                        0                        0                  0   \n",
       "2                        0                        0                  0   \n",
       "3                        0                        0                  0   \n",
       "4                        0                        0                  0   \n",
       "\n",
       "        ...        saldo_medio_var33_ult3  saldo_medio_var44_hace2  \\\n",
       "0       ...                             0                        0   \n",
       "1       ...                             0                        0   \n",
       "2       ...                             0                        0   \n",
       "3       ...                             0                        0   \n",
       "4       ...                             0                        0   \n",
       "\n",
       "   saldo_medio_var44_hace3  saldo_medio_var44_ult1  saldo_medio_var44_ult3  \\\n",
       "0                        0                       0                       0   \n",
       "1                        0                       0                       0   \n",
       "2                        0                       0                       0   \n",
       "3                        0                       0                       0   \n",
       "4                        0                       0                       0   \n",
       "\n",
       "           var38   n0             pca1             pca2            pca3  \n",
       "0   39205.170000  356  69713134.354107  15506616.879540  7222578.097188  \n",
       "1   49278.030000  330  69713135.751728  15506616.860194  7222578.077624  \n",
       "2   67333.770000  341  69713134.332678  15506616.834887  7222578.056769  \n",
       "3   64007.970000  310  69713134.334095  15506616.839520  7222578.060300  \n",
       "4  117310.979016  320  69713131.966022  15506614.726983  7222574.843035  \n",
       "\n",
       "[5 rows x 373 columns]"
      ]
     },
     "execution_count": 480,
     "metadata": {},
     "output_type": "execute_result"
    }
   ],
   "source": [
    "df_all['pca1'] = df_pca[:,0]\n",
    "df_all['pca2'] = df_pca[:,1]\n",
    "df_all['pca3'] = df_pca[:,2]\n",
    "#df_all['pca4'] = df_pca[:,3]\n",
    "#df_all['pca5'] = df_pca[:,4]\n",
    "df_all.head()"
   ]
  },
  {
   "cell_type": "markdown",
   "metadata": {},
   "source": [
    "## Train and test sets"
   ]
  },
  {
   "cell_type": "code",
   "execution_count": 443,
   "metadata": {
    "collapsed": false
   },
   "outputs": [
    {
     "name": "stdout",
     "output_type": "stream",
     "text": [
      "53\n"
     ]
    }
   ],
   "source": [
    "# look at important features: engineered 'n0', 'pca1', 'pca2', 'pca3', 'pca4', 'pca5'\n",
    "features = ['var3', 'var15', 'imp_ent_var16_ult1', 'imp_op_var39_comer_ult3', \n",
    "'imp_op_var41_comer_ult1', 'imp_op_var41_comer_ult3', 'imp_op_var41_efect_ult1', \n",
    "'imp_op_var41_efect_ult3', 'imp_op_var41_ult1', 'imp_op_var39_ult1', 'ind_var8_0', \n",
    "'ind_var30_0', 'ind_var30', 'num_op_var41_hace2', 'num_op_var41_ult3', \n",
    "'num_var37_med_ult2', 'saldo_var5', 'saldo_var8', 'saldo_var26', 'saldo_var30', \n",
    "'saldo_var37', 'saldo_var42', 'imp_var43_emit_ult1', 'imp_trans_var37_ult1', \n",
    "'num_var22_hace2', 'num_var22_hace3', 'num_var22_ult1', 'num_var22_ult3',\n",
    "'num_med_var45_ult3', 'num_meses_var5_ult3', 'num_meses_var39_vig_ult3',\n",
    "'num_op_var39_comer_ult1', 'num_op_var41_efect_ult3', 'num_op_var39_efect_ult1',\n",
    "'num_var43_recib_ult1', 'num_var45_hace2', 'num_var45_hace3', 'num_var45_ult1',\n",
    "'num_var45_ult3', 'saldo_medio_var5_hace2', 'saldo_medio_var5_hace3', \n",
    "'saldo_medio_var5_ult1', 'saldo_medio_var5_ult3', 'saldo_medio_var8_hace2',\n",
    "'saldo_medio_var8_ult1', 'saldo_medio_var8_ult3', 'saldo_medio_var12_ult3',\n",
    "'saldo_medio_var13_corto_hace2', 'var38', 'n0', 'pca1', 'pca2', 'pca3']\n",
    "print len(features)\n",
    "df_sel = df_all[features]"
   ]
  },
  {
   "cell_type": "code",
   "execution_count": 160,
   "metadata": {
    "collapsed": false
   },
   "outputs": [
    {
     "name": "stdout",
     "output_type": "stream",
     "text": [
      "(75818, 325)\n"
     ]
    }
   ],
   "source": [
    "#Splitting train and test\n",
    "vals = df_all.values\n",
    "X = vals[:piv_train]\n",
    "X_test_submit = vals[piv_train:]\n",
    "y = labels\n",
    "print X_test_submit.shape"
   ]
  },
  {
   "cell_type": "markdown",
   "metadata": {},
   "source": [
    "### Train/Test with normalized features"
   ]
  },
  {
   "cell_type": "code",
   "execution_count": 536,
   "metadata": {
    "collapsed": false
   },
   "outputs": [],
   "source": [
    "# normalize data\n",
    "from sklearn.preprocessing import normalize\n",
    "df_norm = normalize(df_all, axis=0)"
   ]
  },
  {
   "cell_type": "code",
   "execution_count": 537,
   "metadata": {
    "collapsed": false
   },
   "outputs": [],
   "source": [
    "#Splitting train and test\n",
    "vals = df_norm\n",
    "X = vals[:piv_train]\n",
    "X_test_submit = vals[piv_train:]\n",
    "y = labels"
   ]
  },
  {
   "cell_type": "code",
   "execution_count": 538,
   "metadata": {
    "collapsed": false
   },
   "outputs": [
    {
     "name": "stdout",
     "output_type": "stream",
     "text": [
      "(76020,)\n",
      "(76020, 373)\n",
      "(75818, 373)\n"
     ]
    }
   ],
   "source": [
    "print y.shape\n",
    "print X.shape\n",
    "print X_test_submit.shape"
   ]
  },
  {
   "cell_type": "markdown",
   "metadata": {},
   "source": [
    "---\n",
    "\n",
    "Split train data further into train/validation/test sets\n",
    "---------------"
   ]
  },
  {
   "cell_type": "markdown",
   "metadata": {},
   "source": [
    "** convert labels to vector**"
   ]
  },
  {
   "cell_type": "code",
   "execution_count": 27,
   "metadata": {
    "collapsed": false
   },
   "outputs": [
    {
     "name": "stdout",
     "output_type": "stream",
     "text": [
      "(76020,)\n"
     ]
    }
   ],
   "source": [
    "y_copy = y.copy()\n",
    "print y_copy.shape"
   ]
  },
  {
   "cell_type": "code",
   "execution_count": 232,
   "metadata": {
    "collapsed": true
   },
   "outputs": [],
   "source": [
    "# reformat labels as vector\n",
    "def reformat(labels, num_labels=12):\n",
    "  labels = (np.arange(num_labels) == labels[:,None]).astype(np.float32)  # convert label to vector\n",
    "  return labels"
   ]
  },
  {
   "cell_type": "code",
   "execution_count": 233,
   "metadata": {
    "collapsed": false
   },
   "outputs": [
    {
     "name": "stdout",
     "output_type": "stream",
     "text": [
      "(213451, 12)\n"
     ]
    }
   ],
   "source": [
    "## variable for new label vectors\n",
    "y_vec = reformat(y_copy)\n",
    "print y_vec.shape"
   ]
  },
  {
   "cell_type": "code",
   "execution_count": 237,
   "metadata": {
    "collapsed": true
   },
   "outputs": [],
   "source": [
    "## keep copy of X_test_submit\n",
    "X_test_copy = X_test_submit.copy()\n",
    "#X_test_submit = X_test_copy.copy()"
   ]
  },
  {
   "cell_type": "code",
   "execution_count": 329,
   "metadata": {
    "collapsed": true
   },
   "outputs": [],
   "source": [
    "## convert test submission dtype\n",
    "X_test_submit = X_test_norm.astype('float32')"
   ]
  },
  {
   "cell_type": "code",
   "execution_count": 330,
   "metadata": {
    "collapsed": false
   },
   "outputs": [],
   "source": [
    "## split normalized data into train and test\n",
    "X_tv, X_test, y_tv, y_test = cross_validation.train_test_split(X_norm.astype('float32'), \\\n",
    "                                                               y_vec.astype('float32'), test_size=.05, random_state=205)\n",
    "\n",
    "X_train, X_valid, y_train, y_valid = cross_validation.train_test_split(X_tv, y_tv, \n",
    "                                                                       test_size=.1, \n",
    "                                                                       random_state=111)"
   ]
  },
  {
   "cell_type": "code",
   "execution_count": 161,
   "metadata": {
    "collapsed": false
   },
   "outputs": [
    {
     "name": "stdout",
     "output_type": "stream",
     "text": [
      "(68418, 325)\n"
     ]
    }
   ],
   "source": [
    "## split into train and validation\n",
    "## use X,y for full training data\n",
    "X_train, X_valid, y_train, y_valid = cross_validation.train_test_split(X, y, test_size=.1, \n",
    "                                                                       stratify=y, \n",
    "                                                                       random_state=1776)\n",
    "print X_train.shape"
   ]
  },
  {
   "cell_type": "markdown",
   "metadata": {},
   "source": [
    "## Grid search\n",
    "http://scikit-learn.org/stable/modules/generated/sklearn.grid_search.GridSearchCV.html  \n",
    "http://scikit-learn.org/stable/modules/generated/sklearn.metrics.make_scorer.html"
   ]
  },
  {
   "cell_type": "code",
   "execution_count": 89,
   "metadata": {
    "collapsed": true
   },
   "outputs": [],
   "source": [
    "from sklearn import metrics\n",
    "from sklearn import grid_search\n",
    "\n",
    "## Make scorer\n",
    "auc_scorer = metrics.make_scorer(metrics.roc_auc_score, greater_is_better=True)\n",
    "f1_scorer = metrics.make_scorer(metrics.f1_score, greater_is_better=True, average='binary')"
   ]
  },
  {
   "cell_type": "markdown",
   "metadata": {},
   "source": [
    "### i. Random forest\n",
    "http://scikit-learn.org/stable/modules/generated/sklearn.ensemble.RandomForestClassifier.html"
   ]
  },
  {
   "cell_type": "code",
   "execution_count": 85,
   "metadata": {
    "collapsed": false
   },
   "outputs": [],
   "source": [
    "## create cv search objec\n",
    "from sklearn.ensemble import RandomForestClassifier\n",
    "'''\n",
    "rf = RandomForestClassifier(n_estimators=100, criterion='gini', max_depth=None, \\\n",
    "                            min_samples_split=2, min_samples_leaf=1, min_weight_fraction_leaf=0.0, \\\n",
    "                            max_features='auto', max_leaf_nodes=None, bootstrap=True, oob_score=False, \\\n",
    "                            n_jobs=1, random_state=None, verbose=0, warm_start=False, class_weight=None)\n",
    "'''\n",
    "#clf = RandomForestClassifier(n_estimators=100)\n",
    "est = RandomForestClassifier(n_estimators=100, class_weight='balanced', random_state=427)\n",
    "parameters = {'max_depth': [6, None]\n",
    "             }\n",
    "reg = grid_search.GridSearchCV(est, parameters, scoring=auc_scorer, cv=3)"
   ]
  },
  {
   "cell_type": "markdown",
   "metadata": {},
   "source": [
    "### i-a. Extra Trees\n",
    "http://scikit-learn.org/stable/modules/generated/sklearn.ensemble.ExtraTreesClassifier.html"
   ]
  },
  {
   "cell_type": "code",
   "execution_count": 516,
   "metadata": {
    "collapsed": false
   },
   "outputs": [],
   "source": [
    "# TODO: extremely randomized forests\n",
    "from sklearn.ensemble import ExtraTreesClassifier\n",
    "est = ExtraTreesClassifier(n_estimators=128,max_features= 30,criterion= 'entropy',\n",
    "                            min_samples_split= 2,max_depth= 30, min_samples_leaf= 2, \n",
    "                            n_jobs = -1, random_state=429)    \n",
    "parameters = {'max_depth': [30, None]\n",
    "             }\n",
    "reg = grid_search.GridSearchCV(est, parameters, scoring=auc_scorer, cv=3)\n",
    "\n",
    "# train the estimator directly on data\n",
    "# est.fit(X, y)\n",
    "# print est"
   ]
  },
  {
   "cell_type": "markdown",
   "metadata": {},
   "source": [
    "### ii. SVM\n",
    "http://scikit-learn.org/stable/modules/svm.html"
   ]
  },
  {
   "cell_type": "code",
   "execution_count": 545,
   "metadata": {
    "collapsed": false
   },
   "outputs": [],
   "source": [
    "from sklearn import svm\n",
    "# Setup a Classifier\n",
    "est = svm.SVC(C=1.0, kernel='rbf', degree=3, gamma='auto', coef0=0.0, \n",
    "              shrinking=True, probability=False, tol=0.001, cache_size=200, \n",
    "              class_weight='balanced', verbose=False, max_iter=-1, \n",
    "              decision_function_shape=None, random_state=111)\n",
    "# tune parameter with at least 3 settings\n",
    "parameters = {'C': (1.0, 0.5, 0.1),\n",
    "             }"
   ]
  },
  {
   "cell_type": "code",
   "execution_count": null,
   "metadata": {
    "collapsed": false
   },
   "outputs": [],
   "source": [
    "## PCA reduced data\n",
    "X_reduced = pca.transform(X)\n",
    "X_test_reduced = pca.transform(X_test)"
   ]
  },
  {
   "cell_type": "markdown",
   "metadata": {},
   "source": [
    "### iia. Logistic regression\n"
   ]
  },
  {
   "cell_type": "code",
   "execution_count": 539,
   "metadata": {
    "collapsed": true
   },
   "outputs": [],
   "source": [
    "from sklearn.linear_model import LogisticRegression\n",
    "est = LogisticRegression(random_state=11)\n",
    "parameters = {'C': (1.0, 0.1, .01),\n",
    "             }"
   ]
  },
  {
   "cell_type": "markdown",
   "metadata": {},
   "source": [
    "### iii. XGBoost\n",
    "https://github.com/dmlc/xgboost/blob/master/python-package/xgboost/sklearn.py"
   ]
  },
  {
   "cell_type": "code",
   "execution_count": 162,
   "metadata": {
    "collapsed": false
   },
   "outputs": [],
   "source": [
    "#Classifier\n",
    "# try using... objective: multi:softprob, rank:pairwise\n",
    "import xgboost as xgb\n",
    "from xgboost.sklearn import XGBClassifier\n",
    "\n",
    "ratio = float(np.sum(y == 1)) / np.sum(y==0)\n",
    "est = XGBClassifier(max_depth=5, learning_rate=0.0202, n_estimators=560,\n",
    "                    objective='binary:logistic', subsample=0.68, colsample_bytree=0.71, \n",
    "                    min_child_weight=3, scale_pos_weight=ratio, seed=1776)                  \n",
    "\n",
    "param = {\n",
    "    'objective':'multi:softprob',                    \n",
    "    'max_depth':6, \n",
    "    'learning_rate':0.25, \n",
    "    'n_estimators':43,                 \n",
    "    'subsample':0.6, \n",
    "    'colsample_bytree':0.6,\n",
    "    'num_class' :12\n",
    "    }"
   ]
  },
  {
   "cell_type": "code",
   "execution_count": 163,
   "metadata": {
    "collapsed": true
   },
   "outputs": [],
   "source": [
    "eval_set = [(X_train,y_train), (X_valid,y_valid)]"
   ]
  },
  {
   "cell_type": "code",
   "execution_count": 164,
   "metadata": {
    "collapsed": false
   },
   "outputs": [
    {
     "name": "stderr",
     "output_type": "stream",
     "text": [
      "Will train until validation_1 error hasn't decreased in 128 rounds.\n",
      "[0]\tvalidation_0-auc:0.500000\tvalidation_1-auc:0.500000\n",
      "[1]\tvalidation_0-auc:0.500000\tvalidation_1-auc:0.500000\n",
      "[2]\tvalidation_0-auc:0.500000\tvalidation_1-auc:0.500000\n",
      "[3]\tvalidation_0-auc:0.500000\tvalidation_1-auc:0.500000\n",
      "[4]\tvalidation_0-auc:0.500000\tvalidation_1-auc:0.500000\n",
      "[5]\tvalidation_0-auc:0.500000\tvalidation_1-auc:0.500000\n",
      "[6]\tvalidation_0-auc:0.500000\tvalidation_1-auc:0.500000\n",
      "[7]\tvalidation_0-auc:0.500000\tvalidation_1-auc:0.500000\n",
      "[8]\tvalidation_0-auc:0.500000\tvalidation_1-auc:0.500000\n",
      "[9]\tvalidation_0-auc:0.500000\tvalidation_1-auc:0.500000\n",
      "[10]\tvalidation_0-auc:0.500000\tvalidation_1-auc:0.500000\n",
      "[11]\tvalidation_0-auc:0.500000\tvalidation_1-auc:0.500000\n",
      "[12]\tvalidation_0-auc:0.500000\tvalidation_1-auc:0.500000\n",
      "[13]\tvalidation_0-auc:0.500000\tvalidation_1-auc:0.500000\n",
      "[14]\tvalidation_0-auc:0.500000\tvalidation_1-auc:0.500000\n",
      "[15]\tvalidation_0-auc:0.500000\tvalidation_1-auc:0.500000\n",
      "[16]\tvalidation_0-auc:0.500000\tvalidation_1-auc:0.500000\n",
      "[17]\tvalidation_0-auc:0.500000\tvalidation_1-auc:0.500000\n",
      "[18]\tvalidation_0-auc:0.500000\tvalidation_1-auc:0.500000\n",
      "[19]\tvalidation_0-auc:0.500000\tvalidation_1-auc:0.500000\n",
      "[20]\tvalidation_0-auc:0.500000\tvalidation_1-auc:0.500000\n",
      "[21]\tvalidation_0-auc:0.500000\tvalidation_1-auc:0.500000\n",
      "[22]\tvalidation_0-auc:0.500000\tvalidation_1-auc:0.500000\n",
      "[23]\tvalidation_0-auc:0.500000\tvalidation_1-auc:0.500000\n",
      "[24]\tvalidation_0-auc:0.500000\tvalidation_1-auc:0.500000\n",
      "[25]\tvalidation_0-auc:0.500000\tvalidation_1-auc:0.500000\n",
      "[26]\tvalidation_0-auc:0.500000\tvalidation_1-auc:0.500000\n",
      "[27]\tvalidation_0-auc:0.500000\tvalidation_1-auc:0.500000\n",
      "[28]\tvalidation_0-auc:0.500000\tvalidation_1-auc:0.500000\n",
      "[29]\tvalidation_0-auc:0.500000\tvalidation_1-auc:0.500000\n",
      "[30]\tvalidation_0-auc:0.500000\tvalidation_1-auc:0.500000\n",
      "[31]\tvalidation_0-auc:0.500000\tvalidation_1-auc:0.500000\n",
      "[32]\tvalidation_0-auc:0.500000\tvalidation_1-auc:0.500000\n",
      "[33]\tvalidation_0-auc:0.500000\tvalidation_1-auc:0.500000\n",
      "[34]\tvalidation_0-auc:0.500000\tvalidation_1-auc:0.500000\n",
      "[35]\tvalidation_0-auc:0.500000\tvalidation_1-auc:0.500000\n",
      "[36]\tvalidation_0-auc:0.500000\tvalidation_1-auc:0.500000\n",
      "[37]\tvalidation_0-auc:0.500000\tvalidation_1-auc:0.500000\n",
      "[38]\tvalidation_0-auc:0.500000\tvalidation_1-auc:0.500000\n",
      "[39]\tvalidation_0-auc:0.500000\tvalidation_1-auc:0.500000\n",
      "[40]\tvalidation_0-auc:0.500000\tvalidation_1-auc:0.500000\n",
      "[41]\tvalidation_0-auc:0.500000\tvalidation_1-auc:0.500000\n",
      "[42]\tvalidation_0-auc:0.500000\tvalidation_1-auc:0.500000\n",
      "[43]\tvalidation_0-auc:0.500000\tvalidation_1-auc:0.500000\n",
      "[44]\tvalidation_0-auc:0.500000\tvalidation_1-auc:0.500000\n",
      "[45]\tvalidation_0-auc:0.500000\tvalidation_1-auc:0.500000\n",
      "[46]\tvalidation_0-auc:0.500000\tvalidation_1-auc:0.500000\n",
      "[47]\tvalidation_0-auc:0.500000\tvalidation_1-auc:0.500000\n",
      "[48]\tvalidation_0-auc:0.500000\tvalidation_1-auc:0.500000\n",
      "[49]\tvalidation_0-auc:0.500000\tvalidation_1-auc:0.500000\n",
      "[50]\tvalidation_0-auc:0.500000\tvalidation_1-auc:0.500000\n",
      "[51]\tvalidation_0-auc:0.500000\tvalidation_1-auc:0.500000\n",
      "[52]\tvalidation_0-auc:0.500000\tvalidation_1-auc:0.500000\n",
      "[53]\tvalidation_0-auc:0.500000\tvalidation_1-auc:0.500000\n",
      "[54]\tvalidation_0-auc:0.500000\tvalidation_1-auc:0.500000\n",
      "[55]\tvalidation_0-auc:0.500000\tvalidation_1-auc:0.500000\n",
      "[56]\tvalidation_0-auc:0.500000\tvalidation_1-auc:0.500000\n",
      "[57]\tvalidation_0-auc:0.500000\tvalidation_1-auc:0.500000\n",
      "[58]\tvalidation_0-auc:0.500000\tvalidation_1-auc:0.500000\n",
      "[59]\tvalidation_0-auc:0.500000\tvalidation_1-auc:0.500000\n",
      "[60]\tvalidation_0-auc:0.500000\tvalidation_1-auc:0.500000\n",
      "[61]\tvalidation_0-auc:0.500000\tvalidation_1-auc:0.500000\n",
      "[62]\tvalidation_0-auc:0.500000\tvalidation_1-auc:0.500000\n",
      "[63]\tvalidation_0-auc:0.500000\tvalidation_1-auc:0.500000\n",
      "[64]\tvalidation_0-auc:0.500000\tvalidation_1-auc:0.500000\n",
      "[65]\tvalidation_0-auc:0.500000\tvalidation_1-auc:0.500000\n",
      "[66]\tvalidation_0-auc:0.500000\tvalidation_1-auc:0.500000\n",
      "[67]\tvalidation_0-auc:0.500000\tvalidation_1-auc:0.500000\n",
      "[68]\tvalidation_0-auc:0.500000\tvalidation_1-auc:0.500000\n",
      "[69]\tvalidation_0-auc:0.500000\tvalidation_1-auc:0.500000\n",
      "[70]\tvalidation_0-auc:0.500000\tvalidation_1-auc:0.500000\n",
      "[71]\tvalidation_0-auc:0.500000\tvalidation_1-auc:0.500000\n",
      "[72]\tvalidation_0-auc:0.500000\tvalidation_1-auc:0.500000\n",
      "[73]\tvalidation_0-auc:0.500000\tvalidation_1-auc:0.500000\n",
      "[74]\tvalidation_0-auc:0.500000\tvalidation_1-auc:0.500000\n",
      "[75]\tvalidation_0-auc:0.500000\tvalidation_1-auc:0.500000\n",
      "[76]\tvalidation_0-auc:0.500000\tvalidation_1-auc:0.500000\n",
      "[77]\tvalidation_0-auc:0.500000\tvalidation_1-auc:0.500000\n",
      "[78]\tvalidation_0-auc:0.500000\tvalidation_1-auc:0.500000\n",
      "[79]\tvalidation_0-auc:0.500000\tvalidation_1-auc:0.500000\n",
      "[80]\tvalidation_0-auc:0.500000\tvalidation_1-auc:0.500000\n",
      "[81]\tvalidation_0-auc:0.500000\tvalidation_1-auc:0.500000\n",
      "[82]\tvalidation_0-auc:0.500000\tvalidation_1-auc:0.500000\n",
      "[83]\tvalidation_0-auc:0.500000\tvalidation_1-auc:0.500000\n",
      "[84]\tvalidation_0-auc:0.500000\tvalidation_1-auc:0.500000\n",
      "[85]\tvalidation_0-auc:0.500000\tvalidation_1-auc:0.500000\n",
      "[86]\tvalidation_0-auc:0.500000\tvalidation_1-auc:0.500000\n",
      "[87]\tvalidation_0-auc:0.715626\tvalidation_1-auc:0.706173\n",
      "[88]\tvalidation_0-auc:0.715626\tvalidation_1-auc:0.706173\n",
      "[89]\tvalidation_0-auc:0.716926\tvalidation_1-auc:0.707821\n",
      "[90]\tvalidation_0-auc:0.716926\tvalidation_1-auc:0.707821\n",
      "[91]\tvalidation_0-auc:0.717604\tvalidation_1-auc:0.708092\n",
      "[92]\tvalidation_0-auc:0.717604\tvalidation_1-auc:0.708092\n",
      "[93]\tvalidation_0-auc:0.717604\tvalidation_1-auc:0.708092\n",
      "[94]\tvalidation_0-auc:0.717586\tvalidation_1-auc:0.708099\n",
      "[95]\tvalidation_0-auc:0.717623\tvalidation_1-auc:0.708171\n",
      "[96]\tvalidation_0-auc:0.718331\tvalidation_1-auc:0.709273\n",
      "[97]\tvalidation_0-auc:0.718331\tvalidation_1-auc:0.709273\n",
      "[98]\tvalidation_0-auc:0.718331\tvalidation_1-auc:0.709273\n",
      "[99]\tvalidation_0-auc:0.718331\tvalidation_1-auc:0.709273\n",
      "[100]\tvalidation_0-auc:0.718331\tvalidation_1-auc:0.709273\n",
      "[101]\tvalidation_0-auc:0.718331\tvalidation_1-auc:0.709273\n",
      "[102]\tvalidation_0-auc:0.718331\tvalidation_1-auc:0.709273\n",
      "[103]\tvalidation_0-auc:0.718279\tvalidation_1-auc:0.709265\n",
      "[104]\tvalidation_0-auc:0.718279\tvalidation_1-auc:0.709265\n",
      "[105]\tvalidation_0-auc:0.718279\tvalidation_1-auc:0.709265\n",
      "[106]\tvalidation_0-auc:0.718279\tvalidation_1-auc:0.709265\n",
      "[107]\tvalidation_0-auc:0.718277\tvalidation_1-auc:0.709265\n",
      "[108]\tvalidation_0-auc:0.718277\tvalidation_1-auc:0.709265\n",
      "[109]\tvalidation_0-auc:0.718278\tvalidation_1-auc:0.709269\n",
      "[110]\tvalidation_0-auc:0.718278\tvalidation_1-auc:0.709269\n",
      "[111]\tvalidation_0-auc:0.718277\tvalidation_1-auc:0.709265\n",
      "[112]\tvalidation_0-auc:0.718693\tvalidation_1-auc:0.709594\n",
      "[113]\tvalidation_0-auc:0.718693\tvalidation_1-auc:0.709594\n",
      "[114]\tvalidation_0-auc:0.718693\tvalidation_1-auc:0.709594\n",
      "[115]\tvalidation_0-auc:0.718690\tvalidation_1-auc:0.709594\n",
      "[116]\tvalidation_0-auc:0.718690\tvalidation_1-auc:0.709594\n",
      "[117]\tvalidation_0-auc:0.718688\tvalidation_1-auc:0.709597\n",
      "[118]\tvalidation_0-auc:0.718801\tvalidation_1-auc:0.709846\n",
      "[119]\tvalidation_0-auc:0.718801\tvalidation_1-auc:0.709845\n",
      "[120]\tvalidation_0-auc:0.721779\tvalidation_1-auc:0.711806\n",
      "[121]\tvalidation_0-auc:0.721921\tvalidation_1-auc:0.712192\n",
      "[122]\tvalidation_0-auc:0.721921\tvalidation_1-auc:0.712375\n",
      "[123]\tvalidation_0-auc:0.721921\tvalidation_1-auc:0.712373\n",
      "[124]\tvalidation_0-auc:0.721849\tvalidation_1-auc:0.712210\n",
      "[125]\tvalidation_0-auc:0.721879\tvalidation_1-auc:0.712207\n",
      "[126]\tvalidation_0-auc:0.721884\tvalidation_1-auc:0.712200\n",
      "[127]\tvalidation_0-auc:0.721864\tvalidation_1-auc:0.712258\n",
      "[128]\tvalidation_0-auc:0.721852\tvalidation_1-auc:0.712229\n",
      "[129]\tvalidation_0-auc:0.721953\tvalidation_1-auc:0.712435\n",
      "[130]\tvalidation_0-auc:0.721956\tvalidation_1-auc:0.712448\n",
      "[131]\tvalidation_0-auc:0.721956\tvalidation_1-auc:0.712448\n",
      "[132]\tvalidation_0-auc:0.721862\tvalidation_1-auc:0.712244\n",
      "[133]\tvalidation_0-auc:0.721872\tvalidation_1-auc:0.712280\n",
      "[134]\tvalidation_0-auc:0.721889\tvalidation_1-auc:0.712288\n",
      "[135]\tvalidation_0-auc:0.721887\tvalidation_1-auc:0.712310\n",
      "[136]\tvalidation_0-auc:0.721864\tvalidation_1-auc:0.712279\n",
      "[137]\tvalidation_0-auc:0.722916\tvalidation_1-auc:0.714681\n",
      "[138]\tvalidation_0-auc:0.723249\tvalidation_1-auc:0.714770\n",
      "[139]\tvalidation_0-auc:0.723268\tvalidation_1-auc:0.714713\n",
      "[140]\tvalidation_0-auc:0.723266\tvalidation_1-auc:0.714801\n",
      "[141]\tvalidation_0-auc:0.723156\tvalidation_1-auc:0.714799\n",
      "[142]\tvalidation_0-auc:0.723156\tvalidation_1-auc:0.714799\n",
      "[143]\tvalidation_0-auc:0.723396\tvalidation_1-auc:0.714883\n",
      "[144]\tvalidation_0-auc:0.723469\tvalidation_1-auc:0.714801\n",
      "[145]\tvalidation_0-auc:0.723503\tvalidation_1-auc:0.714754\n",
      "[146]\tvalidation_0-auc:0.723466\tvalidation_1-auc:0.714993\n",
      "[147]\tvalidation_0-auc:0.723555\tvalidation_1-auc:0.714712\n",
      "[148]\tvalidation_0-auc:0.723490\tvalidation_1-auc:0.714916\n",
      "[149]\tvalidation_0-auc:0.723491\tvalidation_1-auc:0.715178\n",
      "[150]\tvalidation_0-auc:0.723586\tvalidation_1-auc:0.715133\n",
      "[151]\tvalidation_0-auc:0.724328\tvalidation_1-auc:0.715974\n",
      "[152]\tvalidation_0-auc:0.724451\tvalidation_1-auc:0.715927\n",
      "[153]\tvalidation_0-auc:0.724435\tvalidation_1-auc:0.715917\n",
      "[154]\tvalidation_0-auc:0.724483\tvalidation_1-auc:0.716047\n",
      "[155]\tvalidation_0-auc:0.724486\tvalidation_1-auc:0.716017\n",
      "[156]\tvalidation_0-auc:0.724486\tvalidation_1-auc:0.716017\n",
      "[157]\tvalidation_0-auc:0.724498\tvalidation_1-auc:0.716072\n",
      "[158]\tvalidation_0-auc:0.724497\tvalidation_1-auc:0.716042\n",
      "[159]\tvalidation_0-auc:0.724406\tvalidation_1-auc:0.716126\n",
      "[160]\tvalidation_0-auc:0.724597\tvalidation_1-auc:0.716044\n",
      "[161]\tvalidation_0-auc:0.724591\tvalidation_1-auc:0.716052\n",
      "[162]\tvalidation_0-auc:0.724635\tvalidation_1-auc:0.715887\n",
      "[163]\tvalidation_0-auc:0.724616\tvalidation_1-auc:0.715823\n",
      "[164]\tvalidation_0-auc:0.732342\tvalidation_1-auc:0.727299\n",
      "[165]\tvalidation_0-auc:0.733069\tvalidation_1-auc:0.727206\n",
      "[166]\tvalidation_0-auc:0.733067\tvalidation_1-auc:0.727213\n",
      "[167]\tvalidation_0-auc:0.789012\tvalidation_1-auc:0.766542\n",
      "[168]\tvalidation_0-auc:0.788999\tvalidation_1-auc:0.766553\n",
      "[169]\tvalidation_0-auc:0.789632\tvalidation_1-auc:0.766490\n",
      "[170]\tvalidation_0-auc:0.790539\tvalidation_1-auc:0.767721\n",
      "[171]\tvalidation_0-auc:0.790924\tvalidation_1-auc:0.769131\n",
      "[172]\tvalidation_0-auc:0.790943\tvalidation_1-auc:0.769121\n",
      "[173]\tvalidation_0-auc:0.791389\tvalidation_1-auc:0.769983\n",
      "[174]\tvalidation_0-auc:0.791423\tvalidation_1-auc:0.770043\n",
      "[175]\tvalidation_0-auc:0.791594\tvalidation_1-auc:0.770095\n",
      "[176]\tvalidation_0-auc:0.792074\tvalidation_1-auc:0.771038\n",
      "[177]\tvalidation_0-auc:0.792292\tvalidation_1-auc:0.771780\n",
      "[178]\tvalidation_0-auc:0.792568\tvalidation_1-auc:0.770795\n",
      "[179]\tvalidation_0-auc:0.792998\tvalidation_1-auc:0.771778\n",
      "[180]\tvalidation_0-auc:0.793163\tvalidation_1-auc:0.771859\n",
      "[181]\tvalidation_0-auc:0.793227\tvalidation_1-auc:0.771994\n",
      "[182]\tvalidation_0-auc:0.793269\tvalidation_1-auc:0.771972\n",
      "[183]\tvalidation_0-auc:0.794377\tvalidation_1-auc:0.775628\n",
      "[184]\tvalidation_0-auc:0.794323\tvalidation_1-auc:0.775629\n",
      "[185]\tvalidation_0-auc:0.794306\tvalidation_1-auc:0.775664\n",
      "[186]\tvalidation_0-auc:0.794655\tvalidation_1-auc:0.775508\n",
      "[187]\tvalidation_0-auc:0.794779\tvalidation_1-auc:0.774999\n",
      "[188]\tvalidation_0-auc:0.794849\tvalidation_1-auc:0.775010\n",
      "[189]\tvalidation_0-auc:0.796063\tvalidation_1-auc:0.777493\n",
      "[190]\tvalidation_0-auc:0.795949\tvalidation_1-auc:0.777532\n",
      "[191]\tvalidation_0-auc:0.795888\tvalidation_1-auc:0.777473\n",
      "[192]\tvalidation_0-auc:0.798517\tvalidation_1-auc:0.782116\n",
      "[193]\tvalidation_0-auc:0.800219\tvalidation_1-auc:0.783298\n",
      "[194]\tvalidation_0-auc:0.800326\tvalidation_1-auc:0.783241\n",
      "[195]\tvalidation_0-auc:0.799894\tvalidation_1-auc:0.782323\n",
      "[196]\tvalidation_0-auc:0.800471\tvalidation_1-auc:0.783351\n",
      "[197]\tvalidation_0-auc:0.800644\tvalidation_1-auc:0.783482\n",
      "[198]\tvalidation_0-auc:0.800658\tvalidation_1-auc:0.783190\n",
      "[199]\tvalidation_0-auc:0.801060\tvalidation_1-auc:0.783397\n",
      "[200]\tvalidation_0-auc:0.801271\tvalidation_1-auc:0.783777\n",
      "[201]\tvalidation_0-auc:0.801370\tvalidation_1-auc:0.785401\n",
      "[202]\tvalidation_0-auc:0.801245\tvalidation_1-auc:0.785061\n",
      "[203]\tvalidation_0-auc:0.801181\tvalidation_1-auc:0.784911\n",
      "[204]\tvalidation_0-auc:0.801859\tvalidation_1-auc:0.785795\n",
      "[205]\tvalidation_0-auc:0.802267\tvalidation_1-auc:0.785921\n",
      "[206]\tvalidation_0-auc:0.804462\tvalidation_1-auc:0.788774\n",
      "[207]\tvalidation_0-auc:0.804982\tvalidation_1-auc:0.788931\n",
      "[208]\tvalidation_0-auc:0.805869\tvalidation_1-auc:0.789037\n",
      "[209]\tvalidation_0-auc:0.806871\tvalidation_1-auc:0.789340\n",
      "[210]\tvalidation_0-auc:0.808269\tvalidation_1-auc:0.790069\n",
      "[211]\tvalidation_0-auc:0.810100\tvalidation_1-auc:0.791294\n",
      "[212]\tvalidation_0-auc:0.810712\tvalidation_1-auc:0.791924\n",
      "[213]\tvalidation_0-auc:0.809838\tvalidation_1-auc:0.791599\n",
      "[214]\tvalidation_0-auc:0.811317\tvalidation_1-auc:0.792006\n",
      "[215]\tvalidation_0-auc:0.812160\tvalidation_1-auc:0.792576\n",
      "[216]\tvalidation_0-auc:0.813187\tvalidation_1-auc:0.793014\n",
      "[217]\tvalidation_0-auc:0.812389\tvalidation_1-auc:0.793604\n",
      "[218]\tvalidation_0-auc:0.811745\tvalidation_1-auc:0.792175\n",
      "[219]\tvalidation_0-auc:0.813891\tvalidation_1-auc:0.794290\n",
      "[220]\tvalidation_0-auc:0.814285\tvalidation_1-auc:0.794748\n",
      "[221]\tvalidation_0-auc:0.814825\tvalidation_1-auc:0.794961\n",
      "[222]\tvalidation_0-auc:0.816830\tvalidation_1-auc:0.796654\n",
      "[223]\tvalidation_0-auc:0.817351\tvalidation_1-auc:0.796990\n",
      "[224]\tvalidation_0-auc:0.817028\tvalidation_1-auc:0.796811\n",
      "[225]\tvalidation_0-auc:0.817511\tvalidation_1-auc:0.797229\n",
      "[226]\tvalidation_0-auc:0.817743\tvalidation_1-auc:0.797910\n",
      "[227]\tvalidation_0-auc:0.818208\tvalidation_1-auc:0.798113\n",
      "[228]\tvalidation_0-auc:0.818660\tvalidation_1-auc:0.798448\n",
      "[229]\tvalidation_0-auc:0.818994\tvalidation_1-auc:0.798509\n",
      "[230]\tvalidation_0-auc:0.819914\tvalidation_1-auc:0.799372\n",
      "[231]\tvalidation_0-auc:0.821338\tvalidation_1-auc:0.800429\n",
      "[232]\tvalidation_0-auc:0.822385\tvalidation_1-auc:0.801505\n",
      "[233]\tvalidation_0-auc:0.823147\tvalidation_1-auc:0.801758\n",
      "[234]\tvalidation_0-auc:0.823485\tvalidation_1-auc:0.801776\n",
      "[235]\tvalidation_0-auc:0.823961\tvalidation_1-auc:0.801694\n",
      "[236]\tvalidation_0-auc:0.823912\tvalidation_1-auc:0.801760\n",
      "[237]\tvalidation_0-auc:0.823945\tvalidation_1-auc:0.802290\n",
      "[238]\tvalidation_0-auc:0.824149\tvalidation_1-auc:0.802518\n",
      "[239]\tvalidation_0-auc:0.824473\tvalidation_1-auc:0.802462\n",
      "[240]\tvalidation_0-auc:0.824477\tvalidation_1-auc:0.802686\n",
      "[241]\tvalidation_0-auc:0.824507\tvalidation_1-auc:0.802414\n",
      "[242]\tvalidation_0-auc:0.824500\tvalidation_1-auc:0.803104\n",
      "[243]\tvalidation_0-auc:0.824622\tvalidation_1-auc:0.803378\n",
      "[244]\tvalidation_0-auc:0.824696\tvalidation_1-auc:0.803516\n",
      "[245]\tvalidation_0-auc:0.825033\tvalidation_1-auc:0.803631\n",
      "[246]\tvalidation_0-auc:0.825864\tvalidation_1-auc:0.804197\n",
      "[247]\tvalidation_0-auc:0.825882\tvalidation_1-auc:0.804310\n",
      "[248]\tvalidation_0-auc:0.826137\tvalidation_1-auc:0.804710\n",
      "[249]\tvalidation_0-auc:0.826746\tvalidation_1-auc:0.805536\n",
      "[250]\tvalidation_0-auc:0.826853\tvalidation_1-auc:0.805646\n",
      "[251]\tvalidation_0-auc:0.826887\tvalidation_1-auc:0.805645\n",
      "[252]\tvalidation_0-auc:0.826956\tvalidation_1-auc:0.805972\n",
      "[253]\tvalidation_0-auc:0.827158\tvalidation_1-auc:0.806736\n",
      "[254]\tvalidation_0-auc:0.827351\tvalidation_1-auc:0.806208\n",
      "[255]\tvalidation_0-auc:0.827540\tvalidation_1-auc:0.806580\n",
      "[256]\tvalidation_0-auc:0.827902\tvalidation_1-auc:0.806963\n",
      "[257]\tvalidation_0-auc:0.828240\tvalidation_1-auc:0.807789\n",
      "[258]\tvalidation_0-auc:0.828293\tvalidation_1-auc:0.808332\n",
      "[259]\tvalidation_0-auc:0.828711\tvalidation_1-auc:0.808594\n",
      "[260]\tvalidation_0-auc:0.829018\tvalidation_1-auc:0.808314\n",
      "[261]\tvalidation_0-auc:0.829443\tvalidation_1-auc:0.808454\n",
      "[262]\tvalidation_0-auc:0.830047\tvalidation_1-auc:0.809629\n",
      "[263]\tvalidation_0-auc:0.830310\tvalidation_1-auc:0.810068\n",
      "[264]\tvalidation_0-auc:0.830555\tvalidation_1-auc:0.810565\n",
      "[265]\tvalidation_0-auc:0.830658\tvalidation_1-auc:0.810665\n",
      "[266]\tvalidation_0-auc:0.830946\tvalidation_1-auc:0.810984\n",
      "[267]\tvalidation_0-auc:0.831136\tvalidation_1-auc:0.810919\n",
      "[268]\tvalidation_0-auc:0.831770\tvalidation_1-auc:0.811911\n",
      "[269]\tvalidation_0-auc:0.832099\tvalidation_1-auc:0.812657\n",
      "[270]\tvalidation_0-auc:0.832458\tvalidation_1-auc:0.813041\n",
      "[271]\tvalidation_0-auc:0.832713\tvalidation_1-auc:0.813691\n",
      "[272]\tvalidation_0-auc:0.832791\tvalidation_1-auc:0.813626\n",
      "[273]\tvalidation_0-auc:0.832925\tvalidation_1-auc:0.813732\n",
      "[274]\tvalidation_0-auc:0.833068\tvalidation_1-auc:0.814092\n",
      "[275]\tvalidation_0-auc:0.833281\tvalidation_1-auc:0.813901\n",
      "[276]\tvalidation_0-auc:0.833213\tvalidation_1-auc:0.813728\n",
      "[277]\tvalidation_0-auc:0.833163\tvalidation_1-auc:0.813935\n",
      "[278]\tvalidation_0-auc:0.833297\tvalidation_1-auc:0.813703\n",
      "[279]\tvalidation_0-auc:0.833325\tvalidation_1-auc:0.813488\n",
      "[280]\tvalidation_0-auc:0.833291\tvalidation_1-auc:0.813744\n",
      "[281]\tvalidation_0-auc:0.833285\tvalidation_1-auc:0.814008\n",
      "[282]\tvalidation_0-auc:0.833485\tvalidation_1-auc:0.814206\n",
      "[283]\tvalidation_0-auc:0.834101\tvalidation_1-auc:0.814955\n",
      "[284]\tvalidation_0-auc:0.834222\tvalidation_1-auc:0.814928\n",
      "[285]\tvalidation_0-auc:0.834091\tvalidation_1-auc:0.815225\n",
      "[286]\tvalidation_0-auc:0.834193\tvalidation_1-auc:0.814950\n",
      "[287]\tvalidation_0-auc:0.834390\tvalidation_1-auc:0.815485\n",
      "[288]\tvalidation_0-auc:0.834567\tvalidation_1-auc:0.815534\n",
      "[289]\tvalidation_0-auc:0.834643\tvalidation_1-auc:0.815816\n",
      "[290]\tvalidation_0-auc:0.834566\tvalidation_1-auc:0.816260\n",
      "[291]\tvalidation_0-auc:0.834801\tvalidation_1-auc:0.816114\n",
      "[292]\tvalidation_0-auc:0.834843\tvalidation_1-auc:0.816304\n",
      "[293]\tvalidation_0-auc:0.834872\tvalidation_1-auc:0.816145\n",
      "[294]\tvalidation_0-auc:0.835056\tvalidation_1-auc:0.816264\n",
      "[295]\tvalidation_0-auc:0.835298\tvalidation_1-auc:0.816549\n",
      "[296]\tvalidation_0-auc:0.835617\tvalidation_1-auc:0.816396\n",
      "[297]\tvalidation_0-auc:0.835701\tvalidation_1-auc:0.816415\n",
      "[298]\tvalidation_0-auc:0.835715\tvalidation_1-auc:0.816257\n",
      "[299]\tvalidation_0-auc:0.835860\tvalidation_1-auc:0.816465\n",
      "[300]\tvalidation_0-auc:0.836518\tvalidation_1-auc:0.816943\n",
      "[301]\tvalidation_0-auc:0.836438\tvalidation_1-auc:0.817240\n",
      "[302]\tvalidation_0-auc:0.836457\tvalidation_1-auc:0.817569\n",
      "[303]\tvalidation_0-auc:0.836654\tvalidation_1-auc:0.817643\n",
      "[304]\tvalidation_0-auc:0.836557\tvalidation_1-auc:0.817937\n",
      "[305]\tvalidation_0-auc:0.836744\tvalidation_1-auc:0.817955\n",
      "[306]\tvalidation_0-auc:0.836933\tvalidation_1-auc:0.818014\n",
      "[307]\tvalidation_0-auc:0.837119\tvalidation_1-auc:0.817998\n",
      "[308]\tvalidation_0-auc:0.837108\tvalidation_1-auc:0.817881\n",
      "[309]\tvalidation_0-auc:0.837164\tvalidation_1-auc:0.817735\n",
      "[310]\tvalidation_0-auc:0.837301\tvalidation_1-auc:0.817908\n",
      "[311]\tvalidation_0-auc:0.837287\tvalidation_1-auc:0.818140\n",
      "[312]\tvalidation_0-auc:0.837105\tvalidation_1-auc:0.818497\n",
      "[313]\tvalidation_0-auc:0.837202\tvalidation_1-auc:0.818514\n",
      "[314]\tvalidation_0-auc:0.837497\tvalidation_1-auc:0.818897\n",
      "[315]\tvalidation_0-auc:0.837493\tvalidation_1-auc:0.818915\n",
      "[316]\tvalidation_0-auc:0.837554\tvalidation_1-auc:0.819017\n",
      "[317]\tvalidation_0-auc:0.837694\tvalidation_1-auc:0.818980\n",
      "[318]\tvalidation_0-auc:0.837672\tvalidation_1-auc:0.819235\n",
      "[319]\tvalidation_0-auc:0.837890\tvalidation_1-auc:0.819287\n",
      "[320]\tvalidation_0-auc:0.838237\tvalidation_1-auc:0.819547\n",
      "[321]\tvalidation_0-auc:0.838171\tvalidation_1-auc:0.819568\n",
      "[322]\tvalidation_0-auc:0.838248\tvalidation_1-auc:0.819515\n",
      "[323]\tvalidation_0-auc:0.838388\tvalidation_1-auc:0.819464\n",
      "[324]\tvalidation_0-auc:0.838452\tvalidation_1-auc:0.819610\n",
      "[325]\tvalidation_0-auc:0.838484\tvalidation_1-auc:0.819895\n",
      "[326]\tvalidation_0-auc:0.838480\tvalidation_1-auc:0.819967\n",
      "[327]\tvalidation_0-auc:0.838599\tvalidation_1-auc:0.820080\n",
      "[328]\tvalidation_0-auc:0.838734\tvalidation_1-auc:0.820076\n",
      "[329]\tvalidation_0-auc:0.838751\tvalidation_1-auc:0.819970\n",
      "[330]\tvalidation_0-auc:0.838968\tvalidation_1-auc:0.820140\n",
      "[331]\tvalidation_0-auc:0.839016\tvalidation_1-auc:0.820281\n",
      "[332]\tvalidation_0-auc:0.839009\tvalidation_1-auc:0.820494\n",
      "[333]\tvalidation_0-auc:0.839224\tvalidation_1-auc:0.820363\n",
      "[334]\tvalidation_0-auc:0.839262\tvalidation_1-auc:0.820388\n",
      "[335]\tvalidation_0-auc:0.839460\tvalidation_1-auc:0.820261\n",
      "[336]\tvalidation_0-auc:0.839584\tvalidation_1-auc:0.820275\n",
      "[337]\tvalidation_0-auc:0.839742\tvalidation_1-auc:0.820441\n",
      "[338]\tvalidation_0-auc:0.839898\tvalidation_1-auc:0.820592\n",
      "[339]\tvalidation_0-auc:0.840008\tvalidation_1-auc:0.820738\n",
      "[340]\tvalidation_0-auc:0.840168\tvalidation_1-auc:0.820928\n",
      "[341]\tvalidation_0-auc:0.840323\tvalidation_1-auc:0.820951\n",
      "[342]\tvalidation_0-auc:0.840532\tvalidation_1-auc:0.821277\n",
      "[343]\tvalidation_0-auc:0.840602\tvalidation_1-auc:0.821190\n",
      "[344]\tvalidation_0-auc:0.840513\tvalidation_1-auc:0.821400\n",
      "[345]\tvalidation_0-auc:0.840559\tvalidation_1-auc:0.821466\n",
      "[346]\tvalidation_0-auc:0.840663\tvalidation_1-auc:0.821520\n",
      "[347]\tvalidation_0-auc:0.840766\tvalidation_1-auc:0.821591\n",
      "[348]\tvalidation_0-auc:0.840784\tvalidation_1-auc:0.821555\n",
      "[349]\tvalidation_0-auc:0.840839\tvalidation_1-auc:0.821677\n",
      "[350]\tvalidation_0-auc:0.841009\tvalidation_1-auc:0.821760\n",
      "[351]\tvalidation_0-auc:0.841008\tvalidation_1-auc:0.821789\n",
      "[352]\tvalidation_0-auc:0.841101\tvalidation_1-auc:0.821854\n",
      "[353]\tvalidation_0-auc:0.841162\tvalidation_1-auc:0.821828\n",
      "[354]\tvalidation_0-auc:0.841198\tvalidation_1-auc:0.821795\n",
      "[355]\tvalidation_0-auc:0.841308\tvalidation_1-auc:0.821905\n",
      "[356]\tvalidation_0-auc:0.841361\tvalidation_1-auc:0.821920\n",
      "[357]\tvalidation_0-auc:0.841423\tvalidation_1-auc:0.821832\n",
      "[358]\tvalidation_0-auc:0.841484\tvalidation_1-auc:0.821985\n",
      "[359]\tvalidation_0-auc:0.841546\tvalidation_1-auc:0.822034\n",
      "[360]\tvalidation_0-auc:0.841544\tvalidation_1-auc:0.822115\n",
      "[361]\tvalidation_0-auc:0.841592\tvalidation_1-auc:0.822371\n",
      "[362]\tvalidation_0-auc:0.841595\tvalidation_1-auc:0.822377\n",
      "[363]\tvalidation_0-auc:0.841602\tvalidation_1-auc:0.822125\n",
      "[364]\tvalidation_0-auc:0.841618\tvalidation_1-auc:0.822213\n",
      "[365]\tvalidation_0-auc:0.841650\tvalidation_1-auc:0.822172\n",
      "[366]\tvalidation_0-auc:0.841655\tvalidation_1-auc:0.822332\n",
      "[367]\tvalidation_0-auc:0.841708\tvalidation_1-auc:0.822529\n",
      "[368]\tvalidation_0-auc:0.841675\tvalidation_1-auc:0.822445\n",
      "[369]\tvalidation_0-auc:0.841680\tvalidation_1-auc:0.822462\n",
      "[370]\tvalidation_0-auc:0.841843\tvalidation_1-auc:0.822544\n",
      "[371]\tvalidation_0-auc:0.841891\tvalidation_1-auc:0.822576\n",
      "[372]\tvalidation_0-auc:0.841969\tvalidation_1-auc:0.822643\n",
      "[373]\tvalidation_0-auc:0.842021\tvalidation_1-auc:0.822658\n",
      "[374]\tvalidation_0-auc:0.842071\tvalidation_1-auc:0.822790\n",
      "[375]\tvalidation_0-auc:0.842109\tvalidation_1-auc:0.823070\n",
      "[376]\tvalidation_0-auc:0.842283\tvalidation_1-auc:0.823344\n",
      "[377]\tvalidation_0-auc:0.842362\tvalidation_1-auc:0.823253\n",
      "[378]\tvalidation_0-auc:0.842437\tvalidation_1-auc:0.823203\n",
      "[379]\tvalidation_0-auc:0.842556\tvalidation_1-auc:0.823140\n",
      "[380]\tvalidation_0-auc:0.842647\tvalidation_1-auc:0.823080\n",
      "[381]\tvalidation_0-auc:0.842681\tvalidation_1-auc:0.823088\n",
      "[382]\tvalidation_0-auc:0.842744\tvalidation_1-auc:0.823106\n",
      "[383]\tvalidation_0-auc:0.842746\tvalidation_1-auc:0.823219\n",
      "[384]\tvalidation_0-auc:0.842880\tvalidation_1-auc:0.823293\n",
      "[385]\tvalidation_0-auc:0.842904\tvalidation_1-auc:0.823356\n",
      "[386]\tvalidation_0-auc:0.842900\tvalidation_1-auc:0.823262\n",
      "[387]\tvalidation_0-auc:0.842919\tvalidation_1-auc:0.823285\n",
      "[388]\tvalidation_0-auc:0.842937\tvalidation_1-auc:0.823239\n",
      "[389]\tvalidation_0-auc:0.843054\tvalidation_1-auc:0.823379\n",
      "[390]\tvalidation_0-auc:0.843095\tvalidation_1-auc:0.823437\n",
      "[391]\tvalidation_0-auc:0.843158\tvalidation_1-auc:0.823537\n",
      "[392]\tvalidation_0-auc:0.843212\tvalidation_1-auc:0.823468\n",
      "[393]\tvalidation_0-auc:0.843246\tvalidation_1-auc:0.823611\n",
      "[394]\tvalidation_0-auc:0.843369\tvalidation_1-auc:0.823616\n",
      "[395]\tvalidation_0-auc:0.843412\tvalidation_1-auc:0.823645\n",
      "[396]\tvalidation_0-auc:0.843423\tvalidation_1-auc:0.823690\n",
      "[397]\tvalidation_0-auc:0.843458\tvalidation_1-auc:0.823753\n",
      "[398]\tvalidation_0-auc:0.843515\tvalidation_1-auc:0.823834\n",
      "[399]\tvalidation_0-auc:0.843544\tvalidation_1-auc:0.823752\n",
      "[400]\tvalidation_0-auc:0.843588\tvalidation_1-auc:0.823806\n",
      "[401]\tvalidation_0-auc:0.843663\tvalidation_1-auc:0.823835\n",
      "[402]\tvalidation_0-auc:0.843749\tvalidation_1-auc:0.823837\n",
      "[403]\tvalidation_0-auc:0.843767\tvalidation_1-auc:0.823903\n",
      "[404]\tvalidation_0-auc:0.843854\tvalidation_1-auc:0.824068\n",
      "[405]\tvalidation_0-auc:0.843907\tvalidation_1-auc:0.824143\n",
      "[406]\tvalidation_0-auc:0.843952\tvalidation_1-auc:0.824062\n",
      "[407]\tvalidation_0-auc:0.844001\tvalidation_1-auc:0.824088\n",
      "[408]\tvalidation_0-auc:0.844060\tvalidation_1-auc:0.824156\n",
      "[409]\tvalidation_0-auc:0.844070\tvalidation_1-auc:0.824175\n",
      "[410]\tvalidation_0-auc:0.844125\tvalidation_1-auc:0.824118\n",
      "[411]\tvalidation_0-auc:0.844201\tvalidation_1-auc:0.824242\n",
      "[412]\tvalidation_0-auc:0.844216\tvalidation_1-auc:0.824213\n",
      "[413]\tvalidation_0-auc:0.844243\tvalidation_1-auc:0.824217\n",
      "[414]\tvalidation_0-auc:0.844257\tvalidation_1-auc:0.824185\n",
      "[415]\tvalidation_0-auc:0.844308\tvalidation_1-auc:0.824290\n",
      "[416]\tvalidation_0-auc:0.844346\tvalidation_1-auc:0.824373\n",
      "[417]\tvalidation_0-auc:0.844395\tvalidation_1-auc:0.824432\n",
      "[418]\tvalidation_0-auc:0.844412\tvalidation_1-auc:0.824394\n",
      "[419]\tvalidation_0-auc:0.844419\tvalidation_1-auc:0.824439\n",
      "[420]\tvalidation_0-auc:0.844461\tvalidation_1-auc:0.824464\n",
      "[421]\tvalidation_0-auc:0.844503\tvalidation_1-auc:0.824521\n",
      "[422]\tvalidation_0-auc:0.844540\tvalidation_1-auc:0.824507\n",
      "[423]\tvalidation_0-auc:0.844569\tvalidation_1-auc:0.824518\n",
      "[424]\tvalidation_0-auc:0.844579\tvalidation_1-auc:0.824518\n",
      "[425]\tvalidation_0-auc:0.844602\tvalidation_1-auc:0.824557\n",
      "[426]\tvalidation_0-auc:0.844642\tvalidation_1-auc:0.824563\n",
      "[427]\tvalidation_0-auc:0.844678\tvalidation_1-auc:0.824585\n",
      "[428]\tvalidation_0-auc:0.844702\tvalidation_1-auc:0.824698\n",
      "[429]\tvalidation_0-auc:0.844747\tvalidation_1-auc:0.824634\n",
      "[430]\tvalidation_0-auc:0.844777\tvalidation_1-auc:0.824660\n",
      "[431]\tvalidation_0-auc:0.844825\tvalidation_1-auc:0.824771\n",
      "[432]\tvalidation_0-auc:0.844866\tvalidation_1-auc:0.824739\n",
      "[433]\tvalidation_0-auc:0.844884\tvalidation_1-auc:0.824738\n",
      "[434]\tvalidation_0-auc:0.844896\tvalidation_1-auc:0.824653\n",
      "[435]\tvalidation_0-auc:0.844934\tvalidation_1-auc:0.824757\n",
      "[436]\tvalidation_0-auc:0.845001\tvalidation_1-auc:0.824806\n",
      "[437]\tvalidation_0-auc:0.845052\tvalidation_1-auc:0.824802\n",
      "[438]\tvalidation_0-auc:0.845084\tvalidation_1-auc:0.824867\n",
      "[439]\tvalidation_0-auc:0.845093\tvalidation_1-auc:0.824838\n",
      "[440]\tvalidation_0-auc:0.845159\tvalidation_1-auc:0.824856\n",
      "[441]\tvalidation_0-auc:0.845195\tvalidation_1-auc:0.824763\n",
      "[442]\tvalidation_0-auc:0.845224\tvalidation_1-auc:0.824743\n",
      "[443]\tvalidation_0-auc:0.845225\tvalidation_1-auc:0.824665\n",
      "[444]\tvalidation_0-auc:0.845279\tvalidation_1-auc:0.824738\n",
      "[445]\tvalidation_0-auc:0.845316\tvalidation_1-auc:0.824747\n",
      "[446]\tvalidation_0-auc:0.845351\tvalidation_1-auc:0.824738\n",
      "[447]\tvalidation_0-auc:0.845391\tvalidation_1-auc:0.824762\n",
      "[448]\tvalidation_0-auc:0.845411\tvalidation_1-auc:0.824805\n",
      "[449]\tvalidation_0-auc:0.845433\tvalidation_1-auc:0.824797\n",
      "[450]\tvalidation_0-auc:0.845486\tvalidation_1-auc:0.824761\n",
      "[451]\tvalidation_0-auc:0.845502\tvalidation_1-auc:0.824743\n",
      "[452]\tvalidation_0-auc:0.845503\tvalidation_1-auc:0.824795\n",
      "[453]\tvalidation_0-auc:0.845524\tvalidation_1-auc:0.824872\n",
      "[454]\tvalidation_0-auc:0.845591\tvalidation_1-auc:0.824902\n",
      "[455]\tvalidation_0-auc:0.845611\tvalidation_1-auc:0.824842\n",
      "[456]\tvalidation_0-auc:0.845642\tvalidation_1-auc:0.824955\n",
      "[457]\tvalidation_0-auc:0.845651\tvalidation_1-auc:0.824933\n",
      "[458]\tvalidation_0-auc:0.845681\tvalidation_1-auc:0.824891\n",
      "[459]\tvalidation_0-auc:0.845710\tvalidation_1-auc:0.824809\n",
      "[460]\tvalidation_0-auc:0.845743\tvalidation_1-auc:0.824898\n",
      "[461]\tvalidation_0-auc:0.845781\tvalidation_1-auc:0.824921\n",
      "[462]\tvalidation_0-auc:0.845809\tvalidation_1-auc:0.824890\n",
      "[463]\tvalidation_0-auc:0.845845\tvalidation_1-auc:0.824922\n",
      "[464]\tvalidation_0-auc:0.845870\tvalidation_1-auc:0.824947\n",
      "[465]\tvalidation_0-auc:0.845921\tvalidation_1-auc:0.824965\n",
      "[466]\tvalidation_0-auc:0.845959\tvalidation_1-auc:0.825128\n",
      "[467]\tvalidation_0-auc:0.845970\tvalidation_1-auc:0.825196\n",
      "[468]\tvalidation_0-auc:0.846019\tvalidation_1-auc:0.825234\n",
      "[469]\tvalidation_0-auc:0.846029\tvalidation_1-auc:0.825247\n",
      "[470]\tvalidation_0-auc:0.846073\tvalidation_1-auc:0.825369\n",
      "[471]\tvalidation_0-auc:0.846106\tvalidation_1-auc:0.825416\n",
      "[472]\tvalidation_0-auc:0.846134\tvalidation_1-auc:0.825519\n",
      "[473]\tvalidation_0-auc:0.846171\tvalidation_1-auc:0.825477\n",
      "[474]\tvalidation_0-auc:0.846201\tvalidation_1-auc:0.825519\n",
      "[475]\tvalidation_0-auc:0.846231\tvalidation_1-auc:0.825616\n",
      "[476]\tvalidation_0-auc:0.846250\tvalidation_1-auc:0.825601\n",
      "[477]\tvalidation_0-auc:0.846263\tvalidation_1-auc:0.825570\n",
      "[478]\tvalidation_0-auc:0.846283\tvalidation_1-auc:0.825572\n",
      "[479]\tvalidation_0-auc:0.846283\tvalidation_1-auc:0.825513\n",
      "[480]\tvalidation_0-auc:0.846319\tvalidation_1-auc:0.825637\n",
      "[481]\tvalidation_0-auc:0.846339\tvalidation_1-auc:0.825620\n",
      "[482]\tvalidation_0-auc:0.846357\tvalidation_1-auc:0.825647\n",
      "[483]\tvalidation_0-auc:0.846367\tvalidation_1-auc:0.825606\n",
      "[484]\tvalidation_0-auc:0.846420\tvalidation_1-auc:0.825639\n",
      "[485]\tvalidation_0-auc:0.846440\tvalidation_1-auc:0.825701\n",
      "[486]\tvalidation_0-auc:0.846440\tvalidation_1-auc:0.825738\n",
      "[487]\tvalidation_0-auc:0.846480\tvalidation_1-auc:0.825692\n",
      "[488]\tvalidation_0-auc:0.846512\tvalidation_1-auc:0.825718\n",
      "[489]\tvalidation_0-auc:0.846527\tvalidation_1-auc:0.825700\n",
      "[490]\tvalidation_0-auc:0.846557\tvalidation_1-auc:0.825754\n",
      "[491]\tvalidation_0-auc:0.846573\tvalidation_1-auc:0.825756\n",
      "[492]\tvalidation_0-auc:0.846591\tvalidation_1-auc:0.825710\n",
      "[493]\tvalidation_0-auc:0.846604\tvalidation_1-auc:0.825684\n",
      "[494]\tvalidation_0-auc:0.846644\tvalidation_1-auc:0.825687\n",
      "[495]\tvalidation_0-auc:0.846687\tvalidation_1-auc:0.825731\n",
      "[496]\tvalidation_0-auc:0.846735\tvalidation_1-auc:0.825782\n",
      "[497]\tvalidation_0-auc:0.846774\tvalidation_1-auc:0.825839\n",
      "[498]\tvalidation_0-auc:0.846799\tvalidation_1-auc:0.825875\n",
      "[499]\tvalidation_0-auc:0.846817\tvalidation_1-auc:0.825950\n",
      "[500]\tvalidation_0-auc:0.846856\tvalidation_1-auc:0.825982\n",
      "[501]\tvalidation_0-auc:0.846879\tvalidation_1-auc:0.826032\n",
      "[502]\tvalidation_0-auc:0.846900\tvalidation_1-auc:0.826053\n",
      "[503]\tvalidation_0-auc:0.846917\tvalidation_1-auc:0.826065\n",
      "[504]\tvalidation_0-auc:0.846936\tvalidation_1-auc:0.826078\n",
      "[505]\tvalidation_0-auc:0.846985\tvalidation_1-auc:0.826149\n",
      "[506]\tvalidation_0-auc:0.847015\tvalidation_1-auc:0.826194\n",
      "[507]\tvalidation_0-auc:0.847047\tvalidation_1-auc:0.826221\n",
      "[508]\tvalidation_0-auc:0.847096\tvalidation_1-auc:0.826299\n",
      "[509]\tvalidation_0-auc:0.847132\tvalidation_1-auc:0.826347\n",
      "[510]\tvalidation_0-auc:0.847146\tvalidation_1-auc:0.826328\n",
      "[511]\tvalidation_0-auc:0.847139\tvalidation_1-auc:0.826331\n",
      "[512]\tvalidation_0-auc:0.847157\tvalidation_1-auc:0.826389\n",
      "[513]\tvalidation_0-auc:0.847224\tvalidation_1-auc:0.826402\n",
      "[514]\tvalidation_0-auc:0.847265\tvalidation_1-auc:0.826374\n",
      "[515]\tvalidation_0-auc:0.847273\tvalidation_1-auc:0.826459\n",
      "[516]\tvalidation_0-auc:0.847305\tvalidation_1-auc:0.826455\n",
      "[517]\tvalidation_0-auc:0.847319\tvalidation_1-auc:0.826486\n",
      "[518]\tvalidation_0-auc:0.847336\tvalidation_1-auc:0.826506\n",
      "[519]\tvalidation_0-auc:0.847343\tvalidation_1-auc:0.826505\n",
      "[520]\tvalidation_0-auc:0.847368\tvalidation_1-auc:0.826541\n",
      "[521]\tvalidation_0-auc:0.847378\tvalidation_1-auc:0.826545\n",
      "[522]\tvalidation_0-auc:0.847412\tvalidation_1-auc:0.826541\n",
      "[523]\tvalidation_0-auc:0.847458\tvalidation_1-auc:0.826587\n",
      "[524]\tvalidation_0-auc:0.847488\tvalidation_1-auc:0.826677\n",
      "[525]\tvalidation_0-auc:0.847549\tvalidation_1-auc:0.826610\n",
      "[526]\tvalidation_0-auc:0.847560\tvalidation_1-auc:0.826613\n",
      "[527]\tvalidation_0-auc:0.847587\tvalidation_1-auc:0.826626\n",
      "[528]\tvalidation_0-auc:0.847612\tvalidation_1-auc:0.826634\n",
      "[529]\tvalidation_0-auc:0.847657\tvalidation_1-auc:0.826714\n",
      "[530]\tvalidation_0-auc:0.847710\tvalidation_1-auc:0.826739\n",
      "[531]\tvalidation_0-auc:0.847743\tvalidation_1-auc:0.826762\n",
      "[532]\tvalidation_0-auc:0.847772\tvalidation_1-auc:0.826806\n",
      "[533]\tvalidation_0-auc:0.847803\tvalidation_1-auc:0.826843\n",
      "[534]\tvalidation_0-auc:0.847846\tvalidation_1-auc:0.826810\n",
      "[535]\tvalidation_0-auc:0.847880\tvalidation_1-auc:0.826792\n",
      "[536]\tvalidation_0-auc:0.847902\tvalidation_1-auc:0.826834\n",
      "[537]\tvalidation_0-auc:0.847948\tvalidation_1-auc:0.826821\n",
      "[538]\tvalidation_0-auc:0.847962\tvalidation_1-auc:0.826859\n",
      "[539]\tvalidation_0-auc:0.848006\tvalidation_1-auc:0.826865\n",
      "[540]\tvalidation_0-auc:0.848035\tvalidation_1-auc:0.826909\n",
      "[541]\tvalidation_0-auc:0.848040\tvalidation_1-auc:0.826944\n",
      "[542]\tvalidation_0-auc:0.848075\tvalidation_1-auc:0.826953\n",
      "[543]\tvalidation_0-auc:0.848119\tvalidation_1-auc:0.826951\n",
      "[544]\tvalidation_0-auc:0.848155\tvalidation_1-auc:0.827007\n",
      "[545]\tvalidation_0-auc:0.848173\tvalidation_1-auc:0.827049\n",
      "[546]\tvalidation_0-auc:0.848206\tvalidation_1-auc:0.827114\n",
      "[547]\tvalidation_0-auc:0.848252\tvalidation_1-auc:0.827099\n",
      "[548]\tvalidation_0-auc:0.848262\tvalidation_1-auc:0.827106\n",
      "[549]\tvalidation_0-auc:0.848294\tvalidation_1-auc:0.827162\n",
      "[550]\tvalidation_0-auc:0.848301\tvalidation_1-auc:0.827185\n",
      "[551]\tvalidation_0-auc:0.848349\tvalidation_1-auc:0.827248\n",
      "[552]\tvalidation_0-auc:0.848377\tvalidation_1-auc:0.827291\n",
      "[553]\tvalidation_0-auc:0.848390\tvalidation_1-auc:0.827328\n",
      "[554]\tvalidation_0-auc:0.848396\tvalidation_1-auc:0.827302\n",
      "[555]\tvalidation_0-auc:0.848400\tvalidation_1-auc:0.827288\n",
      "[556]\tvalidation_0-auc:0.848416\tvalidation_1-auc:0.827358\n",
      "[557]\tvalidation_0-auc:0.848453\tvalidation_1-auc:0.827416\n",
      "[558]\tvalidation_0-auc:0.848485\tvalidation_1-auc:0.827416\n",
      "[559]\tvalidation_0-auc:0.848502\tvalidation_1-auc:0.827431\n"
     ]
    },
    {
     "data": {
      "text/plain": [
       "XGBClassifier(base_score=0.5, colsample_bylevel=1, colsample_bytree=0.71,\n",
       "       gamma=0, learning_rate=0.0202, max_delta_step=0, max_depth=5,\n",
       "       min_child_weight=3, missing=None, n_estimators=560, nthread=-1,\n",
       "       objective='binary:logistic', reg_alpha=0, reg_lambda=1,\n",
       "       scale_pos_weight=0.0411987070619, seed=1776, silent=True,\n",
       "       subsample=0.68)"
      ]
     },
     "execution_count": 164,
     "metadata": {},
     "output_type": "execute_result"
    }
   ],
   "source": [
    "# try using... eval_metric: mlogloss, merror, ndcg@n-, logloss, auc\n",
    "est.fit(X_train, y_train, eval_set=eval_set, early_stopping_rounds=128, eval_metric='auc')"
   ]
  },
  {
   "cell_type": "markdown",
   "metadata": {},
   "source": [
    "**Save model for later**"
   ]
  },
  {
   "cell_type": "code",
   "execution_count": 165,
   "metadata": {
    "collapsed": false
   },
   "outputs": [
    {
     "name": "stdout",
     "output_type": "stream",
     "text": [
      "(76020, 325)\n"
     ]
    }
   ],
   "source": [
    "#! mkdir models\n",
    "print X.shape"
   ]
  },
  {
   "cell_type": "code",
   "execution_count": 166,
   "metadata": {
    "collapsed": false
   },
   "outputs": [],
   "source": [
    "# save the classifier\n",
    "with open('models/my_xgb11_n325.pkl', 'wb') as f:\n",
    "    cPickle.dump(est, f)    "
   ]
  },
  {
   "cell_type": "code",
   "execution_count": 483,
   "metadata": {
    "collapsed": false
   },
   "outputs": [
    {
     "name": "stdout",
     "output_type": "stream",
     "text": [
      "XGBClassifier(base_score=0.5, colsample_bylevel=1, colsample_bytree=0.5,\n",
      "       gamma=0, learning_rate=0.1, max_delta_step=0, max_depth=8,\n",
      "       min_child_weight=3, missing=nan, n_estimators=256, nthread=-1,\n",
      "       objective='binary:logistic', reg_alpha=0, reg_lambda=1,\n",
      "       scale_pos_weight=0.0411987070619, seed=415, silent=True,\n",
      "       subsample=1.0)\n"
     ]
    }
   ],
   "source": [
    "# load it again\n",
    "with open('models/my_xgb_2.pkl', 'rb') as f:\n",
    "    clf_loaded = cPickle.load(f)\n",
    "print clf_loaded"
   ]
  },
  {
   "cell_type": "code",
   "execution_count": 437,
   "metadata": {
    "collapsed": true
   },
   "outputs": [],
   "source": [
    "# assign loaded model to \"est\"\n",
    "est = clf_loaded"
   ]
  },
  {
   "cell_type": "markdown",
   "metadata": {},
   "source": [
    "TODO: pickle and load model + training data info\n",
    "------\n"
   ]
  },
  {
   "cell_type": "code",
   "execution_count": null,
   "metadata": {
    "collapsed": true
   },
   "outputs": [],
   "source": [
    "pickle_file = 'notMNIST.pickle'\n",
    "\n",
    "try:\n",
    "  f = open(pickle_file, 'wb')\n",
    "  save = {\n",
    "    'train_dataset': train_dataset,\n",
    "    'train_labels': train_labels,\n",
    "    'valid_dataset': valid_dataset,\n",
    "    'valid_labels': valid_labels,\n",
    "    'test_dataset': test_dataset,\n",
    "    'test_labels': test_labels,\n",
    "    }\n",
    "  pickle.dump(save, f, pickle.HIGHEST_PROTOCOL)\n",
    "  f.close()\n",
    "except Exception as e:\n",
    "  print 'Unable to save data to', pickle_file, ':', e\n",
    "  raise"
   ]
  },
  {
   "cell_type": "code",
   "execution_count": null,
   "metadata": {
    "collapsed": true
   },
   "outputs": [],
   "source": [
    "statinfo = os.stat(pickle_file)\n",
    "print 'Compressed pickle size:', statinfo.st_size"
   ]
  },
  {
   "cell_type": "code",
   "execution_count": null,
   "metadata": {
    "collapsed": true
   },
   "outputs": [],
   "source": [
    "# load pickled data\n",
    "#http://deeplearning.net/software/theano/tutorial/loading_and_saving.html\n",
    "pickle_file = 'notMNIST.pickle'\n",
    "\n",
    "#pickle_file = 'notMNIST_u.pickle'  ## deduped\n",
    "\n",
    "f = open(pickle_file, 'rb')\n",
    "loaded_obj = pickle.load(f)\n",
    "f.close()"
   ]
  },
  {
   "cell_type": "code",
   "execution_count": null,
   "metadata": {
    "collapsed": true
   },
   "outputs": [],
   "source": [
    "# keys should be variable names\n",
    "loaded_obj.keys()"
   ]
  },
  {
   "cell_type": "code",
   "execution_count": null,
   "metadata": {
    "collapsed": true
   },
   "outputs": [],
   "source": [
    "# execute string (eg, exec('X_train' + '= val'))\n",
    "for key,val in loaded_obj.items():\n",
    "    exec(key + '= val')\n",
    "\n",
    "print 'Training set', train_dataset.shape, train_labels.shape\n",
    "print 'Validation set', valid_dataset.shape, valid_labels.shape\n",
    "print 'Test set', test_dataset.shape, test_labels.shape"
   ]
  },
  {
   "cell_type": "code",
   "execution_count": null,
   "metadata": {
    "collapsed": true
   },
   "outputs": [],
   "source": [
    "# hint to help gc free up memory\n",
    "del(loaded_obj)"
   ]
  },
  {
   "cell_type": "markdown",
   "metadata": {},
   "source": [
    "3. Fit with grid search\n",
    "------------------------"
   ]
  },
  {
   "cell_type": "code",
   "execution_count": null,
   "metadata": {
    "collapsed": false
   },
   "outputs": [],
   "source": [
    "## fit the data with model \"est\"\n",
    "reg = grid_search.GridSearchCV(est, parameters, scoring=auc_scorer, cv=3)\n",
    "reg.fit(X, y)"
   ]
  },
  {
   "cell_type": "code",
   "execution_count": 541,
   "metadata": {
    "collapsed": false
   },
   "outputs": [
    {
     "data": {
      "text/plain": [
       "LogisticRegression(C=1.0, class_weight=None, dual=False, fit_intercept=True,\n",
       "          intercept_scaling=1, max_iter=100, multi_class='ovr', n_jobs=1,\n",
       "          penalty='l2', random_state=11, solver='liblinear', tol=0.0001,\n",
       "          verbose=0, warm_start=False)"
      ]
     },
     "execution_count": 541,
     "metadata": {},
     "output_type": "execute_result"
    }
   ],
   "source": [
    "## get the best predictor\n",
    "est = reg.best_estimator_\n",
    "est"
   ]
  },
  {
   "cell_type": "markdown",
   "metadata": {},
   "source": [
    "## Look at prediction performance"
   ]
  },
  {
   "cell_type": "code",
   "execution_count": 542,
   "metadata": {
    "collapsed": false
   },
   "outputs": [],
   "source": [
    "## predict classes\n",
    "ypred = est.predict(X)"
   ]
  },
  {
   "cell_type": "code",
   "execution_count": 543,
   "metadata": {
    "collapsed": false
   },
   "outputs": [
    {
     "name": "stdout",
     "output_type": "stream",
     "text": [
      "             precision    recall  f1-score   support\n",
      "\n",
      "          0       0.96      1.00      0.98     73012\n",
      "          1       0.00      0.00      0.00      3008\n",
      "\n",
      "avg / total       0.92      0.96      0.94     76020\n",
      "\n"
     ]
    }
   ],
   "source": [
    "# view the results, my_xgb_2\n",
    "print metrics.classification_report(y, ypred)"
   ]
  },
  {
   "cell_type": "code",
   "execution_count": 48,
   "metadata": {
    "collapsed": false
   },
   "outputs": [
    {
     "name": "stdout",
     "output_type": "stream",
     "text": [
      "             precision    recall  f1-score   support\n",
      "\n",
      "          0       1.00      0.93      0.96     73012\n",
      "          1       0.35      0.90      0.50      3008\n",
      "\n",
      "avg / total       0.97      0.93      0.94     76020\n",
      "\n"
     ]
    }
   ],
   "source": [
    "# view the results, my_rf_1\n",
    "print metrics.classification_report(y, ypred)"
   ]
  },
  {
   "cell_type": "code",
   "execution_count": 167,
   "metadata": {
    "collapsed": false
   },
   "outputs": [
    {
     "name": "stdout",
     "output_type": "stream",
     "text": [
      "0.84641191715\n"
     ]
    }
   ],
   "source": [
    "## xgb, predict probabilities\n",
    "ypred = est.predict_proba(X)\n",
    "print metrics.roc_auc_score(y, ypred[:,1])"
   ]
  },
  {
   "cell_type": "code",
   "execution_count": 121,
   "metadata": {
    "collapsed": false
   },
   "outputs": [
    {
     "name": "stdout",
     "output_type": "stream",
     "text": [
      "0.96753999461\n"
     ]
    }
   ],
   "source": [
    "## rf, predict probabilities\n",
    "ypred = est.predict_proba(X)\n",
    "print metrics.roc_auc_score(y, ypred[:,1])"
   ]
  },
  {
   "cell_type": "code",
   "execution_count": 519,
   "metadata": {
    "collapsed": false
   },
   "outputs": [
    {
     "name": "stdout",
     "output_type": "stream",
     "text": [
      "0.904821346586\n"
     ]
    }
   ],
   "source": [
    "## ext, predict probabilities\n",
    "ypred = est.predict_proba(X)\n",
    "print metrics.roc_auc_score(y, ypred[:,1])"
   ]
  },
  {
   "cell_type": "markdown",
   "metadata": {},
   "source": [
    "---\n",
    "## Generate submission"
   ]
  },
  {
   "cell_type": "code",
   "execution_count": 168,
   "metadata": {
    "collapsed": false
   },
   "outputs": [
    {
     "name": "stdout",
     "output_type": "stream",
     "text": [
      "(75818, 325)\n",
      "(75818, 2)\n",
      "[[  9.97875154e-01   2.12485390e-03]\n",
      " [  9.97589052e-01   2.41093407e-03]\n",
      " [  9.99812186e-01   1.87797064e-04]\n",
      " [  9.99391794e-01   6.08183211e-04]\n",
      " [  9.99821603e-01   1.78406655e-04]\n",
      " [  9.86697733e-01   1.33022899e-02]\n",
      " [  9.97747481e-01   2.25251052e-03]]\n"
     ]
    }
   ],
   "source": [
    "## predict test, class probabilities\n",
    "ypred_submit = est.predict_proba(X_test_submit)\n",
    "print X_test_submit.shape\n",
    "print ypred_submit.shape\n",
    "print ypred_submit[:7]"
   ]
  },
  {
   "cell_type": "code",
   "execution_count": 173,
   "metadata": {
    "collapsed": false
   },
   "outputs": [
    {
     "data": {
      "text/plain": [
       "array([[  9.97875154e-01,   2.12485390e-03],\n",
       "       [  9.97589052e-01,   2.41093407e-03],\n",
       "       [  9.99812186e-01,   1.87797064e-04],\n",
       "       [  9.99391794e-01,   6.08183211e-04],\n",
       "       [  9.99821603e-01,   1.78406655e-04],\n",
       "       [  9.86697733e-01,   1.33022899e-02],\n",
       "       [  9.97747481e-01,   0.00000000e+00]], dtype=float32)"
      ]
     },
     "execution_count": 173,
     "metadata": {},
     "output_type": "execute_result"
    }
   ],
   "source": [
    "# Under 23 year olds are always happy\n",
    "ypred_submit[list(var15.index[var15 < 23]), 1] = 0\n",
    "ypred_submit[list(saldo_var33.index[saldo_var33 > 0]), 1] = 0\n",
    "ypred_submit[list(var38.index[var38 > 3988596]), 1] = 0\n",
    "\n",
    "ypred_submit[list(saldo_medio_var5_hace2.index[saldo_medio_var5_hace2 > 160000]), 1] = 0\n",
    "ypred_submit[list(var21.index[var21 > 7500]), 1] = 0\n",
    "ypred_submit[list(num_var30.index[num_var30 > 9]), 1] = 0\n",
    "ypred_submit[list(num_var13_0.index[num_var13_0 > 6]), 1] = 0\n",
    "ypred_submit[list(num_var33_0.index[num_var33_0 > 0]), 1] = 0\n",
    "ypred_submit[list(imp_ent_var16_ult1.index[imp_ent_var16_ult1 > 51003]), 1] = 0\n",
    "ypred_submit[list(imp_op_var39_comer_ult3.index[imp_op_var39_comer_ult3 > 13184]), 1] = 0\n",
    "ypred_submit[list(saldo_medio_var5_ult3.index[saldo_medio_var5_ult3 > 108251]), 1] = 0\n",
    "\n",
    "ypred_submit[:7]"
   ]
  },
  {
   "cell_type": "code",
   "execution_count": 174,
   "metadata": {
    "collapsed": false
   },
   "outputs": [],
   "source": [
    "# Generate submission: stack ids and targets together into dataframe\n",
    "'''\n",
    "# old version -- \n",
    "sub = pd.DataFrame(np.column_stack(id_test, ypred_submit[:,1])), columns=['ID', 'TARGET'])\n",
    "'''\n",
    "\n",
    "sub = pd.concat([id_test, pd.Series(ypred_submit[:,1], name='TARGET')], axis=1)\n",
    "\n",
    "# write dataframe to csv\n",
    "sub.to_csv('../submit/xgb11_zeros_20160501.csv',index=False, float_format='%.16f')"
   ]
  },
  {
   "cell_type": "code",
   "execution_count": 137,
   "metadata": {
    "collapsed": false
   },
   "outputs": [
    {
     "name": "stdout",
     "output_type": "stream",
     "text": [
      "(75818, 325)\n",
      "ID          int64\n",
      "TARGET    float32\n",
      "dtype: object\n"
     ]
    }
   ],
   "source": [
    "print X_test_submit.shape\n",
    "print sub.dtypes"
   ]
  },
  {
   "cell_type": "markdown",
   "metadata": {},
   "source": [
    "### change pred for age (var15) < 23 to 0"
   ]
  },
  {
   "cell_type": "code",
   "execution_count": 39,
   "metadata": {
    "collapsed": false
   },
   "outputs": [],
   "source": [
    "# remember features that predict 0\n",
    "var15 = test['var15']\n",
    "saldo_medio_var5_hace2 = test['saldo_medio_var5_hace2']\n",
    "saldo_var33 = test['saldo_var33']\n",
    "var38 = test['var38']\n",
    "var21 = test['var21']\n",
    "num_var30 = test['num_var30']\n",
    "num_var13_0 = test['num_var13_0']\n",
    "num_var33_0 = test['num_var33_0']\n",
    "imp_ent_var16_ult1 = test['imp_ent_var16_ult1']\n",
    "imp_op_var39_comer_ult3 = test['imp_op_var39_comer_ult3']\n",
    "saldo_medio_var5_ult3 = test['saldo_medio_var5_ult3']"
   ]
  },
  {
   "cell_type": "code",
   "execution_count": 36,
   "metadata": {
    "collapsed": false
   },
   "outputs": [
    {
     "name": "stdout",
     "output_type": "stream",
     "text": [
      "saldo_medio_var5_hace2 (1, 371)\n",
      "saldo_var33 (0, 371)\n",
      "var38 (0, 371)\n",
      "var21 (0, 371)\n",
      "num_var30 (0, 371)\n",
      "num_var13_0 (0, 371)\n",
      "num_var33_0 (0, 371)\n",
      "imp_ent_var16_ult1 (0, 371)\n",
      "imp_op_var39_comer_ult3 (0, 371)\n",
      "saldo_medio_var5_ult3 (0, 371)\n"
     ]
    }
   ],
   "source": [
    "# remember features that predict 0\n",
    "zero_feats = [('saldo_medio_var5_hace2', 160000), \n",
    "              ('saldo_var33', 0),\n",
    "              ('var38', 3988596),\n",
    "              ('var21', 7500),\n",
    "              ('num_var30', 9),\n",
    "              ('num_var13_0', 6),\n",
    "              ('num_var33_0', 0),\n",
    "              ('imp_ent_var16_ult1', 51003),\n",
    "              ('imp_op_var39_comer_ult3', 13184),\n",
    "              ('saldo_medio_var5_ult3', 108251),\n",
    "             ]\n",
    "for x,y in zero_feats:\n",
    "    print x, train[(train[x] > y) & (train.TARGET==1)].shape"
   ]
  },
  {
   "cell_type": "code",
   "execution_count": 158,
   "metadata": {
    "collapsed": false
   },
   "outputs": [
    {
     "name": "stdout",
     "output_type": "stream",
     "text": [
      "[[  9.97911513e-01   2.08847295e-03]\n",
      " [  9.97689486e-01   2.31048861e-03]\n",
      " [  9.99849737e-01   1.50279680e-04]\n",
      " [  9.99436140e-01   5.63843292e-04]\n",
      " [  9.99880195e-01   1.19815690e-04]]\n"
     ]
    }
   ],
   "source": [
    "# Under 23 year olds are always happy\n",
    "ypred_submit[list(var15.index[var15 < 23]), 1] = 0\n",
    "ypred_submit[list(saldo_var33.index[saldo_var33 > 0]), 1] = 0\n",
    "ypred_submit[list(var38.index[var38 > 3988596]), 1] = 0\n",
    "\n",
    "''' addl features that are always zero\n",
    "ypred_submit[list(saldo_medio_var5_hace2.index[saldo_medio_var5_hace2 > 160000]), 1] = 0\n",
    "ypred_submit[list(var21.index[var21 > 7500]), 1] = 0\n",
    "ypred_submit[list(num_var30.index[num_var30 > 9]), 1] = 0\n",
    "ypred_submit[list(num_var13_0.index[num_var13_0 > 6]), 1] = 0\n",
    "ypred_submit[list(num_var33_0.index[num_var33_0 > 0]), 1] = 0\n",
    "ypred_submit[list(imp_ent_var16_ult1.index[imp_ent_var16_ult1 > 51003]), 1] = 0\n",
    "ypred_submit[list(imp_op_var39_comer_ult3.index[imp_op_var39_comer_ult3 > 13184]), 1] = 0\n",
    "ypred_submit[list(saldo_medio_var5_ult3.index[saldo_medio_var5_ult3 > 108251]), 1] = 0\n",
    "'''\n",
    "\n",
    "print ypred_submit[:5]\n",
    "\n",
    "# write dataframe to csv\n",
    "sub = pd.concat([id_test, pd.Series(ypred_submit[:,1], name='TARGET')], axis=1)\n",
    "sub.to_csv('../submit/xgb_var15_20160429.csv',index=False, float_format='%.16f')"
   ]
  },
  {
   "cell_type": "markdown",
   "metadata": {},
   "source": [
    "### TODO: Voting Classifier\n",
    "\n",
    "http://scikit-learn.org/stable/modules/generated/sklearn.ensemble.VotingClassifier.html"
   ]
  },
  {
   "cell_type": "code",
   "execution_count": 131,
   "metadata": {
    "collapsed": false
   },
   "outputs": [
    {
     "data": {
      "text/plain": [
       "array([[  9.33448022e-01,   6.65520288e-02],\n",
       "       [  9.62528953e-01,   3.74710348e-02],\n",
       "       [  9.99925745e-01,   7.42562042e-05],\n",
       "       [  9.99568772e-01,   4.31227818e-04],\n",
       "       [  9.98117258e-01,   1.88275319e-03],\n",
       "       [  8.86325098e-01,   1.13674911e-01],\n",
       "       [  9.61121901e-01,   3.88780951e-02],\n",
       "       [  8.96974891e-01,   1.03025138e-01],\n",
       "       [  9.71420058e-01,   2.85799215e-02],\n",
       "       [  9.89302377e-01,   1.06976180e-02]])"
      ]
     },
     "execution_count": 131,
     "metadata": {},
     "output_type": "execute_result"
    }
   ],
   "source": [
    "## predict using a second model and average the results\n",
    "ypred_2 = est_2.predict_proba(X_test_submit)\n",
    "ypred_avg = (.2 * ypred_submit) + (.8 * ypred_2)\n",
    "ypred_avg[:10]"
   ]
  },
  {
   "cell_type": "markdown",
   "metadata": {},
   "source": [
    "---\n",
    "iv. Tensorflow\n",
    "----------\n",
    "\n",
    "> **1-2 hidden layers **<br>\n",
    "> steps 5001, L2 reg .001, hidden 1024, rate (.5, 1000, .8), Test accuracy: **58.78**%<br>\n",
    "> steps 9001, L2 reg .001, hidden 1024x500, keep .9, rate (.05 adagrad), Test accuracy: **58.78**%<br>\n",
    "> steps 9001, L2 reg .001, hidden 1024x300, keep 1., rate (.01 adagrad), Test accuracy: **58.17**%<br>\n",
    "\n",
    "> **1-2 hidden layers, init low w, b**<br>\n",
    "> steps 5001, L2 reg .0002, hidden 1024x500, keep 1., rate (.1 adagrad), Test accuracy: **58.78**%<br>\n",
    "\n",
    "> **3 hidden layers **<br>\n",
    "> steps 9001, L2 reg .001, hidden 1024x300x50, rate (.01 adagrad), Test accuracy: **58.17**%<br>\n",
    "\n",
    "> **PCA 40 dims **<br>\n",
    "> steps 9001, L2 reg .001, hidden 1024x300x50, rate (.01 adagrad), Test accuracy: **58.17**%<br>\n",
    "\n",
    "> **107 features (del 'first_browser') **<br>\n",
    "> steps 5001, L2 reg .0002, hidden 1024x300x50, rate (.1 adagrad), Test accuracy: **58.04**%<br>"
   ]
  },
  {
   "cell_type": "code",
   "execution_count": 244,
   "metadata": {
    "collapsed": true
   },
   "outputs": [],
   "source": [
    "import tensorflow as tf"
   ]
  },
  {
   "cell_type": "code",
   "execution_count": 245,
   "metadata": {
    "collapsed": true
   },
   "outputs": [],
   "source": [
    "def accuracy(predictions, labels):\n",
    "  return (100.0 * np.sum(np.argmax(predictions, 1) == np.argmax(labels, 1))\n",
    "          / predictions.shape[0])"
   ]
  },
  {
   "cell_type": "code",
   "execution_count": 260,
   "metadata": {
    "collapsed": true
   },
   "outputs": [],
   "source": [
    "def weight_variable(shape, stddev=0.1):\n",
    "  initial = tf.truncated_normal(shape, stddev=stddev)\n",
    "  return tf.Variable(initial)\n",
    "\n",
    "def bias_variable(shape, constant=0.):\n",
    "  initial = tf.constant(constant, shape=shape)\n",
    "  return tf.Variable(initial)"
   ]
  },
  {
   "cell_type": "markdown",
   "metadata": {},
   "source": [
    "** Build graph**"
   ]
  },
  {
   "cell_type": "code",
   "execution_count": 248,
   "metadata": {
    "collapsed": false
   },
   "outputs": [
    {
     "name": "stdout",
     "output_type": "stream",
     "text": [
      "(192639, 316)\n",
      "float32\n",
      "(10139, 316)\n",
      "(10673, 316)\n",
      "[[ 0.  0.  0.  0.  0.  0.  0.  1.  0.  0.  0.  0.]\n",
      " [ 0.  0.  0.  0.  0.  0.  0.  1.  0.  0.  0.  0.]\n",
      " [ 0.  0.  0.  0.  0.  0.  1.  0.  0.  0.  0.  0.]]\n",
      "(192639, 12)\n",
      "(10139, 12)\n",
      "(10673, 12)\n",
      "(62096, 316)\n"
     ]
    }
   ],
   "source": [
    "print X_train.shape\n",
    "print X_train.dtype\n",
    "print X_valid.shape\n",
    "print X_test.shape\n",
    "print y_train[:3]\n",
    "print y_train.shape\n",
    "print y_valid.shape\n",
    "print y_test.shape\n",
    "\n",
    "print X_test_submit.shape"
   ]
  },
  {
   "cell_type": "code",
   "execution_count": 331,
   "metadata": {
    "collapsed": false
   },
   "outputs": [],
   "source": [
    "reg_L2 = 0.0002\n",
    "batch_size = 128\n",
    "num_hidden_1 = 1024\n",
    "#num_hidden_2 = 300\n",
    "#num_hidden_3 = 50\n",
    "num_features = X_train.shape[1]\n",
    "num_labels = 12\n",
    "\n",
    "graph = tf.Graph()\n",
    "with graph.as_default():\n",
    "\n",
    "  # Input data. For the training data, we use a placeholder that will be fed\n",
    "  # at run time with a training minibatch.\n",
    "  tf_train_dataset = tf.placeholder(tf.float32,\n",
    "                                    shape=(batch_size, num_features))\n",
    "  tf_train_labels = tf.placeholder(tf.float32, shape=(batch_size, num_labels))\n",
    "  tf_valid_dataset = tf.constant(X_valid)\n",
    "  tf_test_dataset = tf.constant(X_test)\n",
    "  tf_test_submit = tf.constant(X_test_submit)\n",
    "  \n",
    "  # Variables.\n",
    "  w = weight_variable(shape=[num_features, num_hidden_1])\n",
    "  b = bias_variable(shape=[num_hidden_1])\n",
    "\n",
    "  #w2 = weight_variable(shape=[num_hidden_1, num_hidden_2])\n",
    "  #b2 = bias_variable(shape=[num_hidden_2])\n",
    "\n",
    "  #w3 = weight_variable(shape=[num_hidden_2, num_hidden_3])\n",
    "  #b3 = bias_variable(shape=[num_hidden_3])\n",
    "\n",
    "  w4 = weight_variable(shape=[num_hidden_1, num_labels])\n",
    "  b4 = bias_variable(shape=[num_labels])\n",
    "  \n",
    "  # Training computation.\n",
    "  def model(data):\n",
    "    h = tf.nn.relu(tf.matmul(data, w) + b)\n",
    "    ##Dropout\n",
    "    keep_prob = tf.constant(1.)\n",
    "    #h2 = tf.tanh(tf.matmul(h, w2) + b2)\n",
    "    #h2_drop = tf.nn.dropout(h2, keep_prob)\n",
    "    #h3 = tf.tanh(tf.matmul(h2, w3) + b3)\n",
    "    #h3_drop = tf.tanh(tf.matmul(h2_drop, w3) + b3)\n",
    "    #h3_drop = tf.nn.dropout(h3_drop, keep_prob)\n",
    "    h4 = tf.matmul(h, w4) + b4\n",
    "    return h4\n",
    "  \n",
    "  logits = model(tf_train_dataset)\n",
    "  loss = tf.reduce_mean(\n",
    "    tf.nn.softmax_cross_entropy_with_logits(logits, tf_train_labels))\n",
    "  \n",
    "  # L2 regularization for the fully connected parameters.\n",
    "  #regularizers = tf.nn.l2_loss(w) + tf.nn.l2_loss(w4)\n",
    "  # Add the regularization term to the loss.\n",
    "  #loss += reg_L2 * 0.5 * regularizers\n",
    "  \n",
    "  # Optimizer.\n",
    "  ## with learning rate decay\n",
    "  ##global_step = tf.Variable(0, trainable=False) # count the number of steps taken.\n",
    "  ##learning_rate = tf.train.exponential_decay(1., global_step, 500, 0.6, staircase=False)\n",
    "  ##optimizer = tf.train.GradientDescentOptimizer(learning_rate).minimize(loss, global_step=global_step)\n",
    "  optimizer = tf.train.AdagradOptimizer(.01).minimize(loss)\n",
    "  \n",
    "  # Predictions for the training, validation, test, and test submission data.\n",
    "  def predict(data):\n",
    "    h = tf.nn.relu(tf.matmul(data, w) + b)\n",
    "    #h2 = tf.tanh(tf.matmul(h, w2) + b2)\n",
    "    #h3 = tf.tanh(tf.matmul(h2, w3) + b3)\n",
    "    h4 = tf.matmul(h, w4) + b4\n",
    "    return h4\n",
    "  train_prediction = tf.nn.softmax(predict(tf_train_dataset))\n",
    "  valid_prediction = tf.nn.softmax(predict(tf_valid_dataset))\n",
    "  test_prediction = tf.nn.softmax(predict(tf_test_dataset))\n",
    "\n",
    "  submit_prediction = tf.nn.softmax(predict(tf_test_submit))"
   ]
  },
  {
   "cell_type": "markdown",
   "metadata": {},
   "source": [
    "** Run it**"
   ]
  },
  {
   "cell_type": "code",
   "execution_count": 332,
   "metadata": {
    "collapsed": true
   },
   "outputs": [
    {
     "name": "stdout",
     "output_type": "stream",
     "text": [
      "Initialized\n",
      "============\n",
      "Minibatch loss at step 0 : 3.26455\n",
      "Minibatch accuracy: 2.34%\n",
      "Validation accuracy: 58.53%\n",
      "--------------------\n",
      "Test accuracy: 58.78%\n",
      "====================\n",
      "Minibatch loss at step 300 : 1.16833\n",
      "Minibatch accuracy: 58.59%\n",
      "Validation accuracy: 58.53%\n",
      "--------------------\n",
      "Minibatch loss at step 600 : 1.36942\n",
      "Minibatch accuracy: 64.06%\n",
      "Validation accuracy: 58.53%\n",
      "--------------------\n",
      "Minibatch loss at step 900 : 1.13909\n",
      "Minibatch accuracy: 57.81%\n",
      "Validation accuracy: 58.53%\n",
      "--------------------\n",
      "Test accuracy: 58.78%\n",
      "====================\n",
      "Minibatch loss at step 1200 : 1.11844\n",
      "Minibatch accuracy: 61.72%\n",
      "Validation accuracy: 58.53%\n",
      "--------------------\n",
      "Minibatch loss at step 1500 : 1.03941\n",
      "Minibatch accuracy: 64.06%\n",
      "Validation accuracy: 58.53%\n",
      "--------------------\n"
     ]
    },
    {
     "ename": "KeyboardInterrupt",
     "evalue": "",
     "output_type": "error",
     "traceback": [
      "\u001b[0;31m---------------------------------------------------------------------------\u001b[0m",
      "\u001b[0;31mKeyboardInterrupt\u001b[0m                         Traceback (most recent call last)",
      "\u001b[0;32m<ipython-input-332-bc05c01609cb>\u001b[0m in \u001b[0;36m<module>\u001b[0;34m()\u001b[0m\n\u001b[1;32m     25\u001b[0m   \u001b[0mtf\u001b[0m\u001b[0;34m.\u001b[0m\u001b[0minitialize_all_variables\u001b[0m\u001b[0;34m(\u001b[0m\u001b[0;34m)\u001b[0m\u001b[0;34m.\u001b[0m\u001b[0mrun\u001b[0m\u001b[0;34m(\u001b[0m\u001b[0;34m)\u001b[0m\u001b[0;34m\u001b[0m\u001b[0m\n\u001b[1;32m     26\u001b[0m   \u001b[0;32mprint\u001b[0m \u001b[0;34m\"Initialized\\n\"\u001b[0m\u001b[0;34m,\u001b[0m \u001b[0;34m\"=\"\u001b[0m\u001b[0;34m*\u001b[0m\u001b[0;36m12\u001b[0m\u001b[0;34m\u001b[0m\u001b[0m\n\u001b[0;32m---> 27\u001b[0;31m   \u001b[0mstep_eval\u001b[0m\u001b[0;34m(\u001b[0m\u001b[0;34m)\u001b[0m\u001b[0;34m\u001b[0m\u001b[0m\n\u001b[0m\u001b[1;32m     28\u001b[0m   \u001b[0;32mprint\u001b[0m \u001b[0;34m\"Test accuracy: %.2f%%\"\u001b[0m \u001b[0;34m%\u001b[0m \u001b[0maccuracy\u001b[0m\u001b[0;34m(\u001b[0m\u001b[0mtest_prediction\u001b[0m\u001b[0;34m.\u001b[0m\u001b[0meval\u001b[0m\u001b[0;34m(\u001b[0m\u001b[0;34m)\u001b[0m\u001b[0;34m,\u001b[0m \u001b[0my_test\u001b[0m\u001b[0;34m)\u001b[0m\u001b[0;34m\u001b[0m\u001b[0m\n\u001b[1;32m     29\u001b[0m   \u001b[0mypred_submit\u001b[0m \u001b[0;34m=\u001b[0m \u001b[0msubmit_prediction\u001b[0m\u001b[0;34m.\u001b[0m\u001b[0meval\u001b[0m\u001b[0;34m(\u001b[0m\u001b[0;34m)\u001b[0m\u001b[0;34m\u001b[0m\u001b[0m\n",
      "\u001b[0;32m<ipython-input-332-bc05c01609cb>\u001b[0m in \u001b[0;36mstep_eval\u001b[0;34m()\u001b[0m\n\u001b[1;32m      7\u001b[0m     \u001b[0mbatch_labels\u001b[0m \u001b[0;34m=\u001b[0m \u001b[0my_train\u001b[0m\u001b[0;34m[\u001b[0m\u001b[0moffset\u001b[0m\u001b[0;34m:\u001b[0m\u001b[0;34m(\u001b[0m\u001b[0moffset\u001b[0m \u001b[0;34m+\u001b[0m \u001b[0mbatch_size\u001b[0m\u001b[0;34m)\u001b[0m\u001b[0;34m,\u001b[0m \u001b[0;34m:\u001b[0m\u001b[0;34m]\u001b[0m\u001b[0;34m\u001b[0m\u001b[0m\n\u001b[1;32m      8\u001b[0m     \u001b[0mfeed_dict\u001b[0m \u001b[0;34m=\u001b[0m \u001b[0;34m{\u001b[0m\u001b[0mtf_train_dataset\u001b[0m \u001b[0;34m:\u001b[0m \u001b[0mbatch_data\u001b[0m\u001b[0;34m,\u001b[0m \u001b[0mtf_train_labels\u001b[0m \u001b[0;34m:\u001b[0m \u001b[0mbatch_labels\u001b[0m\u001b[0;34m}\u001b[0m\u001b[0;34m\u001b[0m\u001b[0m\n\u001b[0;32m----> 9\u001b[0;31m     \u001b[0m_\u001b[0m\u001b[0;34m,\u001b[0m \u001b[0ml\u001b[0m\u001b[0;34m,\u001b[0m \u001b[0mpredictions\u001b[0m \u001b[0;34m=\u001b[0m \u001b[0msession\u001b[0m\u001b[0;34m.\u001b[0m\u001b[0mrun\u001b[0m\u001b[0;34m(\u001b[0m\u001b[0;34m[\u001b[0m\u001b[0moptimizer\u001b[0m\u001b[0;34m,\u001b[0m \u001b[0mloss\u001b[0m\u001b[0;34m,\u001b[0m \u001b[0mtrain_prediction\u001b[0m\u001b[0;34m]\u001b[0m\u001b[0;34m,\u001b[0m \u001b[0mfeed_dict\u001b[0m\u001b[0;34m=\u001b[0m\u001b[0mfeed_dict\u001b[0m\u001b[0;34m)\u001b[0m\u001b[0;34m\u001b[0m\u001b[0m\n\u001b[0m\u001b[1;32m     10\u001b[0m     \u001b[0;32mif\u001b[0m \u001b[0;34m(\u001b[0m\u001b[0mstep\u001b[0m \u001b[0;34m%\u001b[0m \u001b[0;36m300\u001b[0m \u001b[0;34m==\u001b[0m \u001b[0;36m0\u001b[0m\u001b[0;34m)\u001b[0m\u001b[0;34m:\u001b[0m\u001b[0;34m\u001b[0m\u001b[0m\n\u001b[1;32m     11\u001b[0m       \u001b[0;31m#print global_step.eval(), learning_rate.eval()\u001b[0m\u001b[0;34m\u001b[0m\u001b[0;34m\u001b[0m\u001b[0m\n",
      "\u001b[0;32m/Users/jjl/anaconda/lib/python2.7/site-packages/tensorflow/python/client/session.pyc\u001b[0m in \u001b[0;36mrun\u001b[0;34m(self, fetches, feed_dict)\u001b[0m\n\u001b[1;32m    343\u001b[0m \u001b[0;34m\u001b[0m\u001b[0m\n\u001b[1;32m    344\u001b[0m     \u001b[0;31m# Run request and get response.\u001b[0m\u001b[0;34m\u001b[0m\u001b[0;34m\u001b[0m\u001b[0m\n\u001b[0;32m--> 345\u001b[0;31m     \u001b[0mresults\u001b[0m \u001b[0;34m=\u001b[0m \u001b[0mself\u001b[0m\u001b[0;34m.\u001b[0m\u001b[0m_do_run\u001b[0m\u001b[0;34m(\u001b[0m\u001b[0mtarget_list\u001b[0m\u001b[0;34m,\u001b[0m \u001b[0munique_fetch_targets\u001b[0m\u001b[0;34m,\u001b[0m \u001b[0mfeed_dict_string\u001b[0m\u001b[0;34m)\u001b[0m\u001b[0;34m\u001b[0m\u001b[0m\n\u001b[0m\u001b[1;32m    346\u001b[0m \u001b[0;34m\u001b[0m\u001b[0m\n\u001b[1;32m    347\u001b[0m     \u001b[0;31m# User may have fetched the same tensor multiple times, but we\u001b[0m\u001b[0;34m\u001b[0m\u001b[0;34m\u001b[0m\u001b[0m\n",
      "\u001b[0;32m/Users/jjl/anaconda/lib/python2.7/site-packages/tensorflow/python/client/session.pyc\u001b[0m in \u001b[0;36m_do_run\u001b[0;34m(self, target_list, fetch_list, feed_dict)\u001b[0m\n\u001b[1;32m    402\u001b[0m \u001b[0;34m\u001b[0m\u001b[0m\n\u001b[1;32m    403\u001b[0m       return tf_session.TF_Run(self._session, feed_dict, fetch_list,\n\u001b[0;32m--> 404\u001b[0;31m                                target_list)\n\u001b[0m\u001b[1;32m    405\u001b[0m \u001b[0;34m\u001b[0m\u001b[0m\n\u001b[1;32m    406\u001b[0m     \u001b[0;32mexcept\u001b[0m \u001b[0mtf_session\u001b[0m\u001b[0;34m.\u001b[0m\u001b[0mStatusNotOK\u001b[0m \u001b[0;32mas\u001b[0m \u001b[0me\u001b[0m\u001b[0;34m:\u001b[0m\u001b[0;34m\u001b[0m\u001b[0m\n",
      "\u001b[0;31mKeyboardInterrupt\u001b[0m: "
     ]
    }
   ],
   "source": [
    "num_steps = 3001\n",
    "    \n",
    "def step_eval():\n",
    "  for step in xrange(num_steps):\n",
    "    offset = (step * batch_size) % (y_train.shape[0] - batch_size)\n",
    "    batch_data = X_train[offset:(offset + batch_size), :]\n",
    "    batch_labels = y_train[offset:(offset + batch_size), :]\n",
    "    feed_dict = {tf_train_dataset : batch_data, tf_train_labels : batch_labels}\n",
    "    _, l, predictions = session.run([optimizer, loss, train_prediction], feed_dict=feed_dict)\n",
    "    if (step % 300 == 0):\n",
    "      #print global_step.eval(), learning_rate.eval()\n",
    "      print \"Minibatch loss at step\", step, \":\", l\n",
    "      print \"Minibatch accuracy: %.2f%%\" % accuracy(predictions, batch_labels)\n",
    "      accuracy_valid = accuracy(valid_prediction.eval(), y_valid)\n",
    "      print \"Validation accuracy: %.2f%%\" % accuracy_valid\n",
    "      print \"-\" * 20\n",
    "      if accuracy_valid > 92.:\n",
    "        print \"Halted!\"\n",
    "        return\n",
    "    if (step % 1000 == 0):\n",
    "      print \"Test accuracy: %.2f%%\" % accuracy(test_prediction.eval(), y_test)\n",
    "      print \"=\" * 20\n",
    "\n",
    "with tf.Session(graph=graph) as session:\n",
    "  tf.initialize_all_variables().run()\n",
    "  print \"Initialized\\n\", \"=\"*12\n",
    "  step_eval()\n",
    "  print \"Test accuracy: %.2f%%\" % accuracy(test_prediction.eval(), y_test)\n",
    "  ypred_submit = submit_prediction.eval()"
   ]
  },
  {
   "cell_type": "code",
   "execution_count": 144,
   "metadata": {
    "collapsed": false
   },
   "outputs": [
    {
     "name": "stdout",
     "output_type": "stream",
     "text": [
      "[[ 0.00275282  0.00670136  0.00510201  0.00973255  0.02230456  0.01001685\n",
      "   0.01413022  0.57495332  0.00390214  0.00101802  0.30211538  0.04727076]\n",
      " [ 0.00274651  0.00668118  0.00512046  0.00975334  0.02227283  0.01004198\n",
      "   0.01409889  0.57516688  0.00390226  0.00101752  0.30192763  0.04727058]\n",
      " [ 0.00273304  0.00665983  0.00510894  0.00972562  0.02229475  0.01000752\n",
      "   0.01408009  0.57545155  0.00389516  0.00101317  0.30179265  0.04723767]\n",
      " [ 0.00274596  0.00669436  0.00510876  0.00974156  0.02229444  0.01002662\n",
      "   0.01412156  0.57517922  0.0039057   0.00101715  0.30187249  0.04729211]\n",
      " [ 0.00274236  0.00668534  0.00511654  0.00977065  0.0222552   0.01004988\n",
      "   0.01410146  0.57546836  0.00390035  0.00101695  0.30169925  0.0471937 ]]\n",
      "[[ 9  0  8  2  1  3  5  6  4 11 10  7]\n",
      " [ 9  0  8  2  1  3  5  6  4 11 10  7]\n",
      " [ 9  0  8  2  1  3  5  6  4 11 10  7]\n",
      " [ 9  0  8  2  1  3  5  6  4 11 10  7]\n",
      " [ 9  0  8  2  1  3  5  6  4 11 10  7]]\n",
      "['NDF', 'US', 'other', 'FR', 'IT', 'GB', 'ES', 'CA', 'DE', 'NL', 'AU', 'PT']\n",
      "['NDF', 'US', 'other', 'FR', 'IT', 'GB', 'ES', 'CA', 'DE', 'NL', 'AU', 'PT']\n",
      "['NDF', 'US', 'other', 'FR', 'IT', 'GB', 'ES', 'CA', 'DE', 'NL', 'AU', 'PT']\n",
      "['NDF', 'US', 'other', 'FR', 'IT', 'GB', 'ES', 'CA', 'DE', 'NL', 'AU', 'PT']\n",
      "['NDF', 'US', 'other', 'FR', 'IT', 'GB', 'ES', 'CA', 'DE', 'NL', 'AU', 'PT']\n"
     ]
    }
   ],
   "source": [
    "check = ypred_submit[2000:2004]\n",
    "print check\n",
    "print np.argsort(check)\n",
    "for i in xrange(len(check)):\n",
    "    print le.inverse_transform(np.argsort(check[i])[::-1]).tolist()"
   ]
  },
  {
   "cell_type": "markdown",
   "metadata": {},
   "source": [
    "---\n",
    "# Scratchpad"
   ]
  },
  {
   "cell_type": "code",
   "execution_count": 291,
   "metadata": {
    "collapsed": false
   },
   "outputs": [
    {
     "data": {
      "text/html": [
       "<div>\n",
       "<table border=\"1\" class=\"dataframe\">\n",
       "  <thead>\n",
       "    <tr style=\"text-align: right;\">\n",
       "      <th></th>\n",
       "      <th>ID</th>\n",
       "      <th>var3</th>\n",
       "      <th>var15</th>\n",
       "      <th>imp_ent_var16_ult1</th>\n",
       "      <th>imp_op_var39_comer_ult1</th>\n",
       "      <th>imp_op_var39_comer_ult3</th>\n",
       "      <th>imp_op_var40_comer_ult1</th>\n",
       "      <th>imp_op_var40_comer_ult3</th>\n",
       "      <th>imp_op_var40_efect_ult1</th>\n",
       "      <th>imp_op_var40_efect_ult3</th>\n",
       "      <th>...</th>\n",
       "      <th>saldo_medio_var33_hace2</th>\n",
       "      <th>saldo_medio_var33_hace3</th>\n",
       "      <th>saldo_medio_var33_ult1</th>\n",
       "      <th>saldo_medio_var33_ult3</th>\n",
       "      <th>saldo_medio_var44_hace2</th>\n",
       "      <th>saldo_medio_var44_hace3</th>\n",
       "      <th>saldo_medio_var44_ult1</th>\n",
       "      <th>saldo_medio_var44_ult3</th>\n",
       "      <th>var38</th>\n",
       "      <th>TARGET</th>\n",
       "    </tr>\n",
       "  </thead>\n",
       "  <tbody>\n",
       "  </tbody>\n",
       "</table>\n",
       "<p>0 rows × 371 columns</p>\n",
       "</div>"
      ],
      "text/plain": [
       "Empty DataFrame\n",
       "Columns: [ID, var3, var15, imp_ent_var16_ult1, imp_op_var39_comer_ult1, imp_op_var39_comer_ult3, imp_op_var40_comer_ult1, imp_op_var40_comer_ult3, imp_op_var40_efect_ult1, imp_op_var40_efect_ult3, imp_op_var40_ult1, imp_op_var41_comer_ult1, imp_op_var41_comer_ult3, imp_op_var41_efect_ult1, imp_op_var41_efect_ult3, imp_op_var41_ult1, imp_op_var39_efect_ult1, imp_op_var39_efect_ult3, imp_op_var39_ult1, imp_sal_var16_ult1, ind_var1_0, ind_var1, ind_var2_0, ind_var2, ind_var5_0, ind_var5, ind_var6_0, ind_var6, ind_var8_0, ind_var8, ind_var12_0, ind_var12, ind_var13_0, ind_var13_corto_0, ind_var13_corto, ind_var13_largo_0, ind_var13_largo, ind_var13_medio_0, ind_var13_medio, ind_var13, ind_var14_0, ind_var14, ind_var17_0, ind_var17, ind_var18_0, ind_var18, ind_var19, ind_var20_0, ind_var20, ind_var24_0, ind_var24, ind_var25_cte, ind_var26_0, ind_var26_cte, ind_var26, ind_var25_0, ind_var25, ind_var27_0, ind_var28_0, ind_var28, ind_var27, ind_var29_0, ind_var29, ind_var30_0, ind_var30, ind_var31_0, ind_var31, ind_var32_cte, ind_var32_0, ind_var32, ind_var33_0, ind_var33, ind_var34_0, ind_var34, ind_var37_cte, ind_var37_0, ind_var37, ind_var39_0, ind_var40_0, ind_var40, ind_var41_0, ind_var41, ind_var39, ind_var44_0, ind_var44, ind_var46_0, ind_var46, num_var1_0, num_var1, num_var4, num_var5_0, num_var5, num_var6_0, num_var6, num_var8_0, num_var8, num_var12_0, num_var12, num_var13_0, num_var13_corto_0, ...]\n",
       "Index: []\n",
       "\n",
       "[0 rows x 371 columns]"
      ]
     },
     "execution_count": 291,
     "metadata": {},
     "output_type": "execute_result"
    }
   ],
   "source": [
    "train[(train.saldo_var33 <0) & train.TARGET==1]"
   ]
  },
  {
   "cell_type": "code",
   "execution_count": null,
   "metadata": {
    "collapsed": true
   },
   "outputs": [],
   "source": []
  }
 ],
 "metadata": {
  "kernelspec": {
   "display_name": "Python 2",
   "language": "python",
   "name": "python2"
  },
  "language_info": {
   "codemirror_mode": {
    "name": "ipython",
    "version": 2
   },
   "file_extension": ".py",
   "mimetype": "text/x-python",
   "name": "python",
   "nbconvert_exporter": "python",
   "pygments_lexer": "ipython2",
   "version": "2.7.11"
  }
 },
 "nbformat": 4,
 "nbformat_minor": 0
}
