{
 "cells": [
  {
   "cell_type": "markdown",
   "metadata": {},
   "source": [
    "# Airbnb new user booking\n",
    "https://www.kaggle.com/c/airbnb-recruiting-new-user-bookings/data"
   ]
  },
  {
   "cell_type": "code",
   "execution_count": 1,
   "metadata": {
    "collapsed": false
   },
   "outputs": [
    {
     "name": "stderr",
     "output_type": "stream",
     "text": [
      "/Users/jjl/anaconda/lib/python2.7/site-packages/matplotlib/__init__.py:872: UserWarning: axes.color_cycle is deprecated and replaced with axes.prop_cycle; please use the latter.\n",
      "  warnings.warn(self.msg_depr % (key, alt_key))\n"
     ]
    }
   ],
   "source": [
    "import cPickle\n",
    "import numpy as np\n",
    "import pandas as pd\n",
    "import matplotlib.pyplot as plt\n",
    "import seaborn as sns\n",
    "from sklearn.preprocessing import LabelEncoder\n",
    "%matplotlib inline"
   ]
  },
  {
   "cell_type": "markdown",
   "metadata": {},
   "source": [
    "1. Exploratory analysis\n",
    "-----------------------"
   ]
  },
  {
   "cell_type": "code",
   "execution_count": 2,
   "metadata": {
    "collapsed": false
   },
   "outputs": [
    {
     "data": {
      "text/html": [
       "<div>\n",
       "<table border=\"1\" class=\"dataframe\">\n",
       "  <thead>\n",
       "    <tr style=\"text-align: right;\">\n",
       "      <th></th>\n",
       "      <th>id</th>\n",
       "      <th>date_account_created</th>\n",
       "      <th>timestamp_first_active</th>\n",
       "      <th>date_first_booking</th>\n",
       "      <th>gender</th>\n",
       "      <th>age</th>\n",
       "      <th>signup_method</th>\n",
       "      <th>signup_flow</th>\n",
       "      <th>language</th>\n",
       "      <th>affiliate_channel</th>\n",
       "      <th>affiliate_provider</th>\n",
       "      <th>first_affiliate_tracked</th>\n",
       "      <th>signup_app</th>\n",
       "      <th>first_device_type</th>\n",
       "      <th>first_browser</th>\n",
       "      <th>country_destination</th>\n",
       "    </tr>\n",
       "  </thead>\n",
       "  <tbody>\n",
       "    <tr>\n",
       "      <th>0</th>\n",
       "      <td>gxn3p5htnn</td>\n",
       "      <td>2010-06-28</td>\n",
       "      <td>20090319043255</td>\n",
       "      <td>NaN</td>\n",
       "      <td>-unknown-</td>\n",
       "      <td>NaN</td>\n",
       "      <td>facebook</td>\n",
       "      <td>0</td>\n",
       "      <td>en</td>\n",
       "      <td>direct</td>\n",
       "      <td>direct</td>\n",
       "      <td>untracked</td>\n",
       "      <td>Web</td>\n",
       "      <td>Mac Desktop</td>\n",
       "      <td>Chrome</td>\n",
       "      <td>NDF</td>\n",
       "    </tr>\n",
       "    <tr>\n",
       "      <th>1</th>\n",
       "      <td>820tgsjxq7</td>\n",
       "      <td>2011-05-25</td>\n",
       "      <td>20090523174809</td>\n",
       "      <td>NaN</td>\n",
       "      <td>MALE</td>\n",
       "      <td>38</td>\n",
       "      <td>facebook</td>\n",
       "      <td>0</td>\n",
       "      <td>en</td>\n",
       "      <td>seo</td>\n",
       "      <td>google</td>\n",
       "      <td>untracked</td>\n",
       "      <td>Web</td>\n",
       "      <td>Mac Desktop</td>\n",
       "      <td>Chrome</td>\n",
       "      <td>NDF</td>\n",
       "    </tr>\n",
       "    <tr>\n",
       "      <th>2</th>\n",
       "      <td>4ft3gnwmtx</td>\n",
       "      <td>2010-09-28</td>\n",
       "      <td>20090609231247</td>\n",
       "      <td>2010-08-02</td>\n",
       "      <td>FEMALE</td>\n",
       "      <td>56</td>\n",
       "      <td>basic</td>\n",
       "      <td>3</td>\n",
       "      <td>en</td>\n",
       "      <td>direct</td>\n",
       "      <td>direct</td>\n",
       "      <td>untracked</td>\n",
       "      <td>Web</td>\n",
       "      <td>Windows Desktop</td>\n",
       "      <td>IE</td>\n",
       "      <td>US</td>\n",
       "    </tr>\n",
       "    <tr>\n",
       "      <th>3</th>\n",
       "      <td>bjjt8pjhuk</td>\n",
       "      <td>2011-12-05</td>\n",
       "      <td>20091031060129</td>\n",
       "      <td>2012-09-08</td>\n",
       "      <td>FEMALE</td>\n",
       "      <td>42</td>\n",
       "      <td>facebook</td>\n",
       "      <td>0</td>\n",
       "      <td>en</td>\n",
       "      <td>direct</td>\n",
       "      <td>direct</td>\n",
       "      <td>untracked</td>\n",
       "      <td>Web</td>\n",
       "      <td>Mac Desktop</td>\n",
       "      <td>Firefox</td>\n",
       "      <td>other</td>\n",
       "    </tr>\n",
       "    <tr>\n",
       "      <th>4</th>\n",
       "      <td>87mebub9p4</td>\n",
       "      <td>2010-09-14</td>\n",
       "      <td>20091208061105</td>\n",
       "      <td>2010-02-18</td>\n",
       "      <td>-unknown-</td>\n",
       "      <td>41</td>\n",
       "      <td>basic</td>\n",
       "      <td>0</td>\n",
       "      <td>en</td>\n",
       "      <td>direct</td>\n",
       "      <td>direct</td>\n",
       "      <td>untracked</td>\n",
       "      <td>Web</td>\n",
       "      <td>Mac Desktop</td>\n",
       "      <td>Chrome</td>\n",
       "      <td>US</td>\n",
       "    </tr>\n",
       "  </tbody>\n",
       "</table>\n",
       "</div>"
      ],
      "text/plain": [
       "           id date_account_created  timestamp_first_active date_first_booking  \\\n",
       "0  gxn3p5htnn           2010-06-28          20090319043255                NaN   \n",
       "1  820tgsjxq7           2011-05-25          20090523174809                NaN   \n",
       "2  4ft3gnwmtx           2010-09-28          20090609231247         2010-08-02   \n",
       "3  bjjt8pjhuk           2011-12-05          20091031060129         2012-09-08   \n",
       "4  87mebub9p4           2010-09-14          20091208061105         2010-02-18   \n",
       "\n",
       "      gender  age signup_method  signup_flow language affiliate_channel  \\\n",
       "0  -unknown-  NaN      facebook            0       en            direct   \n",
       "1       MALE   38      facebook            0       en               seo   \n",
       "2     FEMALE   56         basic            3       en            direct   \n",
       "3     FEMALE   42      facebook            0       en            direct   \n",
       "4  -unknown-   41         basic            0       en            direct   \n",
       "\n",
       "  affiliate_provider first_affiliate_tracked signup_app first_device_type  \\\n",
       "0             direct               untracked        Web       Mac Desktop   \n",
       "1             google               untracked        Web       Mac Desktop   \n",
       "2             direct               untracked        Web   Windows Desktop   \n",
       "3             direct               untracked        Web       Mac Desktop   \n",
       "4             direct               untracked        Web       Mac Desktop   \n",
       "\n",
       "  first_browser country_destination  \n",
       "0        Chrome                 NDF  \n",
       "1        Chrome                 NDF  \n",
       "2            IE                  US  \n",
       "3       Firefox               other  \n",
       "4        Chrome                  US  "
      ]
     },
     "execution_count": 2,
     "metadata": {},
     "output_type": "execute_result"
    }
   ],
   "source": [
    "train = pd.read_csv('../input/train_users_2.csv')\n",
    "test = pd.read_csv('../input/test_users.csv')\n",
    "train.head()"
   ]
  },
  {
   "cell_type": "code",
   "execution_count": 3,
   "metadata": {
    "collapsed": true
   },
   "outputs": [],
   "source": [
    "## use for spltting up combined train+test data, recording predictions\n",
    "labels = train['country_destination'].values\n",
    "df_train = train.drop(['country_destination'], axis=1)\n",
    "df_test = test.copy()\n",
    "id_test = test['id']\n",
    "piv_train = train.shape[0]"
   ]
  },
  {
   "cell_type": "code",
   "execution_count": 4,
   "metadata": {
    "collapsed": false
   },
   "outputs": [],
   "source": [
    "#Creating a DataFrame with train+test data\n",
    "df_all = pd.concat((df_train, df_test), axis=0, ignore_index=True)\n",
    "\n",
    "#Removing id and date_first_booking\n",
    "#df_all = df_all.drop(['id', 'date_first_booking'], axis=1)\n",
    "\n",
    "# Remove date_first_booking only\n",
    "# we can remove id after merging with sessions\n",
    "df_all = df_all.drop(['date_first_booking'], axis=1)\n",
    "\n",
    "#Filling nan\n",
    "df_all = df_all.fillna(-1)\n",
    "df_all_copy = df_all.copy()"
   ]
  },
  {
   "cell_type": "markdown",
   "metadata": {},
   "source": [
    "---\n",
    "** experiment with removing classes**"
   ]
  },
  {
   "cell_type": "code",
   "execution_count": 11,
   "metadata": {
    "collapsed": true
   },
   "outputs": [
    {
     "data": {
      "text/html": [
       "<div>\n",
       "<table border=\"1\" class=\"dataframe\">\n",
       "  <thead>\n",
       "    <tr style=\"text-align: right;\">\n",
       "      <th></th>\n",
       "      <th>id</th>\n",
       "      <th>date_account_created</th>\n",
       "      <th>timestamp_first_active</th>\n",
       "      <th>date_first_booking</th>\n",
       "      <th>gender</th>\n",
       "      <th>age</th>\n",
       "      <th>signup_method</th>\n",
       "      <th>signup_flow</th>\n",
       "      <th>language</th>\n",
       "      <th>affiliate_channel</th>\n",
       "      <th>affiliate_provider</th>\n",
       "      <th>first_affiliate_tracked</th>\n",
       "      <th>signup_app</th>\n",
       "      <th>first_device_type</th>\n",
       "      <th>first_browser</th>\n",
       "      <th>country_destination</th>\n",
       "    </tr>\n",
       "  </thead>\n",
       "  <tbody>\n",
       "    <tr>\n",
       "      <th>12</th>\n",
       "      <td>k6np330cm1</td>\n",
       "      <td>2010-01-05</td>\n",
       "      <td>20100105060859</td>\n",
       "      <td>2010-01-18</td>\n",
       "      <td>-unknown-</td>\n",
       "      <td>NaN</td>\n",
       "      <td>basic</td>\n",
       "      <td>0</td>\n",
       "      <td>en</td>\n",
       "      <td>direct</td>\n",
       "      <td>direct</td>\n",
       "      <td>NaN</td>\n",
       "      <td>Web</td>\n",
       "      <td>Other/Unknown</td>\n",
       "      <td>-unknown-</td>\n",
       "      <td>FR</td>\n",
       "    </tr>\n",
       "    <tr>\n",
       "      <th>15</th>\n",
       "      <td>v4d5rl22px</td>\n",
       "      <td>2010-01-07</td>\n",
       "      <td>20100107204555</td>\n",
       "      <td>2010-01-08</td>\n",
       "      <td>FEMALE</td>\n",
       "      <td>33</td>\n",
       "      <td>basic</td>\n",
       "      <td>0</td>\n",
       "      <td>en</td>\n",
       "      <td>direct</td>\n",
       "      <td>direct</td>\n",
       "      <td>untracked</td>\n",
       "      <td>Web</td>\n",
       "      <td>Windows Desktop</td>\n",
       "      <td>Chrome</td>\n",
       "      <td>CA</td>\n",
       "    </tr>\n",
       "    <tr>\n",
       "      <th>19</th>\n",
       "      <td>gdka1q5ktd</td>\n",
       "      <td>2010-01-10</td>\n",
       "      <td>20100110010817</td>\n",
       "      <td>2010-01-10</td>\n",
       "      <td>FEMALE</td>\n",
       "      <td>29</td>\n",
       "      <td>basic</td>\n",
       "      <td>0</td>\n",
       "      <td>en</td>\n",
       "      <td>direct</td>\n",
       "      <td>direct</td>\n",
       "      <td>untracked</td>\n",
       "      <td>Web</td>\n",
       "      <td>Mac Desktop</td>\n",
       "      <td>Chrome</td>\n",
       "      <td>FR</td>\n",
       "    </tr>\n",
       "    <tr>\n",
       "      <th>25</th>\n",
       "      <td>al8bcetz0g</td>\n",
       "      <td>2010-01-12</td>\n",
       "      <td>20100112131444</td>\n",
       "      <td>2010-01-15</td>\n",
       "      <td>FEMALE</td>\n",
       "      <td>26</td>\n",
       "      <td>basic</td>\n",
       "      <td>0</td>\n",
       "      <td>en</td>\n",
       "      <td>other</td>\n",
       "      <td>craigslist</td>\n",
       "      <td>untracked</td>\n",
       "      <td>Web</td>\n",
       "      <td>Mac Desktop</td>\n",
       "      <td>Chrome</td>\n",
       "      <td>FR</td>\n",
       "    </tr>\n",
       "    <tr>\n",
       "      <th>28</th>\n",
       "      <td>tp6x3md0n4</td>\n",
       "      <td>2010-01-13</td>\n",
       "      <td>20100113044650</td>\n",
       "      <td>2010-01-13</td>\n",
       "      <td>-unknown-</td>\n",
       "      <td>35</td>\n",
       "      <td>basic</td>\n",
       "      <td>0</td>\n",
       "      <td>en</td>\n",
       "      <td>direct</td>\n",
       "      <td>direct</td>\n",
       "      <td>NaN</td>\n",
       "      <td>Web</td>\n",
       "      <td>Other/Unknown</td>\n",
       "      <td>-unknown-</td>\n",
       "      <td>FR</td>\n",
       "    </tr>\n",
       "  </tbody>\n",
       "</table>\n",
       "</div>"
      ],
      "text/plain": [
       "            id date_account_created  timestamp_first_active  \\\n",
       "12  k6np330cm1           2010-01-05          20100105060859   \n",
       "15  v4d5rl22px           2010-01-07          20100107204555   \n",
       "19  gdka1q5ktd           2010-01-10          20100110010817   \n",
       "25  al8bcetz0g           2010-01-12          20100112131444   \n",
       "28  tp6x3md0n4           2010-01-13          20100113044650   \n",
       "\n",
       "   date_first_booking     gender  age signup_method  signup_flow language  \\\n",
       "12         2010-01-18  -unknown-  NaN         basic            0       en   \n",
       "15         2010-01-08     FEMALE   33         basic            0       en   \n",
       "19         2010-01-10     FEMALE   29         basic            0       en   \n",
       "25         2010-01-15     FEMALE   26         basic            0       en   \n",
       "28         2010-01-13  -unknown-   35         basic            0       en   \n",
       "\n",
       "   affiliate_channel affiliate_provider first_affiliate_tracked signup_app  \\\n",
       "12            direct             direct                     NaN        Web   \n",
       "15            direct             direct               untracked        Web   \n",
       "19            direct             direct               untracked        Web   \n",
       "25             other         craigslist               untracked        Web   \n",
       "28            direct             direct                     NaN        Web   \n",
       "\n",
       "   first_device_type first_browser country_destination  \n",
       "12     Other/Unknown     -unknown-                  FR  \n",
       "15   Windows Desktop        Chrome                  CA  \n",
       "19       Mac Desktop        Chrome                  FR  \n",
       "25       Mac Desktop        Chrome                  FR  \n",
       "28     Other/Unknown     -unknown-                  FR  "
      ]
     },
     "execution_count": 11,
     "metadata": {},
     "output_type": "execute_result"
    }
   ],
   "source": [
    "## remove top destinations\n",
    "train_copy = train.copy()\n",
    "holder = {}\n",
    "for i in ['NDF', 'US', 'other']:\n",
    "    holder[i] = train_copy[train_copy.country_destination==i]\n",
    "    train_copy = train_copy[train_copy.country_destination!=i]\n",
    "\n",
    "train_copy.head()"
   ]
  },
  {
   "cell_type": "code",
   "execution_count": 489,
   "metadata": {
    "collapsed": true
   },
   "outputs": [
    {
     "data": {
      "text/plain": [
       "FR       5023\n",
       "IT       2835\n",
       "GB       2324\n",
       "other    2250\n",
       "US       2250\n",
       "NDF      2250\n",
       "ES       2249\n",
       "CA       1428\n",
       "DE       1061\n",
       "NL        762\n",
       "AU        539\n",
       "PT        217\n",
       "Name: country_destination, dtype: int64"
      ]
     },
     "execution_count": 489,
     "metadata": {},
     "output_type": "execute_result"
    }
   ],
   "source": [
    "## put train back together with reduced NDF, US, other\n",
    "train_cut = pd.concat((train_copy, holder['NDF'][:2250], holder['US'][:2250], holder['other'][:2250]),\n",
    "                      axis=0, ignore_index=True)\n",
    "train_cut.country_destination.value_counts()"
   ]
  },
  {
   "cell_type": "markdown",
   "metadata": {},
   "source": [
    "---\n",
    "### Look at just train users, incl sessions data"
   ]
  },
  {
   "cell_type": "code",
   "execution_count": 13,
   "metadata": {
    "collapsed": true
   },
   "outputs": [],
   "source": [
    "# Load session data\n",
    "sessions = pd.read_csv('../input/sessions.csv')\n",
    "\n",
    "# make copy of training data\n",
    "users = train.copy()"
   ]
  },
  {
   "cell_type": "code",
   "execution_count": 8,
   "metadata": {
    "collapsed": false
   },
   "outputs": [
    {
     "name": "stdout",
     "output_type": "stream",
     "text": [
      "(10567737, 6)\n"
     ]
    }
   ],
   "source": [
    "print sessions.shape"
   ]
  },
  {
   "cell_type": "code",
   "execution_count": 9,
   "metadata": {
    "collapsed": false
   },
   "outputs": [
    {
     "data": {
      "text/html": [
       "<div>\n",
       "<table border=\"1\" class=\"dataframe\">\n",
       "  <thead>\n",
       "    <tr style=\"text-align: right;\">\n",
       "      <th></th>\n",
       "      <th>id</th>\n",
       "      <th>date_account_created</th>\n",
       "      <th>timestamp_first_active</th>\n",
       "      <th>date_first_booking</th>\n",
       "      <th>gender</th>\n",
       "      <th>age</th>\n",
       "      <th>signup_method</th>\n",
       "      <th>signup_flow</th>\n",
       "      <th>language</th>\n",
       "      <th>affiliate_channel</th>\n",
       "      <th>affiliate_provider</th>\n",
       "      <th>first_affiliate_tracked</th>\n",
       "      <th>signup_app</th>\n",
       "      <th>first_device_type</th>\n",
       "      <th>first_browser</th>\n",
       "      <th>country_destination</th>\n",
       "    </tr>\n",
       "  </thead>\n",
       "  <tbody>\n",
       "    <tr>\n",
       "      <th>137021</th>\n",
       "      <td>d1mm9tcy42</td>\n",
       "      <td>2014-01-01</td>\n",
       "      <td>20140101000936</td>\n",
       "      <td>2014-01-04</td>\n",
       "      <td>MALE</td>\n",
       "      <td>62</td>\n",
       "      <td>basic</td>\n",
       "      <td>0</td>\n",
       "      <td>en</td>\n",
       "      <td>sem-non-brand</td>\n",
       "      <td>google</td>\n",
       "      <td>omg</td>\n",
       "      <td>Web</td>\n",
       "      <td>Windows Desktop</td>\n",
       "      <td>Chrome</td>\n",
       "      <td>other</td>\n",
       "    </tr>\n",
       "  </tbody>\n",
       "</table>\n",
       "</div>"
      ],
      "text/plain": [
       "                id date_account_created  timestamp_first_active  \\\n",
       "137021  d1mm9tcy42           2014-01-01          20140101000936   \n",
       "\n",
       "       date_first_booking gender  age signup_method  signup_flow language  \\\n",
       "137021         2014-01-04   MALE   62         basic            0       en   \n",
       "\n",
       "       affiliate_channel affiliate_provider first_affiliate_tracked  \\\n",
       "137021     sem-non-brand             google                     omg   \n",
       "\n",
       "       signup_app first_device_type first_browser country_destination  \n",
       "137021        Web   Windows Desktop        Chrome               other  "
      ]
     },
     "execution_count": 9,
     "metadata": {},
     "output_type": "execute_result"
    }
   ],
   "source": [
    "users[users.id==sessions.user_id[12]]"
   ]
  },
  {
   "cell_type": "code",
   "execution_count": 54,
   "metadata": {
    "collapsed": false
   },
   "outputs": [
    {
     "data": {
      "text/plain": [
       "NDF      124543\n",
       "US        62376\n",
       "other     10094\n",
       "FR         5023\n",
       "IT         2835\n",
       "GB         2324\n",
       "ES         2249\n",
       "CA         1428\n",
       "DE         1061\n",
       "NL          762\n",
       "AU          539\n",
       "PT          217\n",
       "Name: country_destination, dtype: int64"
      ]
     },
     "execution_count": 54,
     "metadata": {},
     "output_type": "execute_result"
    }
   ],
   "source": [
    "users.country_destination.value_counts()"
   ]
  },
  {
   "cell_type": "code",
   "execution_count": 94,
   "metadata": {
    "collapsed": false
   },
   "outputs": [
    {
     "data": {
      "text/html": [
       "<div>\n",
       "<table border=\"1\" class=\"dataframe\">\n",
       "  <thead>\n",
       "    <tr style=\"text-align: right;\">\n",
       "      <th></th>\n",
       "      <th>id</th>\n",
       "      <th>date_account_created</th>\n",
       "      <th>timestamp_first_active</th>\n",
       "      <th>date_first_booking</th>\n",
       "      <th>gender</th>\n",
       "      <th>age</th>\n",
       "      <th>signup_method</th>\n",
       "      <th>signup_flow</th>\n",
       "      <th>language</th>\n",
       "      <th>affiliate_channel</th>\n",
       "      <th>affiliate_provider</th>\n",
       "      <th>first_affiliate_tracked</th>\n",
       "      <th>signup_app</th>\n",
       "      <th>first_device_type</th>\n",
       "      <th>first_browser</th>\n",
       "      <th>country_destination</th>\n",
       "    </tr>\n",
       "  </thead>\n",
       "  <tbody>\n",
       "    <tr>\n",
       "      <th>213090</th>\n",
       "      <td>e92h789jtp</td>\n",
       "      <td>2014-06-30</td>\n",
       "      <td>20140630072627</td>\n",
       "      <td>2014-06-30</td>\n",
       "      <td>FEMALE</td>\n",
       "      <td>35</td>\n",
       "      <td>basic</td>\n",
       "      <td>0</td>\n",
       "      <td>en</td>\n",
       "      <td>direct</td>\n",
       "      <td>direct</td>\n",
       "      <td>untracked</td>\n",
       "      <td>Web</td>\n",
       "      <td>iPhone</td>\n",
       "      <td>Mobile Safari</td>\n",
       "      <td>GB</td>\n",
       "    </tr>\n",
       "    <tr>\n",
       "      <th>213100</th>\n",
       "      <td>4ig6vxzj1d</td>\n",
       "      <td>2014-06-30</td>\n",
       "      <td>20140630082607</td>\n",
       "      <td>2014-06-30</td>\n",
       "      <td>FEMALE</td>\n",
       "      <td>38</td>\n",
       "      <td>basic</td>\n",
       "      <td>0</td>\n",
       "      <td>en</td>\n",
       "      <td>direct</td>\n",
       "      <td>direct</td>\n",
       "      <td>linked</td>\n",
       "      <td>Web</td>\n",
       "      <td>Windows Desktop</td>\n",
       "      <td>Firefox</td>\n",
       "      <td>GB</td>\n",
       "    </tr>\n",
       "    <tr>\n",
       "      <th>213268</th>\n",
       "      <td>gj1oghtlge</td>\n",
       "      <td>2014-06-30</td>\n",
       "      <td>20140630190808</td>\n",
       "      <td>2014-06-30</td>\n",
       "      <td>MALE</td>\n",
       "      <td>22</td>\n",
       "      <td>facebook</td>\n",
       "      <td>0</td>\n",
       "      <td>en</td>\n",
       "      <td>seo</td>\n",
       "      <td>google</td>\n",
       "      <td>untracked</td>\n",
       "      <td>Web</td>\n",
       "      <td>Windows Desktop</td>\n",
       "      <td>Chrome</td>\n",
       "      <td>GB</td>\n",
       "    </tr>\n",
       "    <tr>\n",
       "      <th>213287</th>\n",
       "      <td>1e71s11u3h</td>\n",
       "      <td>2014-06-30</td>\n",
       "      <td>20140630193752</td>\n",
       "      <td>2014-11-05</td>\n",
       "      <td>MALE</td>\n",
       "      <td>36</td>\n",
       "      <td>facebook</td>\n",
       "      <td>0</td>\n",
       "      <td>en</td>\n",
       "      <td>direct</td>\n",
       "      <td>direct</td>\n",
       "      <td>untracked</td>\n",
       "      <td>Web</td>\n",
       "      <td>Mac Desktop</td>\n",
       "      <td>Chrome</td>\n",
       "      <td>GB</td>\n",
       "    </tr>\n",
       "    <tr>\n",
       "      <th>213372</th>\n",
       "      <td>0co6s86hgb</td>\n",
       "      <td>2014-06-30</td>\n",
       "      <td>20140630215947</td>\n",
       "      <td>2015-04-13</td>\n",
       "      <td>MALE</td>\n",
       "      <td>41</td>\n",
       "      <td>facebook</td>\n",
       "      <td>0</td>\n",
       "      <td>en</td>\n",
       "      <td>other</td>\n",
       "      <td>padmapper</td>\n",
       "      <td>omg</td>\n",
       "      <td>Web</td>\n",
       "      <td>Mac Desktop</td>\n",
       "      <td>Safari</td>\n",
       "      <td>GB</td>\n",
       "    </tr>\n",
       "  </tbody>\n",
       "</table>\n",
       "</div>"
      ],
      "text/plain": [
       "                id date_account_created  timestamp_first_active  \\\n",
       "213090  e92h789jtp           2014-06-30          20140630072627   \n",
       "213100  4ig6vxzj1d           2014-06-30          20140630082607   \n",
       "213268  gj1oghtlge           2014-06-30          20140630190808   \n",
       "213287  1e71s11u3h           2014-06-30          20140630193752   \n",
       "213372  0co6s86hgb           2014-06-30          20140630215947   \n",
       "\n",
       "       date_first_booking  gender  age signup_method  signup_flow language  \\\n",
       "213090         2014-06-30  FEMALE   35         basic            0       en   \n",
       "213100         2014-06-30  FEMALE   38         basic            0       en   \n",
       "213268         2014-06-30    MALE   22      facebook            0       en   \n",
       "213287         2014-11-05    MALE   36      facebook            0       en   \n",
       "213372         2015-04-13    MALE   41      facebook            0       en   \n",
       "\n",
       "       affiliate_channel affiliate_provider first_affiliate_tracked  \\\n",
       "213090            direct             direct               untracked   \n",
       "213100            direct             direct                  linked   \n",
       "213268               seo             google               untracked   \n",
       "213287            direct             direct               untracked   \n",
       "213372             other          padmapper                     omg   \n",
       "\n",
       "       signup_app first_device_type  first_browser country_destination  \n",
       "213090        Web            iPhone  Mobile Safari                  GB  \n",
       "213100        Web   Windows Desktop        Firefox                  GB  \n",
       "213268        Web   Windows Desktop         Chrome                  GB  \n",
       "213287        Web       Mac Desktop         Chrome                  GB  \n",
       "213372        Web       Mac Desktop         Safari                  GB  "
      ]
     },
     "execution_count": 94,
     "metadata": {},
     "output_type": "execute_result"
    }
   ],
   "source": [
    "lookit = users[users.country_destination=='GB']\n",
    "lookit[lookit.gender!='-unknown-'].tail(5)"
   ]
  },
  {
   "cell_type": "code",
   "execution_count": 26,
   "metadata": {
    "collapsed": false
   },
   "outputs": [
    {
     "name": "stdout",
     "output_type": "stream",
     "text": [
      "(0, 6)\n"
     ]
    },
    {
     "data": {
      "text/html": [
       "<div>\n",
       "<table border=\"1\" class=\"dataframe\">\n",
       "  <thead>\n",
       "    <tr style=\"text-align: right;\">\n",
       "      <th></th>\n",
       "      <th>user_id</th>\n",
       "      <th>action</th>\n",
       "      <th>action_type</th>\n",
       "      <th>action_detail</th>\n",
       "      <th>device_type</th>\n",
       "      <th>secs_elapsed</th>\n",
       "    </tr>\n",
       "  </thead>\n",
       "  <tbody>\n",
       "  </tbody>\n",
       "</table>\n",
       "</div>"
      ],
      "text/plain": [
       "Empty DataFrame\n",
       "Columns: [user_id, action, action_type, action_detail, device_type, secs_elapsed]\n",
       "Index: []"
      ]
     },
     "execution_count": 26,
     "metadata": {},
     "output_type": "execute_result"
    }
   ],
   "source": [
    "# look at 1 user's session(s)\n",
    "look_at_user = '2bvnlou71p'\n",
    "print sessions[sessions.user_id== look_at_user].shape\n",
    "sessions[sessions.user_id==look_at_user]"
   ]
  },
  {
   "cell_type": "code",
   "execution_count": 27,
   "metadata": {
    "collapsed": false
   },
   "outputs": [
    {
     "data": {
      "text/html": [
       "<div>\n",
       "<table border=\"1\" class=\"dataframe\">\n",
       "  <thead>\n",
       "    <tr style=\"text-align: right;\">\n",
       "      <th></th>\n",
       "      <th>id</th>\n",
       "      <th>date_account_created</th>\n",
       "      <th>timestamp_first_active</th>\n",
       "      <th>date_first_booking</th>\n",
       "      <th>gender</th>\n",
       "      <th>age</th>\n",
       "      <th>signup_method</th>\n",
       "      <th>signup_flow</th>\n",
       "      <th>language</th>\n",
       "      <th>affiliate_channel</th>\n",
       "      <th>affiliate_provider</th>\n",
       "      <th>first_affiliate_tracked</th>\n",
       "      <th>signup_app</th>\n",
       "      <th>first_device_type</th>\n",
       "      <th>first_browser</th>\n",
       "      <th>country_destination</th>\n",
       "    </tr>\n",
       "  </thead>\n",
       "  <tbody>\n",
       "    <tr>\n",
       "      <th>135</th>\n",
       "      <td>2bvnlou71p</td>\n",
       "      <td>2010-02-22</td>\n",
       "      <td>20100222101428</td>\n",
       "      <td>2010-03-04</td>\n",
       "      <td>-unknown-</td>\n",
       "      <td>25</td>\n",
       "      <td>basic</td>\n",
       "      <td>0</td>\n",
       "      <td>en</td>\n",
       "      <td>other</td>\n",
       "      <td>craigslist</td>\n",
       "      <td>NaN</td>\n",
       "      <td>Web</td>\n",
       "      <td>Other/Unknown</td>\n",
       "      <td>-unknown-</td>\n",
       "      <td>US</td>\n",
       "    </tr>\n",
       "  </tbody>\n",
       "</table>\n",
       "</div>"
      ],
      "text/plain": [
       "             id date_account_created  timestamp_first_active  \\\n",
       "135  2bvnlou71p           2010-02-22          20100222101428   \n",
       "\n",
       "    date_first_booking     gender  age signup_method  signup_flow language  \\\n",
       "135         2010-03-04  -unknown-   25         basic            0       en   \n",
       "\n",
       "    affiliate_channel affiliate_provider first_affiliate_tracked signup_app  \\\n",
       "135             other         craigslist                     NaN        Web   \n",
       "\n",
       "    first_device_type first_browser country_destination  \n",
       "135     Other/Unknown     -unknown-                  US  "
      ]
     },
     "execution_count": 27,
     "metadata": {},
     "output_type": "execute_result"
    }
   ],
   "source": [
    "# show user data\n",
    "users[users.id=='2bvnlou71p']"
   ]
  },
  {
   "cell_type": "code",
   "execution_count": 19,
   "metadata": {
    "collapsed": false
   },
   "outputs": [
    {
     "name": "stdout",
     "output_type": "stream",
     "text": [
      "['2bvnlou71p' 'p2j15lz8ge' 'mc6ihnidpc' 'qmg77g7lge' 'mcdh2s9owp'\n",
      " 'ese54wmkcb' 'jad3mbqepi' 'hl3t7qzrdu' 'fyh4atoj1y' 'o9sog26g9x'\n",
      " 'dstzfld8qk' 'c0unmqaa5y' '7a8k3t3zd7' '5ml3i1o90h' '1a9khjwzuh'\n",
      " 'yyikx9ztzu' 'to2hnhh1bc' 'k9zs5iak6w' 'ju7u7y9bo1' 'zpfucx0ipa'\n",
      " '23czs745fi' '3rcltoc165' '1plg7bk21b' 'b9gk1av7rt' '1r5wy9nxcs'\n",
      " 'fjs54jvq2s' 'v31grxlt55' 'nhusfpisf6' 'gwtsd4te19' 'i4edhlimed'\n",
      " 'z4gv6bmyy7' 'vnlfsfrxzy' 'jdy1ic9k4m' 'fmss7nq5uh' 'l6b51zsk0b'\n",
      " '9pthv2dj2u' 'i40huwxnxj' '08zribz6lb' 'rqt4fs7tgv' '39zddogscp'\n",
      " '0yb3medm94' 'o2vi06sgkj' 'dey77qlhmz' 'ezkyrpdeo8' 'pyce1jzuzo'\n",
      " 'nddgfoqsmc' 'lq0fec8hfd' '2fauin9rez' 'zfcvq4vj94' 'bwzhjps811'\n",
      " '8kjcxgk0sl' '0p94c49eoo' '8nwchwpq2o' 'y9lkqvfv1r' '8hou630j7f'\n",
      " 'dl6lf5iqw8' 'r3i72eb2ae' '7q4lkd34g7' 'xoq994nhd4' '6wdr9zaflp'\n",
      " 'myo86rnosj' 'gzlqc7mz1o' '9nf2vrjee0' 'fn9i5v97zr' '1rk8pr9sd0']\n"
     ]
    },
    {
     "data": {
      "text/html": [
       "<div>\n",
       "<table border=\"1\" class=\"dataframe\">\n",
       "  <thead>\n",
       "    <tr style=\"text-align: right;\">\n",
       "      <th></th>\n",
       "      <th>user_id</th>\n",
       "      <th>action</th>\n",
       "      <th>action_type</th>\n",
       "      <th>action_detail</th>\n",
       "      <th>device_type</th>\n",
       "      <th>secs_elapsed</th>\n",
       "    </tr>\n",
       "  </thead>\n",
       "  <tbody>\n",
       "    <tr>\n",
       "      <th>315</th>\n",
       "      <td>xwxei6hdk4</td>\n",
       "      <td>dashboard</td>\n",
       "      <td>view</td>\n",
       "      <td>dashboard</td>\n",
       "      <td>iPhone</td>\n",
       "      <td>1355</td>\n",
       "    </tr>\n",
       "    <tr>\n",
       "      <th>316</th>\n",
       "      <td>xwxei6hdk4</td>\n",
       "      <td>header_userpic</td>\n",
       "      <td>data</td>\n",
       "      <td>header_userpic</td>\n",
       "      <td>iPhone</td>\n",
       "      <td>1246</td>\n",
       "    </tr>\n",
       "    <tr>\n",
       "      <th>317</th>\n",
       "      <td>xwxei6hdk4</td>\n",
       "      <td>NaN</td>\n",
       "      <td>message_post</td>\n",
       "      <td>message_post</td>\n",
       "      <td>iPad Tablet</td>\n",
       "      <td>NaN</td>\n",
       "    </tr>\n",
       "    <tr>\n",
       "      <th>318</th>\n",
       "      <td>xwxei6hdk4</td>\n",
       "      <td>ask_question</td>\n",
       "      <td>submit</td>\n",
       "      <td>contact_host</td>\n",
       "      <td>iPad Tablet</td>\n",
       "      <td>386</td>\n",
       "    </tr>\n",
       "    <tr>\n",
       "      <th>319</th>\n",
       "      <td>xwxei6hdk4</td>\n",
       "      <td>ask_question</td>\n",
       "      <td>submit</td>\n",
       "      <td>contact_host</td>\n",
       "      <td>iPad Tablet</td>\n",
       "      <td>424</td>\n",
       "    </tr>\n",
       "    <tr>\n",
       "      <th>320</th>\n",
       "      <td>xwxei6hdk4</td>\n",
       "      <td>NaN</td>\n",
       "      <td>message_post</td>\n",
       "      <td>message_post</td>\n",
       "      <td>iPad Tablet</td>\n",
       "      <td>0</td>\n",
       "    </tr>\n",
       "    <tr>\n",
       "      <th>321</th>\n",
       "      <td>xwxei6hdk4</td>\n",
       "      <td>confirm_email</td>\n",
       "      <td>click</td>\n",
       "      <td>confirm_email_link</td>\n",
       "      <td>iPhone</td>\n",
       "      <td>46262</td>\n",
       "    </tr>\n",
       "    <tr>\n",
       "      <th>775</th>\n",
       "      <td>awiurksqr3</td>\n",
       "      <td>ask_question</td>\n",
       "      <td>submit</td>\n",
       "      <td>contact_host</td>\n",
       "      <td>iPad Tablet</td>\n",
       "      <td>488</td>\n",
       "    </tr>\n",
       "    <tr>\n",
       "      <th>776</th>\n",
       "      <td>awiurksqr3</td>\n",
       "      <td>NaN</td>\n",
       "      <td>message_post</td>\n",
       "      <td>message_post</td>\n",
       "      <td>iPad Tablet</td>\n",
       "      <td>NaN</td>\n",
       "    </tr>\n",
       "  </tbody>\n",
       "</table>\n",
       "</div>"
      ],
      "text/plain": [
       "        user_id          action   action_type       action_detail  \\\n",
       "315  xwxei6hdk4       dashboard          view           dashboard   \n",
       "316  xwxei6hdk4  header_userpic          data      header_userpic   \n",
       "317  xwxei6hdk4             NaN  message_post        message_post   \n",
       "318  xwxei6hdk4    ask_question        submit        contact_host   \n",
       "319  xwxei6hdk4    ask_question        submit        contact_host   \n",
       "320  xwxei6hdk4             NaN  message_post        message_post   \n",
       "321  xwxei6hdk4   confirm_email         click  confirm_email_link   \n",
       "775  awiurksqr3    ask_question        submit        contact_host   \n",
       "776  awiurksqr3             NaN  message_post        message_post   \n",
       "\n",
       "     device_type  secs_elapsed  \n",
       "315       iPhone          1355  \n",
       "316       iPhone          1246  \n",
       "317  iPad Tablet           NaN  \n",
       "318  iPad Tablet           386  \n",
       "319  iPad Tablet           424  \n",
       "320  iPad Tablet             0  \n",
       "321       iPhone         46262  \n",
       "775  iPad Tablet           488  \n",
       "776  iPad Tablet           NaN  "
      ]
     },
     "execution_count": 19,
     "metadata": {},
     "output_type": "execute_result"
    }
   ],
   "source": [
    "# look up session data by list of id's\n",
    "lookit = users[users.country_destination=='US'][:]\n",
    "print lookit.id.values[50:115]\n",
    "sessions[sessions.user_id.isin(lookit.id.values)][:9]"
   ]
  },
  {
   "cell_type": "code",
   "execution_count": 29,
   "metadata": {
    "collapsed": false
   },
   "outputs": [
    {
     "data": {
      "text/html": [
       "<div>\n",
       "<table border=\"1\" class=\"dataframe\">\n",
       "  <thead>\n",
       "    <tr style=\"text-align: right;\">\n",
       "      <th></th>\n",
       "      <th>id</th>\n",
       "      <th>date_account_created</th>\n",
       "      <th>timestamp_first_active</th>\n",
       "      <th>date_first_booking</th>\n",
       "      <th>gender</th>\n",
       "      <th>age</th>\n",
       "      <th>signup_method</th>\n",
       "      <th>signup_flow</th>\n",
       "      <th>language</th>\n",
       "      <th>affiliate_channel</th>\n",
       "      <th>affiliate_provider</th>\n",
       "      <th>first_affiliate_tracked</th>\n",
       "      <th>signup_app</th>\n",
       "      <th>first_device_type</th>\n",
       "      <th>first_browser</th>\n",
       "    </tr>\n",
       "  </thead>\n",
       "  <tbody>\n",
       "    <tr>\n",
       "      <th>62095</th>\n",
       "      <td>9uqfg8txu3</td>\n",
       "      <td>2014-09-30</td>\n",
       "      <td>20140930235901</td>\n",
       "      <td>NaN</td>\n",
       "      <td>FEMALE</td>\n",
       "      <td>49</td>\n",
       "      <td>basic</td>\n",
       "      <td>0</td>\n",
       "      <td>en</td>\n",
       "      <td>other</td>\n",
       "      <td>other</td>\n",
       "      <td>tracked-other</td>\n",
       "      <td>Web</td>\n",
       "      <td>Windows Desktop</td>\n",
       "      <td>Chrome</td>\n",
       "    </tr>\n",
       "  </tbody>\n",
       "</table>\n",
       "</div>"
      ],
      "text/plain": [
       "               id date_account_created  timestamp_first_active  \\\n",
       "62095  9uqfg8txu3           2014-09-30          20140930235901   \n",
       "\n",
       "       date_first_booking  gender  age signup_method  signup_flow language  \\\n",
       "62095                 NaN  FEMALE   49         basic            0       en   \n",
       "\n",
       "      affiliate_channel affiliate_provider first_affiliate_tracked signup_app  \\\n",
       "62095             other              other           tracked-other        Web   \n",
       "\n",
       "      first_device_type first_browser  \n",
       "62095   Windows Desktop        Chrome  "
      ]
     },
     "execution_count": 29,
     "metadata": {},
     "output_type": "execute_result"
    }
   ],
   "source": [
    "df_test[df_test.id==sessions.user_id[len(sessions)-1]]"
   ]
  },
  {
   "cell_type": "markdown",
   "metadata": {},
   "source": [
    "---\n",
    "### Look at missing/null"
   ]
  },
  {
   "cell_type": "code",
   "execution_count": 25,
   "metadata": {
    "collapsed": true
   },
   "outputs": [],
   "source": [
    "## replace missing gender data with NaN\n",
    "users.gender.replace('-unknown-', np.nan, inplace=True)"
   ]
  },
  {
   "cell_type": "code",
   "execution_count": 20,
   "metadata": {
    "collapsed": false
   },
   "outputs": [
    {
     "data": {
      "text/plain": [
       "id                          0.000000\n",
       "date_account_created        0.000000\n",
       "timestamp_first_active      0.000000\n",
       "date_first_booking         58.347349\n",
       "gender                      0.000000\n",
       "age                        41.222576\n",
       "signup_method               0.000000\n",
       "signup_flow                 0.000000\n",
       "language                    0.000000\n",
       "affiliate_channel           0.000000\n",
       "affiliate_provider          0.000000\n",
       "first_affiliate_tracked     2.841402\n",
       "signup_app                  0.000000\n",
       "first_device_type           0.000000\n",
       "first_browser               0.000000\n",
       "country_destination         0.000000\n",
       "dtype: float64"
      ]
     },
     "execution_count": 20,
     "metadata": {},
     "output_type": "execute_result"
    }
   ],
   "source": [
    "## compute Nan pct, users\n",
    "(users.isnull().sum() / users.shape[0]) * 100"
   ]
  },
  {
   "cell_type": "code",
   "execution_count": 153,
   "metadata": {
    "collapsed": false
   },
   "outputs": [
    {
     "data": {
      "text/plain": [
       "user_id           0.326428\n",
       "action            0.753482\n",
       "action_type      10.657003\n",
       "action_detail    10.657003\n",
       "device_type       0.000000\n",
       "secs_elapsed      1.287229\n",
       "dtype: float64"
      ]
     },
     "execution_count": 153,
     "metadata": {},
     "output_type": "execute_result"
    }
   ],
   "source": [
    "## compute Nan pct, sessions\n",
    "(sessions.isnull().sum() / sessions.shape[0]) * 100"
   ]
  },
  {
   "cell_type": "code",
   "execution_count": 27,
   "metadata": {
    "collapsed": false
   },
   "outputs": [],
   "source": [
    "## replace questionable age values\n",
    "users.loc[users.age > 99, 'age'] = np.nan\n",
    "users.loc[users.age < 10, 'age'] = np.nan"
   ]
  },
  {
   "cell_type": "markdown",
   "metadata": {},
   "source": [
    "### Look at datetime cols"
   ]
  },
  {
   "cell_type": "code",
   "execution_count": 13,
   "metadata": {
    "collapsed": false
   },
   "outputs": [
    {
     "data": {
      "text/plain": [
       "20090319"
      ]
     },
     "execution_count": 13,
     "metadata": {},
     "output_type": "execute_result"
    }
   ],
   "source": [
    "20090319043255 // 1000000"
   ]
  },
  {
   "cell_type": "code",
   "execution_count": 15,
   "metadata": {
    "collapsed": false
   },
   "outputs": [
    {
     "data": {
      "text/plain": [
       "0    2010-06-28\n",
       "1    2011-05-25\n",
       "2    2010-09-28\n",
       "3    2011-12-05\n",
       "4    2010-09-14\n",
       "Name: date_account_created, dtype: object"
      ]
     },
     "execution_count": 15,
     "metadata": {},
     "output_type": "execute_result"
    }
   ],
   "source": [
    "users['date_account_created'][:5]"
   ]
  },
  {
   "cell_type": "code",
   "execution_count": 16,
   "metadata": {
    "collapsed": false
   },
   "outputs": [
    {
     "data": {
      "text/plain": [
       "Timedelta('1434 days 00:01:48')"
      ]
     },
     "execution_count": 16,
     "metadata": {},
     "output_type": "execute_result"
    }
   ],
   "source": [
    "pd.to_datetime(20140601000148, format=\"%Y%m%d%H%M%S\") - pd.to_datetime(users['date_account_created'][0])"
   ]
  },
  {
   "cell_type": "code",
   "execution_count": 17,
   "metadata": {
    "collapsed": false
   },
   "outputs": [
    {
     "data": {
      "text/plain": [
       "0   2009-03-19\n",
       "1   2009-05-23\n",
       "2   2009-06-09\n",
       "3   2009-10-31\n",
       "4   2009-12-08\n",
       "Name: timestamp_first_active, dtype: datetime64[ns]"
      ]
     },
     "execution_count": 17,
     "metadata": {},
     "output_type": "execute_result"
    }
   ],
   "source": [
    "test = users['timestamp_first_active'][:5]//1000000\n",
    "test = pd.to_datetime(test, format=\"%Y%m%d\")\n",
    "test"
   ]
  },
  {
   "cell_type": "code",
   "execution_count": null,
   "metadata": {
    "collapsed": true
   },
   "outputs": [],
   "source": [
    "## format account create date\n",
    "train_data['date_account_created'] = pd.to_datetime(train_data['date_account_created'])\n",
    "test_data['date_account_created'] = pd.to_datetime(test_data['date_account_created'])"
   ]
  },
  {
   "cell_type": "code",
   "execution_count": null,
   "metadata": {
    "collapsed": true
   },
   "outputs": [],
   "source": [
    "## format first active timestamp\n",
    "train_data['timestamp_first_active'] = pd.to_datetime(train_data['timestamp_first_active']//1000000, format=\"%Y%m%d\")\n",
    "test_data['timestamp_first_active'] = pd.to_datetime(test_data['timestamp_first_active']//1000000, format=\"%Y%m%d\")"
   ]
  },
  {
   "cell_type": "markdown",
   "metadata": {},
   "source": [
    "### Look at gender"
   ]
  },
  {
   "cell_type": "code",
   "execution_count": 278,
   "metadata": {
    "collapsed": false
   },
   "outputs": [
    {
     "data": {
      "image/png": "[encoded data removed]",
      "text/plain": [
       "<matplotlib.figure.Figure at 0x11862fc90>"
      ]
     },
     "metadata": {},
     "output_type": "display_data"
    }
   ],
   "source": [
    "users.gender.value_counts(dropna=False).plot(kind='bar', color='blue', rot=0)\n",
    "plt.xlabel('Gender')\n",
    "sns.despine()\n",
    "plt.show()"
   ]
  },
  {
   "cell_type": "markdown",
   "metadata": {},
   "source": [
    "### Look at 'country_destination' (label/target)"
   ]
  },
  {
   "cell_type": "code",
   "execution_count": 279,
   "metadata": {
    "collapsed": false
   },
   "outputs": [
    {
     "data": {
      "text/plain": [
       "NDF      124543\n",
       "US        62376\n",
       "other     10094\n",
       "FR         5023\n",
       "IT         2835\n",
       "GB         2324\n",
       "ES         2249\n",
       "CA         1428\n",
       "DE         1061\n",
       "NL          762\n",
       "AU          539\n",
       "PT          217\n",
       "Name: country_destination, dtype: int64"
      ]
     },
     "execution_count": 279,
     "metadata": {},
     "output_type": "execute_result"
    }
   ],
   "source": [
    "train.country_destination.value_counts()"
   ]
  },
  {
   "cell_type": "code",
   "execution_count": 280,
   "metadata": {
    "collapsed": true
   },
   "outputs": [],
   "source": [
    "targets = ['IT', 'GB', 'ES', 'CA', 'DE']"
   ]
  },
  {
   "cell_type": "code",
   "execution_count": 281,
   "metadata": {
    "collapsed": false
   },
   "outputs": [
    {
     "data": {
      "text/html": [
       "<div>\n",
       "<table border=\"1\" class=\"dataframe\">\n",
       "  <thead>\n",
       "    <tr style=\"text-align: right;\">\n",
       "      <th></th>\n",
       "      <th>id</th>\n",
       "      <th>date_account_created</th>\n",
       "      <th>timestamp_first_active</th>\n",
       "      <th>date_first_booking</th>\n",
       "      <th>gender</th>\n",
       "      <th>age</th>\n",
       "      <th>signup_method</th>\n",
       "      <th>signup_flow</th>\n",
       "      <th>language</th>\n",
       "      <th>affiliate_channel</th>\n",
       "      <th>affiliate_provider</th>\n",
       "      <th>first_affiliate_tracked</th>\n",
       "      <th>signup_app</th>\n",
       "      <th>first_device_type</th>\n",
       "      <th>first_browser</th>\n",
       "      <th>country_destination</th>\n",
       "    </tr>\n",
       "  </thead>\n",
       "  <tbody>\n",
       "    <tr>\n",
       "      <th>15</th>\n",
       "      <td>v4d5rl22px</td>\n",
       "      <td>2010-01-07</td>\n",
       "      <td>20100107204555</td>\n",
       "      <td>2010-01-08</td>\n",
       "      <td>FEMALE</td>\n",
       "      <td>33</td>\n",
       "      <td>basic</td>\n",
       "      <td>0</td>\n",
       "      <td>en</td>\n",
       "      <td>direct</td>\n",
       "      <td>direct</td>\n",
       "      <td>untracked</td>\n",
       "      <td>Web</td>\n",
       "      <td>Windows Desktop</td>\n",
       "      <td>Chrome</td>\n",
       "      <td>CA</td>\n",
       "    </tr>\n",
       "    <tr>\n",
       "      <th>44</th>\n",
       "      <td>g3z67e37mb</td>\n",
       "      <td>2010-12-01</td>\n",
       "      <td>20100123090523</td>\n",
       "      <td>2010-12-03</td>\n",
       "      <td>-unknown-</td>\n",
       "      <td>NaN</td>\n",
       "      <td>basic</td>\n",
       "      <td>0</td>\n",
       "      <td>en</td>\n",
       "      <td>direct</td>\n",
       "      <td>direct</td>\n",
       "      <td>NaN</td>\n",
       "      <td>Web</td>\n",
       "      <td>Other/Unknown</td>\n",
       "      <td>-unknown-</td>\n",
       "      <td>GB</td>\n",
       "    </tr>\n",
       "    <tr>\n",
       "      <th>46</th>\n",
       "      <td>f6mzhb4wbc</td>\n",
       "      <td>2010-01-24</td>\n",
       "      <td>20100124002335</td>\n",
       "      <td>2010-02-25</td>\n",
       "      <td>-unknown-</td>\n",
       "      <td>NaN</td>\n",
       "      <td>basic</td>\n",
       "      <td>0</td>\n",
       "      <td>en</td>\n",
       "      <td>direct</td>\n",
       "      <td>direct</td>\n",
       "      <td>untracked</td>\n",
       "      <td>Web</td>\n",
       "      <td>Mac Desktop</td>\n",
       "      <td>Safari</td>\n",
       "      <td>ES</td>\n",
       "    </tr>\n",
       "    <tr>\n",
       "      <th>57</th>\n",
       "      <td>ehcdcpkn8y</td>\n",
       "      <td>2010-01-27</td>\n",
       "      <td>20100127083836</td>\n",
       "      <td>2010-01-28</td>\n",
       "      <td>-unknown-</td>\n",
       "      <td>NaN</td>\n",
       "      <td>basic</td>\n",
       "      <td>0</td>\n",
       "      <td>en</td>\n",
       "      <td>direct</td>\n",
       "      <td>direct</td>\n",
       "      <td>untracked</td>\n",
       "      <td>Web</td>\n",
       "      <td>Android Tablet</td>\n",
       "      <td>Chrome</td>\n",
       "      <td>CA</td>\n",
       "    </tr>\n",
       "    <tr>\n",
       "      <th>63</th>\n",
       "      <td>ranh94tmin</td>\n",
       "      <td>2010-01-29</td>\n",
       "      <td>20100129182105</td>\n",
       "      <td>2010-01-29</td>\n",
       "      <td>-unknown-</td>\n",
       "      <td>NaN</td>\n",
       "      <td>basic</td>\n",
       "      <td>0</td>\n",
       "      <td>en</td>\n",
       "      <td>direct</td>\n",
       "      <td>direct</td>\n",
       "      <td>NaN</td>\n",
       "      <td>Web</td>\n",
       "      <td>Other/Unknown</td>\n",
       "      <td>-unknown-</td>\n",
       "      <td>CA</td>\n",
       "    </tr>\n",
       "  </tbody>\n",
       "</table>\n",
       "</div>"
      ],
      "text/plain": [
       "            id date_account_created  timestamp_first_active  \\\n",
       "15  v4d5rl22px           2010-01-07          20100107204555   \n",
       "44  g3z67e37mb           2010-12-01          20100123090523   \n",
       "46  f6mzhb4wbc           2010-01-24          20100124002335   \n",
       "57  ehcdcpkn8y           2010-01-27          20100127083836   \n",
       "63  ranh94tmin           2010-01-29          20100129182105   \n",
       "\n",
       "   date_first_booking     gender  age signup_method  signup_flow language  \\\n",
       "15         2010-01-08     FEMALE   33         basic            0       en   \n",
       "44         2010-12-03  -unknown-  NaN         basic            0       en   \n",
       "46         2010-02-25  -unknown-  NaN         basic            0       en   \n",
       "57         2010-01-28  -unknown-  NaN         basic            0       en   \n",
       "63         2010-01-29  -unknown-  NaN         basic            0       en   \n",
       "\n",
       "   affiliate_channel affiliate_provider first_affiliate_tracked signup_app  \\\n",
       "15            direct             direct               untracked        Web   \n",
       "44            direct             direct                     NaN        Web   \n",
       "46            direct             direct               untracked        Web   \n",
       "57            direct             direct               untracked        Web   \n",
       "63            direct             direct                     NaN        Web   \n",
       "\n",
       "   first_device_type first_browser country_destination  \n",
       "15   Windows Desktop        Chrome                  CA  \n",
       "44     Other/Unknown     -unknown-                  GB  \n",
       "46       Mac Desktop        Safari                  ES  \n",
       "57    Android Tablet        Chrome                  CA  \n",
       "63     Other/Unknown     -unknown-                  CA  "
      ]
     },
     "execution_count": 281,
     "metadata": {},
     "output_type": "execute_result"
    }
   ],
   "source": [
    "target_set = train[train.country_destination.isin(targets)]\n",
    "target_set.head()"
   ]
  },
  {
   "cell_type": "code",
   "execution_count": 282,
   "metadata": {
    "collapsed": false
   },
   "outputs": [
    {
     "data": {
      "text/plain": [
       "<matplotlib.axes._subplots.AxesSubplot at 0x11a5df690>"
      ]
     },
     "execution_count": 282,
     "metadata": {},
     "output_type": "execute_result"
    },
    {
     "data": {
      "image/png": "[encoded data removed]",
      "text/plain": [
       "<matplotlib.figure.Figure at 0x115e11410>"
      ]
     },
     "metadata": {},
     "output_type": "display_data"
    }
   ],
   "source": [
    "# targets = ['IT', 'GB', 'ES', 'CA', 'DE']\n",
    "sns.countplot(x=\"signup_app\", data=target_set[target_set.country_destination=='IT'])"
   ]
  },
  {
   "cell_type": "code",
   "execution_count": 44,
   "metadata": {
    "collapsed": false
   },
   "outputs": [
    {
     "name": "stderr",
     "output_type": "stream",
     "text": [
      "/Users/jjl/anaconda/lib/python2.7/site-packages/matplotlib/__init__.py:892: UserWarning: axes.color_cycle is deprecated and replaced with axes.prop_cycle; please use the latter.\n",
      "  warnings.warn(self.msg_depr % (key, alt_key))\n"
     ]
    },
    {
     "data": {
      "text/plain": [
       "<matplotlib.axes._subplots.AxesSubplot at 0x10cf85090>"
      ]
     },
     "execution_count": 44,
     "metadata": {},
     "output_type": "execute_result"
    },
    {
     "data": {
      "image/png": "[encoded data removed]",
      "text/plain": [
       "<matplotlib.figure.Figure at 0x10cff9fd0>"
      ]
     },
     "metadata": {},
     "output_type": "display_data"
    }
   ],
   "source": [
    "sns.countplot(x=\"country_destination\", data=train, order=list(train.country_destination.value_counts().keys()))"
   ]
  },
  {
   "cell_type": "code",
   "execution_count": 46,
   "metadata": {
    "collapsed": false
   },
   "outputs": [
    {
     "data": {
      "image/png": "[encoded data removed]",
      "text/plain": [
       "<matplotlib.figure.Figure at 0x10297cc50>"
      ]
     },
     "metadata": {},
     "output_type": "display_data"
    }
   ],
   "source": [
    "destination_percentage = train.country_destination.value_counts() / train.shape[0]\n",
    "destination_percentage.plot(kind='bar',color='#FD5C64', rot=0)\n",
    "\n",
    "plt.xlabel('Destination Country')\n",
    "plt.ylabel('Percentage')\n",
    "sns.despine()"
   ]
  },
  {
   "cell_type": "markdown",
   "metadata": {},
   "source": [
    "### Age"
   ]
  },
  {
   "cell_type": "code",
   "execution_count": 451,
   "metadata": {
    "collapsed": false
   },
   "outputs": [
    {
     "data": {
      "image/png": "[encoded data removed]",
      "text/plain": [
       "<matplotlib.figure.Figure at 0x1c4480650>"
      ]
     },
     "metadata": {},
     "output_type": "display_data"
    }
   ],
   "source": [
    "age_vals = train['age'].fillna(-1).values\n",
    "plt.hist(age_vals, bins=range(-5,100,5))\n",
    "plt.gcf().set_size_inches(9,4)\n",
    "plt.xticks(range(-5,100,5))\n",
    "plt.ylim(0,30000)\n",
    "plt.show()"
   ]
  },
  {
   "cell_type": "markdown",
   "metadata": {},
   "source": [
    "### Age/Gender buckets"
   ]
  },
  {
   "cell_type": "code",
   "execution_count": 287,
   "metadata": {
    "collapsed": true
   },
   "outputs": [],
   "source": [
    "bkts = pd.read_csv('../input/age_gender_bkts.csv')\n",
    "bkts = bkts.drop('year', 1)"
   ]
  },
  {
   "cell_type": "code",
   "execution_count": 385,
   "metadata": {
    "collapsed": false
   },
   "outputs": [
    {
     "data": {
      "text/html": [
       "<div>\n",
       "<table border=\"1\" class=\"dataframe\">\n",
       "  <thead>\n",
       "    <tr style=\"text-align: right;\">\n",
       "      <th></th>\n",
       "      <th>age_bucket</th>\n",
       "      <th>country_destination</th>\n",
       "      <th>gender</th>\n",
       "      <th>population_in_thousands</th>\n",
       "    </tr>\n",
       "  </thead>\n",
       "  <tbody>\n",
       "    <tr>\n",
       "      <th>0</th>\n",
       "      <td>100+</td>\n",
       "      <td>AU</td>\n",
       "      <td>male</td>\n",
       "      <td>1</td>\n",
       "    </tr>\n",
       "    <tr>\n",
       "      <th>1</th>\n",
       "      <td>95-99</td>\n",
       "      <td>AU</td>\n",
       "      <td>male</td>\n",
       "      <td>9</td>\n",
       "    </tr>\n",
       "    <tr>\n",
       "      <th>2</th>\n",
       "      <td>90-94</td>\n",
       "      <td>AU</td>\n",
       "      <td>male</td>\n",
       "      <td>47</td>\n",
       "    </tr>\n",
       "  </tbody>\n",
       "</table>\n",
       "</div>"
      ],
      "text/plain": [
       "  age_bucket country_destination gender  population_in_thousands\n",
       "0       100+                  AU   male                        1\n",
       "1      95-99                  AU   male                        9\n",
       "2      90-94                  AU   male                       47"
      ]
     },
     "execution_count": 385,
     "metadata": {},
     "output_type": "execute_result"
    }
   ],
   "source": [
    "bkts.head(3)"
   ]
  },
  {
   "cell_type": "code",
   "execution_count": 343,
   "metadata": {
    "collapsed": false
   },
   "outputs": [
    {
     "name": "stdout",
     "output_type": "stream",
     "text": [
      "['0-4', '10-14', '100+', '15-19', '20-24', '25-29', '30-34', '35-39', '40-44', '45-49', '5-9', '50-54', '55-59', '60-64', '65-69', '70-74', '75-79', '80-84', '85-89', '90-94', '95-99']\n"
     ]
    }
   ],
   "source": [
    "print sorted(bkts.age_bucket.unique())"
   ]
  },
  {
   "cell_type": "code",
   "execution_count": 348,
   "metadata": {
    "collapsed": true
   },
   "outputs": [],
   "source": [
    "age_order = ['0-4', '5-9', '10-14', '15-19', '20-24', '25-29', '30-34', '35-39', '40-44', '45-49', '50-54', '55-59', '60-64', '65-69', '70-74', '75-79', '80-84', '85-89', '90-94', '95-99', '100+']"
   ]
  },
  {
   "cell_type": "code",
   "execution_count": 387,
   "metadata": {
    "collapsed": false
   },
   "outputs": [
    {
     "data": {
      "text/plain": [
       "<seaborn.axisgrid.FacetGrid at 0x15db1dd90>"
      ]
     },
     "execution_count": 387,
     "metadata": {},
     "output_type": "execute_result"
    },
    {
     "data": {
      "image/png": "[encoded data removed]",
      "text/plain": [
       "<matplotlib.figure.Figure at 0x15898b310>"
      ]
     },
     "metadata": {},
     "output_type": "display_data"
    }
   ],
   "source": [
    "# top targets after NDF,US,other = ['IT', 'GB', 'ES', 'CA', 'DE']\n",
    "sns.factorplot(x=\"age_bucket\", y=\"population_in_thousands\", \\\n",
    "              data=bkts[bkts.country_destination!='US'], hue='gender', \\\n",
    "              size=4, aspect=2, order=age_order, \\\n",
    "              col='country_destination', col_wrap=2)"
   ]
  },
  {
   "cell_type": "markdown",
   "metadata": {},
   "source": [
    "### Convert target/label to categorical\n",
    "(not in use)"
   ]
  },
  {
   "cell_type": "code",
   "execution_count": null,
   "metadata": {
    "collapsed": true
   },
   "outputs": [],
   "source": [
    "train_data['country_destination'] = train_data['country_destination'].astype('category')"
   ]
  },
  {
   "cell_type": "code",
   "execution_count": null,
   "metadata": {
    "collapsed": true
   },
   "outputs": [],
   "source": [
    "sns.set()\n",
    "sns.countplot(x=\"country_destination\", hue=\"gender\", data=train_data, palette=\"Blues_d\")"
   ]
  },
  {
   "cell_type": "code",
   "execution_count": null,
   "metadata": {
    "collapsed": true
   },
   "outputs": [],
   "source": [
    "sns.countplot(x=\"country_destination\", hue=\"signup_method\", data=train_data, palette=\"Blues_d\")"
   ]
  },
  {
   "cell_type": "code",
   "execution_count": null,
   "metadata": {
    "collapsed": true
   },
   "outputs": [],
   "source": [
    "sns.countplot(x=\"country_destination\", hue=\"affiliate_channel\", data=train_data, palette=\"Blues_d\")"
   ]
  },
  {
   "cell_type": "code",
   "execution_count": null,
   "metadata": {
    "collapsed": true
   },
   "outputs": [],
   "source": [
    "sns.countplot(x=\"country_destination\", hue=\"first_device_type\", data=train_data, palette=\"Blues_d\")"
   ]
  },
  {
   "cell_type": "markdown",
   "metadata": {},
   "source": [
    "---\n",
    "2. Feature engineering\n",
    "----------------------"
   ]
  },
  {
   "cell_type": "code",
   "execution_count": 5,
   "metadata": {
    "collapsed": false
   },
   "outputs": [],
   "source": [
    "# restart\n",
    "df_all = df_all_copy.copy()"
   ]
  },
  {
   "cell_type": "code",
   "execution_count": 6,
   "metadata": {
    "collapsed": false
   },
   "outputs": [
    {
     "data": {
      "text/html": [
       "<div>\n",
       "<table border=\"1\" class=\"dataframe\">\n",
       "  <thead>\n",
       "    <tr style=\"text-align: right;\">\n",
       "      <th></th>\n",
       "      <th>id</th>\n",
       "      <th>date_account_created</th>\n",
       "      <th>timestamp_first_active</th>\n",
       "      <th>gender</th>\n",
       "      <th>age</th>\n",
       "      <th>signup_method</th>\n",
       "      <th>signup_flow</th>\n",
       "      <th>language</th>\n",
       "      <th>affiliate_channel</th>\n",
       "      <th>affiliate_provider</th>\n",
       "      <th>first_affiliate_tracked</th>\n",
       "      <th>signup_app</th>\n",
       "      <th>first_device_type</th>\n",
       "      <th>first_browser</th>\n",
       "      <th>dac_year</th>\n",
       "      <th>dac_month</th>\n",
       "      <th>dac_day</th>\n",
       "    </tr>\n",
       "  </thead>\n",
       "  <tbody>\n",
       "    <tr>\n",
       "      <th>0</th>\n",
       "      <td>gxn3p5htnn</td>\n",
       "      <td>2010-06-28</td>\n",
       "      <td>20090319043255</td>\n",
       "      <td>-unknown-</td>\n",
       "      <td>-1</td>\n",
       "      <td>facebook</td>\n",
       "      <td>0</td>\n",
       "      <td>en</td>\n",
       "      <td>direct</td>\n",
       "      <td>direct</td>\n",
       "      <td>untracked</td>\n",
       "      <td>Web</td>\n",
       "      <td>Mac Desktop</td>\n",
       "      <td>Chrome</td>\n",
       "      <td>2010</td>\n",
       "      <td>6</td>\n",
       "      <td>28</td>\n",
       "    </tr>\n",
       "    <tr>\n",
       "      <th>1</th>\n",
       "      <td>820tgsjxq7</td>\n",
       "      <td>2011-05-25</td>\n",
       "      <td>20090523174809</td>\n",
       "      <td>MALE</td>\n",
       "      <td>38</td>\n",
       "      <td>facebook</td>\n",
       "      <td>0</td>\n",
       "      <td>en</td>\n",
       "      <td>seo</td>\n",
       "      <td>google</td>\n",
       "      <td>untracked</td>\n",
       "      <td>Web</td>\n",
       "      <td>Mac Desktop</td>\n",
       "      <td>Chrome</td>\n",
       "      <td>2011</td>\n",
       "      <td>5</td>\n",
       "      <td>25</td>\n",
       "    </tr>\n",
       "    <tr>\n",
       "      <th>2</th>\n",
       "      <td>4ft3gnwmtx</td>\n",
       "      <td>2010-09-28</td>\n",
       "      <td>20090609231247</td>\n",
       "      <td>FEMALE</td>\n",
       "      <td>56</td>\n",
       "      <td>basic</td>\n",
       "      <td>3</td>\n",
       "      <td>en</td>\n",
       "      <td>direct</td>\n",
       "      <td>direct</td>\n",
       "      <td>untracked</td>\n",
       "      <td>Web</td>\n",
       "      <td>Windows Desktop</td>\n",
       "      <td>IE</td>\n",
       "      <td>2010</td>\n",
       "      <td>9</td>\n",
       "      <td>28</td>\n",
       "    </tr>\n",
       "  </tbody>\n",
       "</table>\n",
       "</div>"
      ],
      "text/plain": [
       "           id date_account_created  timestamp_first_active     gender  age  \\\n",
       "0  gxn3p5htnn           2010-06-28          20090319043255  -unknown-   -1   \n",
       "1  820tgsjxq7           2011-05-25          20090523174809       MALE   38   \n",
       "2  4ft3gnwmtx           2010-09-28          20090609231247     FEMALE   56   \n",
       "\n",
       "  signup_method  signup_flow language affiliate_channel affiliate_provider  \\\n",
       "0      facebook            0       en            direct             direct   \n",
       "1      facebook            0       en               seo             google   \n",
       "2         basic            3       en            direct             direct   \n",
       "\n",
       "  first_affiliate_tracked signup_app first_device_type first_browser  \\\n",
       "0               untracked        Web       Mac Desktop        Chrome   \n",
       "1               untracked        Web       Mac Desktop        Chrome   \n",
       "2               untracked        Web   Windows Desktop            IE   \n",
       "\n",
       "   dac_year  dac_month  dac_day  \n",
       "0      2010          6       28  \n",
       "1      2011          5       25  \n",
       "2      2010          9       28  "
      ]
     },
     "execution_count": 6,
     "metadata": {},
     "output_type": "execute_result"
    }
   ],
   "source": [
    "#date_account_created\n",
    "dac = np.vstack(df_all.date_account_created.astype(str).apply(lambda x: list(map(int, x.split('-')))).values)\n",
    "df_all['dac_year'] = dac[:,0]\n",
    "df_all['dac_month'] = dac[:,1]\n",
    "df_all['dac_day'] = dac[:,2]\n",
    "\n",
    "df_all.head(3)"
   ]
  },
  {
   "cell_type": "code",
   "execution_count": 7,
   "metadata": {
    "collapsed": false
   },
   "outputs": [
    {
     "data": {
      "text/html": [
       "<div>\n",
       "<table border=\"1\" class=\"dataframe\">\n",
       "  <thead>\n",
       "    <tr style=\"text-align: right;\">\n",
       "      <th></th>\n",
       "      <th>id</th>\n",
       "      <th>date_account_created</th>\n",
       "      <th>timestamp_first_active</th>\n",
       "      <th>gender</th>\n",
       "      <th>age</th>\n",
       "      <th>signup_method</th>\n",
       "      <th>signup_flow</th>\n",
       "      <th>language</th>\n",
       "      <th>affiliate_channel</th>\n",
       "      <th>affiliate_provider</th>\n",
       "      <th>first_affiliate_tracked</th>\n",
       "      <th>signup_app</th>\n",
       "      <th>first_device_type</th>\n",
       "      <th>first_browser</th>\n",
       "      <th>dac_year</th>\n",
       "      <th>dac_month</th>\n",
       "      <th>dac_day</th>\n",
       "      <th>tfa_year</th>\n",
       "      <th>tfa_month</th>\n",
       "      <th>tfa_day</th>\n",
       "    </tr>\n",
       "  </thead>\n",
       "  <tbody>\n",
       "    <tr>\n",
       "      <th>0</th>\n",
       "      <td>gxn3p5htnn</td>\n",
       "      <td>2010-06-28</td>\n",
       "      <td>20090319043255</td>\n",
       "      <td>-unknown-</td>\n",
       "      <td>-1</td>\n",
       "      <td>facebook</td>\n",
       "      <td>0</td>\n",
       "      <td>en</td>\n",
       "      <td>direct</td>\n",
       "      <td>direct</td>\n",
       "      <td>untracked</td>\n",
       "      <td>Web</td>\n",
       "      <td>Mac Desktop</td>\n",
       "      <td>Chrome</td>\n",
       "      <td>2010</td>\n",
       "      <td>6</td>\n",
       "      <td>28</td>\n",
       "      <td>2009</td>\n",
       "      <td>3</td>\n",
       "      <td>19</td>\n",
       "    </tr>\n",
       "    <tr>\n",
       "      <th>1</th>\n",
       "      <td>820tgsjxq7</td>\n",
       "      <td>2011-05-25</td>\n",
       "      <td>20090523174809</td>\n",
       "      <td>MALE</td>\n",
       "      <td>38</td>\n",
       "      <td>facebook</td>\n",
       "      <td>0</td>\n",
       "      <td>en</td>\n",
       "      <td>seo</td>\n",
       "      <td>google</td>\n",
       "      <td>untracked</td>\n",
       "      <td>Web</td>\n",
       "      <td>Mac Desktop</td>\n",
       "      <td>Chrome</td>\n",
       "      <td>2011</td>\n",
       "      <td>5</td>\n",
       "      <td>25</td>\n",
       "      <td>2009</td>\n",
       "      <td>5</td>\n",
       "      <td>23</td>\n",
       "    </tr>\n",
       "    <tr>\n",
       "      <th>2</th>\n",
       "      <td>4ft3gnwmtx</td>\n",
       "      <td>2010-09-28</td>\n",
       "      <td>20090609231247</td>\n",
       "      <td>FEMALE</td>\n",
       "      <td>56</td>\n",
       "      <td>basic</td>\n",
       "      <td>3</td>\n",
       "      <td>en</td>\n",
       "      <td>direct</td>\n",
       "      <td>direct</td>\n",
       "      <td>untracked</td>\n",
       "      <td>Web</td>\n",
       "      <td>Windows Desktop</td>\n",
       "      <td>IE</td>\n",
       "      <td>2010</td>\n",
       "      <td>9</td>\n",
       "      <td>28</td>\n",
       "      <td>2009</td>\n",
       "      <td>6</td>\n",
       "      <td>9</td>\n",
       "    </tr>\n",
       "  </tbody>\n",
       "</table>\n",
       "</div>"
      ],
      "text/plain": [
       "           id date_account_created  timestamp_first_active     gender  age  \\\n",
       "0  gxn3p5htnn           2010-06-28          20090319043255  -unknown-   -1   \n",
       "1  820tgsjxq7           2011-05-25          20090523174809       MALE   38   \n",
       "2  4ft3gnwmtx           2010-09-28          20090609231247     FEMALE   56   \n",
       "\n",
       "  signup_method  signup_flow language affiliate_channel affiliate_provider  \\\n",
       "0      facebook            0       en            direct             direct   \n",
       "1      facebook            0       en               seo             google   \n",
       "2         basic            3       en            direct             direct   \n",
       "\n",
       "  first_affiliate_tracked signup_app first_device_type first_browser  \\\n",
       "0               untracked        Web       Mac Desktop        Chrome   \n",
       "1               untracked        Web       Mac Desktop        Chrome   \n",
       "2               untracked        Web   Windows Desktop            IE   \n",
       "\n",
       "   dac_year  dac_month  dac_day  tfa_year  tfa_month  tfa_day  \n",
       "0      2010          6       28      2009          3       19  \n",
       "1      2011          5       25      2009          5       23  \n",
       "2      2010          9       28      2009          6        9  "
      ]
     },
     "execution_count": 7,
     "metadata": {},
     "output_type": "execute_result"
    }
   ],
   "source": [
    "#timestamp_first_active\n",
    "tfa = np.vstack(df_all.timestamp_first_active.astype(str).apply(lambda x: list(map(int, [x[:4],x[4:6],x[6:8],x[8:10],x[10:12],x[12:14]]))).values)\n",
    "df_all['tfa_year'] = tfa[:,0]\n",
    "df_all['tfa_month'] = tfa[:,1]\n",
    "df_all['tfa_day'] = tfa[:,2]\n",
    "\n",
    "df_all.head(3)"
   ]
  },
  {
   "cell_type": "code",
   "execution_count": 8,
   "metadata": {
    "collapsed": false
   },
   "outputs": [
    {
     "name": "stdout",
     "output_type": "stream",
     "text": [
      "0    20100628\n",
      "1    20110525\n",
      "2    20100928\n",
      "Name: date_account_created, dtype: int64\n",
      "0    20090319\n",
      "1    20090523\n",
      "2    20090609\n",
      "Name: timestamp_first_active, dtype: int64\n"
     ]
    }
   ],
   "source": [
    "## calc time diff b/w dac, tfa\n",
    "dac_int = df_all.date_account_created.astype(str).apply(lambda x: int(x.translate(None, '-')))\n",
    "print dac_int[:3]\n",
    "tfa_int = df_all.timestamp_first_active.astype(str).apply(lambda x: int(x[:8]))\n",
    "print tfa_int[:3]"
   ]
  },
  {
   "cell_type": "code",
   "execution_count": 9,
   "metadata": {
    "collapsed": false
   },
   "outputs": [
    {
     "data": {
      "text/html": [
       "<div>\n",
       "<table border=\"1\" class=\"dataframe\">\n",
       "  <thead>\n",
       "    <tr style=\"text-align: right;\">\n",
       "      <th></th>\n",
       "      <th>id</th>\n",
       "      <th>date_account_created</th>\n",
       "      <th>timestamp_first_active</th>\n",
       "      <th>gender</th>\n",
       "      <th>age</th>\n",
       "      <th>signup_method</th>\n",
       "      <th>signup_flow</th>\n",
       "      <th>language</th>\n",
       "      <th>affiliate_channel</th>\n",
       "      <th>affiliate_provider</th>\n",
       "      <th>...</th>\n",
       "      <th>signup_app</th>\n",
       "      <th>first_device_type</th>\n",
       "      <th>first_browser</th>\n",
       "      <th>dac_year</th>\n",
       "      <th>dac_month</th>\n",
       "      <th>dac_day</th>\n",
       "      <th>tfa_year</th>\n",
       "      <th>tfa_month</th>\n",
       "      <th>tfa_day</th>\n",
       "      <th>dac_tfa</th>\n",
       "    </tr>\n",
       "  </thead>\n",
       "  <tbody>\n",
       "    <tr>\n",
       "      <th>0</th>\n",
       "      <td>gxn3p5htnn</td>\n",
       "      <td>2010-06-28</td>\n",
       "      <td>20090319043255</td>\n",
       "      <td>-unknown-</td>\n",
       "      <td>-1</td>\n",
       "      <td>facebook</td>\n",
       "      <td>0</td>\n",
       "      <td>en</td>\n",
       "      <td>direct</td>\n",
       "      <td>direct</td>\n",
       "      <td>...</td>\n",
       "      <td>Web</td>\n",
       "      <td>Mac Desktop</td>\n",
       "      <td>Chrome</td>\n",
       "      <td>2010</td>\n",
       "      <td>6</td>\n",
       "      <td>28</td>\n",
       "      <td>2009</td>\n",
       "      <td>3</td>\n",
       "      <td>19</td>\n",
       "      <td>10309</td>\n",
       "    </tr>\n",
       "    <tr>\n",
       "      <th>1</th>\n",
       "      <td>820tgsjxq7</td>\n",
       "      <td>2011-05-25</td>\n",
       "      <td>20090523174809</td>\n",
       "      <td>MALE</td>\n",
       "      <td>38</td>\n",
       "      <td>facebook</td>\n",
       "      <td>0</td>\n",
       "      <td>en</td>\n",
       "      <td>seo</td>\n",
       "      <td>google</td>\n",
       "      <td>...</td>\n",
       "      <td>Web</td>\n",
       "      <td>Mac Desktop</td>\n",
       "      <td>Chrome</td>\n",
       "      <td>2011</td>\n",
       "      <td>5</td>\n",
       "      <td>25</td>\n",
       "      <td>2009</td>\n",
       "      <td>5</td>\n",
       "      <td>23</td>\n",
       "      <td>20002</td>\n",
       "    </tr>\n",
       "    <tr>\n",
       "      <th>2</th>\n",
       "      <td>4ft3gnwmtx</td>\n",
       "      <td>2010-09-28</td>\n",
       "      <td>20090609231247</td>\n",
       "      <td>FEMALE</td>\n",
       "      <td>56</td>\n",
       "      <td>basic</td>\n",
       "      <td>3</td>\n",
       "      <td>en</td>\n",
       "      <td>direct</td>\n",
       "      <td>direct</td>\n",
       "      <td>...</td>\n",
       "      <td>Web</td>\n",
       "      <td>Windows Desktop</td>\n",
       "      <td>IE</td>\n",
       "      <td>2010</td>\n",
       "      <td>9</td>\n",
       "      <td>28</td>\n",
       "      <td>2009</td>\n",
       "      <td>6</td>\n",
       "      <td>9</td>\n",
       "      <td>10319</td>\n",
       "    </tr>\n",
       "  </tbody>\n",
       "</table>\n",
       "<p>3 rows × 21 columns</p>\n",
       "</div>"
      ],
      "text/plain": [
       "           id date_account_created  timestamp_first_active     gender  age  \\\n",
       "0  gxn3p5htnn           2010-06-28          20090319043255  -unknown-   -1   \n",
       "1  820tgsjxq7           2011-05-25          20090523174809       MALE   38   \n",
       "2  4ft3gnwmtx           2010-09-28          20090609231247     FEMALE   56   \n",
       "\n",
       "  signup_method  signup_flow language affiliate_channel affiliate_provider  \\\n",
       "0      facebook            0       en            direct             direct   \n",
       "1      facebook            0       en               seo             google   \n",
       "2         basic            3       en            direct             direct   \n",
       "\n",
       "    ...    signup_app first_device_type first_browser dac_year  dac_month  \\\n",
       "0   ...           Web       Mac Desktop        Chrome     2010          6   \n",
       "1   ...           Web       Mac Desktop        Chrome     2011          5   \n",
       "2   ...           Web   Windows Desktop            IE     2010          9   \n",
       "\n",
       "   dac_day  tfa_year  tfa_month  tfa_day  dac_tfa  \n",
       "0       28      2009          3       19    10309  \n",
       "1       25      2009          5       23    20002  \n",
       "2       28      2009          6        9    10319  \n",
       "\n",
       "[3 rows x 21 columns]"
      ]
     },
     "execution_count": 9,
     "metadata": {},
     "output_type": "execute_result"
    }
   ],
   "source": [
    "df_all['dac_tfa'] = dac_int - tfa_int\n",
    "df_all.head(3)"
   ]
  },
  {
   "cell_type": "code",
   "execution_count": 10,
   "metadata": {
    "collapsed": false
   },
   "outputs": [
    {
     "data": {
      "text/html": [
       "<div>\n",
       "<table border=\"1\" class=\"dataframe\">\n",
       "  <thead>\n",
       "    <tr style=\"text-align: right;\">\n",
       "      <th></th>\n",
       "      <th>id</th>\n",
       "      <th>gender</th>\n",
       "      <th>age</th>\n",
       "      <th>signup_method</th>\n",
       "      <th>signup_flow</th>\n",
       "      <th>language</th>\n",
       "      <th>affiliate_channel</th>\n",
       "      <th>affiliate_provider</th>\n",
       "      <th>first_affiliate_tracked</th>\n",
       "      <th>signup_app</th>\n",
       "      <th>first_device_type</th>\n",
       "      <th>first_browser</th>\n",
       "      <th>dac_year</th>\n",
       "      <th>dac_month</th>\n",
       "      <th>dac_day</th>\n",
       "      <th>tfa_year</th>\n",
       "      <th>tfa_month</th>\n",
       "      <th>tfa_day</th>\n",
       "      <th>dac_tfa</th>\n",
       "    </tr>\n",
       "  </thead>\n",
       "  <tbody>\n",
       "    <tr>\n",
       "      <th>0</th>\n",
       "      <td>gxn3p5htnn</td>\n",
       "      <td>-unknown-</td>\n",
       "      <td>-1</td>\n",
       "      <td>facebook</td>\n",
       "      <td>0</td>\n",
       "      <td>en</td>\n",
       "      <td>direct</td>\n",
       "      <td>direct</td>\n",
       "      <td>untracked</td>\n",
       "      <td>Web</td>\n",
       "      <td>Mac Desktop</td>\n",
       "      <td>Chrome</td>\n",
       "      <td>2010</td>\n",
       "      <td>6</td>\n",
       "      <td>28</td>\n",
       "      <td>2009</td>\n",
       "      <td>3</td>\n",
       "      <td>19</td>\n",
       "      <td>10309</td>\n",
       "    </tr>\n",
       "    <tr>\n",
       "      <th>1</th>\n",
       "      <td>820tgsjxq7</td>\n",
       "      <td>MALE</td>\n",
       "      <td>38</td>\n",
       "      <td>facebook</td>\n",
       "      <td>0</td>\n",
       "      <td>en</td>\n",
       "      <td>seo</td>\n",
       "      <td>google</td>\n",
       "      <td>untracked</td>\n",
       "      <td>Web</td>\n",
       "      <td>Mac Desktop</td>\n",
       "      <td>Chrome</td>\n",
       "      <td>2011</td>\n",
       "      <td>5</td>\n",
       "      <td>25</td>\n",
       "      <td>2009</td>\n",
       "      <td>5</td>\n",
       "      <td>23</td>\n",
       "      <td>20002</td>\n",
       "    </tr>\n",
       "    <tr>\n",
       "      <th>2</th>\n",
       "      <td>4ft3gnwmtx</td>\n",
       "      <td>FEMALE</td>\n",
       "      <td>56</td>\n",
       "      <td>basic</td>\n",
       "      <td>3</td>\n",
       "      <td>en</td>\n",
       "      <td>direct</td>\n",
       "      <td>direct</td>\n",
       "      <td>untracked</td>\n",
       "      <td>Web</td>\n",
       "      <td>Windows Desktop</td>\n",
       "      <td>IE</td>\n",
       "      <td>2010</td>\n",
       "      <td>9</td>\n",
       "      <td>28</td>\n",
       "      <td>2009</td>\n",
       "      <td>6</td>\n",
       "      <td>9</td>\n",
       "      <td>10319</td>\n",
       "    </tr>\n",
       "  </tbody>\n",
       "</table>\n",
       "</div>"
      ],
      "text/plain": [
       "           id     gender  age signup_method  signup_flow language  \\\n",
       "0  gxn3p5htnn  -unknown-   -1      facebook            0       en   \n",
       "1  820tgsjxq7       MALE   38      facebook            0       en   \n",
       "2  4ft3gnwmtx     FEMALE   56         basic            3       en   \n",
       "\n",
       "  affiliate_channel affiliate_provider first_affiliate_tracked signup_app  \\\n",
       "0            direct             direct               untracked        Web   \n",
       "1               seo             google               untracked        Web   \n",
       "2            direct             direct               untracked        Web   \n",
       "\n",
       "  first_device_type first_browser  dac_year  dac_month  dac_day  tfa_year  \\\n",
       "0       Mac Desktop        Chrome      2010          6       28      2009   \n",
       "1       Mac Desktop        Chrome      2011          5       25      2009   \n",
       "2   Windows Desktop            IE      2010          9       28      2009   \n",
       "\n",
       "   tfa_month  tfa_day  dac_tfa  \n",
       "0          3       19    10309  \n",
       "1          5       23    20002  \n",
       "2          6        9    10319  "
      ]
     },
     "execution_count": 10,
     "metadata": {},
     "output_type": "execute_result"
    }
   ],
   "source": [
    "## remove old cols\n",
    "df_all = df_all.drop(['date_account_created'], axis=1)\n",
    "df_all = df_all.drop(['timestamp_first_active'], axis=1)\n",
    "df_all.head(3)"
   ]
  },
  {
   "cell_type": "code",
   "execution_count": 11,
   "metadata": {
    "collapsed": true
   },
   "outputs": [],
   "source": [
    "#Age\n",
    "av = df_all.age.values\n",
    "df_all['age'] = np.where(np.logical_or(av<0, av>99), -1, av)"
   ]
  },
  {
   "cell_type": "code",
   "execution_count": 12,
   "metadata": {
    "collapsed": false
   },
   "outputs": [],
   "source": [
    "# make a copy to use later\n",
    "df_all_id = df_all.copy()"
   ]
  },
  {
   "cell_type": "markdown",
   "metadata": {},
   "source": [
    "### 2a. Join session data"
   ]
  },
  {
   "cell_type": "code",
   "execution_count": 90,
   "metadata": {
    "collapsed": false
   },
   "outputs": [
    {
     "data": {
      "text/html": [
       "<div>\n",
       "<table border=\"1\" class=\"dataframe\">\n",
       "  <thead>\n",
       "    <tr style=\"text-align: right;\">\n",
       "      <th></th>\n",
       "      <th>id</th>\n",
       "      <th>date_account_created</th>\n",
       "      <th>timestamp_first_active</th>\n",
       "      <th>date_first_booking</th>\n",
       "      <th>gender</th>\n",
       "      <th>age</th>\n",
       "      <th>signup_method</th>\n",
       "      <th>signup_flow</th>\n",
       "      <th>language</th>\n",
       "      <th>affiliate_channel</th>\n",
       "      <th>affiliate_provider</th>\n",
       "      <th>first_affiliate_tracked</th>\n",
       "      <th>signup_app</th>\n",
       "      <th>first_device_type</th>\n",
       "      <th>first_browser</th>\n",
       "      <th>country_destination</th>\n",
       "    </tr>\n",
       "  </thead>\n",
       "  <tbody>\n",
       "    <tr>\n",
       "      <th>189274</th>\n",
       "      <td>00023iyk9l</td>\n",
       "      <td>2014-05-14</td>\n",
       "      <td>20140514195452</td>\n",
       "      <td>2014-05-14</td>\n",
       "      <td>-unknown-</td>\n",
       "      <td>31</td>\n",
       "      <td>basic</td>\n",
       "      <td>0</td>\n",
       "      <td>en</td>\n",
       "      <td>direct</td>\n",
       "      <td>direct</td>\n",
       "      <td>omg</td>\n",
       "      <td>Web</td>\n",
       "      <td>Mac Desktop</td>\n",
       "      <td>Safari</td>\n",
       "      <td>US</td>\n",
       "    </tr>\n",
       "  </tbody>\n",
       "</table>\n",
       "</div>"
      ],
      "text/plain": [
       "                id date_account_created  timestamp_first_active  \\\n",
       "189274  00023iyk9l           2014-05-14          20140514195452   \n",
       "\n",
       "       date_first_booking     gender  age signup_method  signup_flow language  \\\n",
       "189274         2014-05-14  -unknown-   31         basic            0       en   \n",
       "\n",
       "       affiliate_channel affiliate_provider first_affiliate_tracked  \\\n",
       "189274            direct             direct                     omg   \n",
       "\n",
       "       signup_app first_device_type first_browser country_destination  \n",
       "189274        Web       Mac Desktop        Safari                  US  "
      ]
     },
     "execution_count": 90,
     "metadata": {},
     "output_type": "execute_result"
    }
   ],
   "source": [
    "look_at = '00023iyk9l'\n",
    "users[users.id==look_at]"
   ]
  },
  {
   "cell_type": "code",
   "execution_count": 91,
   "metadata": {
    "collapsed": false
   },
   "outputs": [
    {
     "data": {
      "text/html": [
       "<div>\n",
       "<table border=\"1\" class=\"dataframe\">\n",
       "  <thead>\n",
       "    <tr style=\"text-align: right;\">\n",
       "      <th></th>\n",
       "      <th>user_id</th>\n",
       "      <th>action</th>\n",
       "      <th>action_type</th>\n",
       "      <th>action_detail</th>\n",
       "      <th>device_type</th>\n",
       "      <th>secs_elapsed</th>\n",
       "    </tr>\n",
       "  </thead>\n",
       "  <tbody>\n",
       "    <tr>\n",
       "      <th>3573923</th>\n",
       "      <td>00023iyk9l</td>\n",
       "      <td>index</td>\n",
       "      <td>view</td>\n",
       "      <td>view_search_results</td>\n",
       "      <td>Mac Desktop</td>\n",
       "      <td>20438</td>\n",
       "    </tr>\n",
       "    <tr>\n",
       "      <th>3573924</th>\n",
       "      <td>00023iyk9l</td>\n",
       "      <td>dashboard</td>\n",
       "      <td>view</td>\n",
       "      <td>dashboard</td>\n",
       "      <td>Mac Desktop</td>\n",
       "      <td>787</td>\n",
       "    </tr>\n",
       "    <tr>\n",
       "      <th>3573925</th>\n",
       "      <td>00023iyk9l</td>\n",
       "      <td>header_userpic</td>\n",
       "      <td>data</td>\n",
       "      <td>header_userpic</td>\n",
       "      <td>Mac Desktop</td>\n",
       "      <td>850</td>\n",
       "    </tr>\n",
       "    <tr>\n",
       "      <th>3573926</th>\n",
       "      <td>00023iyk9l</td>\n",
       "      <td>dashboard</td>\n",
       "      <td>view</td>\n",
       "      <td>dashboard</td>\n",
       "      <td>Mac Desktop</td>\n",
       "      <td>934</td>\n",
       "    </tr>\n",
       "    <tr>\n",
       "      <th>3573927</th>\n",
       "      <td>00023iyk9l</td>\n",
       "      <td>callback</td>\n",
       "      <td>partner_callback</td>\n",
       "      <td>oauth_response</td>\n",
       "      <td>Mac Desktop</td>\n",
       "      <td>NaN</td>\n",
       "    </tr>\n",
       "    <tr>\n",
       "      <th>3573928</th>\n",
       "      <td>00023iyk9l</td>\n",
       "      <td>NaN</td>\n",
       "      <td>message_post</td>\n",
       "      <td>message_post</td>\n",
       "      <td>Mac Desktop</td>\n",
       "      <td>129817</td>\n",
       "    </tr>\n",
       "  </tbody>\n",
       "</table>\n",
       "</div>"
      ],
      "text/plain": [
       "            user_id          action       action_type        action_detail  \\\n",
       "3573923  00023iyk9l           index              view  view_search_results   \n",
       "3573924  00023iyk9l       dashboard              view            dashboard   \n",
       "3573925  00023iyk9l  header_userpic              data       header_userpic   \n",
       "3573926  00023iyk9l       dashboard              view            dashboard   \n",
       "3573927  00023iyk9l        callback  partner_callback       oauth_response   \n",
       "3573928  00023iyk9l             NaN      message_post         message_post   \n",
       "\n",
       "         device_type  secs_elapsed  \n",
       "3573923  Mac Desktop         20438  \n",
       "3573924  Mac Desktop           787  \n",
       "3573925  Mac Desktop           850  \n",
       "3573926  Mac Desktop           934  \n",
       "3573927  Mac Desktop           NaN  \n",
       "3573928  Mac Desktop        129817  "
      ]
     },
     "execution_count": 91,
     "metadata": {},
     "output_type": "execute_result"
    }
   ],
   "source": [
    "sessions[sessions.user_id==look_at][:6]"
   ]
  },
  {
   "cell_type": "code",
   "execution_count": 107,
   "metadata": {
    "collapsed": false
   },
   "outputs": [
    {
     "name": "stdout",
     "output_type": "stream",
     "text": [
      "(19132, 6)\n"
     ]
    },
    {
     "data": {
      "text/html": [
       "<div>\n",
       "<table border=\"1\" class=\"dataframe\">\n",
       "  <thead>\n",
       "    <tr style=\"text-align: right;\">\n",
       "      <th></th>\n",
       "      <th>user_id</th>\n",
       "      <th>action</th>\n",
       "      <th>action_type</th>\n",
       "      <th>action_detail</th>\n",
       "      <th>device_type</th>\n",
       "      <th>secs_elapsed</th>\n",
       "    </tr>\n",
       "  </thead>\n",
       "  <tbody>\n",
       "    <tr>\n",
       "      <th>1227405</th>\n",
       "      <td>rldfom99q5</td>\n",
       "      <td>callback</td>\n",
       "      <td>partner_callback</td>\n",
       "      <td>oauth_response</td>\n",
       "      <td>Mac Desktop</td>\n",
       "      <td>2616</td>\n",
       "    </tr>\n",
       "    <tr>\n",
       "      <th>1227414</th>\n",
       "      <td>rldfom99q5</td>\n",
       "      <td>callback</td>\n",
       "      <td>partner_callback</td>\n",
       "      <td>oauth_response</td>\n",
       "      <td>Mac Desktop</td>\n",
       "      <td>9573</td>\n",
       "    </tr>\n",
       "    <tr>\n",
       "      <th>1227426</th>\n",
       "      <td>rldfom99q5</td>\n",
       "      <td>callback</td>\n",
       "      <td>partner_callback</td>\n",
       "      <td>oauth_response</td>\n",
       "      <td>Mac Desktop</td>\n",
       "      <td>2481</td>\n",
       "    </tr>\n",
       "    <tr>\n",
       "      <th>1227430</th>\n",
       "      <td>rldfom99q5</td>\n",
       "      <td>callback</td>\n",
       "      <td>partner_callback</td>\n",
       "      <td>oauth_response</td>\n",
       "      <td>Mac Desktop</td>\n",
       "      <td>2136</td>\n",
       "    </tr>\n",
       "    <tr>\n",
       "      <th>1227433</th>\n",
       "      <td>rldfom99q5</td>\n",
       "      <td>callback</td>\n",
       "      <td>partner_callback</td>\n",
       "      <td>oauth_response</td>\n",
       "      <td>Mac Desktop</td>\n",
       "      <td>16795</td>\n",
       "    </tr>\n",
       "  </tbody>\n",
       "</table>\n",
       "</div>"
      ],
      "text/plain": [
       "            user_id    action       action_type   action_detail  device_type  \\\n",
       "1227405  rldfom99q5  callback  partner_callback  oauth_response  Mac Desktop   \n",
       "1227414  rldfom99q5  callback  partner_callback  oauth_response  Mac Desktop   \n",
       "1227426  rldfom99q5  callback  partner_callback  oauth_response  Mac Desktop   \n",
       "1227430  rldfom99q5  callback  partner_callback  oauth_response  Mac Desktop   \n",
       "1227433  rldfom99q5  callback  partner_callback  oauth_response  Mac Desktop   \n",
       "\n",
       "         secs_elapsed  \n",
       "1227405          2616  \n",
       "1227414          9573  \n",
       "1227426          2481  \n",
       "1227430          2136  \n",
       "1227433         16795  "
      ]
     },
     "execution_count": 107,
     "metadata": {},
     "output_type": "execute_result"
    }
   ],
   "source": [
    "# look at action detail, session, user\n",
    "view_detail = 'oauth_response'\n",
    "print sessions[sessions.action_detail==view_detail].shape\n",
    "sessions[sessions.action_detail==view_detail][1001:1006]"
   ]
  },
  {
   "cell_type": "markdown",
   "metadata": {},
   "source": [
    "### ** Merge sessions 'action_detail' to df_all**"
   ]
  },
  {
   "cell_type": "code",
   "execution_count": 38,
   "metadata": {
    "collapsed": false
   },
   "outputs": [
    {
     "data": {
      "text/html": [
       "<div>\n",
       "<table border=\"1\" class=\"dataframe\">\n",
       "  <thead>\n",
       "    <tr style=\"text-align: right;\">\n",
       "      <th></th>\n",
       "      <th>user_id</th>\n",
       "      <th>action_detail</th>\n",
       "    </tr>\n",
       "  </thead>\n",
       "  <tbody>\n",
       "    <tr>\n",
       "      <th>139</th>\n",
       "      <td>4grx6yxeby</td>\n",
       "      <td>pending</td>\n",
       "    </tr>\n",
       "    <tr>\n",
       "      <th>2340</th>\n",
       "      <td>s9xrwtyzsq</td>\n",
       "      <td>pending</td>\n",
       "    </tr>\n",
       "    <tr>\n",
       "      <th>2497</th>\n",
       "      <td>j0mufvhhoh</td>\n",
       "      <td>pending</td>\n",
       "    </tr>\n",
       "  </tbody>\n",
       "</table>\n",
       "</div>"
      ],
      "text/plain": [
       "         user_id action_detail\n",
       "139   4grx6yxeby       pending\n",
       "2340  s9xrwtyzsq       pending\n",
       "2497  j0mufvhhoh       pending"
      ]
     },
     "execution_count": 38,
     "metadata": {},
     "output_type": "execute_result"
    }
   ],
   "source": [
    "# count based on action/action_detail...\n",
    "# action_detail== 'contact_host'\n",
    "# action_type== payment_instruments, book_it\n",
    "# action_type=='booking_request', .action_detail=='pending'\n",
    "\n",
    "# 1. subset sessions to only 'pending' events\n",
    "pending_uu = sessions[sessions.action_detail=='pending'].loc[:,['user_id', 'action_detail']]\n",
    "pending_uu.head(3)"
   ]
  },
  {
   "cell_type": "code",
   "execution_count": 39,
   "metadata": {
    "collapsed": false
   },
   "outputs": [
    {
     "data": {
      "text/plain": [
       "user_id\n",
       "00023iyk9l    1\n",
       "006ml14zc1    1\n",
       "007gj7kqdk    1\n",
       "009a40t3dk    1\n",
       "00bxmflswn    1\n",
       "dtype: int64"
      ]
     },
     "execution_count": 39,
     "metadata": {},
     "output_type": "execute_result"
    }
   ],
   "source": [
    "# 2. count number of 'pending' events per user\n",
    "pending_size = pending_uu.groupby( [\"user_id\"], as_index=False).size()\n",
    "pending_size[:5]"
   ]
  },
  {
   "cell_type": "code",
   "execution_count": 40,
   "metadata": {
    "collapsed": false
   },
   "outputs": [
    {
     "data": {
      "text/html": [
       "<div>\n",
       "<table border=\"1\" class=\"dataframe\">\n",
       "  <thead>\n",
       "    <tr style=\"text-align: right;\">\n",
       "      <th></th>\n",
       "      <th>user_id</th>\n",
       "      <th>pending_count</th>\n",
       "    </tr>\n",
       "  </thead>\n",
       "  <tbody>\n",
       "    <tr>\n",
       "      <th>0</th>\n",
       "      <td>00023iyk9l</td>\n",
       "      <td>1</td>\n",
       "    </tr>\n",
       "    <tr>\n",
       "      <th>1</th>\n",
       "      <td>006ml14zc1</td>\n",
       "      <td>1</td>\n",
       "    </tr>\n",
       "    <tr>\n",
       "      <th>2</th>\n",
       "      <td>007gj7kqdk</td>\n",
       "      <td>1</td>\n",
       "    </tr>\n",
       "    <tr>\n",
       "      <th>3</th>\n",
       "      <td>009a40t3dk</td>\n",
       "      <td>1</td>\n",
       "    </tr>\n",
       "    <tr>\n",
       "      <th>4</th>\n",
       "      <td>00bxmflswn</td>\n",
       "      <td>1</td>\n",
       "    </tr>\n",
       "  </tbody>\n",
       "</table>\n",
       "</div>"
      ],
      "text/plain": [
       "      user_id  pending_count\n",
       "0  00023iyk9l              1\n",
       "1  006ml14zc1              1\n",
       "2  007gj7kqdk              1\n",
       "3  009a40t3dk              1\n",
       "4  00bxmflswn              1"
      ]
     },
     "execution_count": 40,
     "metadata": {},
     "output_type": "execute_result"
    }
   ],
   "source": [
    "# 3. convert size values to dataframe\n",
    "pending_uu = pd.DataFrame({'pending_count' : pending_size }).reset_index()\n",
    "pending_uu.head(5)"
   ]
  },
  {
   "cell_type": "code",
   "execution_count": 108,
   "metadata": {
    "collapsed": true
   },
   "outputs": [],
   "source": [
    "# group sessions: action_detail, action_type, action\n",
    "grouping = 'action_detail'\n",
    "sess_uu = sessions.groupby(['user_id', grouping], as_index=False)"
   ]
  },
  {
   "cell_type": "code",
   "execution_count": 109,
   "metadata": {
    "collapsed": false
   },
   "outputs": [
    {
     "data": {
      "text/html": [
       "<div>\n",
       "<table border=\"1\" class=\"dataframe\">\n",
       "  <thead>\n",
       "    <tr style=\"text-align: right;\">\n",
       "      <th></th>\n",
       "      <th>user_id</th>\n",
       "      <th>action_detail</th>\n",
       "      <th>event_count</th>\n",
       "    </tr>\n",
       "  </thead>\n",
       "  <tbody>\n",
       "    <tr>\n",
       "      <th>10</th>\n",
       "      <td>00023iyk9l</td>\n",
       "      <td>view_search_results</td>\n",
       "      <td>5</td>\n",
       "    </tr>\n",
       "    <tr>\n",
       "      <th>11</th>\n",
       "      <td>00023iyk9l</td>\n",
       "      <td>wishlist_content_update</td>\n",
       "      <td>4</td>\n",
       "    </tr>\n",
       "    <tr>\n",
       "      <th>12</th>\n",
       "      <td>00023iyk9l</td>\n",
       "      <td>your_trips</td>\n",
       "      <td>2</td>\n",
       "    </tr>\n",
       "    <tr>\n",
       "      <th>13</th>\n",
       "      <td>0010k6l0om</td>\n",
       "      <td>-unknown-</td>\n",
       "      <td>5</td>\n",
       "    </tr>\n",
       "    <tr>\n",
       "      <th>14</th>\n",
       "      <td>0010k6l0om</td>\n",
       "      <td>change_trip_characteristics</td>\n",
       "      <td>8</td>\n",
       "    </tr>\n",
       "  </tbody>\n",
       "</table>\n",
       "</div>"
      ],
      "text/plain": [
       "       user_id                action_detail  event_count\n",
       "10  00023iyk9l          view_search_results            5\n",
       "11  00023iyk9l      wishlist_content_update            4\n",
       "12  00023iyk9l                   your_trips            2\n",
       "13  0010k6l0om                    -unknown-            5\n",
       "14  0010k6l0om  change_trip_characteristics            8"
      ]
     },
     "execution_count": 109,
     "metadata": {},
     "output_type": "execute_result"
    }
   ],
   "source": [
    "# count number of events per user in sessions\n",
    "# 1. convert session grouping to dataframe\n",
    "events_uu = pd.DataFrame({'event_count' : sess_uu.size() }).reset_index()\n",
    "events_uu[10:15]"
   ]
  },
  {
   "cell_type": "code",
   "execution_count": 110,
   "metadata": {
    "collapsed": false
   },
   "outputs": [
    {
     "data": {
      "text/plain": [
       "-unknown-                        108415\n",
       "p3                                94931\n",
       "header_userpic                    94031\n",
       "view_search_results               87640\n",
       "wishlist_content_update           69096\n",
       "user_profile                      57546\n",
       "change_trip_characteristics       56067\n",
       "create_user                       53908\n",
       "dashboard                         53460\n",
       "confirm_email_link                51980\n",
       "message_post                      43834\n",
       "similar_listings                  41353\n",
       "update_listing                    31674\n",
       "contact_host                      28991\n",
       "login                             28620\n",
       "listing_reviews                   27947\n",
       "user_social_connections           27852\n",
       "notifications                     25010\n",
       "user_profile_content_update       24093\n",
       "user_wishlists                    21628\n",
       "create_phone_numbers              21391\n",
       "signup                            21002\n",
       "message_thread                    20030\n",
       "p1                                19995\n",
       "edit_profile                      19952\n",
       "update_user                       19752\n",
       "unavailable_dates                 18036\n",
       "p4                                17252\n",
       "change_contact_host_dates         17067\n",
       "your_trips                        14526\n",
       "oauth_response                    14428\n",
       "pending                           12773\n",
       "p5                                11882\n",
       "update_user_profile               11867\n",
       "user_reviews                      11740\n",
       "reservations                      10366\n",
       "profile_verifications              9679\n",
       "cancellation_policies              9371\n",
       "user_listings                      9134\n",
       "payment_instruments                9018\n",
       "your_listings                      8893\n",
       "message_to_host_focus              8763\n",
       "message_to_host_change             7979\n",
       "account_notification_settings      7577\n",
       "post_checkout_action               7520\n",
       "create_listing                     7190\n",
       "signup_login_page                  7107\n",
       "oauth_login                        7034\n",
       "manage_listing                     6482\n",
       "login_page                         6136\n",
       "Name: action_detail, dtype: int64"
      ]
     },
     "execution_count": 110,
     "metadata": {},
     "output_type": "execute_result"
    }
   ],
   "source": [
    "# look at common values\n",
    "events_uu[grouping].value_counts()[:50]"
   ]
  },
  {
   "cell_type": "code",
   "execution_count": 90,
   "metadata": {
    "collapsed": false
   },
   "outputs": [
    {
     "data": {
      "text/html": [
       "<div>\n",
       "<table border=\"1\" class=\"dataframe\">\n",
       "  <thead>\n",
       "    <tr style=\"text-align: right;\">\n",
       "      <th>action_detail</th>\n",
       "      <th>user_id</th>\n",
       "      <th>apply_coupon</th>\n",
       "      <th>cancellation_policies</th>\n",
       "      <th>contact_host</th>\n",
       "      <th>listing_reviews</th>\n",
       "      <th>post_checkout_action</th>\n",
       "      <th>profile_references</th>\n",
       "      <th>profile_verifications</th>\n",
       "      <th>translations</th>\n",
       "      <th>your_trips</th>\n",
       "    </tr>\n",
       "  </thead>\n",
       "  <tbody>\n",
       "    <tr>\n",
       "      <th>0</th>\n",
       "      <td>00023iyk9l</td>\n",
       "      <td>NaN</td>\n",
       "      <td>NaN</td>\n",
       "      <td>NaN</td>\n",
       "      <td>NaN</td>\n",
       "      <td>NaN</td>\n",
       "      <td>NaN</td>\n",
       "      <td>NaN</td>\n",
       "      <td>NaN</td>\n",
       "      <td>2</td>\n",
       "    </tr>\n",
       "    <tr>\n",
       "      <th>1</th>\n",
       "      <td>0028jgx1x1</td>\n",
       "      <td>NaN</td>\n",
       "      <td>NaN</td>\n",
       "      <td>NaN</td>\n",
       "      <td>5</td>\n",
       "      <td>NaN</td>\n",
       "      <td>NaN</td>\n",
       "      <td>NaN</td>\n",
       "      <td>NaN</td>\n",
       "      <td>NaN</td>\n",
       "    </tr>\n",
       "    <tr>\n",
       "      <th>2</th>\n",
       "      <td>002qnbzfs5</td>\n",
       "      <td>NaN</td>\n",
       "      <td>NaN</td>\n",
       "      <td>8</td>\n",
       "      <td>10</td>\n",
       "      <td>NaN</td>\n",
       "      <td>NaN</td>\n",
       "      <td>NaN</td>\n",
       "      <td>NaN</td>\n",
       "      <td>NaN</td>\n",
       "    </tr>\n",
       "    <tr>\n",
       "      <th>3</th>\n",
       "      <td>0035hobuyj</td>\n",
       "      <td>NaN</td>\n",
       "      <td>NaN</td>\n",
       "      <td>4</td>\n",
       "      <td>NaN</td>\n",
       "      <td>NaN</td>\n",
       "      <td>NaN</td>\n",
       "      <td>NaN</td>\n",
       "      <td>NaN</td>\n",
       "      <td>NaN</td>\n",
       "    </tr>\n",
       "    <tr>\n",
       "      <th>4</th>\n",
       "      <td>00378ocvlh</td>\n",
       "      <td>NaN</td>\n",
       "      <td>NaN</td>\n",
       "      <td>2</td>\n",
       "      <td>NaN</td>\n",
       "      <td>NaN</td>\n",
       "      <td>NaN</td>\n",
       "      <td>NaN</td>\n",
       "      <td>NaN</td>\n",
       "      <td>NaN</td>\n",
       "    </tr>\n",
       "  </tbody>\n",
       "</table>\n",
       "</div>"
      ],
      "text/plain": [
       "action_detail     user_id  apply_coupon  cancellation_policies  contact_host  \\\n",
       "0              00023iyk9l           NaN                    NaN           NaN   \n",
       "1              0028jgx1x1           NaN                    NaN           NaN   \n",
       "2              002qnbzfs5           NaN                    NaN             8   \n",
       "3              0035hobuyj           NaN                    NaN             4   \n",
       "4              00378ocvlh           NaN                    NaN             2   \n",
       "\n",
       "action_detail  listing_reviews  post_checkout_action  profile_references  \\\n",
       "0                          NaN                   NaN                 NaN   \n",
       "1                            5                   NaN                 NaN   \n",
       "2                           10                   NaN                 NaN   \n",
       "3                          NaN                   NaN                 NaN   \n",
       "4                          NaN                   NaN                 NaN   \n",
       "\n",
       "action_detail  profile_verifications  translations  your_trips  \n",
       "0                                NaN           NaN           2  \n",
       "1                                NaN           NaN         NaN  \n",
       "2                                NaN           NaN         NaN  \n",
       "3                                NaN           NaN         NaN  \n",
       "4                                NaN           NaN         NaN  "
      ]
     },
     "execution_count": 90,
     "metadata": {},
     "output_type": "execute_result"
    }
   ],
   "source": [
    "# 2. count other things\n",
    "things_to_count = ['contact_host', 'your_trips', 'manage_listings', \\\n",
    "                   'listing_reviews', 'apply_coupon', 'post_checkout_action', \\\n",
    "                   'translations', 'profile_verifications', 'profile_references', \\\n",
    "                   'cancellation_policies'\n",
    "                  ]\n",
    "things_uu = events_uu[events_uu.action_detail.isin(things_to_count)]\n",
    "\n",
    "pivot_uu = things_uu.pivot_table('event_count', ['user_id'], ['action_detail'])\n",
    "pivot_uu = pd.DataFrame(pivot_uu).reset_index()\n",
    "pivot_uu.head()"
   ]
  },
  {
   "cell_type": "code",
   "execution_count": 413,
   "metadata": {
    "collapsed": false
   },
   "outputs": [
    {
     "data": {
      "text/html": [
       "<div>\n",
       "<table border=\"1\" class=\"dataframe\">\n",
       "  <thead>\n",
       "    <tr style=\"text-align: right;\">\n",
       "      <th></th>\n",
       "      <th>user_id</th>\n",
       "      <th>event_count</th>\n",
       "    </tr>\n",
       "  </thead>\n",
       "  <tbody>\n",
       "    <tr>\n",
       "      <th>0</th>\n",
       "      <td>00023iyk9l</td>\n",
       "      <td>37</td>\n",
       "    </tr>\n",
       "    <tr>\n",
       "      <th>1</th>\n",
       "      <td>0010k6l0om</td>\n",
       "      <td>48</td>\n",
       "    </tr>\n",
       "    <tr>\n",
       "      <th>2</th>\n",
       "      <td>001wyh0pz8</td>\n",
       "      <td>85</td>\n",
       "    </tr>\n",
       "    <tr>\n",
       "      <th>3</th>\n",
       "      <td>0028jgx1x1</td>\n",
       "      <td>31</td>\n",
       "    </tr>\n",
       "    <tr>\n",
       "      <th>4</th>\n",
       "      <td>002qnbzfs5</td>\n",
       "      <td>712</td>\n",
       "    </tr>\n",
       "  </tbody>\n",
       "</table>\n",
       "</div>"
      ],
      "text/plain": [
       "      user_id  event_count\n",
       "0  00023iyk9l           37\n",
       "1  0010k6l0om           48\n",
       "2  001wyh0pz8           85\n",
       "3  0028jgx1x1           31\n",
       "4  002qnbzfs5          712"
      ]
     },
     "execution_count": 413,
     "metadata": {},
     "output_type": "execute_result"
    }
   ],
   "source": [
    "# 3. sum the event_counts\n",
    "events_uu = events_uu.groupby(['user_id'], as_index=False).aggregate(np.sum)\n",
    "#events_uu.columns = ['user_id', 'event_ct']\n",
    "events_uu.head()"
   ]
  },
  {
   "cell_type": "code",
   "execution_count": 94,
   "metadata": {
    "collapsed": false
   },
   "outputs": [
    {
     "name": "stdout",
     "output_type": "stream",
     "text": [
      "      user_id  pending_count  apply_coupon  cancellation_policies  \\\n",
      "0  00023iyk9l              1           NaN                    NaN   \n",
      "1  006ml14zc1              1           NaN                    NaN   \n",
      "2  007gj7kqdk              1           NaN                    NaN   \n",
      "3  009a40t3dk              1           NaN                    NaN   \n",
      "4  00bxmflswn              1           NaN                    NaN   \n",
      "\n",
      "   contact_host  listing_reviews  post_checkout_action  profile_references  \\\n",
      "0           NaN              NaN                   NaN                 NaN   \n",
      "1           NaN              NaN                     1                 NaN   \n",
      "2           NaN              NaN                   NaN                 NaN   \n",
      "3           NaN              NaN                     1                 NaN   \n",
      "4             1              NaN                     1                 NaN   \n",
      "\n",
      "   profile_verifications  translations  your_trips  \n",
      "0                    NaN           NaN           2  \n",
      "1                    NaN           NaN         NaN  \n",
      "2                    NaN           NaN         NaN  \n",
      "3                    NaN           NaN           1  \n",
      "4                      2           NaN           2  \n"
     ]
    }
   ],
   "source": [
    "# 4. full outer join the session data\n",
    "\n",
    "## add count of all events in sessions\n",
    "#sessions_merge = pd.merge(left=events_uu, right=pending_uu, how='outer', left_on='user_id', right_on='user_id')\n",
    "#print sessions_merge.head()\n",
    "\n",
    "## only include 'pending' and other specified action_detail types\n",
    "sessions_merge = pd.merge(left=pending_uu, right=pivot_uu, how='outer', left_on='user_id', right_on='user_id')\n",
    "print sessions_merge.head()"
   ]
  },
  {
   "cell_type": "markdown",
   "metadata": {},
   "source": [
    "### Use pivot table"
   ]
  },
  {
   "cell_type": "code",
   "execution_count": 87,
   "metadata": {
    "collapsed": false
   },
   "outputs": [
    {
     "data": {
      "text/html": [
       "<div>\n",
       "<table border=\"1\" class=\"dataframe\">\n",
       "  <thead>\n",
       "    <tr style=\"text-align: right;\">\n",
       "      <th></th>\n",
       "      <th>id</th>\n",
       "      <th>gender</th>\n",
       "      <th>age</th>\n",
       "      <th>signup_method</th>\n",
       "      <th>signup_flow</th>\n",
       "      <th>language</th>\n",
       "      <th>affiliate_channel</th>\n",
       "      <th>affiliate_provider</th>\n",
       "      <th>first_affiliate_tracked</th>\n",
       "      <th>signup_app</th>\n",
       "      <th>first_device_type</th>\n",
       "      <th>first_browser</th>\n",
       "      <th>dac_year</th>\n",
       "      <th>dac_month</th>\n",
       "      <th>dac_day</th>\n",
       "      <th>tfa_year</th>\n",
       "      <th>tfa_month</th>\n",
       "      <th>tfa_day</th>\n",
       "      <th>dac_tfa</th>\n",
       "    </tr>\n",
       "  </thead>\n",
       "  <tbody>\n",
       "    <tr>\n",
       "      <th>0</th>\n",
       "      <td>gxn3p5htnn</td>\n",
       "      <td>-unknown-</td>\n",
       "      <td>-1</td>\n",
       "      <td>facebook</td>\n",
       "      <td>0</td>\n",
       "      <td>en</td>\n",
       "      <td>direct</td>\n",
       "      <td>direct</td>\n",
       "      <td>untracked</td>\n",
       "      <td>Web</td>\n",
       "      <td>Mac Desktop</td>\n",
       "      <td>Chrome</td>\n",
       "      <td>2010</td>\n",
       "      <td>6</td>\n",
       "      <td>28</td>\n",
       "      <td>2009</td>\n",
       "      <td>3</td>\n",
       "      <td>19</td>\n",
       "      <td>10309</td>\n",
       "    </tr>\n",
       "    <tr>\n",
       "      <th>1</th>\n",
       "      <td>820tgsjxq7</td>\n",
       "      <td>MALE</td>\n",
       "      <td>38</td>\n",
       "      <td>facebook</td>\n",
       "      <td>0</td>\n",
       "      <td>en</td>\n",
       "      <td>seo</td>\n",
       "      <td>google</td>\n",
       "      <td>untracked</td>\n",
       "      <td>Web</td>\n",
       "      <td>Mac Desktop</td>\n",
       "      <td>Chrome</td>\n",
       "      <td>2011</td>\n",
       "      <td>5</td>\n",
       "      <td>25</td>\n",
       "      <td>2009</td>\n",
       "      <td>5</td>\n",
       "      <td>23</td>\n",
       "      <td>20002</td>\n",
       "    </tr>\n",
       "    <tr>\n",
       "      <th>2</th>\n",
       "      <td>4ft3gnwmtx</td>\n",
       "      <td>FEMALE</td>\n",
       "      <td>56</td>\n",
       "      <td>basic</td>\n",
       "      <td>3</td>\n",
       "      <td>en</td>\n",
       "      <td>direct</td>\n",
       "      <td>direct</td>\n",
       "      <td>untracked</td>\n",
       "      <td>Web</td>\n",
       "      <td>Windows Desktop</td>\n",
       "      <td>IE</td>\n",
       "      <td>2010</td>\n",
       "      <td>9</td>\n",
       "      <td>28</td>\n",
       "      <td>2009</td>\n",
       "      <td>6</td>\n",
       "      <td>9</td>\n",
       "      <td>10319</td>\n",
       "    </tr>\n",
       "    <tr>\n",
       "      <th>3</th>\n",
       "      <td>bjjt8pjhuk</td>\n",
       "      <td>FEMALE</td>\n",
       "      <td>42</td>\n",
       "      <td>facebook</td>\n",
       "      <td>0</td>\n",
       "      <td>en</td>\n",
       "      <td>direct</td>\n",
       "      <td>direct</td>\n",
       "      <td>untracked</td>\n",
       "      <td>Web</td>\n",
       "      <td>Mac Desktop</td>\n",
       "      <td>Firefox</td>\n",
       "      <td>2011</td>\n",
       "      <td>12</td>\n",
       "      <td>5</td>\n",
       "      <td>2009</td>\n",
       "      <td>10</td>\n",
       "      <td>31</td>\n",
       "      <td>20174</td>\n",
       "    </tr>\n",
       "    <tr>\n",
       "      <th>4</th>\n",
       "      <td>87mebub9p4</td>\n",
       "      <td>-unknown-</td>\n",
       "      <td>41</td>\n",
       "      <td>basic</td>\n",
       "      <td>0</td>\n",
       "      <td>en</td>\n",
       "      <td>direct</td>\n",
       "      <td>direct</td>\n",
       "      <td>untracked</td>\n",
       "      <td>Web</td>\n",
       "      <td>Mac Desktop</td>\n",
       "      <td>Chrome</td>\n",
       "      <td>2010</td>\n",
       "      <td>9</td>\n",
       "      <td>14</td>\n",
       "      <td>2009</td>\n",
       "      <td>12</td>\n",
       "      <td>8</td>\n",
       "      <td>9706</td>\n",
       "    </tr>\n",
       "  </tbody>\n",
       "</table>\n",
       "</div>"
      ],
      "text/plain": [
       "           id     gender  age signup_method  signup_flow language  \\\n",
       "0  gxn3p5htnn  -unknown-   -1      facebook            0       en   \n",
       "1  820tgsjxq7       MALE   38      facebook            0       en   \n",
       "2  4ft3gnwmtx     FEMALE   56         basic            3       en   \n",
       "3  bjjt8pjhuk     FEMALE   42      facebook            0       en   \n",
       "4  87mebub9p4  -unknown-   41         basic            0       en   \n",
       "\n",
       "  affiliate_channel affiliate_provider first_affiliate_tracked signup_app  \\\n",
       "0            direct             direct               untracked        Web   \n",
       "1               seo             google               untracked        Web   \n",
       "2            direct             direct               untracked        Web   \n",
       "3            direct             direct               untracked        Web   \n",
       "4            direct             direct               untracked        Web   \n",
       "\n",
       "  first_device_type first_browser  dac_year  dac_month  dac_day  tfa_year  \\\n",
       "0       Mac Desktop        Chrome      2010          6       28      2009   \n",
       "1       Mac Desktop        Chrome      2011          5       25      2009   \n",
       "2   Windows Desktop            IE      2010          9       28      2009   \n",
       "3       Mac Desktop       Firefox      2011         12        5      2009   \n",
       "4       Mac Desktop        Chrome      2010          9       14      2009   \n",
       "\n",
       "   tfa_month  tfa_day  dac_tfa  \n",
       "0          3       19    10309  \n",
       "1          5       23    20002  \n",
       "2          6        9    10319  \n",
       "3         10       31    20174  \n",
       "4         12        8     9706  "
      ]
     },
     "execution_count": 87,
     "metadata": {},
     "output_type": "execute_result"
    }
   ],
   "source": [
    "# start over with df_all\n",
    "df_all = df_all_id.copy()\n",
    "df_all.head()"
   ]
  },
  {
   "cell_type": "code",
   "execution_count": 67,
   "metadata": {
    "collapsed": false
   },
   "outputs": [
    {
     "data": {
      "text/html": [
       "<div>\n",
       "<table border=\"1\" class=\"dataframe\">\n",
       "  <thead>\n",
       "    <tr style=\"text-align: right;\">\n",
       "      <th></th>\n",
       "      <th>user_id</th>\n",
       "      <th>action_detail</th>\n",
       "      <th>event_count</th>\n",
       "    </tr>\n",
       "  </thead>\n",
       "  <tbody>\n",
       "    <tr>\n",
       "      <th>10</th>\n",
       "      <td>00023iyk9l</td>\n",
       "      <td>view_search_results</td>\n",
       "      <td>5</td>\n",
       "    </tr>\n",
       "    <tr>\n",
       "      <th>11</th>\n",
       "      <td>00023iyk9l</td>\n",
       "      <td>wishlist_content_update</td>\n",
       "      <td>4</td>\n",
       "    </tr>\n",
       "    <tr>\n",
       "      <th>12</th>\n",
       "      <td>00023iyk9l</td>\n",
       "      <td>your_trips</td>\n",
       "      <td>2</td>\n",
       "    </tr>\n",
       "    <tr>\n",
       "      <th>13</th>\n",
       "      <td>0010k6l0om</td>\n",
       "      <td>-unknown-</td>\n",
       "      <td>5</td>\n",
       "    </tr>\n",
       "    <tr>\n",
       "      <th>14</th>\n",
       "      <td>0010k6l0om</td>\n",
       "      <td>change_trip_characteristics</td>\n",
       "      <td>8</td>\n",
       "    </tr>\n",
       "  </tbody>\n",
       "</table>\n",
       "</div>"
      ],
      "text/plain": [
       "       user_id                action_detail  event_count\n",
       "10  00023iyk9l          view_search_results            5\n",
       "11  00023iyk9l      wishlist_content_update            4\n",
       "12  00023iyk9l                   your_trips            2\n",
       "13  0010k6l0om                    -unknown-            5\n",
       "14  0010k6l0om  change_trip_characteristics            8"
      ]
     },
     "execution_count": 67,
     "metadata": {},
     "output_type": "execute_result"
    }
   ],
   "source": [
    "# count number of events per user in sessions\n",
    "# convert session grouping to dataframe\n",
    "sess_uu = sessions.groupby(['user_id', 'action_detail'], as_index=False)\n",
    "events_uu = pd.DataFrame({'event_count' : sess_uu.size() }).reset_index()\n",
    "events_uu[10:15]"
   ]
  },
  {
   "cell_type": "code",
   "execution_count": 128,
   "metadata": {
    "collapsed": false
   },
   "outputs": [
    {
     "data": {
      "text/html": [
       "<div>\n",
       "<table border=\"1\" class=\"dataframe\">\n",
       "  <thead>\n",
       "    <tr style=\"text-align: right;\">\n",
       "      <th>action_detail</th>\n",
       "      <th>user_id</th>\n",
       "      <th>account_notification_settings</th>\n",
       "      <th>account_payment_methods</th>\n",
       "      <th>account_payout_preferences</th>\n",
       "      <th>account_privacy_settings</th>\n",
       "      <th>account_transaction_history</th>\n",
       "      <th>admin_templates</th>\n",
       "      <th>airbnb_picks_wishlists</th>\n",
       "      <th>alteration_field</th>\n",
       "      <th>alteration_request</th>\n",
       "      <th>...</th>\n",
       "      <th>view_resolutions</th>\n",
       "      <th>view_search_results</th>\n",
       "      <th>view_security_checks</th>\n",
       "      <th>view_user_real_names</th>\n",
       "      <th>wishlist</th>\n",
       "      <th>wishlist_content_update</th>\n",
       "      <th>wishlist_note</th>\n",
       "      <th>your_listings</th>\n",
       "      <th>your_reservations</th>\n",
       "      <th>your_trips</th>\n",
       "    </tr>\n",
       "  </thead>\n",
       "  <tbody>\n",
       "    <tr>\n",
       "      <th>0</th>\n",
       "      <td>00023iyk9l</td>\n",
       "      <td>0</td>\n",
       "      <td>0</td>\n",
       "      <td>0</td>\n",
       "      <td>0</td>\n",
       "      <td>0</td>\n",
       "      <td>0</td>\n",
       "      <td>0</td>\n",
       "      <td>0</td>\n",
       "      <td>0</td>\n",
       "      <td>...</td>\n",
       "      <td>0</td>\n",
       "      <td>5</td>\n",
       "      <td>0</td>\n",
       "      <td>0</td>\n",
       "      <td>0</td>\n",
       "      <td>4</td>\n",
       "      <td>0</td>\n",
       "      <td>0</td>\n",
       "      <td>0</td>\n",
       "      <td>2</td>\n",
       "    </tr>\n",
       "    <tr>\n",
       "      <th>1</th>\n",
       "      <td>0010k6l0om</td>\n",
       "      <td>0</td>\n",
       "      <td>0</td>\n",
       "      <td>0</td>\n",
       "      <td>0</td>\n",
       "      <td>0</td>\n",
       "      <td>0</td>\n",
       "      <td>0</td>\n",
       "      <td>0</td>\n",
       "      <td>0</td>\n",
       "      <td>...</td>\n",
       "      <td>0</td>\n",
       "      <td>10</td>\n",
       "      <td>0</td>\n",
       "      <td>0</td>\n",
       "      <td>0</td>\n",
       "      <td>8</td>\n",
       "      <td>0</td>\n",
       "      <td>0</td>\n",
       "      <td>0</td>\n",
       "      <td>0</td>\n",
       "    </tr>\n",
       "    <tr>\n",
       "      <th>2</th>\n",
       "      <td>001wyh0pz8</td>\n",
       "      <td>0</td>\n",
       "      <td>0</td>\n",
       "      <td>0</td>\n",
       "      <td>0</td>\n",
       "      <td>0</td>\n",
       "      <td>0</td>\n",
       "      <td>0</td>\n",
       "      <td>0</td>\n",
       "      <td>0</td>\n",
       "      <td>...</td>\n",
       "      <td>0</td>\n",
       "      <td>66</td>\n",
       "      <td>0</td>\n",
       "      <td>0</td>\n",
       "      <td>0</td>\n",
       "      <td>0</td>\n",
       "      <td>0</td>\n",
       "      <td>0</td>\n",
       "      <td>0</td>\n",
       "      <td>0</td>\n",
       "    </tr>\n",
       "    <tr>\n",
       "      <th>3</th>\n",
       "      <td>0028jgx1x1</td>\n",
       "      <td>0</td>\n",
       "      <td>0</td>\n",
       "      <td>0</td>\n",
       "      <td>0</td>\n",
       "      <td>0</td>\n",
       "      <td>0</td>\n",
       "      <td>0</td>\n",
       "      <td>0</td>\n",
       "      <td>0</td>\n",
       "      <td>...</td>\n",
       "      <td>0</td>\n",
       "      <td>9</td>\n",
       "      <td>0</td>\n",
       "      <td>0</td>\n",
       "      <td>0</td>\n",
       "      <td>0</td>\n",
       "      <td>0</td>\n",
       "      <td>0</td>\n",
       "      <td>0</td>\n",
       "      <td>0</td>\n",
       "    </tr>\n",
       "    <tr>\n",
       "      <th>4</th>\n",
       "      <td>002qnbzfs5</td>\n",
       "      <td>0</td>\n",
       "      <td>0</td>\n",
       "      <td>0</td>\n",
       "      <td>0</td>\n",
       "      <td>0</td>\n",
       "      <td>0</td>\n",
       "      <td>0</td>\n",
       "      <td>0</td>\n",
       "      <td>0</td>\n",
       "      <td>...</td>\n",
       "      <td>0</td>\n",
       "      <td>125</td>\n",
       "      <td>0</td>\n",
       "      <td>0</td>\n",
       "      <td>0</td>\n",
       "      <td>0</td>\n",
       "      <td>0</td>\n",
       "      <td>0</td>\n",
       "      <td>0</td>\n",
       "      <td>0</td>\n",
       "    </tr>\n",
       "  </tbody>\n",
       "</table>\n",
       "<p>5 rows × 152 columns</p>\n",
       "</div>"
      ],
      "text/plain": [
       "action_detail     user_id  account_notification_settings  \\\n",
       "0              00023iyk9l                              0   \n",
       "1              0010k6l0om                              0   \n",
       "2              001wyh0pz8                              0   \n",
       "3              0028jgx1x1                              0   \n",
       "4              002qnbzfs5                              0   \n",
       "\n",
       "action_detail  account_payment_methods  account_payout_preferences  \\\n",
       "0                                    0                           0   \n",
       "1                                    0                           0   \n",
       "2                                    0                           0   \n",
       "3                                    0                           0   \n",
       "4                                    0                           0   \n",
       "\n",
       "action_detail  account_privacy_settings  account_transaction_history  \\\n",
       "0                                     0                            0   \n",
       "1                                     0                            0   \n",
       "2                                     0                            0   \n",
       "3                                     0                            0   \n",
       "4                                     0                            0   \n",
       "\n",
       "action_detail  admin_templates  airbnb_picks_wishlists  alteration_field  \\\n",
       "0                            0                       0                 0   \n",
       "1                            0                       0                 0   \n",
       "2                            0                       0                 0   \n",
       "3                            0                       0                 0   \n",
       "4                            0                       0                 0   \n",
       "\n",
       "action_detail  alteration_request     ...      view_resolutions  \\\n",
       "0                               0     ...                     0   \n",
       "1                               0     ...                     0   \n",
       "2                               0     ...                     0   \n",
       "3                               0     ...                     0   \n",
       "4                               0     ...                     0   \n",
       "\n",
       "action_detail  view_search_results  view_security_checks  \\\n",
       "0                                5                     0   \n",
       "1                               10                     0   \n",
       "2                               66                     0   \n",
       "3                                9                     0   \n",
       "4                              125                     0   \n",
       "\n",
       "action_detail  view_user_real_names  wishlist  wishlist_content_update  \\\n",
       "0                                 0         0                        4   \n",
       "1                                 0         0                        8   \n",
       "2                                 0         0                        0   \n",
       "3                                 0         0                        0   \n",
       "4                                 0         0                        0   \n",
       "\n",
       "action_detail  wishlist_note  your_listings  your_reservations  your_trips  \n",
       "0                          0              0                  0           2  \n",
       "1                          0              0                  0           0  \n",
       "2                          0              0                  0           0  \n",
       "3                          0              0                  0           0  \n",
       "4                          0              0                  0           0  \n",
       "\n",
       "[5 rows x 152 columns]"
      ]
     },
     "execution_count": 128,
     "metadata": {},
     "output_type": "execute_result"
    }
   ],
   "source": [
    "# convert with pivot table\n",
    "\n",
    "drop_these_events = ['-unknown-', 'user_profile', 'create_user', 'dashboard']\n",
    "\n",
    "pivot_uu = events_uu.pivot_table('event_count', ['user_id'], ['action_detail'])\n",
    "pivot_uu = pd.DataFrame(pivot_uu.fillna(0)).reset_index()\n",
    "pivot_uu = pivot_uu.drop(drop_these_events, axis=1)\n",
    "pivot_uu.head()"
   ]
  },
  {
   "cell_type": "markdown",
   "metadata": {},
   "source": [
    "### Sum up seconds elapsed per action_detail type"
   ]
  },
  {
   "cell_type": "code",
   "execution_count": 69,
   "metadata": {
    "collapsed": false
   },
   "outputs": [
    {
     "data": {
      "text/html": [
       "<div>\n",
       "<table border=\"1\" class=\"dataframe\">\n",
       "  <thead>\n",
       "    <tr style=\"text-align: right;\">\n",
       "      <th></th>\n",
       "      <th>user_id</th>\n",
       "      <th>action_detail</th>\n",
       "      <th>secs_elapsed</th>\n",
       "    </tr>\n",
       "  </thead>\n",
       "  <tbody>\n",
       "    <tr>\n",
       "      <th>10</th>\n",
       "      <td>00023iyk9l</td>\n",
       "      <td>view_search_results</td>\n",
       "      <td>54791</td>\n",
       "    </tr>\n",
       "    <tr>\n",
       "      <th>11</th>\n",
       "      <td>00023iyk9l</td>\n",
       "      <td>wishlist_content_update</td>\n",
       "      <td>3515</td>\n",
       "    </tr>\n",
       "    <tr>\n",
       "      <th>12</th>\n",
       "      <td>00023iyk9l</td>\n",
       "      <td>your_trips</td>\n",
       "      <td>1466</td>\n",
       "    </tr>\n",
       "    <tr>\n",
       "      <th>13</th>\n",
       "      <td>0010k6l0om</td>\n",
       "      <td>-unknown-</td>\n",
       "      <td>123033</td>\n",
       "    </tr>\n",
       "    <tr>\n",
       "      <th>14</th>\n",
       "      <td>0010k6l0om</td>\n",
       "      <td>change_trip_characteristics</td>\n",
       "      <td>20110</td>\n",
       "    </tr>\n",
       "  </tbody>\n",
       "</table>\n",
       "</div>"
      ],
      "text/plain": [
       "       user_id                action_detail  secs_elapsed\n",
       "10  00023iyk9l          view_search_results         54791\n",
       "11  00023iyk9l      wishlist_content_update          3515\n",
       "12  00023iyk9l                   your_trips          1466\n",
       "13  0010k6l0om                    -unknown-        123033\n",
       "14  0010k6l0om  change_trip_characteristics         20110"
      ]
     },
     "execution_count": 69,
     "metadata": {},
     "output_type": "execute_result"
    }
   ],
   "source": [
    "# 1/2. count secs_elapsed per action_detail\n",
    "secs_uu = sess_uu.aggregate(np.sum)\n",
    "secs_uu[10:15]"
   ]
  },
  {
   "cell_type": "code",
   "execution_count": 70,
   "metadata": {
    "collapsed": false
   },
   "outputs": [
    {
     "data": {
      "text/html": [
       "<div>\n",
       "<table border=\"1\" class=\"dataframe\">\n",
       "  <thead>\n",
       "    <tr style=\"text-align: right;\">\n",
       "      <th>action_detail</th>\n",
       "      <th>user_id</th>\n",
       "      <th>account_notification_settings</th>\n",
       "      <th>account_payment_methods</th>\n",
       "      <th>account_payout_preferences</th>\n",
       "      <th>account_privacy_settings</th>\n",
       "      <th>account_transaction_history</th>\n",
       "      <th>admin_templates</th>\n",
       "      <th>airbnb_picks_wishlists</th>\n",
       "      <th>alteration_field</th>\n",
       "      <th>alteration_request</th>\n",
       "      <th>...</th>\n",
       "      <th>view_resolutions</th>\n",
       "      <th>view_search_results</th>\n",
       "      <th>view_security_checks</th>\n",
       "      <th>view_user_real_names</th>\n",
       "      <th>wishlist</th>\n",
       "      <th>wishlist_content_update</th>\n",
       "      <th>wishlist_note</th>\n",
       "      <th>your_listings</th>\n",
       "      <th>your_reservations</th>\n",
       "      <th>your_trips</th>\n",
       "    </tr>\n",
       "  </thead>\n",
       "  <tbody>\n",
       "    <tr>\n",
       "      <th>0</th>\n",
       "      <td>00023iyk9l</td>\n",
       "      <td>0</td>\n",
       "      <td>0</td>\n",
       "      <td>0</td>\n",
       "      <td>0</td>\n",
       "      <td>0</td>\n",
       "      <td>0</td>\n",
       "      <td>0</td>\n",
       "      <td>0</td>\n",
       "      <td>0</td>\n",
       "      <td>...</td>\n",
       "      <td>0</td>\n",
       "      <td>54791</td>\n",
       "      <td>0</td>\n",
       "      <td>0</td>\n",
       "      <td>0</td>\n",
       "      <td>3515</td>\n",
       "      <td>0</td>\n",
       "      <td>0</td>\n",
       "      <td>0</td>\n",
       "      <td>1466</td>\n",
       "    </tr>\n",
       "    <tr>\n",
       "      <th>1</th>\n",
       "      <td>0010k6l0om</td>\n",
       "      <td>0</td>\n",
       "      <td>0</td>\n",
       "      <td>0</td>\n",
       "      <td>0</td>\n",
       "      <td>0</td>\n",
       "      <td>0</td>\n",
       "      <td>0</td>\n",
       "      <td>0</td>\n",
       "      <td>0</td>\n",
       "      <td>...</td>\n",
       "      <td>0</td>\n",
       "      <td>75951</td>\n",
       "      <td>0</td>\n",
       "      <td>0</td>\n",
       "      <td>0</td>\n",
       "      <td>135661</td>\n",
       "      <td>0</td>\n",
       "      <td>0</td>\n",
       "      <td>0</td>\n",
       "      <td>0</td>\n",
       "    </tr>\n",
       "    <tr>\n",
       "      <th>2</th>\n",
       "      <td>001wyh0pz8</td>\n",
       "      <td>0</td>\n",
       "      <td>0</td>\n",
       "      <td>0</td>\n",
       "      <td>0</td>\n",
       "      <td>0</td>\n",
       "      <td>0</td>\n",
       "      <td>0</td>\n",
       "      <td>0</td>\n",
       "      <td>0</td>\n",
       "      <td>...</td>\n",
       "      <td>0</td>\n",
       "      <td>158796</td>\n",
       "      <td>0</td>\n",
       "      <td>0</td>\n",
       "      <td>0</td>\n",
       "      <td>0</td>\n",
       "      <td>0</td>\n",
       "      <td>0</td>\n",
       "      <td>0</td>\n",
       "      <td>0</td>\n",
       "    </tr>\n",
       "    <tr>\n",
       "      <th>3</th>\n",
       "      <td>0028jgx1x1</td>\n",
       "      <td>0</td>\n",
       "      <td>0</td>\n",
       "      <td>0</td>\n",
       "      <td>0</td>\n",
       "      <td>0</td>\n",
       "      <td>0</td>\n",
       "      <td>0</td>\n",
       "      <td>0</td>\n",
       "      <td>0</td>\n",
       "      <td>...</td>\n",
       "      <td>0</td>\n",
       "      <td>199802</td>\n",
       "      <td>0</td>\n",
       "      <td>0</td>\n",
       "      <td>0</td>\n",
       "      <td>0</td>\n",
       "      <td>0</td>\n",
       "      <td>0</td>\n",
       "      <td>0</td>\n",
       "      <td>0</td>\n",
       "    </tr>\n",
       "    <tr>\n",
       "      <th>4</th>\n",
       "      <td>002qnbzfs5</td>\n",
       "      <td>0</td>\n",
       "      <td>0</td>\n",
       "      <td>0</td>\n",
       "      <td>0</td>\n",
       "      <td>0</td>\n",
       "      <td>0</td>\n",
       "      <td>0</td>\n",
       "      <td>0</td>\n",
       "      <td>0</td>\n",
       "      <td>...</td>\n",
       "      <td>0</td>\n",
       "      <td>493417</td>\n",
       "      <td>0</td>\n",
       "      <td>0</td>\n",
       "      <td>0</td>\n",
       "      <td>0</td>\n",
       "      <td>0</td>\n",
       "      <td>0</td>\n",
       "      <td>0</td>\n",
       "      <td>0</td>\n",
       "    </tr>\n",
       "  </tbody>\n",
       "</table>\n",
       "<p>5 rows × 155 columns</p>\n",
       "</div>"
      ],
      "text/plain": [
       "action_detail     user_id  account_notification_settings  \\\n",
       "0              00023iyk9l                              0   \n",
       "1              0010k6l0om                              0   \n",
       "2              001wyh0pz8                              0   \n",
       "3              0028jgx1x1                              0   \n",
       "4              002qnbzfs5                              0   \n",
       "\n",
       "action_detail  account_payment_methods  account_payout_preferences  \\\n",
       "0                                    0                           0   \n",
       "1                                    0                           0   \n",
       "2                                    0                           0   \n",
       "3                                    0                           0   \n",
       "4                                    0                           0   \n",
       "\n",
       "action_detail  account_privacy_settings  account_transaction_history  \\\n",
       "0                                     0                            0   \n",
       "1                                     0                            0   \n",
       "2                                     0                            0   \n",
       "3                                     0                            0   \n",
       "4                                     0                            0   \n",
       "\n",
       "action_detail  admin_templates  airbnb_picks_wishlists  alteration_field  \\\n",
       "0                            0                       0                 0   \n",
       "1                            0                       0                 0   \n",
       "2                            0                       0                 0   \n",
       "3                            0                       0                 0   \n",
       "4                            0                       0                 0   \n",
       "\n",
       "action_detail  alteration_request     ...      view_resolutions  \\\n",
       "0                               0     ...                     0   \n",
       "1                               0     ...                     0   \n",
       "2                               0     ...                     0   \n",
       "3                               0     ...                     0   \n",
       "4                               0     ...                     0   \n",
       "\n",
       "action_detail  view_search_results  view_security_checks  \\\n",
       "0                            54791                     0   \n",
       "1                            75951                     0   \n",
       "2                           158796                     0   \n",
       "3                           199802                     0   \n",
       "4                           493417                     0   \n",
       "\n",
       "action_detail  view_user_real_names  wishlist  wishlist_content_update  \\\n",
       "0                                 0         0                     3515   \n",
       "1                                 0         0                   135661   \n",
       "2                                 0         0                        0   \n",
       "3                                 0         0                        0   \n",
       "4                                 0         0                        0   \n",
       "\n",
       "action_detail  wishlist_note  your_listings  your_reservations  your_trips  \n",
       "0                          0              0                  0        1466  \n",
       "1                          0              0                  0           0  \n",
       "2                          0              0                  0           0  \n",
       "3                          0              0                  0           0  \n",
       "4                          0              0                  0           0  \n",
       "\n",
       "[5 rows x 155 columns]"
      ]
     },
     "execution_count": 70,
     "metadata": {},
     "output_type": "execute_result"
    }
   ],
   "source": [
    "# 2/2. convert with pivot table\n",
    "pivot_secs = secs_uu.pivot_table('secs_elapsed', ['user_id'], ['action_detail'])\n",
    "pivot_secs = pd.DataFrame(pivot_secs.fillna(0)).reset_index()\n",
    "pivot_secs = pivot_secs.drop('-unknown-', axis=1)\n",
    "pivot_secs.head()"
   ]
  },
  {
   "cell_type": "code",
   "execution_count": 129,
   "metadata": {
    "collapsed": false
   },
   "outputs": [
    {
     "data": {
      "text/html": [
       "<div>\n",
       "<table border=\"1\" class=\"dataframe\">\n",
       "  <thead>\n",
       "    <tr style=\"text-align: right;\">\n",
       "      <th>action_detail</th>\n",
       "      <th>user_id</th>\n",
       "      <th>account_notification_settings_x</th>\n",
       "      <th>account_payment_methods_x</th>\n",
       "      <th>account_payout_preferences_x</th>\n",
       "      <th>account_privacy_settings_x</th>\n",
       "      <th>account_transaction_history_x</th>\n",
       "      <th>admin_templates_x</th>\n",
       "      <th>airbnb_picks_wishlists_x</th>\n",
       "      <th>alteration_field_x</th>\n",
       "      <th>alteration_request_x</th>\n",
       "      <th>...</th>\n",
       "      <th>view_resolutions_y</th>\n",
       "      <th>view_search_results_y</th>\n",
       "      <th>view_security_checks_y</th>\n",
       "      <th>view_user_real_names_y</th>\n",
       "      <th>wishlist_y</th>\n",
       "      <th>wishlist_content_update_y</th>\n",
       "      <th>wishlist_note_y</th>\n",
       "      <th>your_listings_y</th>\n",
       "      <th>your_reservations_y</th>\n",
       "      <th>your_trips_y</th>\n",
       "    </tr>\n",
       "  </thead>\n",
       "  <tbody>\n",
       "    <tr>\n",
       "      <th>0</th>\n",
       "      <td>00023iyk9l</td>\n",
       "      <td>0</td>\n",
       "      <td>0</td>\n",
       "      <td>0</td>\n",
       "      <td>0</td>\n",
       "      <td>0</td>\n",
       "      <td>0</td>\n",
       "      <td>0</td>\n",
       "      <td>0</td>\n",
       "      <td>0</td>\n",
       "      <td>...</td>\n",
       "      <td>0</td>\n",
       "      <td>54791</td>\n",
       "      <td>0</td>\n",
       "      <td>0</td>\n",
       "      <td>0</td>\n",
       "      <td>3515</td>\n",
       "      <td>0</td>\n",
       "      <td>0</td>\n",
       "      <td>0</td>\n",
       "      <td>1466</td>\n",
       "    </tr>\n",
       "    <tr>\n",
       "      <th>1</th>\n",
       "      <td>0010k6l0om</td>\n",
       "      <td>0</td>\n",
       "      <td>0</td>\n",
       "      <td>0</td>\n",
       "      <td>0</td>\n",
       "      <td>0</td>\n",
       "      <td>0</td>\n",
       "      <td>0</td>\n",
       "      <td>0</td>\n",
       "      <td>0</td>\n",
       "      <td>...</td>\n",
       "      <td>0</td>\n",
       "      <td>75951</td>\n",
       "      <td>0</td>\n",
       "      <td>0</td>\n",
       "      <td>0</td>\n",
       "      <td>135661</td>\n",
       "      <td>0</td>\n",
       "      <td>0</td>\n",
       "      <td>0</td>\n",
       "      <td>0</td>\n",
       "    </tr>\n",
       "    <tr>\n",
       "      <th>2</th>\n",
       "      <td>001wyh0pz8</td>\n",
       "      <td>0</td>\n",
       "      <td>0</td>\n",
       "      <td>0</td>\n",
       "      <td>0</td>\n",
       "      <td>0</td>\n",
       "      <td>0</td>\n",
       "      <td>0</td>\n",
       "      <td>0</td>\n",
       "      <td>0</td>\n",
       "      <td>...</td>\n",
       "      <td>0</td>\n",
       "      <td>158796</td>\n",
       "      <td>0</td>\n",
       "      <td>0</td>\n",
       "      <td>0</td>\n",
       "      <td>0</td>\n",
       "      <td>0</td>\n",
       "      <td>0</td>\n",
       "      <td>0</td>\n",
       "      <td>0</td>\n",
       "    </tr>\n",
       "    <tr>\n",
       "      <th>3</th>\n",
       "      <td>0028jgx1x1</td>\n",
       "      <td>0</td>\n",
       "      <td>0</td>\n",
       "      <td>0</td>\n",
       "      <td>0</td>\n",
       "      <td>0</td>\n",
       "      <td>0</td>\n",
       "      <td>0</td>\n",
       "      <td>0</td>\n",
       "      <td>0</td>\n",
       "      <td>...</td>\n",
       "      <td>0</td>\n",
       "      <td>199802</td>\n",
       "      <td>0</td>\n",
       "      <td>0</td>\n",
       "      <td>0</td>\n",
       "      <td>0</td>\n",
       "      <td>0</td>\n",
       "      <td>0</td>\n",
       "      <td>0</td>\n",
       "      <td>0</td>\n",
       "    </tr>\n",
       "    <tr>\n",
       "      <th>4</th>\n",
       "      <td>002qnbzfs5</td>\n",
       "      <td>0</td>\n",
       "      <td>0</td>\n",
       "      <td>0</td>\n",
       "      <td>0</td>\n",
       "      <td>0</td>\n",
       "      <td>0</td>\n",
       "      <td>0</td>\n",
       "      <td>0</td>\n",
       "      <td>0</td>\n",
       "      <td>...</td>\n",
       "      <td>0</td>\n",
       "      <td>493417</td>\n",
       "      <td>0</td>\n",
       "      <td>0</td>\n",
       "      <td>0</td>\n",
       "      <td>0</td>\n",
       "      <td>0</td>\n",
       "      <td>0</td>\n",
       "      <td>0</td>\n",
       "      <td>0</td>\n",
       "    </tr>\n",
       "  </tbody>\n",
       "</table>\n",
       "<p>5 rows × 306 columns</p>\n",
       "</div>"
      ],
      "text/plain": [
       "action_detail     user_id  account_notification_settings_x  \\\n",
       "0              00023iyk9l                                0   \n",
       "1              0010k6l0om                                0   \n",
       "2              001wyh0pz8                                0   \n",
       "3              0028jgx1x1                                0   \n",
       "4              002qnbzfs5                                0   \n",
       "\n",
       "action_detail  account_payment_methods_x  account_payout_preferences_x  \\\n",
       "0                                      0                             0   \n",
       "1                                      0                             0   \n",
       "2                                      0                             0   \n",
       "3                                      0                             0   \n",
       "4                                      0                             0   \n",
       "\n",
       "action_detail  account_privacy_settings_x  account_transaction_history_x  \\\n",
       "0                                       0                              0   \n",
       "1                                       0                              0   \n",
       "2                                       0                              0   \n",
       "3                                       0                              0   \n",
       "4                                       0                              0   \n",
       "\n",
       "action_detail  admin_templates_x  airbnb_picks_wishlists_x  \\\n",
       "0                              0                         0   \n",
       "1                              0                         0   \n",
       "2                              0                         0   \n",
       "3                              0                         0   \n",
       "4                              0                         0   \n",
       "\n",
       "action_detail  alteration_field_x  alteration_request_x      ...       \\\n",
       "0                               0                     0      ...        \n",
       "1                               0                     0      ...        \n",
       "2                               0                     0      ...        \n",
       "3                               0                     0      ...        \n",
       "4                               0                     0      ...        \n",
       "\n",
       "action_detail  view_resolutions_y  view_search_results_y  \\\n",
       "0                               0                  54791   \n",
       "1                               0                  75951   \n",
       "2                               0                 158796   \n",
       "3                               0                 199802   \n",
       "4                               0                 493417   \n",
       "\n",
       "action_detail  view_security_checks_y  view_user_real_names_y  wishlist_y  \\\n",
       "0                                   0                       0           0   \n",
       "1                                   0                       0           0   \n",
       "2                                   0                       0           0   \n",
       "3                                   0                       0           0   \n",
       "4                                   0                       0           0   \n",
       "\n",
       "action_detail  wishlist_content_update_y  wishlist_note_y  your_listings_y  \\\n",
       "0                                   3515                0                0   \n",
       "1                                 135661                0                0   \n",
       "2                                      0                0                0   \n",
       "3                                      0                0                0   \n",
       "4                                      0                0                0   \n",
       "\n",
       "action_detail  your_reservations_y  your_trips_y  \n",
       "0                                0          1466  \n",
       "1                                0             0  \n",
       "2                                0             0  \n",
       "3                                0             0  \n",
       "4                                0             0  \n",
       "\n",
       "[5 rows x 306 columns]"
      ]
     },
     "execution_count": 129,
     "metadata": {},
     "output_type": "execute_result"
    }
   ],
   "source": [
    "# merge the event count w/ secs elapsed\n",
    "sessions_merge = pd.merge(left=pivot_uu, right=pivot_secs, how='outer', left_on='user_id', right_on='user_id')\n",
    "sessions_merge = sessions_merge.fillna(0)\n",
    "sessions_merge.head()"
   ]
  },
  {
   "cell_type": "markdown",
   "metadata": {},
   "source": [
    "### PCA reduced sessions"
   ]
  },
  {
   "cell_type": "code",
   "execution_count": null,
   "metadata": {
    "collapsed": true
   },
   "outputs": [],
   "source": [
    "# TODO: keep user id sepearate\n",
    "pivot_ids = pivot_uu['user_id']\n",
    "pivot_uu = pivot_uu.drop('user_id', axis=1)"
   ]
  },
  {
   "cell_type": "code",
   "execution_count": 143,
   "metadata": {
    "collapsed": false
   },
   "outputs": [
    {
     "name": "stdout",
     "output_type": "stream",
     "text": [
      "0.994647860711\n"
     ]
    },
    {
     "data": {
      "text/plain": [
       "array([  4.55784016e-01,   1.76720370e-01,   1.34333992e-01,\n",
       "         1.04366961e-01,   4.46364281e-02,   2.29000872e-02,\n",
       "         9.85413653e-03,   8.33610964e-03,   7.09086715e-03,\n",
       "         4.94513283e-03,   3.90182942e-03,   3.07658093e-03,\n",
       "         2.37547336e-03,   1.89985253e-03,   1.64290753e-03,\n",
       "         1.59587043e-03,   1.49620374e-03,   1.31682851e-03,\n",
       "         1.11501027e-03,   1.08507240e-03,   9.01577834e-04,\n",
       "         8.74137626e-04,   7.94024601e-04,   7.27729297e-04,\n",
       "         6.59200877e-04,   5.53850220e-04,   4.53780643e-04,\n",
       "         4.39955814e-04,   4.01040885e-04,   3.68832672e-04])"
      ]
     },
     "execution_count": 143,
     "metadata": {},
     "output_type": "execute_result"
    }
   ],
   "source": [
    "# TODO: Apply PCA with the same number of dimensions as variables in the dataset\n",
    "from sklearn.decomposition import PCA\n",
    "pca = PCA(n_components=30, copy=True, whiten=False)\n",
    "\n",
    "# fit the data\n",
    "pca.fit(pivot_uu)\n",
    "\n",
    "# Print the components and the amount of variance in the data contained in each dimension\n",
    "print sum(pca.explained_variance_ratio_)\n",
    "pca.explained_variance_ratio_"
   ]
  },
  {
   "cell_type": "code",
   "execution_count": 144,
   "metadata": {
    "collapsed": false
   },
   "outputs": [
    {
     "name": "stdout",
     "output_type": "stream",
     "text": [
      "(135478, 30)\n"
     ]
    }
   ],
   "source": [
    "events_pca = pca.transform(pivot_uu)\n",
    "print events_pca.shape"
   ]
  },
  {
   "cell_type": "code",
   "execution_count": 162,
   "metadata": {
    "collapsed": false
   },
   "outputs": [
    {
     "data": {
      "text/html": [
       "<div>\n",
       "<table border=\"1\" class=\"dataframe\">\n",
       "  <thead>\n",
       "    <tr style=\"text-align: right;\">\n",
       "      <th></th>\n",
       "      <th>0</th>\n",
       "      <th>1</th>\n",
       "      <th>2</th>\n",
       "      <th>3</th>\n",
       "      <th>4</th>\n",
       "      <th>5</th>\n",
       "      <th>6</th>\n",
       "      <th>7</th>\n",
       "      <th>8</th>\n",
       "      <th>9</th>\n",
       "      <th>...</th>\n",
       "      <th>21</th>\n",
       "      <th>22</th>\n",
       "      <th>23</th>\n",
       "      <th>24</th>\n",
       "      <th>25</th>\n",
       "      <th>26</th>\n",
       "      <th>27</th>\n",
       "      <th>28</th>\n",
       "      <th>29</th>\n",
       "      <th>user_id</th>\n",
       "    </tr>\n",
       "  </thead>\n",
       "  <tbody>\n",
       "    <tr>\n",
       "      <th>0</th>\n",
       "      <td>-11.552858</td>\n",
       "      <td>4.563340</td>\n",
       "      <td>-4.783074</td>\n",
       "      <td>1.423241</td>\n",
       "      <td>-0.482374</td>\n",
       "      <td>1.426581</td>\n",
       "      <td>-0.305765</td>\n",
       "      <td>-0.370464</td>\n",
       "      <td>-0.232111</td>\n",
       "      <td>-1.206425</td>\n",
       "      <td>...</td>\n",
       "      <td>0.314600</td>\n",
       "      <td>-0.434894</td>\n",
       "      <td>2.617254</td>\n",
       "      <td>1.029291</td>\n",
       "      <td>-0.037263</td>\n",
       "      <td>0.281922</td>\n",
       "      <td>0.084339</td>\n",
       "      <td>-0.141330</td>\n",
       "      <td>0.170418</td>\n",
       "      <td>00023iyk9l</td>\n",
       "    </tr>\n",
       "    <tr>\n",
       "      <th>1</th>\n",
       "      <td>-1.696191</td>\n",
       "      <td>3.084447</td>\n",
       "      <td>-4.693928</td>\n",
       "      <td>5.745356</td>\n",
       "      <td>-0.465075</td>\n",
       "      <td>1.943602</td>\n",
       "      <td>-1.864972</td>\n",
       "      <td>3.124069</td>\n",
       "      <td>0.138877</td>\n",
       "      <td>3.662305</td>\n",
       "      <td>...</td>\n",
       "      <td>0.043853</td>\n",
       "      <td>-0.266465</td>\n",
       "      <td>-0.461326</td>\n",
       "      <td>-0.394993</td>\n",
       "      <td>0.171884</td>\n",
       "      <td>0.112885</td>\n",
       "      <td>0.015717</td>\n",
       "      <td>0.093282</td>\n",
       "      <td>-0.176547</td>\n",
       "      <td>0010k6l0om</td>\n",
       "    </tr>\n",
       "    <tr>\n",
       "      <th>2</th>\n",
       "      <td>30.387948</td>\n",
       "      <td>29.140816</td>\n",
       "      <td>24.023564</td>\n",
       "      <td>-17.856232</td>\n",
       "      <td>-16.147731</td>\n",
       "      <td>-0.258195</td>\n",
       "      <td>0.627195</td>\n",
       "      <td>-3.518666</td>\n",
       "      <td>1.841621</td>\n",
       "      <td>-0.190239</td>\n",
       "      <td>...</td>\n",
       "      <td>-0.196947</td>\n",
       "      <td>-0.286164</td>\n",
       "      <td>-0.169058</td>\n",
       "      <td>0.079312</td>\n",
       "      <td>-0.416128</td>\n",
       "      <td>-0.007227</td>\n",
       "      <td>-0.167309</td>\n",
       "      <td>0.093205</td>\n",
       "      <td>-0.071878</td>\n",
       "      <td>001wyh0pz8</td>\n",
       "    </tr>\n",
       "    <tr>\n",
       "      <th>3</th>\n",
       "      <td>-6.891381</td>\n",
       "      <td>0.613752</td>\n",
       "      <td>-4.639629</td>\n",
       "      <td>-5.676685</td>\n",
       "      <td>-3.519701</td>\n",
       "      <td>1.321304</td>\n",
       "      <td>-0.287688</td>\n",
       "      <td>0.325089</td>\n",
       "      <td>-3.123836</td>\n",
       "      <td>-0.356795</td>\n",
       "      <td>...</td>\n",
       "      <td>-0.257453</td>\n",
       "      <td>0.636374</td>\n",
       "      <td>-0.187680</td>\n",
       "      <td>0.239828</td>\n",
       "      <td>-0.803435</td>\n",
       "      <td>0.009918</td>\n",
       "      <td>-0.499276</td>\n",
       "      <td>-0.008971</td>\n",
       "      <td>0.014002</td>\n",
       "      <td>0028jgx1x1</td>\n",
       "    </tr>\n",
       "    <tr>\n",
       "      <th>4</th>\n",
       "      <td>151.617184</td>\n",
       "      <td>-120.531591</td>\n",
       "      <td>143.144478</td>\n",
       "      <td>-40.109561</td>\n",
       "      <td>4.322015</td>\n",
       "      <td>13.913673</td>\n",
       "      <td>0.520738</td>\n",
       "      <td>-4.011590</td>\n",
       "      <td>6.561841</td>\n",
       "      <td>3.298432</td>\n",
       "      <td>...</td>\n",
       "      <td>6.185851</td>\n",
       "      <td>24.327351</td>\n",
       "      <td>-6.071458</td>\n",
       "      <td>14.120418</td>\n",
       "      <td>-9.333167</td>\n",
       "      <td>0.802146</td>\n",
       "      <td>-1.583475</td>\n",
       "      <td>-1.613278</td>\n",
       "      <td>4.330721</td>\n",
       "      <td>002qnbzfs5</td>\n",
       "    </tr>\n",
       "  </tbody>\n",
       "</table>\n",
       "<p>5 rows × 31 columns</p>\n",
       "</div>"
      ],
      "text/plain": [
       "            0           1           2          3          4          5  \\\n",
       "0  -11.552858    4.563340   -4.783074   1.423241  -0.482374   1.426581   \n",
       "1   -1.696191    3.084447   -4.693928   5.745356  -0.465075   1.943602   \n",
       "2   30.387948   29.140816   24.023564 -17.856232 -16.147731  -0.258195   \n",
       "3   -6.891381    0.613752   -4.639629  -5.676685  -3.519701   1.321304   \n",
       "4  151.617184 -120.531591  143.144478 -40.109561   4.322015  13.913673   \n",
       "\n",
       "          6         7         8         9     ...            21         22  \\\n",
       "0 -0.305765 -0.370464 -0.232111 -1.206425     ...      0.314600  -0.434894   \n",
       "1 -1.864972  3.124069  0.138877  3.662305     ...      0.043853  -0.266465   \n",
       "2  0.627195 -3.518666  1.841621 -0.190239     ...     -0.196947  -0.286164   \n",
       "3 -0.287688  0.325089 -3.123836 -0.356795     ...     -0.257453   0.636374   \n",
       "4  0.520738 -4.011590  6.561841  3.298432     ...      6.185851  24.327351   \n",
       "\n",
       "         23         24        25        26        27        28        29  \\\n",
       "0  2.617254   1.029291 -0.037263  0.281922  0.084339 -0.141330  0.170418   \n",
       "1 -0.461326  -0.394993  0.171884  0.112885  0.015717  0.093282 -0.176547   \n",
       "2 -0.169058   0.079312 -0.416128 -0.007227 -0.167309  0.093205 -0.071878   \n",
       "3 -0.187680   0.239828 -0.803435  0.009918 -0.499276 -0.008971  0.014002   \n",
       "4 -6.071458  14.120418 -9.333167  0.802146 -1.583475 -1.613278  4.330721   \n",
       "\n",
       "      user_id  \n",
       "0  00023iyk9l  \n",
       "1  0010k6l0om  \n",
       "2  001wyh0pz8  \n",
       "3  0028jgx1x1  \n",
       "4  002qnbzfs5  \n",
       "\n",
       "[5 rows x 31 columns]"
      ]
     },
     "execution_count": 162,
     "metadata": {},
     "output_type": "execute_result"
    }
   ],
   "source": [
    "sessions_merge = pd.concat((pd.DataFrame(events_pca), pivot_ids), axis=1)\n",
    "sessions_merge.head()"
   ]
  },
  {
   "cell_type": "markdown",
   "metadata": {},
   "source": [
    "### Merge sessions with df_all"
   ]
  },
  {
   "cell_type": "code",
   "execution_count": 140,
   "metadata": {
    "collapsed": false
   },
   "outputs": [
    {
     "data": {
      "text/html": [
       "<div>\n",
       "<table border=\"1\" class=\"dataframe\">\n",
       "  <thead>\n",
       "    <tr style=\"text-align: right;\">\n",
       "      <th></th>\n",
       "      <th>id</th>\n",
       "      <th>gender</th>\n",
       "      <th>age</th>\n",
       "      <th>signup_method</th>\n",
       "      <th>signup_flow</th>\n",
       "      <th>language</th>\n",
       "      <th>affiliate_channel</th>\n",
       "      <th>affiliate_provider</th>\n",
       "      <th>first_affiliate_tracked</th>\n",
       "      <th>signup_app</th>\n",
       "      <th>...</th>\n",
       "      <th>view_resolutions</th>\n",
       "      <th>view_search_results</th>\n",
       "      <th>view_security_checks</th>\n",
       "      <th>view_user_real_names</th>\n",
       "      <th>wishlist</th>\n",
       "      <th>wishlist_content_update</th>\n",
       "      <th>wishlist_note</th>\n",
       "      <th>your_listings</th>\n",
       "      <th>your_reservations</th>\n",
       "      <th>your_trips</th>\n",
       "    </tr>\n",
       "  </thead>\n",
       "  <tbody>\n",
       "    <tr>\n",
       "      <th>189274</th>\n",
       "      <td>00023iyk9l</td>\n",
       "      <td>-unknown-</td>\n",
       "      <td>31</td>\n",
       "      <td>basic</td>\n",
       "      <td>0</td>\n",
       "      <td>en</td>\n",
       "      <td>direct</td>\n",
       "      <td>direct</td>\n",
       "      <td>omg</td>\n",
       "      <td>Web</td>\n",
       "      <td>...</td>\n",
       "      <td>0</td>\n",
       "      <td>5</td>\n",
       "      <td>0</td>\n",
       "      <td>0</td>\n",
       "      <td>0</td>\n",
       "      <td>4</td>\n",
       "      <td>0</td>\n",
       "      <td>0</td>\n",
       "      <td>0</td>\n",
       "      <td>2</td>\n",
       "    </tr>\n",
       "  </tbody>\n",
       "</table>\n",
       "<p>1 rows × 171 columns</p>\n",
       "</div>"
      ],
      "text/plain": [
       "                id     gender  age signup_method  signup_flow language  \\\n",
       "189274  00023iyk9l  -unknown-   31         basic            0       en   \n",
       "\n",
       "       affiliate_channel affiliate_provider first_affiliate_tracked  \\\n",
       "189274            direct             direct                     omg   \n",
       "\n",
       "       signup_app    ...     view_resolutions view_search_results  \\\n",
       "189274        Web    ...                    0                   5   \n",
       "\n",
       "        view_security_checks  view_user_real_names  wishlist  \\\n",
       "189274                     0                     0         0   \n",
       "\n",
       "        wishlist_content_update  wishlist_note  your_listings  \\\n",
       "189274                        4              0              0   \n",
       "\n",
       "        your_reservations your_trips  \n",
       "189274                  0          2  \n",
       "\n",
       "[1 rows x 171 columns]"
      ]
     },
     "execution_count": 140,
     "metadata": {},
     "output_type": "execute_result"
    }
   ],
   "source": [
    "## 5. left join sessions data to df_all\n",
    "merged_left = pd.merge(left=df_all_id,right=pivot_uu, how='left', left_on='id', right_on='user_id')\n",
    "merged_left[merged_left.id=='00023iyk9l']"
   ]
  },
  {
   "cell_type": "code",
   "execution_count": 141,
   "metadata": {
    "collapsed": false
   },
   "outputs": [
    {
     "data": {
      "text/html": [
       "<div>\n",
       "<table border=\"1\" class=\"dataframe\">\n",
       "  <thead>\n",
       "    <tr style=\"text-align: right;\">\n",
       "      <th></th>\n",
       "      <th>gender</th>\n",
       "      <th>age</th>\n",
       "      <th>signup_method</th>\n",
       "      <th>signup_flow</th>\n",
       "      <th>language</th>\n",
       "      <th>affiliate_channel</th>\n",
       "      <th>affiliate_provider</th>\n",
       "      <th>first_affiliate_tracked</th>\n",
       "      <th>signup_app</th>\n",
       "      <th>first_device_type</th>\n",
       "      <th>...</th>\n",
       "      <th>view_resolutions</th>\n",
       "      <th>view_search_results</th>\n",
       "      <th>view_security_checks</th>\n",
       "      <th>view_user_real_names</th>\n",
       "      <th>wishlist</th>\n",
       "      <th>wishlist_content_update</th>\n",
       "      <th>wishlist_note</th>\n",
       "      <th>your_listings</th>\n",
       "      <th>your_reservations</th>\n",
       "      <th>your_trips</th>\n",
       "    </tr>\n",
       "  </thead>\n",
       "  <tbody>\n",
       "    <tr>\n",
       "      <th>0</th>\n",
       "      <td>-unknown-</td>\n",
       "      <td>-1</td>\n",
       "      <td>facebook</td>\n",
       "      <td>0</td>\n",
       "      <td>en</td>\n",
       "      <td>direct</td>\n",
       "      <td>direct</td>\n",
       "      <td>untracked</td>\n",
       "      <td>Web</td>\n",
       "      <td>Mac Desktop</td>\n",
       "      <td>...</td>\n",
       "      <td>0</td>\n",
       "      <td>0</td>\n",
       "      <td>0</td>\n",
       "      <td>0</td>\n",
       "      <td>0</td>\n",
       "      <td>0</td>\n",
       "      <td>0</td>\n",
       "      <td>0</td>\n",
       "      <td>0</td>\n",
       "      <td>0</td>\n",
       "    </tr>\n",
       "    <tr>\n",
       "      <th>1</th>\n",
       "      <td>MALE</td>\n",
       "      <td>38</td>\n",
       "      <td>facebook</td>\n",
       "      <td>0</td>\n",
       "      <td>en</td>\n",
       "      <td>seo</td>\n",
       "      <td>google</td>\n",
       "      <td>untracked</td>\n",
       "      <td>Web</td>\n",
       "      <td>Mac Desktop</td>\n",
       "      <td>...</td>\n",
       "      <td>0</td>\n",
       "      <td>0</td>\n",
       "      <td>0</td>\n",
       "      <td>0</td>\n",
       "      <td>0</td>\n",
       "      <td>0</td>\n",
       "      <td>0</td>\n",
       "      <td>0</td>\n",
       "      <td>0</td>\n",
       "      <td>0</td>\n",
       "    </tr>\n",
       "    <tr>\n",
       "      <th>2</th>\n",
       "      <td>FEMALE</td>\n",
       "      <td>56</td>\n",
       "      <td>basic</td>\n",
       "      <td>3</td>\n",
       "      <td>en</td>\n",
       "      <td>direct</td>\n",
       "      <td>direct</td>\n",
       "      <td>untracked</td>\n",
       "      <td>Web</td>\n",
       "      <td>Windows Desktop</td>\n",
       "      <td>...</td>\n",
       "      <td>0</td>\n",
       "      <td>0</td>\n",
       "      <td>0</td>\n",
       "      <td>0</td>\n",
       "      <td>0</td>\n",
       "      <td>0</td>\n",
       "      <td>0</td>\n",
       "      <td>0</td>\n",
       "      <td>0</td>\n",
       "      <td>0</td>\n",
       "    </tr>\n",
       "    <tr>\n",
       "      <th>3</th>\n",
       "      <td>FEMALE</td>\n",
       "      <td>42</td>\n",
       "      <td>facebook</td>\n",
       "      <td>0</td>\n",
       "      <td>en</td>\n",
       "      <td>direct</td>\n",
       "      <td>direct</td>\n",
       "      <td>untracked</td>\n",
       "      <td>Web</td>\n",
       "      <td>Mac Desktop</td>\n",
       "      <td>...</td>\n",
       "      <td>0</td>\n",
       "      <td>0</td>\n",
       "      <td>0</td>\n",
       "      <td>0</td>\n",
       "      <td>0</td>\n",
       "      <td>0</td>\n",
       "      <td>0</td>\n",
       "      <td>0</td>\n",
       "      <td>0</td>\n",
       "      <td>0</td>\n",
       "    </tr>\n",
       "    <tr>\n",
       "      <th>4</th>\n",
       "      <td>-unknown-</td>\n",
       "      <td>41</td>\n",
       "      <td>basic</td>\n",
       "      <td>0</td>\n",
       "      <td>en</td>\n",
       "      <td>direct</td>\n",
       "      <td>direct</td>\n",
       "      <td>untracked</td>\n",
       "      <td>Web</td>\n",
       "      <td>Mac Desktop</td>\n",
       "      <td>...</td>\n",
       "      <td>0</td>\n",
       "      <td>0</td>\n",
       "      <td>0</td>\n",
       "      <td>0</td>\n",
       "      <td>0</td>\n",
       "      <td>0</td>\n",
       "      <td>0</td>\n",
       "      <td>0</td>\n",
       "      <td>0</td>\n",
       "      <td>0</td>\n",
       "    </tr>\n",
       "  </tbody>\n",
       "</table>\n",
       "<p>5 rows × 169 columns</p>\n",
       "</div>"
      ],
      "text/plain": [
       "      gender  age signup_method  signup_flow language affiliate_channel  \\\n",
       "0  -unknown-   -1      facebook            0       en            direct   \n",
       "1       MALE   38      facebook            0       en               seo   \n",
       "2     FEMALE   56         basic            3       en            direct   \n",
       "3     FEMALE   42      facebook            0       en            direct   \n",
       "4  -unknown-   41         basic            0       en            direct   \n",
       "\n",
       "  affiliate_provider first_affiliate_tracked signup_app first_device_type  \\\n",
       "0             direct               untracked        Web       Mac Desktop   \n",
       "1             google               untracked        Web       Mac Desktop   \n",
       "2             direct               untracked        Web   Windows Desktop   \n",
       "3             direct               untracked        Web       Mac Desktop   \n",
       "4             direct               untracked        Web       Mac Desktop   \n",
       "\n",
       "      ...     view_resolutions  view_search_results  view_security_checks  \\\n",
       "0     ...                    0                    0                     0   \n",
       "1     ...                    0                    0                     0   \n",
       "2     ...                    0                    0                     0   \n",
       "3     ...                    0                    0                     0   \n",
       "4     ...                    0                    0                     0   \n",
       "\n",
       "   view_user_real_names  wishlist  wishlist_content_update  wishlist_note  \\\n",
       "0                     0         0                        0              0   \n",
       "1                     0         0                        0              0   \n",
       "2                     0         0                        0              0   \n",
       "3                     0         0                        0              0   \n",
       "4                     0         0                        0              0   \n",
       "\n",
       "   your_listings  your_reservations  your_trips  \n",
       "0              0                  0           0  \n",
       "1              0                  0           0  \n",
       "2              0                  0           0  \n",
       "3              0                  0           0  \n",
       "4              0                  0           0  \n",
       "\n",
       "[5 rows x 169 columns]"
      ]
     },
     "execution_count": 141,
     "metadata": {},
     "output_type": "execute_result"
    }
   ],
   "source": [
    "#Removing id\n",
    "df_all = merged_left.drop(['id', 'user_id'], axis=1)\n",
    "\n",
    "# fill in any nulls after the left join\n",
    "df_all = df_all.fillna(0)\n",
    "df_all.head()"
   ]
  },
  {
   "cell_type": "code",
   "execution_count": 142,
   "metadata": {
    "collapsed": true
   },
   "outputs": [],
   "source": [
    "#One-hot-encoding features\n",
    "''' help(pd.get_dummies)'''\n",
    "ohe_feats = ['gender', 'signup_method', 'signup_flow', 'language', 'affiliate_channel', \\\n",
    "             'affiliate_provider', 'first_affiliate_tracked', 'signup_app', 'first_device_type', 'first_browser']\n",
    "for f in ohe_feats:\n",
    "    df_all_dummy = pd.get_dummies(df_all[f], prefix=f)\n",
    "    df_all = df_all.drop([f], axis=1)\n",
    "    df_all = pd.concat((df_all, df_all_dummy), axis=1)"
   ]
  },
  {
   "cell_type": "code",
   "execution_count": 143,
   "metadata": {
    "collapsed": false
   },
   "outputs": [
    {
     "data": {
      "text/html": [
       "<div>\n",
       "<table border=\"1\" class=\"dataframe\">\n",
       "  <thead>\n",
       "    <tr style=\"text-align: right;\">\n",
       "      <th></th>\n",
       "      <th>age</th>\n",
       "      <th>dac_year</th>\n",
       "      <th>dac_month</th>\n",
       "      <th>dac_day</th>\n",
       "      <th>tfa_year</th>\n",
       "      <th>tfa_month</th>\n",
       "      <th>tfa_day</th>\n",
       "      <th>dac_tfa</th>\n",
       "      <th>account_notification_settings</th>\n",
       "      <th>account_payment_methods</th>\n",
       "      <th>...</th>\n",
       "      <th>first_browser_Silk</th>\n",
       "      <th>first_browser_SiteKiosk</th>\n",
       "      <th>first_browser_SlimBrowser</th>\n",
       "      <th>first_browser_Sogou Explorer</th>\n",
       "      <th>first_browser_Stainless</th>\n",
       "      <th>first_browser_TenFourFox</th>\n",
       "      <th>first_browser_TheWorld Browser</th>\n",
       "      <th>first_browser_UC Browser</th>\n",
       "      <th>first_browser_Yandex.Browser</th>\n",
       "      <th>first_browser_wOSBrowser</th>\n",
       "    </tr>\n",
       "  </thead>\n",
       "  <tbody>\n",
       "    <tr>\n",
       "      <th>0</th>\n",
       "      <td>-1</td>\n",
       "      <td>2010</td>\n",
       "      <td>6</td>\n",
       "      <td>28</td>\n",
       "      <td>2009</td>\n",
       "      <td>3</td>\n",
       "      <td>19</td>\n",
       "      <td>10309</td>\n",
       "      <td>0</td>\n",
       "      <td>0</td>\n",
       "      <td>...</td>\n",
       "      <td>0</td>\n",
       "      <td>0</td>\n",
       "      <td>0</td>\n",
       "      <td>0</td>\n",
       "      <td>0</td>\n",
       "      <td>0</td>\n",
       "      <td>0</td>\n",
       "      <td>0</td>\n",
       "      <td>0</td>\n",
       "      <td>0</td>\n",
       "    </tr>\n",
       "    <tr>\n",
       "      <th>1</th>\n",
       "      <td>38</td>\n",
       "      <td>2011</td>\n",
       "      <td>5</td>\n",
       "      <td>25</td>\n",
       "      <td>2009</td>\n",
       "      <td>5</td>\n",
       "      <td>23</td>\n",
       "      <td>20002</td>\n",
       "      <td>0</td>\n",
       "      <td>0</td>\n",
       "      <td>...</td>\n",
       "      <td>0</td>\n",
       "      <td>0</td>\n",
       "      <td>0</td>\n",
       "      <td>0</td>\n",
       "      <td>0</td>\n",
       "      <td>0</td>\n",
       "      <td>0</td>\n",
       "      <td>0</td>\n",
       "      <td>0</td>\n",
       "      <td>0</td>\n",
       "    </tr>\n",
       "    <tr>\n",
       "      <th>2</th>\n",
       "      <td>56</td>\n",
       "      <td>2010</td>\n",
       "      <td>9</td>\n",
       "      <td>28</td>\n",
       "      <td>2009</td>\n",
       "      <td>6</td>\n",
       "      <td>9</td>\n",
       "      <td>10319</td>\n",
       "      <td>0</td>\n",
       "      <td>0</td>\n",
       "      <td>...</td>\n",
       "      <td>0</td>\n",
       "      <td>0</td>\n",
       "      <td>0</td>\n",
       "      <td>0</td>\n",
       "      <td>0</td>\n",
       "      <td>0</td>\n",
       "      <td>0</td>\n",
       "      <td>0</td>\n",
       "      <td>0</td>\n",
       "      <td>0</td>\n",
       "    </tr>\n",
       "  </tbody>\n",
       "</table>\n",
       "<p>3 rows × 313 columns</p>\n",
       "</div>"
      ],
      "text/plain": [
       "   age  dac_year  dac_month  dac_day  tfa_year  tfa_month  tfa_day  dac_tfa  \\\n",
       "0   -1      2010          6       28      2009          3       19    10309   \n",
       "1   38      2011          5       25      2009          5       23    20002   \n",
       "2   56      2010          9       28      2009          6        9    10319   \n",
       "\n",
       "   account_notification_settings  account_payment_methods  \\\n",
       "0                              0                        0   \n",
       "1                              0                        0   \n",
       "2                              0                        0   \n",
       "\n",
       "             ...             first_browser_Silk  first_browser_SiteKiosk  \\\n",
       "0            ...                              0                        0   \n",
       "1            ...                              0                        0   \n",
       "2            ...                              0                        0   \n",
       "\n",
       "   first_browser_SlimBrowser  first_browser_Sogou Explorer  \\\n",
       "0                          0                             0   \n",
       "1                          0                             0   \n",
       "2                          0                             0   \n",
       "\n",
       "   first_browser_Stainless  first_browser_TenFourFox  \\\n",
       "0                        0                         0   \n",
       "1                        0                         0   \n",
       "2                        0                         0   \n",
       "\n",
       "   first_browser_TheWorld Browser  first_browser_UC Browser  \\\n",
       "0                               0                         0   \n",
       "1                               0                         0   \n",
       "2                               0                         0   \n",
       "\n",
       "   first_browser_Yandex.Browser  first_browser_wOSBrowser  \n",
       "0                             0                         0  \n",
       "1                             0                         0  \n",
       "2                             0                         0  \n",
       "\n",
       "[3 rows x 313 columns]"
      ]
     },
     "execution_count": 143,
     "metadata": {},
     "output_type": "execute_result"
    }
   ],
   "source": [
    "# dont use 'first_browser' as feature\n",
    "#df_all = df_all.drop(['first_browser'], axis=1)\n",
    "df_all.head(3)"
   ]
  },
  {
   "cell_type": "code",
   "execution_count": 144,
   "metadata": {
    "collapsed": true
   },
   "outputs": [],
   "source": [
    "#Splitting train and test\n",
    "vals = df_all.values\n",
    "X = vals[:piv_train]\n",
    "X_test_submit = vals[piv_train:]\n",
    "\n",
    "#http://scikit-learn.org/stable/modules/generated/sklearn.preprocessing.LabelEncoder.html\n",
    "le = LabelEncoder()\n",
    "y = le.fit_transform(labels)"
   ]
  },
  {
   "cell_type": "markdown",
   "metadata": {},
   "source": [
    "** PCA-reduced data**"
   ]
  },
  {
   "cell_type": "code",
   "execution_count": null,
   "metadata": {
    "collapsed": true
   },
   "outputs": [],
   "source": [
    "#Splitting train and test with PCA-reduced data\n",
    "vals = pd.DataFrame(pca.transform(df_all)).values\n",
    "X = vals[:piv_train]\n",
    "X_test_submit = vals[piv_train:]\n",
    "\n",
    "#http://scikit-learn.org/stable/modules/generated/sklearn.preprocessing.LabelEncoder.html\n",
    "le = LabelEncoder()\n",
    "y = le.fit_transform(labels)"
   ]
  },
  {
   "cell_type": "markdown",
   "metadata": {},
   "source": [
    "---\n",
    "### Normalize features"
   ]
  },
  {
   "cell_type": "code",
   "execution_count": 321,
   "metadata": {
    "collapsed": true
   },
   "outputs": [],
   "source": [
    "def normalize_features(feature_matrix):\n",
    "    norms = np.linalg.norm(feature_matrix, axis=0)\n",
    "    normalized_features = (feature_matrix - norms/2) / norms\n",
    "        \n",
    "    return(normalized_features, norms)"
   ]
  },
  {
   "cell_type": "code",
   "execution_count": 322,
   "metadata": {
    "collapsed": false
   },
   "outputs": [],
   "source": [
    "#Splitting train and test and normalizing\n",
    "vals_norm,_ = normalize_features(vals)\n",
    "X_norm = vals_norm[:piv_train]\n",
    "X_test_norm = vals_norm[piv_train:]"
   ]
  },
  {
   "cell_type": "code",
   "execution_count": 323,
   "metadata": {
    "collapsed": false
   },
   "outputs": [
    {
     "name": "stdout",
     "output_type": "stream",
     "text": [
      "(213451, 316)\n",
      "(62096, 316)\n"
     ]
    }
   ],
   "source": [
    "print X_norm.shape\n",
    "print X_test_norm.shape"
   ]
  },
  {
   "cell_type": "markdown",
   "metadata": {},
   "source": [
    "### Convert to categoricals\n",
    "(not in use)"
   ]
  },
  {
   "cell_type": "code",
   "execution_count": null,
   "metadata": {
    "collapsed": false
   },
   "outputs": [],
   "source": [
    "convert_to_cat = ['gender', 'age', 'signup_method', 'signup_flow', 'language', \\\n",
    "                  'affiliate_channel', 'affiliate_provider', 'first_affiliate_tracked', \\\n",
    "                  'signup_app', 'lang_app', 'first_device_type', 'first_browser']"
   ]
  },
  {
   "cell_type": "code",
   "execution_count": null,
   "metadata": {
    "collapsed": false
   },
   "outputs": [],
   "source": [
    "## factorize\n",
    "for i in convert_to_cat:\n",
    "    Xtrain.loc[:,i] = pd.factorize(Xtrain[i])[0]\n",
    "    Xtest.loc[:,i] = pd.factorize(Xtest[i])[0]"
   ]
  },
  {
   "cell_type": "code",
   "execution_count": null,
   "metadata": {
    "collapsed": true
   },
   "outputs": [],
   "source": [
    "## categoricals\n",
    "for i in convert_to_cat:\n",
    "    Xtrain.loc[:,i] = Xtrain[i].astype('category', ordered=False)\n",
    "    Xtest.loc[:,i] = Xtest[i].astype('category', ordered=False)"
   ]
  },
  {
   "cell_type": "code",
   "execution_count": null,
   "metadata": {
    "collapsed": false
   },
   "outputs": [],
   "source": [
    "Xtrain['lang_app'].head()"
   ]
  },
  {
   "cell_type": "code",
   "execution_count": null,
   "metadata": {
    "collapsed": false
   },
   "outputs": [],
   "source": [
    "Xtrain['gender'] = Xtrain.age.fillna('unknown')\n",
    "Xtest['gender'] = Xtest.age.fillna('unknown')"
   ]
  },
  {
   "cell_type": "code",
   "execution_count": null,
   "metadata": {
    "collapsed": false
   },
   "outputs": [],
   "source": [
    "Xtrain['age'] = Xtrain.age.fillna(0)\n",
    "Xtest['age'] = Xtest.age.fillna(0)"
   ]
  },
  {
   "cell_type": "markdown",
   "metadata": {},
   "source": [
    "---\n",
    "\n",
    "Split train data further into train/validation/test sets\n",
    "---------------"
   ]
  },
  {
   "cell_type": "code",
   "execution_count": 36,
   "metadata": {
    "collapsed": true
   },
   "outputs": [],
   "source": [
    "from sklearn import cross_validation"
   ]
  },
  {
   "cell_type": "markdown",
   "metadata": {},
   "source": [
    "** convert labels to vector**"
   ]
  },
  {
   "cell_type": "code",
   "execution_count": 230,
   "metadata": {
    "collapsed": false
   },
   "outputs": [
    {
     "name": "stdout",
     "output_type": "stream",
     "text": [
      "(213451,)\n"
     ]
    }
   ],
   "source": [
    "y_copy = y.copy()\n",
    "print y_copy.shape"
   ]
  },
  {
   "cell_type": "code",
   "execution_count": 232,
   "metadata": {
    "collapsed": true
   },
   "outputs": [],
   "source": [
    "# reformat labels as vector\n",
    "def reformat(labels, num_labels=12):\n",
    "  labels = (np.arange(num_labels) == labels[:,None]).astype(np.float32)  # convert label to vector\n",
    "  return labels"
   ]
  },
  {
   "cell_type": "code",
   "execution_count": 233,
   "metadata": {
    "collapsed": false
   },
   "outputs": [
    {
     "name": "stdout",
     "output_type": "stream",
     "text": [
      "(213451, 12)\n"
     ]
    }
   ],
   "source": [
    "## variable for new label vectors\n",
    "y_vec = reformat(y_copy)\n",
    "print y_vec.shape"
   ]
  },
  {
   "cell_type": "code",
   "execution_count": 237,
   "metadata": {
    "collapsed": true
   },
   "outputs": [],
   "source": [
    "## keep copy of X_test_submit\n",
    "X_test_copy = X_test_submit.copy()\n",
    "#X_test_submit = X_test_copy.copy()"
   ]
  },
  {
   "cell_type": "code",
   "execution_count": 329,
   "metadata": {
    "collapsed": true
   },
   "outputs": [],
   "source": [
    "## convert test submission dtype\n",
    "X_test_submit = X_test_norm.astype('float32')"
   ]
  },
  {
   "cell_type": "code",
   "execution_count": 330,
   "metadata": {
    "collapsed": false
   },
   "outputs": [],
   "source": [
    "## split normalized data into train and test\n",
    "X_tv, X_test, y_tv, y_test = cross_validation.train_test_split(X_norm.astype('float32'), \\\n",
    "                                                               y_vec.astype('float32'), test_size=.05, random_state=205)\n",
    "\n",
    "X_train, X_valid, y_train, y_valid = cross_validation.train_test_split(X_tv, y_tv, \\\n",
    "                                                                       test_size=.05, random_state=71511)"
   ]
  },
  {
   "cell_type": "code",
   "execution_count": 156,
   "metadata": {
    "collapsed": false
   },
   "outputs": [],
   "source": [
    "## split into train and validation\n",
    "## use X,y for full training data\n",
    "X_train, X_valid, y_train, y_valid = cross_validation.train_test_split(X, y, \\\n",
    "                                                                       test_size=.02, random_state=21116)"
   ]
  },
  {
   "cell_type": "markdown",
   "metadata": {},
   "source": [
    "## Grid search\n",
    "http://scikit-learn.org/stable/modules/generated/sklearn.grid_search.GridSearchCV.html"
   ]
  },
  {
   "cell_type": "code",
   "execution_count": 102,
   "metadata": {
    "collapsed": true
   },
   "outputs": [],
   "source": [
    "from sklearn import metrics\n",
    "from sklearn import grid_search\n",
    "\n",
    "## Make scorer\n",
    "acc_scorer = metrics.make_scorer(metrics.accuracy_score, greater_is_better=True)\n",
    "f1_scorer = metrics.make_scorer(metrics.f1_score, greater_is_better=True, average='weighted')"
   ]
  },
  {
   "cell_type": "markdown",
   "metadata": {},
   "source": [
    "### i. Random forest\n",
    "http://scikit-learn.org/stable/modules/generated/sklearn.ensemble.RandomForestClassifier.html"
   ]
  },
  {
   "cell_type": "code",
   "execution_count": 301,
   "metadata": {
    "collapsed": false
   },
   "outputs": [],
   "source": [
    "## create cv search objec\n",
    "from sklearn.ensemble import RandomForestClassifier\n",
    "'''\n",
    "rf = RandomForestClassifier(n_estimators=100, criterion='gini', max_depth=None, \\\n",
    "                            min_samples_split=2, min_samples_leaf=1, min_weight_fraction_leaf=0.0, \\\n",
    "                            max_features='auto', max_leaf_nodes=None, bootstrap=True, oob_score=False, \\\n",
    "                            n_jobs=1, random_state=None, verbose=0, warm_start=False, class_weight=None)\n",
    "'''\n",
    "clf = RandomForestClassifier(n_estimators=100)\n",
    "est = RandomForestClassifier(n_estimators=100, max_depth=None, class_weight='balanced')\n",
    "parameters = {'min_samples_split': [2,50],\n",
    "              'max_depth': [100, 500],\n",
    "              'class_weight': [None, 'balanced']\n",
    "             }\n",
    "reg = grid_search.GridSearchCV(clf, parameters, scoring=acc_scorer, cv=5)"
   ]
  },
  {
   "cell_type": "markdown",
   "metadata": {},
   "source": [
    "### ii. SVM\n",
    "http://scikit-learn.org/stable/modules/svm.html"
   ]
  },
  {
   "cell_type": "code",
   "execution_count": null,
   "metadata": {
    "collapsed": false
   },
   "outputs": [],
   "source": [
    "from sklearn import svm\n",
    "# Setup a Classifier\n",
    "clf = svm.SVC(C=1.0, kernel='rbf', degree=3, gamma='auto', coef0=0.0, \\\n",
    "                  shrinking=True, probability=False, tol=0.001, cache_size=200, \\\n",
    "                  class_weight='balanced', verbose=False, max_iter=-1, decision_function_shape=None, random_state=None)\n",
    "# tune parameter with at least 3 settings\n",
    "parameters = {'C': (1.0, 0.2),\n",
    "             }"
   ]
  },
  {
   "cell_type": "code",
   "execution_count": null,
   "metadata": {
    "collapsed": false
   },
   "outputs": [],
   "source": [
    "## PCA reduced data\n",
    "X_reduced = pca.transform(X)\n",
    "X_test_reduced = pca.transform(X_test)"
   ]
  },
  {
   "cell_type": "markdown",
   "metadata": {},
   "source": [
    "### iii. XGBoost\n",
    "https://github.com/dmlc/xgboost/blob/master/python-package/xgboost/sklearn.py"
   ]
  },
  {
   "cell_type": "code",
   "execution_count": 157,
   "metadata": {
    "collapsed": false
   },
   "outputs": [],
   "source": [
    "#Classifier\n",
    "# try using... objective: multi:softprob, rank:pairwise\n",
    "import xgboost as xgb\n",
    "from xgboost.sklearn import XGBClassifier\n",
    "est = XGBClassifier(max_depth=8, learning_rate=0.15, n_estimators=100,\n",
    "                    objective='multi:softprob', subsample=0.6, colsample_bytree=.6, seed=None)                  \n",
    "\n",
    "param = {\n",
    "    'objective':'multi:softprob',                    \n",
    "    'max_depth':6, \n",
    "    'learning_rate':0.25, \n",
    "    'n_estimators':43,                 \n",
    "    'subsample':0.6, \n",
    "    'colsample_bytree':0.6,\n",
    "    'num_class' :12\n",
    "    }"
   ]
  },
  {
   "cell_type": "code",
   "execution_count": 158,
   "metadata": {
    "collapsed": true
   },
   "outputs": [],
   "source": [
    "eval_set = [(X_train,y_train), (X_valid,y_valid)]"
   ]
  },
  {
   "cell_type": "code",
   "execution_count": 159,
   "metadata": {
    "collapsed": false
   },
   "outputs": [
    {
     "name": "stderr",
     "output_type": "stream",
     "text": [
      "Will train until validation_1 error hasn't decreased in 30 rounds.\n",
      "[0]\tvalidation_0-merror:0.366510\tvalidation_1-merror:0.373536\n",
      "[1]\tvalidation_0-merror:0.357819\tvalidation_1-merror:0.361593\n",
      "[2]\tvalidation_0-merror:0.353589\tvalidation_1-merror:0.362295\n",
      "[3]\tvalidation_0-merror:0.352628\tvalidation_1-merror:0.362295\n",
      "[4]\tvalidation_0-merror:0.353684\tvalidation_1-merror:0.361124\n",
      "[5]\tvalidation_0-merror:0.349826\tvalidation_1-merror:0.356440\n",
      "[6]\tvalidation_0-merror:0.348559\tvalidation_1-merror:0.357611\n",
      "[7]\tvalidation_0-merror:0.348387\tvalidation_1-merror:0.358080\n",
      "[8]\tvalidation_0-merror:0.347919\tvalidation_1-merror:0.356440\n",
      "[9]\tvalidation_0-merror:0.347221\tvalidation_1-merror:0.356674\n",
      "[10]\tvalidation_0-merror:0.346623\tvalidation_1-merror:0.355035\n",
      "[11]\tvalidation_0-merror:0.346007\tvalidation_1-merror:0.354333\n",
      "[12]\tvalidation_0-merror:0.345634\tvalidation_1-merror:0.355269\n",
      "[13]\tvalidation_0-merror:0.345180\tvalidation_1-merror:0.354098\n",
      "[14]\tvalidation_0-merror:0.344415\tvalidation_1-merror:0.353162\n",
      "[15]\tvalidation_0-merror:0.344027\tvalidation_1-merror:0.352459\n",
      "[16]\tvalidation_0-merror:0.343721\tvalidation_1-merror:0.353396\n",
      "[17]\tvalidation_0-merror:0.343530\tvalidation_1-merror:0.354333\n",
      "[18]\tvalidation_0-merror:0.342971\tvalidation_1-merror:0.352225\n",
      "[19]\tvalidation_0-merror:0.342813\tvalidation_1-merror:0.352927\n",
      "[20]\tvalidation_0-merror:0.342651\tvalidation_1-merror:0.352693\n",
      "[21]\tvalidation_0-merror:0.342263\tvalidation_1-merror:0.351522\n",
      "[22]\tvalidation_0-merror:0.341881\tvalidation_1-merror:0.351522\n",
      "[23]\tvalidation_0-merror:0.341575\tvalidation_1-merror:0.350585\n",
      "[24]\tvalidation_0-merror:0.341183\tvalidation_1-merror:0.351054\n",
      "[25]\tvalidation_0-merror:0.340872\tvalidation_1-merror:0.350820\n",
      "[26]\tvalidation_0-merror:0.340662\tvalidation_1-merror:0.351991\n",
      "[27]\tvalidation_0-merror:0.340566\tvalidation_1-merror:0.352459\n",
      "[28]\tvalidation_0-merror:0.340327\tvalidation_1-merror:0.352927\n",
      "[29]\tvalidation_0-merror:0.340179\tvalidation_1-merror:0.352693\n",
      "[30]\tvalidation_0-merror:0.339978\tvalidation_1-merror:0.351991\n",
      "[31]\tvalidation_0-merror:0.339787\tvalidation_1-merror:0.351756\n",
      "[32]\tvalidation_0-merror:0.339515\tvalidation_1-merror:0.351756\n",
      "[33]\tvalidation_0-merror:0.339256\tvalidation_1-merror:0.351756\n",
      "[34]\tvalidation_0-merror:0.339013\tvalidation_1-merror:0.351522\n",
      "[35]\tvalidation_0-merror:0.338716\tvalidation_1-merror:0.351522\n",
      "[36]\tvalidation_0-merror:0.338692\tvalidation_1-merror:0.352459\n",
      "[37]\tvalidation_0-merror:0.338429\tvalidation_1-merror:0.352459\n",
      "[38]\tvalidation_0-merror:0.338238\tvalidation_1-merror:0.351991\n",
      "[39]\tvalidation_0-merror:0.338013\tvalidation_1-merror:0.352459\n",
      "[40]\tvalidation_0-merror:0.337904\tvalidation_1-merror:0.351991\n",
      "[41]\tvalidation_0-merror:0.337703\tvalidation_1-merror:0.351522\n",
      "[42]\tvalidation_0-merror:0.337507\tvalidation_1-merror:0.351756\n",
      "[43]\tvalidation_0-merror:0.337521\tvalidation_1-merror:0.351054\n",
      "[44]\tvalidation_0-merror:0.337292\tvalidation_1-merror:0.351522\n",
      "[45]\tvalidation_0-merror:0.337067\tvalidation_1-merror:0.351522\n",
      "[46]\tvalidation_0-merror:0.336924\tvalidation_1-merror:0.351288\n",
      "[47]\tvalidation_0-merror:0.336704\tvalidation_1-merror:0.350820\n",
      "[48]\tvalidation_0-merror:0.336426\tvalidation_1-merror:0.351054\n",
      "[49]\tvalidation_0-merror:0.336288\tvalidation_1-merror:0.351288\n",
      "[50]\tvalidation_0-merror:0.336053\tvalidation_1-merror:0.351522\n",
      "[51]\tvalidation_0-merror:0.335819\tvalidation_1-merror:0.350351\n",
      "[52]\tvalidation_0-merror:0.335781\tvalidation_1-merror:0.350351\n",
      "[53]\tvalidation_0-merror:0.335590\tvalidation_1-merror:0.351054\n",
      "[54]\tvalidation_0-merror:0.335499\tvalidation_1-merror:0.350820\n",
      "[55]\tvalidation_0-merror:0.335332\tvalidation_1-merror:0.351054\n",
      "[56]\tvalidation_0-merror:0.335116\tvalidation_1-merror:0.351288\n",
      "[57]\tvalidation_0-merror:0.334863\tvalidation_1-merror:0.350820\n",
      "[58]\tvalidation_0-merror:0.334605\tvalidation_1-merror:0.350117\n",
      "[59]\tvalidation_0-merror:0.334299\tvalidation_1-merror:0.351288\n",
      "[60]\tvalidation_0-merror:0.334203\tvalidation_1-merror:0.350820\n",
      "[61]\tvalidation_0-merror:0.334113\tvalidation_1-merror:0.351288\n",
      "[62]\tvalidation_0-merror:0.333654\tvalidation_1-merror:0.351522\n",
      "[63]\tvalidation_0-merror:0.333439\tvalidation_1-merror:0.351288\n",
      "[64]\tvalidation_0-merror:0.333367\tvalidation_1-merror:0.350820\n",
      "[65]\tvalidation_0-merror:0.333123\tvalidation_1-merror:0.351054\n",
      "[66]\tvalidation_0-merror:0.332889\tvalidation_1-merror:0.349883\n",
      "[67]\tvalidation_0-merror:0.332731\tvalidation_1-merror:0.349883\n",
      "[68]\tvalidation_0-merror:0.332669\tvalidation_1-merror:0.350117\n",
      "[69]\tvalidation_0-merror:0.332454\tvalidation_1-merror:0.350117\n",
      "[70]\tvalidation_0-merror:0.332401\tvalidation_1-merror:0.350351\n",
      "[71]\tvalidation_0-merror:0.332320\tvalidation_1-merror:0.349883\n",
      "[72]\tvalidation_0-merror:0.332119\tvalidation_1-merror:0.349649\n",
      "[73]\tvalidation_0-merror:0.331947\tvalidation_1-merror:0.349180\n",
      "[74]\tvalidation_0-merror:0.331765\tvalidation_1-merror:0.348244\n",
      "[75]\tvalidation_0-merror:0.331464\tvalidation_1-merror:0.348946\n",
      "[76]\tvalidation_0-merror:0.331254\tvalidation_1-merror:0.349883\n",
      "[77]\tvalidation_0-merror:0.331182\tvalidation_1-merror:0.349883\n",
      "[78]\tvalidation_0-merror:0.331053\tvalidation_1-merror:0.349883\n",
      "[79]\tvalidation_0-merror:0.330914\tvalidation_1-merror:0.349415\n",
      "[80]\tvalidation_0-merror:0.330723\tvalidation_1-merror:0.348946\n",
      "[81]\tvalidation_0-merror:0.330556\tvalidation_1-merror:0.348712\n",
      "[82]\tvalidation_0-merror:0.330350\tvalidation_1-merror:0.348946\n",
      "[83]\tvalidation_0-merror:0.330154\tvalidation_1-merror:0.349415\n",
      "[84]\tvalidation_0-merror:0.329877\tvalidation_1-merror:0.349649\n",
      "[85]\tvalidation_0-merror:0.329796\tvalidation_1-merror:0.349649\n",
      "[86]\tvalidation_0-merror:0.329619\tvalidation_1-merror:0.348946\n",
      "[87]\tvalidation_0-merror:0.329399\tvalidation_1-merror:0.348946\n",
      "[88]\tvalidation_0-merror:0.329256\tvalidation_1-merror:0.349180\n",
      "[89]\tvalidation_0-merror:0.328983\tvalidation_1-merror:0.349649\n",
      "[90]\tvalidation_0-merror:0.328806\tvalidation_1-merror:0.348478\n",
      "[91]\tvalidation_0-merror:0.328634\tvalidation_1-merror:0.348712\n",
      "[92]\tvalidation_0-merror:0.328448\tvalidation_1-merror:0.349180\n",
      "[93]\tvalidation_0-merror:0.328237\tvalidation_1-merror:0.348244\n",
      "[94]\tvalidation_0-merror:0.328017\tvalidation_1-merror:0.348478\n",
      "[95]\tvalidation_0-merror:0.327817\tvalidation_1-merror:0.348244\n",
      "[96]\tvalidation_0-merror:0.327668\tvalidation_1-merror:0.348478\n",
      "[97]\tvalidation_0-merror:0.327491\tvalidation_1-merror:0.348244\n",
      "[98]\tvalidation_0-merror:0.327305\tvalidation_1-merror:0.348244\n",
      "[99]\tvalidation_0-merror:0.327157\tvalidation_1-merror:0.348712\n"
     ]
    },
    {
     "data": {
      "text/plain": [
       "XGBClassifier(base_score=0.5, colsample_bylevel=1, colsample_bytree=0.6,\n",
       "       gamma=0, learning_rate=0.15, max_delta_step=0, max_depth=8,\n",
       "       min_child_weight=1, missing=None, n_estimators=100, nthread=-1,\n",
       "       objective='multi:softprob', reg_alpha=0, reg_lambda=1,\n",
       "       scale_pos_weight=1, seed=None, silent=True, subsample=0.6)"
      ]
     },
     "execution_count": 159,
     "metadata": {},
     "output_type": "execute_result"
    }
   ],
   "source": [
    "# try using... eval_metric: mlogloss, merror, ndcg@n-\n",
    "est.fit(X_train, y_train, eval_set=eval_set, early_stopping_rounds=30, eval_metric='merror')"
   ]
  },
  {
   "cell_type": "markdown",
   "metadata": {},
   "source": [
    "** Best with multi:softprob...**\n",
    "\n",
    "    [99]\tvalidation_0-merror:0.327157\tvalidation_1-merror:0.348712\n",
    "    \n",
    "    [99]\tvalidation_0-mlogloss:1.002152\tvalidation_1-mlogloss:1.015543\n",
    "\n"
   ]
  },
  {
   "cell_type": "markdown",
   "metadata": {},
   "source": [
    "### iii(b). XGBoost using ndcg scorer"
   ]
  },
  {
   "cell_type": "code",
   "execution_count": 364,
   "metadata": {
    "collapsed": true
   },
   "outputs": [],
   "source": [
    "\"\"\"Metrics to compute the model performance.\"\"\"\n",
    "import numpy as np\n",
    "from sklearn.preprocessing import LabelBinarizer\n",
    "from sklearn.metrics import make_scorer\n",
    "\n",
    "def dcg_score(y_true, y_score, k=5):\n",
    "    \"\"\"Discounted cumulative gain (DCG) at rank K.\n",
    "    \n",
    "    Parameters\n",
    "    ----------\n",
    "    y_true : array, shape = [n_samples]\n",
    "        Ground truth (true relevance labels).\n",
    "    y_score : array, shape = [n_samples, n_classes]\n",
    "        Predicted scores.\n",
    "    k : int\n",
    "        Rank.\n",
    "        \n",
    "    Returns\n",
    "    -------\n",
    "    score : float\n",
    "    \"\"\"\n",
    "    order = np.argsort(y_score)[::-1]\n",
    "    y_true = np.take(y_true, order[:k])\n",
    "\n",
    "    gain = 2 ** y_true - 1\n",
    "\n",
    "    discounts = np.log2(np.arange(len(y_true)) + 2)\n",
    "    return np.sum(gain / discounts)\n",
    "\n",
    "\n",
    "def ndcg_score(ground_truth, predictions, k=5):\n",
    "    \"\"\"Normalized discounted cumulative gain (NDCG) at rank K.\n",
    "\n",
    "    Normalized Discounted Cumulative Gain (NDCG) measures the performance of a\n",
    "    recommendation system based on the graded relevance of the recommended\n",
    "    entities. It varies from 0.0 to 1.0, with 1.0 representing the ideal\n",
    "    ranking of the entities.\n",
    "\n",
    "    Parameters\n",
    "    ----------\n",
    "    ground_truth : array, shape = [n_samples]\n",
    "        Ground truth (true labels represended as integers).\n",
    "    predictions : array, shape = [n_samples, n_classes]\n",
    "        Predicted probabilities.\n",
    "    k : int\n",
    "        Rank.\n",
    "\n",
    "    Returns\n",
    "    -------\n",
    "    score : float\n",
    "\n",
    "    Example\n",
    "    -------\n",
    "    >>> ground_truth = [1, 0, 2]\n",
    "    >>> predictions = [[0.15, 0.55, 0.2], [0.7, 0.2, 0.1], [0.06, 0.04, 0.9]]\n",
    "    >>> score = ndcg_score(ground_truth, predictions, k=2)\n",
    "    1.0\n",
    "    >>> predictions = [[0.9, 0.5, 0.8], [0.7, 0.2, 0.1], [0.06, 0.04, 0.9]]\n",
    "    >>> score = ndcg_score(ground_truth, predictions, k=2)\n",
    "    0.6666666666\n",
    "    \"\"\"\n",
    "    lb = LabelBinarizer()\n",
    "    lb.fit(range(len(predictions) + 1))\n",
    "    T = lb.transform(ground_truth)\n",
    "\n",
    "    scores = []\n",
    "\n",
    "    # Iterate over each y_true and compute the DCG score\n",
    "    for y_true, y_score in zip(T, predictions):\n",
    "        actual = dcg_score(y_true, y_score, k)\n",
    "        best = dcg_score(y_true, y_true, k)\n",
    "        score = float(actual) / float(best)\n",
    "        scores.append(score)\n",
    "\n",
    "    return np.mean(scores)\n",
    "\n",
    "\n",
    "# NDCG Scorer function\n",
    "ndcg_scorer = make_scorer(ndcg_score, needs_proba=True, k=5)"
   ]
  },
  {
   "cell_type": "code",
   "execution_count": 373,
   "metadata": {
    "collapsed": false
   },
   "outputs": [],
   "source": [
    "# define cv scorer and fit the model\n",
    "kf = cross_validation.KFold(len(X), n_folds=3, random_state=208)\n",
    "score = cross_validation.cross_val_score(est, X, y, cv=kf, scoring=ndcg_scorer)"
   ]
  },
  {
   "cell_type": "markdown",
   "metadata": {},
   "source": [
    "**Save model for later**"
   ]
  },
  {
   "cell_type": "code",
   "execution_count": 161,
   "metadata": {
    "collapsed": true
   },
   "outputs": [],
   "source": [
    "# save the classifier\n",
    "with open('my_xgb_10.pkl', 'wb') as f:\n",
    "    cPickle.dump(est, f)    "
   ]
  },
  {
   "cell_type": "code",
   "execution_count": 205,
   "metadata": {
    "collapsed": true
   },
   "outputs": [],
   "source": [
    "# load it again\n",
    "with open('my_xgb_4.pkl', 'rb') as f:\n",
    "    xgb_loaded = cPickle.load(f)"
   ]
  },
  {
   "cell_type": "code",
   "execution_count": 206,
   "metadata": {
    "collapsed": false
   },
   "outputs": [],
   "source": [
    "est = xgb_loaded"
   ]
  },
  {
   "cell_type": "markdown",
   "metadata": {},
   "source": [
    "3. Fit the data\n",
    "---------------"
   ]
  },
  {
   "cell_type": "code",
   "execution_count": 302,
   "metadata": {
    "collapsed": true
   },
   "outputs": [],
   "source": [
    "reg = grid_search.GridSearchCV(clf, parameters, scoring=acc_scorer, cv=3)"
   ]
  },
  {
   "cell_type": "code",
   "execution_count": 64,
   "metadata": {
    "collapsed": false
   },
   "outputs": [
    {
     "data": {
      "text/plain": [
       "RandomForestClassifier(bootstrap=True, class_weight='balanced',\n",
       "            criterion='gini', max_depth=None, max_features='auto',\n",
       "            max_leaf_nodes=None, min_samples_leaf=1, min_samples_split=2,\n",
       "            min_weight_fraction_leaf=0.0, n_estimators=100, n_jobs=1,\n",
       "            oob_score=False, random_state=None, verbose=0,\n",
       "            warm_start=False)"
      ]
     },
     "execution_count": 64,
     "metadata": {},
     "output_type": "execute_result"
    }
   ],
   "source": [
    "## fit with one-hot-encoded features\n",
    "est.fit(X, y)"
   ]
  },
  {
   "cell_type": "code",
   "execution_count": 303,
   "metadata": {
    "collapsed": false
   },
   "outputs": [
    {
     "data": {
      "text/plain": [
       "GridSearchCV(cv=3, error_score='raise',\n",
       "       estimator=RandomForestClassifier(bootstrap=True, class_weight='balanced',\n",
       "            criterion='gini', max_depth=None, max_features='auto',\n",
       "            max_leaf_nodes=None, min_samples_leaf=1, min_samples_split=2,\n",
       "            min_weight_fraction_leaf=0.0, n_estimators=100, n_jobs=1,\n",
       "            oob_score=False, random_state=None, verbose=0,\n",
       "            warm_start=False),\n",
       "       fit_params={}, iid=True, n_jobs=1,\n",
       "       param_grid={'min_samples_split': [2, 50], 'max_depth': [100, 500], 'class_weight': [None, 'balanced']},\n",
       "       pre_dispatch='2*n_jobs', refit=True,\n",
       "       scoring=make_scorer(accuracy_score), verbose=0)"
      ]
     },
     "execution_count": 303,
     "metadata": {},
     "output_type": "execute_result"
    }
   ],
   "source": [
    "## fit data with all features\n",
    "reg.fit(X, y)"
   ]
  },
  {
   "cell_type": "code",
   "execution_count": null,
   "metadata": {
    "collapsed": true
   },
   "outputs": [],
   "source": [
    "## PCA reduced data\n",
    "#reg.fit(Xtrain_trans, ytrain)\n",
    "#reg.fit(X_reduced, y)"
   ]
  },
  {
   "cell_type": "code",
   "execution_count": 304,
   "metadata": {
    "collapsed": false
   },
   "outputs": [
    {
     "data": {
      "text/plain": [
       "RandomForestClassifier(bootstrap=True, class_weight=None, criterion='gini',\n",
       "            max_depth=500, max_features='auto', max_leaf_nodes=None,\n",
       "            min_samples_leaf=1, min_samples_split=50,\n",
       "            min_weight_fraction_leaf=0.0, n_estimators=100, n_jobs=1,\n",
       "            oob_score=False, random_state=None, verbose=0,\n",
       "            warm_start=False)"
      ]
     },
     "execution_count": 304,
     "metadata": {},
     "output_type": "execute_result"
    }
   ],
   "source": [
    "## get the best predictor\n",
    "est = reg.best_estimator_\n",
    "est"
   ]
  },
  {
   "cell_type": "code",
   "execution_count": 499,
   "metadata": {
    "collapsed": false
   },
   "outputs": [],
   "source": [
    "## predict classes\n",
    "ypred = est.predict(X)"
   ]
  },
  {
   "cell_type": "code",
   "execution_count": 306,
   "metadata": {
    "collapsed": false
   },
   "outputs": [
    {
     "name": "stdout",
     "output_type": "stream",
     "text": [
      "(213451, 12)\n"
     ]
    }
   ],
   "source": [
    "## predict class probabilities\n",
    "ypred_prob = est.predict_proba(X)\n",
    "print ypred_prob.shape"
   ]
  },
  {
   "cell_type": "code",
   "execution_count": 307,
   "metadata": {
    "collapsed": false
   },
   "outputs": [
    {
     "data": {
      "text/html": [
       "<div>\n",
       "<table border=\"1\" class=\"dataframe\">\n",
       "  <thead>\n",
       "    <tr style=\"text-align: right;\">\n",
       "      <th></th>\n",
       "      <th>0</th>\n",
       "      <th>1</th>\n",
       "      <th>2</th>\n",
       "      <th>3</th>\n",
       "      <th>4</th>\n",
       "      <th>5</th>\n",
       "      <th>6</th>\n",
       "      <th>7</th>\n",
       "      <th>8</th>\n",
       "      <th>9</th>\n",
       "      <th>10</th>\n",
       "      <th>11</th>\n",
       "    </tr>\n",
       "  </thead>\n",
       "  <tbody>\n",
       "    <tr>\n",
       "      <th>0</th>\n",
       "      <td>0.000954</td>\n",
       "      <td>0.010255</td>\n",
       "      <td>0.007904</td>\n",
       "      <td>0.026183</td>\n",
       "      <td>0.023971</td>\n",
       "      <td>0.031288</td>\n",
       "      <td>0.011800</td>\n",
       "      <td>0.445771</td>\n",
       "      <td>0.006149</td>\n",
       "      <td>0.000000</td>\n",
       "      <td>0.404474</td>\n",
       "      <td>0.031252</td>\n",
       "    </tr>\n",
       "    <tr>\n",
       "      <th>1</th>\n",
       "      <td>0.001438</td>\n",
       "      <td>0.013102</td>\n",
       "      <td>0.011567</td>\n",
       "      <td>0.013434</td>\n",
       "      <td>0.030145</td>\n",
       "      <td>0.015466</td>\n",
       "      <td>0.016258</td>\n",
       "      <td>0.446848</td>\n",
       "      <td>0.002982</td>\n",
       "      <td>0.001418</td>\n",
       "      <td>0.403865</td>\n",
       "      <td>0.043477</td>\n",
       "    </tr>\n",
       "    <tr>\n",
       "      <th>2</th>\n",
       "      <td>0.005478</td>\n",
       "      <td>0.014037</td>\n",
       "      <td>0.009801</td>\n",
       "      <td>0.032260</td>\n",
       "      <td>0.069843</td>\n",
       "      <td>0.014694</td>\n",
       "      <td>0.034280</td>\n",
       "      <td>0.205136</td>\n",
       "      <td>0.004778</td>\n",
       "      <td>0.008371</td>\n",
       "      <td>0.545996</td>\n",
       "      <td>0.055326</td>\n",
       "    </tr>\n",
       "    <tr>\n",
       "      <th>3</th>\n",
       "      <td>0.008240</td>\n",
       "      <td>0.004046</td>\n",
       "      <td>0.001791</td>\n",
       "      <td>0.005977</td>\n",
       "      <td>0.028253</td>\n",
       "      <td>0.010616</td>\n",
       "      <td>0.022823</td>\n",
       "      <td>0.312373</td>\n",
       "      <td>0.002368</td>\n",
       "      <td>0.006717</td>\n",
       "      <td>0.279320</td>\n",
       "      <td>0.317476</td>\n",
       "    </tr>\n",
       "    <tr>\n",
       "      <th>4</th>\n",
       "      <td>0.001972</td>\n",
       "      <td>0.018881</td>\n",
       "      <td>0.011061</td>\n",
       "      <td>0.012600</td>\n",
       "      <td>0.050117</td>\n",
       "      <td>0.011571</td>\n",
       "      <td>0.010311</td>\n",
       "      <td>0.231436</td>\n",
       "      <td>0.002920</td>\n",
       "      <td>0.002114</td>\n",
       "      <td>0.600914</td>\n",
       "      <td>0.046104</td>\n",
       "    </tr>\n",
       "  </tbody>\n",
       "</table>\n",
       "</div>"
      ],
      "text/plain": [
       "         0         1         2         3         4         5         6   \\\n",
       "0  0.000954  0.010255  0.007904  0.026183  0.023971  0.031288  0.011800   \n",
       "1  0.001438  0.013102  0.011567  0.013434  0.030145  0.015466  0.016258   \n",
       "2  0.005478  0.014037  0.009801  0.032260  0.069843  0.014694  0.034280   \n",
       "3  0.008240  0.004046  0.001791  0.005977  0.028253  0.010616  0.022823   \n",
       "4  0.001972  0.018881  0.011061  0.012600  0.050117  0.011571  0.010311   \n",
       "\n",
       "         7         8         9         10        11  \n",
       "0  0.445771  0.006149  0.000000  0.404474  0.031252  \n",
       "1  0.446848  0.002982  0.001418  0.403865  0.043477  \n",
       "2  0.205136  0.004778  0.008371  0.545996  0.055326  \n",
       "3  0.312373  0.002368  0.006717  0.279320  0.317476  \n",
       "4  0.231436  0.002920  0.002114  0.600914  0.046104  "
      ]
     },
     "execution_count": 307,
     "metadata": {},
     "output_type": "execute_result"
    }
   ],
   "source": [
    "pd.DataFrame(ypred_prob).head()"
   ]
  },
  {
   "cell_type": "markdown",
   "metadata": {},
   "source": [
    "### 3b. Keep 1-5 predicted classes with highest probability"
   ]
  },
  {
   "cell_type": "code",
   "execution_count": 162,
   "metadata": {
    "collapsed": false
   },
   "outputs": [
    {
     "name": "stdout",
     "output_type": "stream",
     "text": [
      "(62096, 12)\n"
     ]
    }
   ],
   "source": [
    "## predict test, class probabilities\n",
    "ypred_submit = est.predict_proba(X_test_submit)\n",
    "print ypred_submit.shape"
   ]
  },
  {
   "cell_type": "code",
   "execution_count": 163,
   "metadata": {
    "collapsed": false
   },
   "outputs": [
    {
     "name": "stdout",
     "output_type": "stream",
     "text": [
      "310480\n",
      "310480\n"
     ]
    }
   ],
   "source": [
    "#Taking the 5 classes with highest probabilities\n",
    "ids = []  #list of ids\n",
    "cts = []  #list of countries\n",
    "for i in range(len(id_test)):\n",
    "    idx = id_test[i]  # placeholder for current id in the loop\n",
    "    ids += [idx] * 5  # add 5-element list with current id\n",
    "    ## convert back to original labels for submissions\n",
    "    cts += le.inverse_transform(np.argsort(ypred_submit[i])[::-1])[:5].tolist()\n",
    "    \n",
    "print len(ids)\n",
    "print len(cts)"
   ]
  },
  {
   "cell_type": "markdown",
   "metadata": {},
   "source": [
    "---\n",
    "** Previous best**\n",
    "\n",
    "          0       0.73      1.00      0.84       539\n",
    "          1       0.63      0.99      0.77      1428\n",
    "          2       0.70      1.00      0.82      1061\n",
    "          3       0.66      0.99      0.79      2249\n",
    "          4       0.72      0.97      0.83      5023\n",
    "          5       0.65      0.98      0.78      2324\n",
    "          6       0.63      0.98      0.77      2835\n",
    "          7       0.97      0.91      0.94    124543\n",
    "          8       0.62      1.00      0.76       762\n",
    "          9       0.60      1.00      0.75       217\n",
    "         10       0.95      0.92      0.94     62376\n",
    "         11       0.77      0.95      0.85     10094"
   ]
  },
  {
   "cell_type": "code",
   "execution_count": 500,
   "metadata": {
    "collapsed": true
   },
   "outputs": [
    {
     "name": "stdout",
     "output_type": "stream",
     "text": [
      "             precision    recall  f1-score   support\n",
      "\n",
      "          0       0.00      0.00      0.00       539\n",
      "          1       0.00      0.00      0.00      1428\n",
      "          2       0.00      0.00      0.00      1061\n",
      "          3       0.00      0.00      0.00      2249\n",
      "          4       1.00      0.00      0.00      5023\n",
      "          5       0.00      0.00      0.00      2324\n",
      "          6       1.00      0.00      0.00      2835\n",
      "          7       0.70      0.86      0.77    124543\n",
      "          8       0.00      0.00      0.00       762\n",
      "          9       0.00      0.00      0.00       217\n",
      "         10       0.51      0.50      0.50     62376\n",
      "         11       0.92      0.00      0.00     10094\n",
      "\n",
      "avg / total       0.64      0.65      0.60    213451\n",
      "\n"
     ]
    }
   ],
   "source": [
    "print metrics.classification_report(y, ypred)"
   ]
  },
  {
   "cell_type": "markdown",
   "metadata": {},
   "source": [
    "---\n",
    "iv. Tensorflow\n",
    "----------\n",
    "\n",
    "> **1-2 hidden layers **<br>\n",
    "> steps 5001, L2 reg .001, hidden 1024, rate (.5, 1000, .8), Test accuracy: **58.78**%<br>\n",
    "> steps 9001, L2 reg .001, hidden 1024x500, keep .9, rate (.05 adagrad), Test accuracy: **58.78**%<br>\n",
    "> steps 9001, L2 reg .001, hidden 1024x300, keep 1., rate (.01 adagrad), Test accuracy: **58.17**%<br>\n",
    "\n",
    "> **1-2 hidden layers, init low w, b**<br>\n",
    "> steps 5001, L2 reg .0002, hidden 1024x500, keep 1., rate (.1 adagrad), Test accuracy: **58.78**%<br>\n",
    "\n",
    "> **3 hidden layers **<br>\n",
    "> steps 9001, L2 reg .001, hidden 1024x300x50, rate (.01 adagrad), Test accuracy: **58.17**%<br>\n",
    "\n",
    "> **PCA 40 dims **<br>\n",
    "> steps 9001, L2 reg .001, hidden 1024x300x50, rate (.01 adagrad), Test accuracy: **58.17**%<br>\n",
    "\n",
    "> **107 features (del 'first_browser') **<br>\n",
    "> steps 5001, L2 reg .0002, hidden 1024x300x50, rate (.1 adagrad), Test accuracy: **58.04**%<br>"
   ]
  },
  {
   "cell_type": "code",
   "execution_count": 244,
   "metadata": {
    "collapsed": true
   },
   "outputs": [],
   "source": [
    "import tensorflow as tf"
   ]
  },
  {
   "cell_type": "code",
   "execution_count": 245,
   "metadata": {
    "collapsed": true
   },
   "outputs": [],
   "source": [
    "def accuracy(predictions, labels):\n",
    "  return (100.0 * np.sum(np.argmax(predictions, 1) == np.argmax(labels, 1))\n",
    "          / predictions.shape[0])"
   ]
  },
  {
   "cell_type": "code",
   "execution_count": 260,
   "metadata": {
    "collapsed": true
   },
   "outputs": [],
   "source": [
    "def weight_variable(shape, stddev=0.1):\n",
    "  initial = tf.truncated_normal(shape, stddev=stddev)\n",
    "  return tf.Variable(initial)\n",
    "\n",
    "def bias_variable(shape, constant=0.):\n",
    "  initial = tf.constant(constant, shape=shape)\n",
    "  return tf.Variable(initial)"
   ]
  },
  {
   "cell_type": "markdown",
   "metadata": {},
   "source": [
    "** Build graph**"
   ]
  },
  {
   "cell_type": "code",
   "execution_count": 248,
   "metadata": {
    "collapsed": false
   },
   "outputs": [
    {
     "name": "stdout",
     "output_type": "stream",
     "text": [
      "(192639, 316)\n",
      "float32\n",
      "(10139, 316)\n",
      "(10673, 316)\n",
      "[[ 0.  0.  0.  0.  0.  0.  0.  1.  0.  0.  0.  0.]\n",
      " [ 0.  0.  0.  0.  0.  0.  0.  1.  0.  0.  0.  0.]\n",
      " [ 0.  0.  0.  0.  0.  0.  1.  0.  0.  0.  0.  0.]]\n",
      "(192639, 12)\n",
      "(10139, 12)\n",
      "(10673, 12)\n",
      "(62096, 316)\n"
     ]
    }
   ],
   "source": [
    "print X_train.shape\n",
    "print X_train.dtype\n",
    "print X_valid.shape\n",
    "print X_test.shape\n",
    "print y_train[:3]\n",
    "print y_train.shape\n",
    "print y_valid.shape\n",
    "print y_test.shape\n",
    "\n",
    "print X_test_submit.shape"
   ]
  },
  {
   "cell_type": "code",
   "execution_count": 331,
   "metadata": {
    "collapsed": false
   },
   "outputs": [],
   "source": [
    "reg_L2 = 0.0002\n",
    "batch_size = 128\n",
    "num_hidden_1 = 1024\n",
    "#num_hidden_2 = 300\n",
    "#num_hidden_3 = 50\n",
    "num_features = X_train.shape[1]\n",
    "num_labels = 12\n",
    "\n",
    "graph = tf.Graph()\n",
    "with graph.as_default():\n",
    "\n",
    "  # Input data. For the training data, we use a placeholder that will be fed\n",
    "  # at run time with a training minibatch.\n",
    "  tf_train_dataset = tf.placeholder(tf.float32,\n",
    "                                    shape=(batch_size, num_features))\n",
    "  tf_train_labels = tf.placeholder(tf.float32, shape=(batch_size, num_labels))\n",
    "  tf_valid_dataset = tf.constant(X_valid)\n",
    "  tf_test_dataset = tf.constant(X_test)\n",
    "  tf_test_submit = tf.constant(X_test_submit)\n",
    "  \n",
    "  # Variables.\n",
    "  w = weight_variable(shape=[num_features, num_hidden_1])\n",
    "  b = bias_variable(shape=[num_hidden_1])\n",
    "\n",
    "  #w2 = weight_variable(shape=[num_hidden_1, num_hidden_2])\n",
    "  #b2 = bias_variable(shape=[num_hidden_2])\n",
    "\n",
    "  #w3 = weight_variable(shape=[num_hidden_2, num_hidden_3])\n",
    "  #b3 = bias_variable(shape=[num_hidden_3])\n",
    "\n",
    "  w4 = weight_variable(shape=[num_hidden_1, num_labels])\n",
    "  b4 = bias_variable(shape=[num_labels])\n",
    "  \n",
    "  # Training computation.\n",
    "  def model(data):\n",
    "    h = tf.nn.relu(tf.matmul(data, w) + b)\n",
    "    ##Dropout\n",
    "    keep_prob = tf.constant(1.)\n",
    "    #h2 = tf.tanh(tf.matmul(h, w2) + b2)\n",
    "    #h2_drop = tf.nn.dropout(h2, keep_prob)\n",
    "    #h3 = tf.tanh(tf.matmul(h2, w3) + b3)\n",
    "    #h3_drop = tf.tanh(tf.matmul(h2_drop, w3) + b3)\n",
    "    #h3_drop = tf.nn.dropout(h3_drop, keep_prob)\n",
    "    h4 = tf.matmul(h, w4) + b4\n",
    "    return h4\n",
    "  \n",
    "  logits = model(tf_train_dataset)\n",
    "  loss = tf.reduce_mean(\n",
    "    tf.nn.softmax_cross_entropy_with_logits(logits, tf_train_labels))\n",
    "  \n",
    "  # L2 regularization for the fully connected parameters.\n",
    "  #regularizers = tf.nn.l2_loss(w) + tf.nn.l2_loss(w4)\n",
    "  # Add the regularization term to the loss.\n",
    "  #loss += reg_L2 * 0.5 * regularizers\n",
    "  \n",
    "  # Optimizer.\n",
    "  ## with learning rate decay\n",
    "  ##global_step = tf.Variable(0, trainable=False) # count the number of steps taken.\n",
    "  ##learning_rate = tf.train.exponential_decay(1., global_step, 500, 0.6, staircase=False)\n",
    "  ##optimizer = tf.train.GradientDescentOptimizer(learning_rate).minimize(loss, global_step=global_step)\n",
    "  optimizer = tf.train.AdagradOptimizer(.01).minimize(loss)\n",
    "  \n",
    "  # Predictions for the training, validation, test, and test submission data.\n",
    "  def predict(data):\n",
    "    h = tf.nn.relu(tf.matmul(data, w) + b)\n",
    "    #h2 = tf.tanh(tf.matmul(h, w2) + b2)\n",
    "    #h3 = tf.tanh(tf.matmul(h2, w3) + b3)\n",
    "    h4 = tf.matmul(h, w4) + b4\n",
    "    return h4\n",
    "  train_prediction = tf.nn.softmax(predict(tf_train_dataset))\n",
    "  valid_prediction = tf.nn.softmax(predict(tf_valid_dataset))\n",
    "  test_prediction = tf.nn.softmax(predict(tf_test_dataset))\n",
    "\n",
    "  submit_prediction = tf.nn.softmax(predict(tf_test_submit))"
   ]
  },
  {
   "cell_type": "markdown",
   "metadata": {},
   "source": [
    "** Run it**"
   ]
  },
  {
   "cell_type": "code",
   "execution_count": 332,
   "metadata": {
    "collapsed": true
   },
   "outputs": [
    {
     "name": "stdout",
     "output_type": "stream",
     "text": [
      "Initialized\n",
      "============\n",
      "Minibatch loss at step 0 : 3.26455\n",
      "Minibatch accuracy: 2.34%\n",
      "Validation accuracy: 58.53%\n",
      "--------------------\n",
      "Test accuracy: 58.78%\n",
      "====================\n",
      "Minibatch loss at step 300 : 1.16833\n",
      "Minibatch accuracy: 58.59%\n",
      "Validation accuracy: 58.53%\n",
      "--------------------\n",
      "Minibatch loss at step 600 : 1.36942\n",
      "Minibatch accuracy: 64.06%\n",
      "Validation accuracy: 58.53%\n",
      "--------------------\n",
      "Minibatch loss at step 900 : 1.13909\n",
      "Minibatch accuracy: 57.81%\n",
      "Validation accuracy: 58.53%\n",
      "--------------------\n",
      "Test accuracy: 58.78%\n",
      "====================\n",
      "Minibatch loss at step 1200 : 1.11844\n",
      "Minibatch accuracy: 61.72%\n",
      "Validation accuracy: 58.53%\n",
      "--------------------\n",
      "Minibatch loss at step 1500 : 1.03941\n",
      "Minibatch accuracy: 64.06%\n",
      "Validation accuracy: 58.53%\n",
      "--------------------\n"
     ]
    },
    {
     "ename": "KeyboardInterrupt",
     "evalue": "",
     "output_type": "error",
     "traceback": [
      "\u001b[0;31m---------------------------------------------------------------------------\u001b[0m",
      "\u001b[0;31mKeyboardInterrupt\u001b[0m                         Traceback (most recent call last)",
      "\u001b[0;32m<ipython-input-332-bc05c01609cb>\u001b[0m in \u001b[0;36m<module>\u001b[0;34m()\u001b[0m\n\u001b[1;32m     25\u001b[0m   \u001b[0mtf\u001b[0m\u001b[0;34m.\u001b[0m\u001b[0minitialize_all_variables\u001b[0m\u001b[0;34m(\u001b[0m\u001b[0;34m)\u001b[0m\u001b[0;34m.\u001b[0m\u001b[0mrun\u001b[0m\u001b[0;34m(\u001b[0m\u001b[0;34m)\u001b[0m\u001b[0;34m\u001b[0m\u001b[0m\n\u001b[1;32m     26\u001b[0m   \u001b[0;32mprint\u001b[0m \u001b[0;34m\"Initialized\\n\"\u001b[0m\u001b[0;34m,\u001b[0m \u001b[0;34m\"=\"\u001b[0m\u001b[0;34m*\u001b[0m\u001b[0;36m12\u001b[0m\u001b[0;34m\u001b[0m\u001b[0m\n\u001b[0;32m---> 27\u001b[0;31m   \u001b[0mstep_eval\u001b[0m\u001b[0;34m(\u001b[0m\u001b[0;34m)\u001b[0m\u001b[0;34m\u001b[0m\u001b[0m\n\u001b[0m\u001b[1;32m     28\u001b[0m   \u001b[0;32mprint\u001b[0m \u001b[0;34m\"Test accuracy: %.2f%%\"\u001b[0m \u001b[0;34m%\u001b[0m \u001b[0maccuracy\u001b[0m\u001b[0;34m(\u001b[0m\u001b[0mtest_prediction\u001b[0m\u001b[0;34m.\u001b[0m\u001b[0meval\u001b[0m\u001b[0;34m(\u001b[0m\u001b[0;34m)\u001b[0m\u001b[0;34m,\u001b[0m \u001b[0my_test\u001b[0m\u001b[0;34m)\u001b[0m\u001b[0;34m\u001b[0m\u001b[0m\n\u001b[1;32m     29\u001b[0m   \u001b[0mypred_submit\u001b[0m \u001b[0;34m=\u001b[0m \u001b[0msubmit_prediction\u001b[0m\u001b[0;34m.\u001b[0m\u001b[0meval\u001b[0m\u001b[0;34m(\u001b[0m\u001b[0;34m)\u001b[0m\u001b[0;34m\u001b[0m\u001b[0m\n",
      "\u001b[0;32m<ipython-input-332-bc05c01609cb>\u001b[0m in \u001b[0;36mstep_eval\u001b[0;34m()\u001b[0m\n\u001b[1;32m      7\u001b[0m     \u001b[0mbatch_labels\u001b[0m \u001b[0;34m=\u001b[0m \u001b[0my_train\u001b[0m\u001b[0;34m[\u001b[0m\u001b[0moffset\u001b[0m\u001b[0;34m:\u001b[0m\u001b[0;34m(\u001b[0m\u001b[0moffset\u001b[0m \u001b[0;34m+\u001b[0m \u001b[0mbatch_size\u001b[0m\u001b[0;34m)\u001b[0m\u001b[0;34m,\u001b[0m \u001b[0;34m:\u001b[0m\u001b[0;34m]\u001b[0m\u001b[0;34m\u001b[0m\u001b[0m\n\u001b[1;32m      8\u001b[0m     \u001b[0mfeed_dict\u001b[0m \u001b[0;34m=\u001b[0m \u001b[0;34m{\u001b[0m\u001b[0mtf_train_dataset\u001b[0m \u001b[0;34m:\u001b[0m \u001b[0mbatch_data\u001b[0m\u001b[0;34m,\u001b[0m \u001b[0mtf_train_labels\u001b[0m \u001b[0;34m:\u001b[0m \u001b[0mbatch_labels\u001b[0m\u001b[0;34m}\u001b[0m\u001b[0;34m\u001b[0m\u001b[0m\n\u001b[0;32m----> 9\u001b[0;31m     \u001b[0m_\u001b[0m\u001b[0;34m,\u001b[0m \u001b[0ml\u001b[0m\u001b[0;34m,\u001b[0m \u001b[0mpredictions\u001b[0m \u001b[0;34m=\u001b[0m \u001b[0msession\u001b[0m\u001b[0;34m.\u001b[0m\u001b[0mrun\u001b[0m\u001b[0;34m(\u001b[0m\u001b[0;34m[\u001b[0m\u001b[0moptimizer\u001b[0m\u001b[0;34m,\u001b[0m \u001b[0mloss\u001b[0m\u001b[0;34m,\u001b[0m \u001b[0mtrain_prediction\u001b[0m\u001b[0;34m]\u001b[0m\u001b[0;34m,\u001b[0m \u001b[0mfeed_dict\u001b[0m\u001b[0;34m=\u001b[0m\u001b[0mfeed_dict\u001b[0m\u001b[0;34m)\u001b[0m\u001b[0;34m\u001b[0m\u001b[0m\n\u001b[0m\u001b[1;32m     10\u001b[0m     \u001b[0;32mif\u001b[0m \u001b[0;34m(\u001b[0m\u001b[0mstep\u001b[0m \u001b[0;34m%\u001b[0m \u001b[0;36m300\u001b[0m \u001b[0;34m==\u001b[0m \u001b[0;36m0\u001b[0m\u001b[0;34m)\u001b[0m\u001b[0;34m:\u001b[0m\u001b[0;34m\u001b[0m\u001b[0m\n\u001b[1;32m     11\u001b[0m       \u001b[0;31m#print global_step.eval(), learning_rate.eval()\u001b[0m\u001b[0;34m\u001b[0m\u001b[0;34m\u001b[0m\u001b[0m\n",
      "\u001b[0;32m/Users/jjl/anaconda/lib/python2.7/site-packages/tensorflow/python/client/session.pyc\u001b[0m in \u001b[0;36mrun\u001b[0;34m(self, fetches, feed_dict)\u001b[0m\n\u001b[1;32m    343\u001b[0m \u001b[0;34m\u001b[0m\u001b[0m\n\u001b[1;32m    344\u001b[0m     \u001b[0;31m# Run request and get response.\u001b[0m\u001b[0;34m\u001b[0m\u001b[0;34m\u001b[0m\u001b[0m\n\u001b[0;32m--> 345\u001b[0;31m     \u001b[0mresults\u001b[0m \u001b[0;34m=\u001b[0m \u001b[0mself\u001b[0m\u001b[0;34m.\u001b[0m\u001b[0m_do_run\u001b[0m\u001b[0;34m(\u001b[0m\u001b[0mtarget_list\u001b[0m\u001b[0;34m,\u001b[0m \u001b[0munique_fetch_targets\u001b[0m\u001b[0;34m,\u001b[0m \u001b[0mfeed_dict_string\u001b[0m\u001b[0;34m)\u001b[0m\u001b[0;34m\u001b[0m\u001b[0m\n\u001b[0m\u001b[1;32m    346\u001b[0m \u001b[0;34m\u001b[0m\u001b[0m\n\u001b[1;32m    347\u001b[0m     \u001b[0;31m# User may have fetched the same tensor multiple times, but we\u001b[0m\u001b[0;34m\u001b[0m\u001b[0;34m\u001b[0m\u001b[0m\n",
      "\u001b[0;32m/Users/jjl/anaconda/lib/python2.7/site-packages/tensorflow/python/client/session.pyc\u001b[0m in \u001b[0;36m_do_run\u001b[0;34m(self, target_list, fetch_list, feed_dict)\u001b[0m\n\u001b[1;32m    402\u001b[0m \u001b[0;34m\u001b[0m\u001b[0m\n\u001b[1;32m    403\u001b[0m       return tf_session.TF_Run(self._session, feed_dict, fetch_list,\n\u001b[0;32m--> 404\u001b[0;31m                                target_list)\n\u001b[0m\u001b[1;32m    405\u001b[0m \u001b[0;34m\u001b[0m\u001b[0m\n\u001b[1;32m    406\u001b[0m     \u001b[0;32mexcept\u001b[0m \u001b[0mtf_session\u001b[0m\u001b[0;34m.\u001b[0m\u001b[0mStatusNotOK\u001b[0m \u001b[0;32mas\u001b[0m \u001b[0me\u001b[0m\u001b[0;34m:\u001b[0m\u001b[0;34m\u001b[0m\u001b[0m\n",
      "\u001b[0;31mKeyboardInterrupt\u001b[0m: "
     ]
    }
   ],
   "source": [
    "num_steps = 3001\n",
    "    \n",
    "def step_eval():\n",
    "  for step in xrange(num_steps):\n",
    "    offset = (step * batch_size) % (y_train.shape[0] - batch_size)\n",
    "    batch_data = X_train[offset:(offset + batch_size), :]\n",
    "    batch_labels = y_train[offset:(offset + batch_size), :]\n",
    "    feed_dict = {tf_train_dataset : batch_data, tf_train_labels : batch_labels}\n",
    "    _, l, predictions = session.run([optimizer, loss, train_prediction], feed_dict=feed_dict)\n",
    "    if (step % 300 == 0):\n",
    "      #print global_step.eval(), learning_rate.eval()\n",
    "      print \"Minibatch loss at step\", step, \":\", l\n",
    "      print \"Minibatch accuracy: %.2f%%\" % accuracy(predictions, batch_labels)\n",
    "      accuracy_valid = accuracy(valid_prediction.eval(), y_valid)\n",
    "      print \"Validation accuracy: %.2f%%\" % accuracy_valid\n",
    "      print \"-\" * 20\n",
    "      if accuracy_valid > 92.:\n",
    "        print \"Halted!\"\n",
    "        return\n",
    "    if (step % 1000 == 0):\n",
    "      print \"Test accuracy: %.2f%%\" % accuracy(test_prediction.eval(), y_test)\n",
    "      print \"=\" * 20\n",
    "\n",
    "with tf.Session(graph=graph) as session:\n",
    "  tf.initialize_all_variables().run()\n",
    "  print \"Initialized\\n\", \"=\"*12\n",
    "  step_eval()\n",
    "  print \"Test accuracy: %.2f%%\" % accuracy(test_prediction.eval(), y_test)\n",
    "  ypred_submit = submit_prediction.eval()"
   ]
  },
  {
   "cell_type": "code",
   "execution_count": 144,
   "metadata": {
    "collapsed": false
   },
   "outputs": [
    {
     "name": "stdout",
     "output_type": "stream",
     "text": [
      "[[ 0.00275282  0.00670136  0.00510201  0.00973255  0.02230456  0.01001685\n",
      "   0.01413022  0.57495332  0.00390214  0.00101802  0.30211538  0.04727076]\n",
      " [ 0.00274651  0.00668118  0.00512046  0.00975334  0.02227283  0.01004198\n",
      "   0.01409889  0.57516688  0.00390226  0.00101752  0.30192763  0.04727058]\n",
      " [ 0.00273304  0.00665983  0.00510894  0.00972562  0.02229475  0.01000752\n",
      "   0.01408009  0.57545155  0.00389516  0.00101317  0.30179265  0.04723767]\n",
      " [ 0.00274596  0.00669436  0.00510876  0.00974156  0.02229444  0.01002662\n",
      "   0.01412156  0.57517922  0.0039057   0.00101715  0.30187249  0.04729211]\n",
      " [ 0.00274236  0.00668534  0.00511654  0.00977065  0.0222552   0.01004988\n",
      "   0.01410146  0.57546836  0.00390035  0.00101695  0.30169925  0.0471937 ]]\n",
      "[[ 9  0  8  2  1  3  5  6  4 11 10  7]\n",
      " [ 9  0  8  2  1  3  5  6  4 11 10  7]\n",
      " [ 9  0  8  2  1  3  5  6  4 11 10  7]\n",
      " [ 9  0  8  2  1  3  5  6  4 11 10  7]\n",
      " [ 9  0  8  2  1  3  5  6  4 11 10  7]]\n",
      "['NDF', 'US', 'other', 'FR', 'IT', 'GB', 'ES', 'CA', 'DE', 'NL', 'AU', 'PT']\n",
      "['NDF', 'US', 'other', 'FR', 'IT', 'GB', 'ES', 'CA', 'DE', 'NL', 'AU', 'PT']\n",
      "['NDF', 'US', 'other', 'FR', 'IT', 'GB', 'ES', 'CA', 'DE', 'NL', 'AU', 'PT']\n",
      "['NDF', 'US', 'other', 'FR', 'IT', 'GB', 'ES', 'CA', 'DE', 'NL', 'AU', 'PT']\n",
      "['NDF', 'US', 'other', 'FR', 'IT', 'GB', 'ES', 'CA', 'DE', 'NL', 'AU', 'PT']\n"
     ]
    }
   ],
   "source": [
    "check = ypred_submit[2000:2004]\n",
    "print check\n",
    "print np.argsort(check)\n",
    "for i in xrange(len(check)):\n",
    "    print le.inverse_transform(np.argsort(check[i])[::-1]).tolist()"
   ]
  },
  {
   "cell_type": "markdown",
   "metadata": {},
   "source": [
    "---\n"
   ]
  },
  {
   "cell_type": "markdown",
   "metadata": {},
   "source": [
    "4. Generate submission, predict the test set\n",
    "--------------------------------------------"
   ]
  },
  {
   "cell_type": "markdown",
   "metadata": {},
   "source": [
    "** old**"
   ]
  },
  {
   "cell_type": "code",
   "execution_count": null,
   "metadata": {
    "collapsed": true
   },
   "outputs": [],
   "source": [
    "# make prediction on test set\n",
    "ypred = est.predict(X_test_submit)"
   ]
  },
  {
   "cell_type": "code",
   "execution_count": null,
   "metadata": {
    "collapsed": false
   },
   "outputs": [],
   "source": [
    "csv = pd.DataFrame({'id': test_data['id'],'country': ypred})\n",
    "len(csv)"
   ]
  },
  {
   "cell_type": "code",
   "execution_count": null,
   "metadata": {
    "collapsed": true
   },
   "outputs": [],
   "source": [
    "# save prediction to csv file\n",
    "# numpy.savetxt(\"foo.csv\", a, delimiter=\",\")\n",
    "csv.to_csv(path_or_buf='rf_age_20160120.csv', sep=',', na_rep='', float_format=None, columns=None, \\\n",
    "                 header=True, index=False, index_label=None, mode='w', encoding=None, \\\n",
    "                 compression=None, quoting=None, quotechar='\"', line_terminator='\\n', \\\n",
    "                 chunksize=None, tupleize_cols=False, date_format=None, doublequote=True, \\\n",
    "                 escapechar=None, decimal='.') "
   ]
  },
  {
   "cell_type": "markdown",
   "metadata": {},
   "source": [
    "** NEW **"
   ]
  },
  {
   "cell_type": "code",
   "execution_count": 29,
   "metadata": {
    "collapsed": false
   },
   "outputs": [
    {
     "name": "stdout",
     "output_type": "stream",
     "text": [
      "(62096, 12)\n",
      "248384\n",
      "248384\n"
     ]
    }
   ],
   "source": [
    "#Taking the 1-5 classes with highest probabilities\n",
    "print ypred_submit.shape  ## (62096, 12)\n",
    "\n",
    "ids = []  #list of ids\n",
    "cts = []  #list of countries\n",
    "for i in range(len(id_test)):\n",
    "    idx = id_test[i]\n",
    "    ids += [idx] * 4\n",
    "    cts += le.inverse_transform(np.argsort(ypred_submit[i])[::-1])[:4].tolist()\n",
    "    \n",
    "print len(ids)  ## ... 310480\n",
    "print len(cts)  ## ... 310480"
   ]
  },
  {
   "cell_type": "code",
   "execution_count": 164,
   "metadata": {
    "collapsed": false
   },
   "outputs": [],
   "source": [
    "# Generate submission\n",
    "# stack ids and countries together into dataframe\n",
    "sub = pd.DataFrame(np.column_stack((ids, cts)), columns=['id', 'country'])\n",
    "# write dataframe to csv\n",
    "sub.to_csv('../submit/xgb10_20160211.csv',index=False)"
   ]
  },
  {
   "cell_type": "markdown",
   "metadata": {},
   "source": [
    "---\n",
    "# Scratchpad"
   ]
  },
  {
   "cell_type": "markdown",
   "metadata": {},
   "source": [
    "** PCA**"
   ]
  },
  {
   "cell_type": "code",
   "execution_count": 185,
   "metadata": {
    "collapsed": false
   },
   "outputs": [
    {
     "name": "stdout",
     "output_type": "stream",
     "text": [
      "0.999917877712\n"
     ]
    },
    {
     "data": {
      "text/plain": [
       "array([  9.78861744e-01,   6.74757347e-03,   4.51010295e-03,\n",
       "         2.61483665e-03,   1.98095652e-03,   1.66506037e-03,\n",
       "         1.53418838e-03,   6.61320886e-04,   3.38065198e-04,\n",
       "         1.94961323e-04,   1.45336585e-04,   1.21470520e-04,\n",
       "         1.04067974e-04,   7.31320630e-05,   5.74512220e-05,\n",
       "         4.52821950e-05,   3.51608873e-05,   2.81331481e-05,\n",
       "         2.43653284e-05,   2.38319003e-05,   2.21391741e-05,\n",
       "         1.95618464e-05,   1.76877680e-05,   1.65547070e-05,\n",
       "         1.60630892e-05,   1.33524260e-05,   1.29397120e-05,\n",
       "         1.18637233e-05,   1.07646724e-05,   9.90932673e-06])"
      ]
     },
     "execution_count": 185,
     "metadata": {},
     "output_type": "execute_result"
    }
   ],
   "source": [
    "# TODO: Apply PCA with the same number of dimensions as variables in the dataset\n",
    "from sklearn.decomposition import PCA\n",
    "pca = PCA(n_components=30, copy=True, whiten=False)\n",
    "\n",
    "# fit the data\n",
    "pca.fit(df_all)\n",
    "\n",
    "# Print the components and the amount of variance in the data contained in each dimension\n",
    "print sum(pca.explained_variance_ratio_)\n",
    "pca.explained_variance_ratio_"
   ]
  },
  {
   "cell_type": "code",
   "execution_count": null,
   "metadata": {
    "collapsed": true
   },
   "outputs": [],
   "source": [
    "## convert categoricals to int\n",
    "for i in convert_to_cat:\n",
    "    Xtrain.loc[:,i] = Xtrain[i].astype(int)\n",
    "    Xtest.loc[:,i] = Xtest[i].astype(int)"
   ]
  },
  {
   "cell_type": "code",
   "execution_count": null,
   "metadata": {
    "collapsed": false
   },
   "outputs": [],
   "source": [
    "# Merge train and test users\n",
    "Xall = pd.concat((Xtrain, Xtest), axis=0, ignore_index=True)\n",
    "Xall.head()"
   ]
  },
  {
   "cell_type": "code",
   "execution_count": null,
   "metadata": {
    "collapsed": true
   },
   "outputs": [],
   "source": [
    "transformed_data = pd.DataFrame(pca.transform(df_all))\n",
    "sns.set()\n",
    "sns.pairplot(transformed_data)"
   ]
  },
  {
   "cell_type": "code",
   "execution_count": null,
   "metadata": {
    "collapsed": false
   },
   "outputs": [],
   "source": [
    "Xtrain_trans = pd.DataFrame(pca.transform(Xtrain))\n",
    "Xtest_trans = pd.DataFrame(pca.transform(Xtest))"
   ]
  },
  {
   "cell_type": "code",
   "execution_count": null,
   "metadata": {
    "collapsed": true
   },
   "outputs": [],
   "source": [
    "train_all = pd.concat((Xtrain_trans, ytrain), axis=1, ignore_index=True)"
   ]
  },
  {
   "cell_type": "code",
   "execution_count": null,
   "metadata": {
    "collapsed": false
   },
   "outputs": [],
   "source": [
    "sns.stripplot(x=2, y=0, data=train_all)"
   ]
  }
 ],
 "metadata": {
  "kernelspec": {
   "display_name": "Python 2",
   "language": "python",
   "name": "python2"
  },
  "language_info": {
   "codemirror_mode": {
    "name": "ipython",
    "version": 2
   },
   "file_extension": ".py",
   "mimetype": "text/x-python",
   "name": "python",
   "nbconvert_exporter": "python",
   "pygments_lexer": "ipython2",
   "version": "2.7.11"
  }
 },
 "nbformat": 4,
 "nbformat_minor": 0
}
