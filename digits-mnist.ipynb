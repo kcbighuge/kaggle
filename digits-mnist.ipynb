{
 "cells": [
  {
   "cell_type": "markdown",
   "metadata": {
    "colab_type": "text",
    "id": "5hIbr52I7Z7U"
   },
   "source": [
    "Tensor Flow Digit Recognizer\n",
    "=============\n",
    "https://www.kaggle.com/c/digit-recognizer/data\n",
    "This dataset is designed to look like the classic [MNIST](http://yann.lecun.com/exdb/mnist/) dataset."
   ]
  },
  {
   "cell_type": "code",
   "execution_count": 1,
   "metadata": {
    "cellView": "both",
    "colab": {
     "autoexec": {
      "startup": false,
      "wait_interval": 0
     }
    },
    "colab_type": "code",
    "collapsed": true,
    "id": "apJbCsBHl-2A"
   },
   "outputs": [],
   "source": [
    "# These are all the modules we'll be using later. Make sure you can import them\n",
    "# before proceeding further.\n",
    "import matplotlib.pyplot as plt\n",
    "import numpy as np\n",
    "import pandas as pd\n",
    "import random\n",
    "import os\n",
    "import tarfile\n",
    "import urllib\n",
    "import tensorflow as tf\n",
    "from IPython.display import display, Image, HTML\n",
    "from scipy import ndimage\n",
    "from sklearn.linear_model import LogisticRegression\n",
    "import cPickle as pickle\n",
    "%matplotlib inline"
   ]
  },
  {
   "cell_type": "markdown",
   "metadata": {},
   "source": [
    "Loading data, Image as array\n",
    "----------------\n",
    "http://docs.scipy.org/doc/scipy/reference/ndimage.html"
   ]
  },
  {
   "cell_type": "code",
   "execution_count": 7,
   "metadata": {
    "collapsed": false
   },
   "outputs": [],
   "source": [
    "# Load the MNIST data\n",
    "train = pd.read_csv('input/train.csv')\n",
    "test = pd.read_csv('input/test.csv')"
   ]
  },
  {
   "cell_type": "code",
   "execution_count": 8,
   "metadata": {
    "collapsed": false
   },
   "outputs": [
    {
     "name": "stdout",
     "output_type": "stream",
     "text": [
      "(42000, 785)\n",
      "(28000, 784)\n"
     ]
    }
   ],
   "source": [
    "print train.shape\n",
    "print test.shape"
   ]
  },
  {
   "cell_type": "code",
   "execution_count": 99,
   "metadata": {
    "collapsed": false
   },
   "outputs": [
    {
     "data": {
      "text/html": [
       "<div>\n",
       "<table border=\"1\" class=\"dataframe\">\n",
       "  <thead>\n",
       "    <tr style=\"text-align: right;\">\n",
       "      <th></th>\n",
       "      <th>label</th>\n",
       "      <th>pixel0</th>\n",
       "      <th>pixel1</th>\n",
       "      <th>pixel2</th>\n",
       "      <th>pixel3</th>\n",
       "      <th>pixel4</th>\n",
       "      <th>pixel5</th>\n",
       "      <th>pixel6</th>\n",
       "      <th>pixel7</th>\n",
       "      <th>pixel8</th>\n",
       "      <th>...</th>\n",
       "      <th>pixel774</th>\n",
       "      <th>pixel775</th>\n",
       "      <th>pixel776</th>\n",
       "      <th>pixel777</th>\n",
       "      <th>pixel778</th>\n",
       "      <th>pixel779</th>\n",
       "      <th>pixel780</th>\n",
       "      <th>pixel781</th>\n",
       "      <th>pixel782</th>\n",
       "      <th>pixel783</th>\n",
       "    </tr>\n",
       "  </thead>\n",
       "  <tbody>\n",
       "    <tr>\n",
       "      <th>0</th>\n",
       "      <td>1</td>\n",
       "      <td>0</td>\n",
       "      <td>0</td>\n",
       "      <td>0</td>\n",
       "      <td>0</td>\n",
       "      <td>0</td>\n",
       "      <td>0</td>\n",
       "      <td>0</td>\n",
       "      <td>0</td>\n",
       "      <td>0</td>\n",
       "      <td>...</td>\n",
       "      <td>0</td>\n",
       "      <td>0</td>\n",
       "      <td>0</td>\n",
       "      <td>0</td>\n",
       "      <td>0</td>\n",
       "      <td>0</td>\n",
       "      <td>0</td>\n",
       "      <td>0</td>\n",
       "      <td>0</td>\n",
       "      <td>0</td>\n",
       "    </tr>\n",
       "    <tr>\n",
       "      <th>1</th>\n",
       "      <td>0</td>\n",
       "      <td>0</td>\n",
       "      <td>0</td>\n",
       "      <td>0</td>\n",
       "      <td>0</td>\n",
       "      <td>0</td>\n",
       "      <td>0</td>\n",
       "      <td>0</td>\n",
       "      <td>0</td>\n",
       "      <td>0</td>\n",
       "      <td>...</td>\n",
       "      <td>0</td>\n",
       "      <td>0</td>\n",
       "      <td>0</td>\n",
       "      <td>0</td>\n",
       "      <td>0</td>\n",
       "      <td>0</td>\n",
       "      <td>0</td>\n",
       "      <td>0</td>\n",
       "      <td>0</td>\n",
       "      <td>0</td>\n",
       "    </tr>\n",
       "    <tr>\n",
       "      <th>2</th>\n",
       "      <td>1</td>\n",
       "      <td>0</td>\n",
       "      <td>0</td>\n",
       "      <td>0</td>\n",
       "      <td>0</td>\n",
       "      <td>0</td>\n",
       "      <td>0</td>\n",
       "      <td>0</td>\n",
       "      <td>0</td>\n",
       "      <td>0</td>\n",
       "      <td>...</td>\n",
       "      <td>0</td>\n",
       "      <td>0</td>\n",
       "      <td>0</td>\n",
       "      <td>0</td>\n",
       "      <td>0</td>\n",
       "      <td>0</td>\n",
       "      <td>0</td>\n",
       "      <td>0</td>\n",
       "      <td>0</td>\n",
       "      <td>0</td>\n",
       "    </tr>\n",
       "    <tr>\n",
       "      <th>3</th>\n",
       "      <td>4</td>\n",
       "      <td>0</td>\n",
       "      <td>0</td>\n",
       "      <td>0</td>\n",
       "      <td>0</td>\n",
       "      <td>0</td>\n",
       "      <td>0</td>\n",
       "      <td>0</td>\n",
       "      <td>0</td>\n",
       "      <td>0</td>\n",
       "      <td>...</td>\n",
       "      <td>0</td>\n",
       "      <td>0</td>\n",
       "      <td>0</td>\n",
       "      <td>0</td>\n",
       "      <td>0</td>\n",
       "      <td>0</td>\n",
       "      <td>0</td>\n",
       "      <td>0</td>\n",
       "      <td>0</td>\n",
       "      <td>0</td>\n",
       "    </tr>\n",
       "    <tr>\n",
       "      <th>4</th>\n",
       "      <td>0</td>\n",
       "      <td>0</td>\n",
       "      <td>0</td>\n",
       "      <td>0</td>\n",
       "      <td>0</td>\n",
       "      <td>0</td>\n",
       "      <td>0</td>\n",
       "      <td>0</td>\n",
       "      <td>0</td>\n",
       "      <td>0</td>\n",
       "      <td>...</td>\n",
       "      <td>0</td>\n",
       "      <td>0</td>\n",
       "      <td>0</td>\n",
       "      <td>0</td>\n",
       "      <td>0</td>\n",
       "      <td>0</td>\n",
       "      <td>0</td>\n",
       "      <td>0</td>\n",
       "      <td>0</td>\n",
       "      <td>0</td>\n",
       "    </tr>\n",
       "  </tbody>\n",
       "</table>\n",
       "<p>5 rows × 785 columns</p>\n",
       "</div>"
      ],
      "text/plain": [
       "   label  pixel0  pixel1  pixel2  pixel3  pixel4  pixel5  pixel6  pixel7  \\\n",
       "0      1       0       0       0       0       0       0       0       0   \n",
       "1      0       0       0       0       0       0       0       0       0   \n",
       "2      1       0       0       0       0       0       0       0       0   \n",
       "3      4       0       0       0       0       0       0       0       0   \n",
       "4      0       0       0       0       0       0       0       0       0   \n",
       "\n",
       "   pixel8    ...     pixel774  pixel775  pixel776  pixel777  pixel778  \\\n",
       "0       0    ...            0         0         0         0         0   \n",
       "1       0    ...            0         0         0         0         0   \n",
       "2       0    ...            0         0         0         0         0   \n",
       "3       0    ...            0         0         0         0         0   \n",
       "4       0    ...            0         0         0         0         0   \n",
       "\n",
       "   pixel779  pixel780  pixel781  pixel782  pixel783  \n",
       "0         0         0         0         0         0  \n",
       "1         0         0         0         0         0  \n",
       "2         0         0         0         0         0  \n",
       "3         0         0         0         0         0  \n",
       "4         0         0         0         0         0  \n",
       "\n",
       "[5 rows x 785 columns]"
      ]
     },
     "execution_count": 99,
     "metadata": {},
     "output_type": "execute_result"
    }
   ],
   "source": [
    "train.head()"
   ]
  },
  {
   "cell_type": "markdown",
   "metadata": {},
   "source": [
    "http://matplotlib.org/users/image_tutorial.html"
   ]
  },
  {
   "cell_type": "code",
   "execution_count": 188,
   "metadata": {
    "collapsed": false
   },
   "outputs": [
    {
     "name": "stdout",
     "output_type": "stream",
     "text": [
      "[ 1.          1.          0.99607843  1.          1.          0.99215686\n",
      "  1.          0.95294118  0.03137255  0.          0.00392157  0.          0.\n",
      "  0.          0.          0.          0.          0.01176471  0.\n",
      "  0.30980393  1.          1.          1.          1.          1.\n",
      "  0.99607843  1.          1.        ]\n",
      "[-0.49607843 -0.49607843 -0.49609381 -0.49607843 -0.49607843 -0.49610919\n",
      " -0.49607843 -0.49626298 -0.49987697 -0.5        -0.49998462 -0.5        -0.5\n",
      " -0.5        -0.5        -0.5        -0.5        -0.49995386 -0.5\n",
      " -0.49878508 -0.49607843 -0.49607843 -0.49607843 -0.49607843 -0.49607843\n",
      " -0.49609381 -0.49607843 -0.49607843]\n"
     ]
    }
   ],
   "source": [
    "## look at mpimg reading of file\n",
    "import matplotlib.image as mpimg\n",
    "print mpimg.imread(myimg)[27,:]\n",
    "print ((mpimg.imread(myimg).astype(float) - pixel_depth / 2) / pixel_depth)[27,:]"
   ]
  },
  {
   "cell_type": "code",
   "execution_count": 181,
   "metadata": {
    "collapsed": false
   },
   "outputs": [
    {
     "name": "stdout",
     "output_type": "stream",
     "text": [
      "7\n"
     ]
    },
    {
     "data": {
      "image/png": "[encoded data removed]",
      "text/plain": [
       "<matplotlib.figure.Figure at 0x118265a90>"
      ]
     },
     "metadata": {},
     "output_type": "display_data"
    }
   ],
   "source": [
    "pixel_depth = 255.\n",
    "look_at = int(random.random()*len(train))\n",
    "myimg = (train.iloc[look_at,1:].values.astype(float) - pixel_depth/2) / pixel_depth\n",
    "print train.iloc[look_at,0]\n",
    "plt.imshow(myimg.reshape((28,28)))\n",
    "plt.colorbar()\n",
    "plt.show()"
   ]
  },
  {
   "cell_type": "markdown",
   "metadata": {
    "colab_type": "text",
    "id": "GPTCnjIcyuKN"
   },
   "source": [
    "Training and Validation sets\n",
    "------------------------------\n"
   ]
  },
  {
   "cell_type": "code",
   "execution_count": 105,
   "metadata": {
    "collapsed": false
   },
   "outputs": [
    {
     "data": {
      "text/plain": [
       "array([1, 0, 1, 4, 0, 0, 7, 3, 5])"
      ]
     },
     "execution_count": 105,
     "metadata": {},
     "output_type": "execute_result"
    }
   ],
   "source": [
    "y = train.iloc[:,0].values\n",
    "y[:9]"
   ]
  },
  {
   "cell_type": "code",
   "execution_count": 120,
   "metadata": {
    "collapsed": false
   },
   "outputs": [
    {
     "name": "stdout",
     "output_type": "stream",
     "text": [
      "(42000, 10)\n"
     ]
    }
   ],
   "source": [
    "## variable for new label vectors\n",
    "y_vec = np.zeros([y.shape[0], 10])\n",
    "print y_vec.shape"
   ]
  },
  {
   "cell_type": "code",
   "execution_count": 123,
   "metadata": {
    "collapsed": false
   },
   "outputs": [
    {
     "name": "stdout",
     "output_type": "stream",
     "text": [
      "(42000, 10)\n",
      "[1 0 1 4 0 0 7 3 5]\n",
      "[[ 0.  1.  0.  0.  0.  0.  0.  0.  0.  0.]\n",
      " [ 1.  0.  0.  0.  0.  0.  0.  0.  0.  0.]\n",
      " [ 0.  1.  0.  0.  0.  0.  0.  0.  0.  0.]\n",
      " [ 0.  0.  0.  0.  1.  0.  0.  0.  0.  0.]\n",
      " [ 1.  0.  0.  0.  0.  0.  0.  0.  0.  0.]\n",
      " [ 1.  0.  0.  0.  0.  0.  0.  0.  0.  0.]\n",
      " [ 0.  0.  0.  0.  0.  0.  0.  1.  0.  0.]\n",
      " [ 0.  0.  0.  1.  0.  0.  0.  0.  0.  0.]\n",
      " [ 0.  0.  0.  0.  0.  1.  0.  0.  0.  0.]]\n",
      "float64\n"
     ]
    }
   ],
   "source": [
    "## assign 1 to each index\n",
    "y_vec[[np.arange(len(y)), y]] = 1\n",
    "print y_vec.shape\n",
    "print y[:9]\n",
    "print y_vec[:9]\n",
    "print y_vec.dtype"
   ]
  },
  {
   "cell_type": "code",
   "execution_count": 190,
   "metadata": {
    "collapsed": false
   },
   "outputs": [
    {
     "data": {
      "text/plain": [
       "array([-0.5       , -0.5       , -0.5       , -0.5       , -0.5       ,\n",
       "       -0.5       , -0.5       , -0.5       , -0.5       , -0.5       ,\n",
       "       -0.5       , -0.5       , -0.5       , -0.5       , -0.5       ,\n",
       "       -0.5       , -0.5       , -0.5       , -0.5       , -0.5       ,\n",
       "       -0.5       , -0.5       , -0.5       , -0.5       , -0.5       ,\n",
       "       -0.5       , -0.5       , -0.5       , -0.5       , -0.5       ,\n",
       "       -0.5       , -0.5       ,  0.2372549 ,  0.5       , -0.13137255,\n",
       "       -0.5       , -0.5       , -0.5       , -0.5       , -0.5       ,\n",
       "       -0.5       , -0.5       , -0.5       , -0.5       , -0.5       ,\n",
       "       -0.5       , -0.5       , -0.5       , -0.5       , -0.5       ,\n",
       "       -0.5       , -0.5       , -0.5       , -0.5       , -0.5       ,\n",
       "       -0.5       , -0.5       , -0.5       , -0.5       ,  0.24901961,\n",
       "        0.48039216,  0.49215686, -0.13529412, -0.5       , -0.5       ,\n",
       "       -0.5       , -0.5       , -0.5       , -0.5       , -0.5       ,\n",
       "       -0.5       , -0.5       , -0.5       , -0.5       , -0.5       ,\n",
       "       -0.5       , -0.5       , -0.5       , -0.5       , -0.5       ,\n",
       "       -0.5       , -0.5       , -0.5       , -0.5       , -0.5       ,\n",
       "       -0.5       , -0.01764706,  0.47254902,  0.49215686,  0.15490196,\n",
       "       -0.46078431, -0.5       , -0.5       , -0.5       , -0.5       ,\n",
       "       -0.5       , -0.5       , -0.5       , -0.5       , -0.5       ])"
      ]
     },
     "execution_count": 190,
     "metadata": {},
     "output_type": "execute_result"
    }
   ],
   "source": [
    "X = (train.iloc[:,1:].values.astype(float) - pixel_depth/2) / pixel_depth\n",
    "X[0][100:200]"
   ]
  },
  {
   "cell_type": "code",
   "execution_count": 292,
   "metadata": {
    "collapsed": false
   },
   "outputs": [
    {
     "data": {
      "text/plain": [
       "array([-0.5       , -0.5       , -0.5       , -0.5       , -0.5       ,\n",
       "       -0.5       , -0.5       , -0.5       , -0.5       , -0.5       ,\n",
       "       -0.5       , -0.5       , -0.5       , -0.5       , -0.5       ,\n",
       "       -0.5       , -0.5       , -0.5       , -0.5       , -0.5       ,\n",
       "       -0.5       , -0.5       , -0.46078431, -0.43333333, -0.43333333,\n",
       "       -0.43333333, -0.43333333, -0.18235294,  0.20588235,  0.20588235,\n",
       "       -0.3627451 , -0.5       , -0.5       , -0.5       , -0.5       ,\n",
       "       -0.5       , -0.5       , -0.5       , -0.5       , -0.5       ,\n",
       "       -0.5       , -0.5       , -0.5       , -0.5       , -0.5       ,\n",
       "       -0.5       , -0.5       , -0.5       , -0.5       , -0.5       ,\n",
       "        0.04509804,  0.49215686,  0.49215686,  0.49215686,  0.49215686,\n",
       "        0.49215686,  0.49215686,  0.49215686, -0.31176471, -0.5       ,\n",
       "       -0.5       , -0.5       , -0.5       , -0.5       , -0.5       ,\n",
       "       -0.5       , -0.5       , -0.5       , -0.5       , -0.5       ,\n",
       "       -0.5       , -0.5       , -0.5       , -0.5       , -0.5       ,\n",
       "       -0.5       , -0.5       , -0.26470588,  0.39411765,  0.49215686,\n",
       "        0.49215686,  0.49215686,  0.49215686,  0.49215686,  0.49215686,\n",
       "        0.49215686,  0.31176471,  0.27254902, -0.31960784, -0.5       ,\n",
       "       -0.5       , -0.5       , -0.5       , -0.5       , -0.5       ,\n",
       "       -0.5       , -0.5       , -0.5       , -0.5       , -0.5       ])"
      ]
     },
     "execution_count": 292,
     "metadata": {},
     "output_type": "execute_result"
    }
   ],
   "source": [
    "Xtest = (test.values.astype(float) - pixel_depth/2) / pixel_depth\n",
    "Xtest[0][100:200]"
   ]
  },
  {
   "cell_type": "code",
   "execution_count": 303,
   "metadata": {
    "collapsed": true
   },
   "outputs": [],
   "source": [
    "from sklearn import cross_validation\n",
    "\n",
    "## split into train and validation\n",
    "train_dataset, valid_dataset, train_labels, valid_labels = cross_validation.train_test_split(X, y, \\\n",
    "                                                                       test_size=.05, random_state=2916)"
   ]
  },
  {
   "cell_type": "code",
   "execution_count": 193,
   "metadata": {
    "collapsed": false
   },
   "outputs": [
    {
     "name": "stdout",
     "output_type": "stream",
     "text": [
      "(39900, 784)\n",
      "(39900,)\n"
     ]
    }
   ],
   "source": [
    "print train_dataset.shape\n",
    "print train_labels.shape"
   ]
  },
  {
   "cell_type": "code",
   "execution_count": 304,
   "metadata": {
    "collapsed": false
   },
   "outputs": [
    {
     "data": {
      "image/png": "[encoded data removed]",
      "text/plain": [
       "<matplotlib.figure.Figure at 0x112bb9450>"
      ]
     },
     "metadata": {},
     "output_type": "display_data"
    }
   ],
   "source": [
    "## look at histogram of class labels\n",
    "\n",
    "fig = plt.figure()\n",
    "a=fig.add_subplot(1,2,1)\n",
    "plt.hist(train_labels)\n",
    "title = 'Train labels:\\n{}\\n'.format(len(train_labels))\n",
    "a.set_title(title)\n",
    "\n",
    "a=fig.add_subplot(1,2,2)\n",
    "plt.hist(valid_labels)\n",
    "title = 'Valid labels:\\n{}\\n'.format(len(valid_labels))\n",
    "a.set_title(title)\n",
    "\n",
    "plt.show()"
   ]
  },
  {
   "cell_type": "markdown",
   "metadata": {
    "colab_type": "text",
    "id": "tIQJaJuwg5Hw"
   },
   "source": [
    "Save the data for later reuse\n",
    "---------------------------"
   ]
  },
  {
   "cell_type": "code",
   "execution_count": 359,
   "metadata": {
    "cellView": "both",
    "colab": {
     "autoexec": {
      "startup": false,
      "wait_interval": 0
     }
    },
    "colab_type": "code",
    "collapsed": true,
    "id": "QiR_rETzem6C"
   },
   "outputs": [],
   "source": [
    "pickle_file = 'MNIST.pickle'\n",
    "\n",
    "try:\n",
    "  f = open(pickle_file, 'wb')\n",
    "  save = {\n",
    "    'train_dataset': train_dataset,\n",
    "    'train_labels': train_labels,\n",
    "    'valid_dataset': valid_dataset,\n",
    "    'valid_labels': valid_labels,\n",
    "    'test_dataset': test\n",
    "    }\n",
    "  pickle.dump(save, f, pickle.HIGHEST_PROTOCOL)\n",
    "  f.close()\n",
    "except Exception as e:\n",
    "  print 'Unable to save data to', pickle_file, ':', e\n",
    "  raise"
   ]
  },
  {
   "cell_type": "code",
   "execution_count": null,
   "metadata": {
    "collapsed": true
   },
   "outputs": [],
   "source": [
    "statinfo = os.stat(pickle_file)\n",
    "print 'Compressed pickle size:', statinfo.st_size"
   ]
  },
  {
   "cell_type": "markdown",
   "metadata": {},
   "source": [
    "Load pickled data\n",
    "-------------\n",
    "http://deeplearning.net/software/theano/tutorial/loading_and_saving.html"
   ]
  },
  {
   "cell_type": "code",
   "execution_count": 68,
   "metadata": {
    "collapsed": true
   },
   "outputs": [],
   "source": [
    "pickle_file = 'MNIST.pickle'\n",
    "\n",
    "f = open(pickle_file, 'rb')\n",
    "loaded_obj = pickle.load(f)\n",
    "f.close()"
   ]
  },
  {
   "cell_type": "code",
   "execution_count": 69,
   "metadata": {
    "collapsed": false
   },
   "outputs": [
    {
     "data": {
      "text/plain": [
       "['train_labels',\n",
       " 'valid_labels',\n",
       " 'test_labels',\n",
       " 'test_dataset',\n",
       " 'train_dataset',\n",
       " 'valid_dataset']"
      ]
     },
     "execution_count": 69,
     "metadata": {},
     "output_type": "execute_result"
    }
   ],
   "source": [
    "loaded_obj.keys()"
   ]
  },
  {
   "cell_type": "code",
   "execution_count": 70,
   "metadata": {
    "collapsed": false
   },
   "outputs": [
    {
     "name": "stdout",
     "output_type": "stream",
     "text": [
      "Training set (190550, 28, 28) (190550,)\n",
      "Validation set (6000, 28, 28) (6000,)\n",
      "Test set (18238, 28, 28) (18238,)\n"
     ]
    }
   ],
   "source": [
    "for key,val in loaded_obj.items():\n",
    "    exec(key + '=val')\n",
    "\n",
    "print 'Training set', train_dataset.shape, train_labels.shape\n",
    "print 'Validation set', valid_dataset.shape, valid_labels.shape\n",
    "print 'Test set', test_dataset.shape"
   ]
  },
  {
   "cell_type": "code",
   "execution_count": 71,
   "metadata": {
    "collapsed": true
   },
   "outputs": [],
   "source": [
    "del(loaded_obj)  # hint to help gc free up memory"
   ]
  },
  {
   "cell_type": "markdown",
   "metadata": {},
   "source": [
    "Tensor Flow CNN\n",
    "---------------"
   ]
  },
  {
   "cell_type": "code",
   "execution_count": 762,
   "metadata": {
    "collapsed": true
   },
   "outputs": [],
   "source": [
    "## split into train and validation\n",
    "train_dataset, valid_dataset, train_labels, valid_labels = cross_validation.train_test_split(X, y, \\\n",
    "                                                                       test_size=.025, random_state=71511)"
   ]
  },
  {
   "cell_type": "code",
   "execution_count": 629,
   "metadata": {
    "collapsed": true
   },
   "outputs": [],
   "source": [
    "image_size = 28\n",
    "num_labels = 10\n",
    "num_channels = 1 # grayscale\n",
    "\n",
    "def reformat(dataset, labels):\n",
    "  dataset = dataset.reshape(\n",
    "    (-1, image_size, image_size, num_channels)).astype(np.float32)  # reshape as 28x28\n",
    "  labels = (np.arange(num_labels) == labels[:,None]).astype(np.float32)  # convert label to vector\n",
    "  return dataset, labels"
   ]
  },
  {
   "cell_type": "code",
   "execution_count": 763,
   "metadata": {
    "collapsed": false
   },
   "outputs": [
    {
     "name": "stdout",
     "output_type": "stream",
     "text": [
      "Training set (42000, 28, 28, 1) (42000, 10)\n",
      "Validation set (1050, 28, 28, 1) (1050, 10)\n",
      "Test set (28000, 28, 28, 1) (42000, 10)\n"
     ]
    }
   ],
   "source": [
    "# reformat the data\n",
    "# use all training data\n",
    "train_dataset, train_labels = X, y\n",
    "\n",
    "\n",
    "train_dataset, train_labels = reformat(train_dataset, train_labels)\n",
    "valid_dataset, valid_labels = reformat(valid_dataset, valid_labels)\n",
    "test_dataset, _ = reformat(Xtest, y)\n",
    "print 'Training set', train_dataset.shape, train_labels.shape\n",
    "print 'Validation set', valid_dataset.shape, valid_labels.shape\n",
    "print 'Test set', test_dataset.shape, _.shape"
   ]
  },
  {
   "cell_type": "code",
   "execution_count": 162,
   "metadata": {
    "collapsed": true
   },
   "outputs": [],
   "source": [
    "def accuracy(predictions, labels):\n",
    "  return (100.0 * np.sum(np.argmax(predictions, 1) == np.argmax(labels, 1))\n",
    "          / predictions.shape[0])"
   ]
  },
  {
   "cell_type": "code",
   "execution_count": 747,
   "metadata": {
    "collapsed": true
   },
   "outputs": [],
   "source": [
    "## Weight Initialization\n",
    "def weight_variable(shape):\n",
    "  initial = tf.truncated_normal(shape, stddev=0.01)\n",
    "  return tf.Variable(initial)\n",
    "\n",
    "def bias_variable(shape, constant=0.):\n",
    "  initial = tf.constant(constant, shape=shape)\n",
    "  return tf.Variable(initial)"
   ]
  },
  {
   "cell_type": "code",
   "execution_count": 164,
   "metadata": {
    "collapsed": true
   },
   "outputs": [],
   "source": [
    "## Convolution and Pooling\n",
    "def conv2d(x, W, padding='SAME'):\n",
    "  return tf.nn.conv2d(x, W, strides=[1, 1, 1, 1], padding=padding)\n",
    "\n",
    "def max_pool_2x2(x, padding='SAME'):\n",
    "  return tf.nn.max_pool(x, ksize=[1, 2, 2, 1],\n",
    "                        strides=[1, 2, 2, 1], padding=padding)"
   ]
  },
  {
   "cell_type": "markdown",
   "metadata": {},
   "source": [
    "** 1. Build the graph**"
   ]
  },
  {
   "cell_type": "code",
   "execution_count": 802,
   "metadata": {
    "collapsed": false
   },
   "outputs": [
    {
     "name": "stdout",
     "output_type": "stream",
     "text": [
      "[32, 7, 7, 96]\n",
      "[32, 4704]\n",
      "[1050, 7, 7, 96]\n",
      "[1050, 4704]\n",
      "[28000, 7, 7, 96]\n",
      "[28000, 4704]\n"
     ]
    }
   ],
   "source": [
    "batch_size = 32\n",
    "patch_size = 5\n",
    "depth = 32\n",
    "depth2 = 96\n",
    "num_hidden = 1024\n",
    "#num_hidden2 = 300\n",
    "#num_hidden3 = 50\n",
    "\n",
    "graph = tf.Graph()\n",
    "\n",
    "with graph.as_default():\n",
    "\n",
    "  # Input data.\n",
    "  tf_train_dataset = tf.placeholder(\n",
    "    tf.float32, shape=(batch_size, image_size, image_size, num_channels))\n",
    "  tf_train_labels = tf.placeholder(tf.float32, shape=(batch_size, num_labels))\n",
    "  tf_valid_dataset = tf.constant(valid_dataset)\n",
    "  tf_test_dataset = tf.constant(test_dataset)\n",
    "  \n",
    "  # Variables.\n",
    "  layer1_weights = weight_variable([patch_size, patch_size, num_channels, depth])\n",
    "  layer1_biases = bias_variable([depth])\n",
    "  layer2_weights = weight_variable([patch_size, patch_size, depth, depth2])\n",
    "  layer2_biases = bias_variable([depth2])\n",
    "\n",
    "  ## fc layer\n",
    "  layer3_weights = weight_variable([((image_size)/4)**2 * depth2, num_hidden])\n",
    "  layer3_biases = bias_variable([num_hidden])\n",
    "  ## fc2 layer\n",
    "  #layer4_weights = weight_variable([num_hidden, num_hidden2])\n",
    "  #layer4_biases = bias_variable([num_hidden2])\n",
    "  ## fc3 layer\n",
    "  #layer5_weights = weight_variable([num_hidden2, num_hidden3])\n",
    "  #layer5_biases = bias_variable([num_hidden3])\n",
    "\n",
    "  ## readout layer\n",
    "  layer6_weights = weight_variable([num_hidden, num_labels])\n",
    "  layer6_biases = bias_variable([num_labels])\n",
    "\n",
    "  ## Dropout\n",
    "  #keep_prob = tf.placeholder(tf.float32)\n",
    "  \n",
    "  # Model.\n",
    "  def model(data):\n",
    "    conv = tf.nn.conv2d(data, layer1_weights, [1, 1, 1, 1], padding='SAME')\n",
    "    hidden = tf.nn.relu(conv + layer1_biases)\n",
    "    hidden = max_pool_2x2(hidden)\n",
    "    conv = conv2d(hidden, layer2_weights, padding='SAME')\n",
    "    hidden = tf.nn.relu(conv + layer2_biases)\n",
    "    hidden = max_pool_2x2(hidden)\n",
    "    shape = hidden.get_shape().as_list()\n",
    "    print shape\n",
    "    reshape = tf.reshape(hidden, [shape[0], shape[1] * shape[2] * shape[3]])\n",
    "    print reshape.get_shape().as_list()\n",
    "    hidden = tf.nn.relu(tf.matmul(reshape, layer3_weights) + layer3_biases)\n",
    "    #hidden = tf.nn.dropout(hidden, 0.5)\n",
    "    #hidden = tf.nn.relu(tf.matmul(hidden, layer4_weights) + layer4_biases)\n",
    "    #hidden = tf.nn.dropout(hidden, 0.5)\n",
    "    #hidden = tf.nn.relu(tf.matmul(hidden, layer5_weights) + layer5_biases)\n",
    "    return tf.matmul(hidden, layer6_weights) + layer6_biases\n",
    "  \n",
    "  # Training computation.\n",
    "  logits = model(tf_train_dataset)\n",
    "  loss = tf.reduce_mean(\n",
    "    tf.nn.softmax_cross_entropy_with_logits(logits, tf_train_labels))\n",
    "    \n",
    "  # Optimizer.\n",
    "  #global_step = tf.Variable(0) # count the number of steps taken.\n",
    "  #learning_rate = tf.train.exponential_decay(0.1, global_step, 500, 0.6, staircase=False)\n",
    "  #optimizer = tf.train.GradientDescentOptimizer(learning_rate).minimize(loss, global_step=global_step)\n",
    "  optimizer = tf.train.AdagradOptimizer(0.1).minimize(loss)\n",
    "  \n",
    "  # Predictions for the training, validation, and test data.\n",
    "  train_prediction = tf.nn.softmax(logits)\n",
    "  valid_prediction = tf.nn.softmax(model(tf_valid_dataset))\n",
    "  test_prediction = tf.nn.softmax(model(tf_test_dataset))"
   ]
  },
  {
   "cell_type": "markdown",
   "metadata": {},
   "source": [
    "** 1a. Build graph with different pooling**\n",
    "\n",
    "    input -> \n",
    "    32x28x28 -> 2x2 pool, 2x2 stride, 32@14x14 -> \n",
    "    64x14x14 -> 2x2 pool, 2x2 stride, 64@7x7 -> \n",
    "    512 -> 128"
   ]
  },
  {
   "cell_type": "code",
   "execution_count": 725,
   "metadata": {
    "collapsed": false
   },
   "outputs": [
    {
     "name": "stdout",
     "output_type": "stream",
     "text": [
      "[24, 7, 7, 64]\n",
      "[24, 3136]\n",
      "[2000, 7, 7, 64]\n",
      "[2000, 3136]\n",
      "[28000, 7, 7, 64]\n",
      "[28000, 3136]\n"
     ]
    }
   ],
   "source": [
    "# vary the pooling, subsampling\n",
    "def max_pool(x, padding='VALID', pool=2, stride=2):\n",
    "  return tf.nn.max_pool(x, ksize=[1, pool, pool, 1],\n",
    "                        strides=[1, stride, stride, 1], padding=padding)\n",
    "\n",
    "batch_size = 24\n",
    "patch_size = 5\n",
    "depth = 32\n",
    "depth2 = 64\n",
    "num_hidden = 512\n",
    "num_hidden2 = 128\n",
    "#num_hidden3 = 50\n",
    "\n",
    "graph = tf.Graph()\n",
    "\n",
    "with graph.as_default():\n",
    "\n",
    "  # Input data.\n",
    "  tf_train_dataset = tf.placeholder(\n",
    "    tf.float32, shape=(batch_size, image_size, image_size, num_channels))\n",
    "  tf_train_labels = tf.placeholder(tf.float32, shape=(batch_size, num_labels))\n",
    "  tf_valid_dataset = tf.constant(valid_dataset)\n",
    "  tf_test_dataset = tf.constant(test_dataset)\n",
    "  \n",
    "  # Variables.\n",
    "  layer1_weights = weight_variable([patch_size, patch_size, num_channels, depth])\n",
    "  layer1_biases = bias_variable([depth])\n",
    "  layer2_weights = weight_variable([patch_size, patch_size, depth, depth2])\n",
    "  layer2_biases = bias_variable([depth2])\n",
    "\n",
    "  ## fc layer\n",
    "  layer3_weights = weight_variable([(image_size/4)**2 * depth2, num_hidden])\n",
    "  layer3_biases = bias_variable([num_hidden])\n",
    "  ## fc2 layer\n",
    "  layer4_weights = weight_variable([num_hidden, num_hidden2])\n",
    "  layer4_biases = bias_variable([num_hidden2])\n",
    "  ## fc3 layer\n",
    "  #layer5_weights = weight_variable([num_hidden2, num_hidden3])\n",
    "  #layer5_biases = bias_variable([num_hidden3])\n",
    "\n",
    "  ## readout layer\n",
    "  layer6_weights = weight_variable([num_hidden2, num_labels])\n",
    "  layer6_biases = bias_variable([num_labels])\n",
    "\n",
    "  ## Dropout\n",
    "  #keep_prob = tf.placeholder(tf.float32)\n",
    "  \n",
    "  # Model.\n",
    "  def model(data):\n",
    "    conv = tf.nn.conv2d(data, layer1_weights, [1, 1, 1, 1], padding='SAME')\n",
    "    hidden = tf.nn.relu(conv + layer1_biases)\n",
    "    hidden = max_pool(hidden)\n",
    "    conv = conv2d(hidden, layer2_weights, padding='SAME')\n",
    "    hidden = tf.nn.relu(conv + layer2_biases)\n",
    "    hidden = max_pool(hidden, pool=2, stride=2)\n",
    "    shape = hidden.get_shape().as_list()\n",
    "    print shape\n",
    "    reshape = tf.reshape(hidden, [shape[0], shape[1] * shape[2] * shape[3]])\n",
    "    print reshape.get_shape().as_list()\n",
    "    hidden = tf.nn.relu(tf.matmul(reshape, layer3_weights) + layer3_biases)\n",
    "    #hidden = tf.nn.dropout(hidden, 0.5)\n",
    "    hidden = tf.nn.relu(tf.matmul(hidden, layer4_weights) + layer4_biases)\n",
    "    #hidden = tf.nn.dropout(hidden, 0.5)\n",
    "    #hidden = tf.nn.relu(tf.matmul(hidden, layer5_weights) + layer5_biases)\n",
    "    return tf.matmul(hidden, layer6_weights) + layer6_biases\n",
    "  \n",
    "  # Training computation.\n",
    "  logits = model(tf_train_dataset)\n",
    "  loss = tf.reduce_mean(\n",
    "    tf.nn.softmax_cross_entropy_with_logits(logits, tf_train_labels))\n",
    "    \n",
    "  # Optimizer.\n",
    "  #global_step = tf.Variable(0) # count the number of steps taken.\n",
    "  #learning_rate = tf.train.exponential_decay(0.1, global_step, 500, 0.6, staircase=False)\n",
    "  #optimizer = tf.train.GradientDescentOptimizer(learning_rate).minimize(loss, global_step=global_step)\n",
    "  optimizer = tf.train.AdagradOptimizer(0.01).minimize(loss)\n",
    "  \n",
    "  # Predictions for the training, validation, and test data.\n",
    "  train_prediction = tf.nn.softmax(logits)\n",
    "  valid_prediction = tf.nn.softmax(model(tf_valid_dataset))\n",
    "  test_prediction = tf.nn.softmax(model(tf_test_dataset))"
   ]
  },
  {
   "cell_type": "markdown",
   "metadata": {},
   "source": [
    "** 2. Run it**"
   ]
  },
  {
   "cell_type": "code",
   "execution_count": 803,
   "metadata": {
    "collapsed": false
   },
   "outputs": [
    {
     "name": "stdout",
     "output_type": "stream",
     "text": [
      "Initialized\n",
      "===============\n",
      "Minibatch loss at step 0 : 2.3025\n",
      "Minibatch accuracy: 15.62%\n",
      "Validation accuracy: 13.52%\n",
      "---------------------------\n",
      "Minibatch loss at step 500 : 0.083459\n",
      "Minibatch accuracy: 96.88%\n",
      "Validation accuracy: 94.38%\n",
      "---------------------------\n",
      "Minibatch loss at step 1000 : 0.0601439\n",
      "Minibatch accuracy: 96.88%\n",
      "Validation accuracy: 98.00%\n",
      "---------------------------\n",
      "Minibatch loss at step 1500 : 0.0042264\n",
      "Minibatch accuracy: 100.00%\n",
      "Validation accuracy: 97.33%\n",
      "---------------------------\n",
      "Minibatch loss at step 2000 : 0.105576\n",
      "Minibatch accuracy: 96.88%\n",
      "Validation accuracy: 98.48%\n",
      "---------------------------\n",
      "Minibatch loss at step 2500 : 0.00182427\n",
      "Minibatch accuracy: 100.00%\n",
      "Validation accuracy: 99.05%\n",
      "---------------------------\n",
      "Minibatch loss at step 3000 : 0.0072368\n",
      "Minibatch accuracy: 100.00%\n",
      "Validation accuracy: 99.14%\n",
      "---------------------------\n",
      "Minibatch loss at step 3500 : 0.136124\n",
      "Minibatch accuracy: 93.75%\n",
      "Validation accuracy: 98.95%\n",
      "---------------------------\n",
      "Minibatch loss at step 4000 : 0.00195567\n",
      "Minibatch accuracy: 100.00%\n",
      "Validation accuracy: 99.43%\n",
      "---------------------------\n",
      "Minibatch loss at step 4500 : 0.000864868\n",
      "Minibatch accuracy: 100.00%\n",
      "Validation accuracy: 99.33%\n",
      "---------------------------\n",
      "Minibatch loss at step 5000 : 0.00731156\n",
      "Minibatch accuracy: 100.00%\n",
      "Validation accuracy: 99.24%\n",
      "---------------------------\n",
      "Minibatch loss at step 5500 : 0.0143327\n",
      "Minibatch accuracy: 100.00%\n",
      "Validation accuracy: 99.43%\n",
      "---------------------------\n",
      "Minibatch loss at step 6000 : 0.00134499\n",
      "Minibatch accuracy: 100.00%\n",
      "Validation accuracy: 99.62%\n",
      "---------------------------\n",
      "Done. Steps: 6250 , Batch size: 32\n"
     ]
    }
   ],
   "source": [
    "num_steps = 6251\n",
    "\n",
    "def step_eval():\n",
    "  for step in xrange(num_steps):\n",
    "    offset = (step * batch_size) % (train_labels.shape[0] - batch_size)\n",
    "    batch_data = train_dataset[offset:(offset + batch_size), :, :, :]\n",
    "    batch_labels = train_labels[offset:(offset + batch_size), :]\n",
    "    feed_dict = {tf_train_dataset : batch_data, tf_train_labels : batch_labels}\n",
    "    _, l, predictions = session.run([optimizer, loss, train_prediction], feed_dict=feed_dict)\n",
    "    if (step % 500 == 0):\n",
    "      #print global_step.eval(), learning_rate.eval()\n",
    "      print \"Minibatch loss at step\", step, \":\", l\n",
    "      print \"Minibatch accuracy: %.2f%%\" % accuracy(predictions, batch_labels)\n",
    "      accuracy_valid = accuracy(valid_prediction.eval(), valid_labels)\n",
    "      print \"Validation accuracy: %.2f%%\" % accuracy_valid\n",
    "      print \"---------------------------\"\n",
    "      #if accuracy_valid > 99.5:\n",
    "       # print \"Halted!\"\n",
    "       # break\n",
    "  print 'Done. Steps:', step, ', Batch size:', batch_size\n",
    "\n",
    "with tf.Session(graph=graph) as session:\n",
    "  tf.initialize_all_variables().run()\n",
    "  print \"Initialized\\n===============\"\n",
    "  step_eval()\n",
    "  ypred_valid = valid_prediction.eval()\n",
    "  test_submit = test_prediction.eval()"
   ]
  },
  {
   "cell_type": "code",
   "execution_count": 804,
   "metadata": {
    "collapsed": false
   },
   "outputs": [],
   "source": [
    "#Generate submission\n",
    "#sub = pd.DataFrame(np.column_stack((ids, cts)), columns=['id', 'country'])\n",
    "#sub.to_csv('../submit/xgb8_20160209.csv',index=False)\n",
    "\n",
    "sub = np.argmax(test_submit, 1)\n",
    "sub = np.column_stack((np.arange(1, len(sub)+1), sub))\n",
    "np.savetxt(\"submit/tf4_20160212.csv\", sub, header='ImageId,Label', fmt='%d,%d', delimiter=\",\", comments='')"
   ]
  },
  {
   "cell_type": "markdown",
   "metadata": {},
   "source": [
    "---\n",
    "Best performance:\n",
    "---------\n",
    "\n",
    "    Minibatch loss at step 4000 : 0.0166508\n",
    "    Minibatch accuracy: 100.00%\n",
    "    Validation accuracy: 99.15%\n",
    "    Halted!\n",
    "    Done. Steps: 4000 , Batch size: 24"
   ]
  },
  {
   "cell_type": "code",
   "execution_count": 805,
   "metadata": {
    "collapsed": false
   },
   "outputs": [
    {
     "name": "stdout",
     "output_type": "stream",
     "text": [
      "             precision    recall  f1-score   support\n",
      "\n",
      "          0       1.00      0.99      1.00       114\n",
      "          1       0.99      1.00      1.00       104\n",
      "          2       0.99      1.00      0.99        99\n",
      "          3       1.00      1.00      1.00       124\n",
      "          4       1.00      1.00      1.00        97\n",
      "          5       1.00      0.98      0.99        99\n",
      "          6       0.96      1.00      0.98       109\n",
      "          7       1.00      0.99      1.00       112\n",
      "          8       1.00      0.98      0.99       100\n",
      "          9       1.00      1.00      1.00        92\n",
      "\n",
      "avg / total       0.99      0.99      0.99      1050\n",
      "\n"
     ]
    }
   ],
   "source": [
    "## show a classification report\n",
    "from sklearn import metrics\n",
    "print metrics.classification_report(np.argmax(valid_labels, 1), np.argmax(ypred_valid, 1) )"
   ]
  },
  {
   "cell_type": "code",
   "execution_count": 806,
   "metadata": {
    "collapsed": false
   },
   "outputs": [],
   "source": [
    "misses = []\n",
    "for i in xrange(len(valid_labels)):\n",
    "    if np.argmax(valid_labels[i]) != np.argmax(ypred_valid[i]):\n",
    "        misses.append(i)"
   ]
  },
  {
   "cell_type": "code",
   "execution_count": 807,
   "metadata": {
    "collapsed": false
   },
   "outputs": [
    {
     "name": "stdout",
     "output_type": "stream",
     "text": [
      "Misses: 6\n",
      "Indices: [88, 439, 542, 694, 767, 962]\n",
      "Labels:  [8 5 7 0 8 5]\n",
      "Predict: [6 6 1 6 2 6]\n",
      "Chose 6, Softmax 0.7526\n",
      "[ 0.          0.          0.          0.          0.          0.0195\n",
      "  0.75260001  0.          0.228       0.        ]\n",
      "Chose 6, Softmax 0.9571\n",
      "[  2.40000011e-03   9.99999975e-05   0.00000000e+00   0.00000000e+00\n",
      "   0.00000000e+00   3.95999998e-02   9.57099974e-01   0.00000000e+00\n",
      "   6.99999975e-04   0.00000000e+00]\n",
      "Chose 1, Softmax 0.8765\n",
      "[  0.00000000e+00   8.76500010e-01   0.00000000e+00   0.00000000e+00\n",
      "   9.99999975e-05   0.00000000e+00   0.00000000e+00   1.23300001e-01\n",
      "   0.00000000e+00   9.99999975e-05]\n",
      "Chose 6, Softmax 0.6623\n",
      "[  2.12699994e-01   0.00000000e+00   0.00000000e+00   6.99999975e-04\n",
      "   0.00000000e+00   1.23800002e-01   6.62299991e-01   0.00000000e+00\n",
      "   3.00000014e-04   0.00000000e+00]\n",
      "Chose 2, Softmax 0.5230\n",
      "[ 0.     0.     0.523  0.     0.     0.     0.     0.     0.477  0.   ]\n",
      "Chose 6, Softmax 0.8665\n",
      "[ 0.          0.          0.          0.          0.          0.1244\n",
      "  0.86650002  0.          0.0092      0.        ]\n"
     ]
    }
   ],
   "source": [
    "## look at softmax probabilities of predicted labels\n",
    "\n",
    "print 'Misses:', len(misses)\n",
    "print 'Indices:', misses\n",
    "print 'Labels: ', np.argmax(valid_labels, 1)[misses]\n",
    "preds = ypred_valid[misses]\n",
    "print 'Predict:', np.argmax(preds, 1)\n",
    "for i in preds:\n",
    "    print 'Chose {:d}, Softmax {:.4f}'.format(np.argmax(i), max(i))\n",
    "    print np.around(i, decimals=4)\n"
   ]
  },
  {
   "cell_type": "code",
   "execution_count": 816,
   "metadata": {
    "collapsed": false
   },
   "outputs": [
    {
     "name": "stdout",
     "output_type": "stream",
     "text": [
      "542\n",
      "Label: 7\n",
      "Predict: 1\n"
     ]
    },
    {
     "data": {
      "image/png": "[encoded data removed]",
      "text/plain": [
       "<matplotlib.figure.Figure at 0x11ea688d0>"
      ]
     },
     "metadata": {},
     "output_type": "display_data"
    }
   ],
   "source": [
    "## look at incorrect predictions\n",
    "look_at = misses[random.choice(range(len(misses)))]\n",
    "print look_at\n",
    "print 'Label:', np.argmax(valid_labels[look_at])\n",
    "print 'Predict:', np.argmax(ypred_valid[look_at])\n",
    "plt.imshow(valid_dataset[look_at].reshape((28,28)))\n",
    "plt.show()"
   ]
  },
  {
   "cell_type": "markdown",
   "metadata": {},
   "source": [
    "---"
   ]
  },
  {
   "cell_type": "code",
   "execution_count": null,
   "metadata": {
    "collapsed": true
   },
   "outputs": [],
   "source": []
  },
  {
   "cell_type": "code",
   "execution_count": null,
   "metadata": {
    "collapsed": true
   },
   "outputs": [],
   "source": []
  },
  {
   "cell_type": "code",
   "execution_count": null,
   "metadata": {
    "collapsed": true
   },
   "outputs": [],
   "source": []
  },
  {
   "cell_type": "code",
   "execution_count": null,
   "metadata": {
    "collapsed": true
   },
   "outputs": [],
   "source": []
  },
  {
   "cell_type": "code",
   "execution_count": null,
   "metadata": {
    "collapsed": true
   },
   "outputs": [],
   "source": []
  }
 ],
 "metadata": {
  "colabVersion": "0.3.2",
  "colab_default_view": {},
  "colab_views": {},
  "kernelspec": {
   "display_name": "Python 2",
   "language": "python",
   "name": "python2"
  },
  "language_info": {
   "codemirror_mode": {
    "name": "ipython",
    "version": 2
   },
   "file_extension": ".py",
   "mimetype": "text/x-python",
   "name": "python",
   "nbconvert_exporter": "python",
   "pygments_lexer": "ipython2",
   "version": "2.7.11"
  }
 },
 "nbformat": 4,
 "nbformat_minor": 0
}
